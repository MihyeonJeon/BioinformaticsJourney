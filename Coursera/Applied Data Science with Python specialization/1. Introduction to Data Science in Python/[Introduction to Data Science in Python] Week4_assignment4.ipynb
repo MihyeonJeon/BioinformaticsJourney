{
 "cells": [
  {
   "cell_type": "markdown",
   "metadata": {
    "deletable": false,
    "editable": false,
    "nbgrader": {
     "checksum": "48770f8b5f5d3062d3badd51fcafc401",
     "grade": false,
     "grade_id": "cell-a6c4f74309fc2379",
     "locked": true,
     "schema_version": 1,
     "solution": false
    }
   },
   "source": [
    "# Assignment 4\n",
    "## Description\n",
    "In this assignment you must read in a file of metropolitan regions and associated sports teams from [assets/wikipedia_data.html](assets/wikipedia_data.html) and answer some questions about each metropolitan region. Each of these regions may have one or more teams from the \"Big 4\": NFL (football, in [assets/nfl.csv](assets/nfl.csv)), MLB (baseball, in [assets/mlb.csv](assets/mlb.csv)), NBA (basketball, in [assets/nba.csv](assets/nba.csv) or NHL (hockey, in [assets/nhl.csv](assets/nhl.csv)). Please keep in mind that all questions are from the perspective of the metropolitan region, and that this file is the \"source of authority\" for the location of a given sports team. Thus teams which are commonly known by a different area (e.g. \"Oakland Raiders\") need to be mapped into the metropolitan region given (e.g. San Francisco Bay Area). This will require some human data understanding outside of the data you've been given (e.g. you will have to hand-code some names, and might need to google to find out where teams are)!\n",
    "\n",
    "For each sport I would like you to answer the question: **what is the win/loss ratio's correlation with the population of the city it is in?** Win/Loss ratio refers to the number of wins over the number of wins plus the number of losses. Remember that to calculate the correlation with [`pearsonr`](https://docs.scipy.org/doc/scipy/reference/generated/scipy.stats.pearsonr.html), so you are going to send in two ordered lists of values, the populations from the wikipedia_data.html file and the win/loss ratio for a given sport in the same order. Average the win/loss ratios for those cities which have multiple teams of a single sport. Each sport is worth an equal amount in this assignment (20%\\*4=80%) of the grade for this assignment. You should only use data **from year 2018** for your analysis -- this is important!\n",
    "\n",
    "## Notes\n",
    "\n",
    "1. Do not include data about the MLS or CFL in any of the work you are doing, we're only interested in the Big 4 in this assignment.\n",
    "2. I highly suggest that you first tackle the four correlation questions in order, as they are all similar and worth the majority of grades for this assignment. This is by design!\n",
    "3. It's fair game to talk with peers about high level strategy as well as the relationship between metropolitan areas and sports teams. However, do not post code solving aspects of the assignment (including such as dictionaries mapping areas to teams, or regexes which will clean up names).\n",
    "4. There may be more teams than the assert statements test, remember to collapse multiple teams in one city into a single value!"
   ]
  },
  {
   "cell_type": "markdown",
   "metadata": {
    "deletable": false,
    "editable": false,
    "nbgrader": {
     "checksum": "369ff9ecf0ee04640574205cbc697f94",
     "grade": false,
     "grade_id": "cell-712b2b5da63d4505",
     "locked": true,
     "schema_version": 1,
     "solution": false
    }
   },
   "source": [
    "## Question 1\n",
    "For this question, calculate the win/loss ratio's correlation with the population of the city it is in for the **NHL** using **2018** data."
   ]
  },
  {
   "cell_type": "code",
   "execution_count": 1,
   "metadata": {
    "deletable": false,
    "nbgrader": {
     "checksum": "1cac4803b02502929f5b1612d48db2b5",
     "grade": false,
     "grade_id": "cell-69b16e4386e58030",
     "locked": false,
     "schema_version": 1,
     "solution": true
    }
   },
   "outputs": [],
   "source": [
    "import pandas as pd\n",
    "import numpy as np\n",
    "import scipy.stats as stats\n",
    "import re\n",
    "\n",
    "nhl_df=pd.read_csv(\"assets/nhl.csv\")\n",
    "cities=pd.read_html(\"assets/wikipedia_data.html\")[1]\n",
    "cities=cities.iloc[:-1,[0,3,5,6,7,8]]\n",
    "\n",
    "def nhl_correlation(): \n",
    "    # YOUR CODE HERE\n",
    "    #1. cleaning nhl data\n",
    "    nhl_df=pd.read_csv(\"assets/nhl.csv\")\n",
    "    cities=pd.read_html(\"assets/wikipedia_data.html\")[1]\n",
    "    cities=cities.iloc[:-1,[0,3,5,6,7,8]]\n",
    "    \n",
    "    nhl_df_2018 = nhl_df[nhl_df['year']==2018]\n",
    "    remove_index = [0,9,18,26] #to remove rows with characters\n",
    "    nhl_df_2018 = nhl_df_2018[~nhl_df_2018.index.isin(remove_index)]\n",
    "    nhl_df_2018[\"ratio\"] = pd.to_numeric(nhl_df_2018[\"W\"]) / ( pd.to_numeric(nhl_df_2018[\"W\"])+ pd.to_numeric(nhl_df_2018[\"L\"]))\n",
    "    nhl_df_2018_ratio = nhl_df_2018[['team','ratio']]\n",
    "    nhl_df_2018_ratio.replace('\\*','', regex=True, inplace=True)\n",
    "    \n",
    "    #2. cities data\n",
    "    cities.rename(columns={'Metropolitan area':'area' ,'Population (2016 est.)[8]':'pop'}, inplace=True)\n",
    "    cities_nhl = cities[['area','pop','NHL']]\n",
    "    cities_nhl.replace('\\[note \\d*\\]', '', regex=True, inplace=True)\n",
    "    cities_nhl.replace('', np.NaN, inplace=True)\n",
    "    cities_nhl.replace('—', np.NaN, inplace=True)\n",
    "    cities_nhl = cities_nhl[~cities_nhl['NHL'].isna()]\n",
    "    \n",
    "    #3. changing area name in nhl data\n",
    "    one_name_area = ['Detroit','Columbus','Vegas','Toronto']\n",
    "    nhl_df_2018_ratio['area'] =  nhl_df_2018_ratio['team'].apply(lambda x : re.split(' ',x)[0] if (len(re.split(' ',x)) == 2 or re.split(' ',x)[0] in one_name_area) else ' '.join(re.split(' ',x)[:2]))\n",
    "    change_val = {'San Jose' : 'San Francisco Bay Area'\n",
    "             , 'Anaheim' : 'Los Angeles'\n",
    "             , 'New Jersey' : 'New York City'\n",
    "             , 'Minnesota' : 'Minneapolis–Saint Paul'\n",
    "             , 'Florida' : 'Miami–Fort Lauderdale'\n",
    "             , 'Arizona' : 'Phoenix'\n",
    "             , 'Carolina' : 'Raleigh'\n",
    "             , 'Colorado' : 'Denver'\n",
    "             , 'New York' : 'New York City' #metropolitan 기준으로 수정\n",
    "             , 'Dallas' : 'Dallas–Fort Worth'\n",
    "             , 'Washington' : 'Washington, D.C.'\n",
    "             , 'Vegas' : 'Las Vegas'\n",
    "             , 'Tampa Bay' : 'Tampa Bay Area' }\n",
    "    nhl_df_2018_ratio.replace({'area' : change_val }, inplace=True)\n",
    "    \n",
    "    cities_nhl.sort_values(by='area')\n",
    "\n",
    "    #5. group by and merge\n",
    "    nhl_area_grp =  nhl_df_2018_ratio.groupby(\"area\", as_index=False).agg({\"ratio\" : np.average})\n",
    "    nhl_df = pd.merge(cities_nhl, nhl_area_grp, how = 'left', on = 'area')\n",
    "    nhl_df = nhl_df.astype({'pop': int, 'ratio': float})\n",
    "    \n",
    "#     raise NotImplementedError()\n",
    "    \n",
    "    population_by_region = list(nhl_df['pop']) # pass in metropolitan area population from cities\n",
    "    win_loss_by_region =  list(nhl_df['ratio']) # pass in win/loss ratio from nhl_df in the same order as cities[\"Metropolitan area\"]\n",
    "\n",
    "    assert len(population_by_region) == len(win_loss_by_region), \"Q1: Your lists must be the same length\"\n",
    "    assert len(population_by_region) == 28, \"Q1: There should be 28 teams being analysed for NHL\"\n",
    "    \n",
    "    return stats.pearsonr(population_by_region, win_loss_by_region)[0]"
   ]
  },
  {
   "cell_type": "code",
   "execution_count": 10,
   "metadata": {},
   "outputs": [
    {
     "data": {
      "text/plain": [
       "0.012486162921209912"
      ]
     },
     "execution_count": 10,
     "metadata": {},
     "output_type": "execute_result"
    }
   ],
   "source": [
    "nhl_correlation()"
   ]
  },
  {
   "cell_type": "code",
   "execution_count": null,
   "metadata": {
    "deletable": false,
    "editable": false,
    "nbgrader": {
     "checksum": "52a581df513c71153e105b93764cda4b",
     "grade": true,
     "grade_id": "cell-ebe0b2dfe1067e63",
     "locked": true,
     "points": 20,
     "schema_version": 1,
     "solution": false
    }
   },
   "outputs": [],
   "source": []
  },
  {
   "cell_type": "markdown",
   "metadata": {
    "deletable": false,
    "editable": false,
    "nbgrader": {
     "checksum": "988912cae4968d81473f46d783e79c16",
     "grade": false,
     "grade_id": "cell-cb964e690298b71d",
     "locked": true,
     "schema_version": 1,
     "solution": false
    }
   },
   "source": [
    "## Question 2\n",
    "For this question, calculate the win/loss ratio's correlation with the population of the city it is in for the **NBA** using **2018** data."
   ]
  },
  {
   "cell_type": "code",
   "execution_count": 4,
   "metadata": {
    "deletable": false,
    "nbgrader": {
     "checksum": "9394222aafc8ccab0a228098ba0d6010",
     "grade": false,
     "grade_id": "cell-5a5f21279e3d3572",
     "locked": false,
     "schema_version": 1,
     "solution": true
    }
   },
   "outputs": [],
   "source": [
    "import pandas as pd\n",
    "import numpy as np\n",
    "import scipy.stats as stats\n",
    "import re\n",
    "\n",
    "nba_df=pd.read_csv(\"assets/nba.csv\")\n",
    "cities=pd.read_html(\"assets/wikipedia_data.html\")[1]\n",
    "cities=cities.iloc[:-1,[0,3,5,6,7,8]]\n",
    "\n",
    "def nba_correlation():\n",
    "    # YOUR CODE HERE\n",
    "    nba_df=pd.read_csv(\"assets/nba.csv\")\n",
    "    cities=pd.read_html(\"assets/wikipedia_data.html\")[1]\n",
    "    cities=cities.iloc[:-1,[0,3,5,6,7,8]]\n",
    "    \n",
    "    #1. cleaning nba data\n",
    "    nba_df_2018 = nba_df[nba_df['year']==2018]\n",
    "    nba_df_2018[\"ratio\"] = pd.to_numeric(nba_df_2018[\"W\"]) / ( pd.to_numeric(nba_df_2018[\"W\"])+ pd.to_numeric(nba_df_2018[\"L\"]))\n",
    "    nba_df_2018 = nba_df_2018[['team','ratio']]\n",
    "    nba_df_2018.replace('\\*','', regex=True, inplace=True)\n",
    "    nba_df_2018.replace('\\s\\(\\d+\\)','', regex=True, inplace=True)\n",
    "    nba_df_2018_ratio = nba_df_2018[['team','ratio']]\n",
    "    \n",
    "    #2. cities data\n",
    "    cities.rename(columns={'Metropolitan area':'area' ,'Population (2016 est.)[8]':'pop'}, inplace=True)\n",
    "    cities_nba = cities[['area','pop','NBA']]\n",
    "    cities_nba.replace('\\[note \\d*\\]', '', regex=True, inplace=True)\n",
    "    cities_nba.replace('', np.NaN, inplace=True)\n",
    "    cities_nba.replace('—', np.NaN, inplace=True)\n",
    "    cities_nba = cities_nba[~cities_nba['NBA'].isna()]\n",
    "    cities_nba.sort_values(by='area', inplace = True)\n",
    "    \n",
    "    #3. changing area name in nhl data\n",
    "    one_name_area = ['Portland'] \n",
    "    nba_df_2018_ratio['area'] =  nba_df_2018_ratio['team'].apply(lambda x : re.split(' ',x)[0] if (len(re.split(' ',x)) == 2 or re.split(' ',x)[0] in one_name_area) else ' '.join(re.split(' ',x)[:2]))\n",
    "    change_val = {'Brooklyn' : 'New York City'\n",
    "             , 'Dallas' : 'Dallas–Fort Worth'\n",
    "             , 'Golden State' : 'San Francisco Bay Area'\n",
    "             , 'Indiana' : 'Indianapolis'\n",
    "             , 'Miami' : 'Miami–Fort Lauderdale'\n",
    "             , 'Minnesota' : 'Minneapolis–Saint Paul'\n",
    "             , 'New York' : 'New York City'\n",
    "             , 'Utah' : 'Salt Lake City'\n",
    "             , 'Washington' : 'Washington, D.C.'}\n",
    "    nba_df_2018_ratio.replace({'area' : change_val }, inplace=True)\n",
    "    nba_df_2018_ratio.sort_values(by='area', inplace=True)\n",
    "\n",
    "    #group by and merge\n",
    "    nba_area_grp =  nba_df_2018_ratio.groupby(\"area\", as_index=False).agg({\"ratio\" : np.average})\n",
    "    nba_df = pd.merge(cities_nba, nba_area_grp, how = 'left', on = 'area')\n",
    "    nba_df = nba_df.astype({'pop': int, 'ratio': float})\n",
    "    \n",
    "#     raise NotImplementedError()\n",
    "    \n",
    "    population_by_region = list(nba_df['pop']) # pass in metropolitan area population from cities\n",
    "    win_loss_by_region =  list(nba_df['ratio']) # pass in win/loss ratio from nba_df in the same order as cities[\"Metropolitan area\"]\n",
    "\n",
    "    assert len(population_by_region) == len(win_loss_by_region), \"Q2: Your lists must be the same length\"\n",
    "    assert len(population_by_region) == 28, \"Q2: There should be 28 teams being analysed for NBA\"\n",
    "\n",
    "    return stats.pearsonr(population_by_region, win_loss_by_region)[0]"
   ]
  },
  {
   "cell_type": "code",
   "execution_count": null,
   "metadata": {
    "deletable": false,
    "editable": false,
    "nbgrader": {
     "checksum": "bbdeb8eb22f525a34c10dc8798324e42",
     "grade": true,
     "grade_id": "cell-e573b2b4a282b470",
     "locked": true,
     "points": 20,
     "schema_version": 1,
     "solution": false
    }
   },
   "outputs": [],
   "source": []
  },
  {
   "cell_type": "markdown",
   "metadata": {
    "deletable": false,
    "editable": false,
    "nbgrader": {
     "checksum": "1a1a5809f675ca033086422007cd73bd",
     "grade": false,
     "grade_id": "cell-96e15e4335df78f4",
     "locked": true,
     "schema_version": 1,
     "solution": false
    }
   },
   "source": [
    "## Question 3\n",
    "For this question, calculate the win/loss ratio's correlation with the population of the city it is in for the **MLB** using **2018** data."
   ]
  },
  {
   "cell_type": "code",
   "execution_count": 8,
   "metadata": {
    "deletable": false,
    "nbgrader": {
     "checksum": "27e8c0da6c9fa0dffc10488314335b6c",
     "grade": false,
     "grade_id": "cell-33b00fc3f3467b0c",
     "locked": false,
     "schema_version": 1,
     "solution": true
    }
   },
   "outputs": [],
   "source": [
    "import pandas as pd\n",
    "import numpy as np\n",
    "import scipy.stats as stats\n",
    "import re\n",
    "\n",
    "mlb_df=pd.read_csv(\"assets/mlb.csv\")\n",
    "cities=pd.read_html(\"assets/wikipedia_data.html\")[1]\n",
    "cities=cities.iloc[:-1,[0,3,5,6,7,8]]\n",
    "\n",
    "def mlb_correlation(): \n",
    "    # YOUR CODE HERE\n",
    "    mlb_df=pd.read_csv(\"assets/mlb.csv\")\n",
    "    cities=pd.read_html(\"assets/wikipedia_data.html\")[1]\n",
    "    cities=cities.iloc[:-1,[0,3,5,6,7,8]]\n",
    "\n",
    "    #1. cleaning mlb data\n",
    "    mlb_df_2018 = mlb_df[mlb_df['year']==2018]\n",
    "    mlb_df_2018[\"ratio\"] = pd.to_numeric(mlb_df_2018[\"W\"]) / ( pd.to_numeric(mlb_df_2018[\"W\"])+ pd.to_numeric(mlb_df_2018[\"L\"]))\n",
    "    mlb_df_2018 = mlb_df_2018[['team','ratio']]\n",
    "    mlb_df_2018.replace('\\*','', regex=True, inplace=True)\n",
    "    mlb_df_2018.replace('\\s\\(\\d+\\)','', regex=True, inplace=True)\n",
    "    mlb_df_2018_ratio = mlb_df_2018[['team','ratio']]\n",
    "    mlb_df_2018_ratio.sort_values(by='team')\n",
    "\n",
    "    #2. cities data\n",
    "    cities.rename(columns={'Metropolitan area':'area' ,'Population (2016 est.)[8]':'pop'}, inplace=True)\n",
    "    cities_mlb = cities[['area','pop','MLB']]\n",
    "    cities_mlb.replace('\\[note \\d*\\]', '', regex=True, inplace=True)\n",
    "    cities_mlb.replace('', np.NaN, inplace=True)\n",
    "    cities_mlb.replace('—', np.NaN, inplace=True)\n",
    "    cities_mlb = cities_mlb[~cities_mlb['MLB'].isna()]\n",
    "    cities_mlb.sort_values(by='area', inplace = True)\n",
    "\n",
    "    #3. changing area name in nhl data\n",
    "    one_name_area = ['Boston','Chicago', 'Toronto'] \n",
    "    mlb_df_2018_ratio['area'] =  mlb_df_2018_ratio['team'].apply(lambda x : re.split(' ',x)[0] if (len(re.split(' ',x)) == 2 or re.split(' ',x)[0] in one_name_area) else ' '.join(re.split(' ',x)[:2]))\n",
    "    change_val = {'Arizona' : 'Phoenix'\n",
    "                 , 'Colorado' : 'Denver'\n",
    "                 , 'Miami' : 'Miami–Fort Lauderdale'\n",
    "                 , 'Minnesota' : 'Minneapolis–Saint Paul'\n",
    "                 , 'New York' : 'New York City'\n",
    "                 , 'Oakland' : 'San Francisco Bay Area'\n",
    "                 , 'San Francisco' : 'San Francisco Bay Area'\n",
    "                 , 'Tampa Bay' : 'Tampa Bay Area'\n",
    "                 , 'Texas' : 'Dallas–Fort Worth'\n",
    "                 , 'Washington' : 'Washington, D.C.'}\n",
    "    mlb_df_2018_ratio.replace({'area' : change_val }, inplace=True)\n",
    "    mlb_df_2018_ratio.sort_values(by='area', inplace=True)\n",
    "    mlb_df_2018_ratio\n",
    "\n",
    "    #group by and merge\n",
    "    mlb_area_grp =  mlb_df_2018_ratio.groupby(\"area\", as_index=False).agg({\"ratio\" : np.average})\n",
    "    mlb_df = pd.merge(cities_mlb, mlb_area_grp, how = 'left', on = 'area')\n",
    "    mlb_df = mlb_df.astype({'pop': int, 'ratio': float})\n",
    "\n",
    "\n",
    "#     raise NotImplementedError()\n",
    "    \n",
    "    population_by_region = list(mlb_df['pop']) # pass in metropolitan area population from cities\n",
    "    win_loss_by_region = list(mlb_df['ratio']) # pass in win/loss ratio from mlb_df in the same order as cities[\"Metropolitan area\"]\n",
    "\n",
    "    assert len(population_by_region) == len(win_loss_by_region), \"Q3: Your lists must be the same length\"\n",
    "    assert len(population_by_region) == 26, \"Q3: There should be 26 teams being analysed for MLB\"\n",
    "\n",
    "    return stats.pearsonr(population_by_region, win_loss_by_region)[0]"
   ]
  },
  {
   "cell_type": "code",
   "execution_count": null,
   "metadata": {
    "deletable": false,
    "editable": false,
    "nbgrader": {
     "checksum": "cda33b094ba19ccc37a481e0dd29e0bc",
     "grade": true,
     "grade_id": "cell-764d4476f425c5a2",
     "locked": true,
     "points": 20,
     "schema_version": 1,
     "solution": false
    }
   },
   "outputs": [],
   "source": []
  },
  {
   "cell_type": "markdown",
   "metadata": {
    "deletable": false,
    "editable": false,
    "nbgrader": {
     "checksum": "6977a6da9ed6d8b7a0b7e37bbeda709b",
     "grade": false,
     "grade_id": "cell-793df6c04dfb126e",
     "locked": true,
     "schema_version": 1,
     "solution": false
    }
   },
   "source": [
    "## Question 4\n",
    "For this question, calculate the win/loss ratio's correlation with the population of the city it is in for the **NFL** using **2018** data."
   ]
  },
  {
   "cell_type": "code",
   "execution_count": 1,
   "metadata": {
    "deletable": false,
    "nbgrader": {
     "checksum": "c4914ad1e119278ec2bd567c52640b66",
     "grade": false,
     "grade_id": "cell-8ccebc209aeec8d9",
     "locked": false,
     "schema_version": 1,
     "solution": true
    }
   },
   "outputs": [],
   "source": [
    "import pandas as pd\n",
    "import numpy as np\n",
    "import scipy.stats as stats\n",
    "import re\n",
    "\n",
    "nfl_df=pd.read_csv(\"assets/nfl.csv\")\n",
    "cities=pd.read_html(\"assets/wikipedia_data.html\")[1]\n",
    "cities=cities.iloc[:-1,[0,3,5,6,7,8]]\n",
    "\n",
    "def nfl_correlation(): \n",
    "    # YOUR CODE HERE\n",
    "    \n",
    "    nfl_df=pd.read_csv(\"assets/nfl.csv\")\n",
    "    cities=pd.read_html(\"assets/wikipedia_data.html\")[1]\n",
    "    cities=cities.iloc[:-1,[0,3,5,6,7,8]]\n",
    "\n",
    "    #1. cleaning nfl data\n",
    "    nfl_df_2018 = nfl_df[nfl_df['year']==2018]\n",
    "    remove_index = [0,5,10,15,20,25,30,35] #to remove rows with characters\n",
    "    nfl_df_2018 = nfl_df_2018[~nfl_df_2018.index.isin(remove_index)]\n",
    "    nfl_df_2018[\"ratio\"] = pd.to_numeric(nfl_df_2018[\"W\"]) / ( pd.to_numeric(nfl_df_2018[\"W\"])+ pd.to_numeric(nfl_df_2018[\"L\"]))\n",
    "    nfl_df_2018 = nfl_df_2018[['team','ratio']]\n",
    "    nfl_df_2018.replace('\\*','', regex=True, inplace=True)\n",
    "    nfl_df_2018.replace('\\s\\(\\d+\\)','', regex=True, inplace=True)\n",
    "    nfl_df_2018_ratio = nfl_df_2018[['team','ratio']]\n",
    "    nfl_df_2018_ratio.sort_values(by='team', inplace=True)\n",
    "\n",
    "    #2. cities data\n",
    "    cities.rename(columns={'Metropolitan area':'area' ,'Population (2016 est.)[8]':'pop'}, inplace=True)\n",
    "    cities_nfl = cities[['area','pop','NFL']]\n",
    "    cities_nfl.replace('\\[note \\d*\\]', '', regex=True, inplace=True)\n",
    "    cities_nfl.replace('', np.NaN, inplace=True)\n",
    "    cities_nfl.replace('—', np.NaN, inplace=True)\n",
    "    cities_nfl.replace('— ', np.NaN, inplace=True)\n",
    "    cities_nfl = cities_nfl[~cities_nfl['NFL'].isna()]\n",
    "    cities_nfl.sort_values(by='area', inplace = True)\n",
    "\n",
    "    #3. changing area name in nhl data\n",
    "    one_name_area = [''] \n",
    "    nfl_df_2018_ratio['area'] =  nfl_df_2018_ratio['team'].apply(lambda x : re.split(' ',x)[0] if (len(re.split(' ',x)) == 2 or re.split(' ',x)[0] in one_name_area) else ' '.join(re.split(' ',x)[:2]))\n",
    "    change_val = {'Arizona' : 'Phoenix'\n",
    "     , 'Carolina' : 'Charlotte'\n",
    "     , 'Dallas' : 'Dallas–Fort Worth' \n",
    "     , 'Miami' : 'Miami–Fort Lauderdale'\n",
    "     , 'Minnesota' : 'Minneapolis–Saint Paul'\n",
    "     , 'New England' : 'Boston'\n",
    "     , 'New York' : 'New York City'\n",
    "     , 'Oakland' : 'San Francisco Bay Area'\n",
    "     , 'San Francisco' : 'San Francisco Bay Area'\n",
    "     , 'Tampa Bay' : 'Tampa Bay Area'\n",
    "     , 'Tennessee' : 'Nashville'\n",
    "     , 'Washington' : 'Washington, D.C.'}\n",
    "    nfl_df_2018_ratio.replace({'area' : change_val }, inplace=True)\n",
    "    nfl_df_2018_ratio.sort_values(by='area', inplace=True)\n",
    "\n",
    "    #group by and merge\n",
    "    nfl_area_grp =  nfl_df_2018_ratio.groupby(\"area\", as_index=False).agg({\"ratio\" : np.average})\n",
    "    nfl_df = pd.merge(cities_nfl, nfl_area_grp, how = 'left', on = 'area')\n",
    "    nfl_df = nfl_df.astype({'pop': int, 'ratio': float})\n",
    "\n",
    "#     raise NotImplementedError()\n",
    "    \n",
    "    population_by_region = list(nfl_df['pop']) # pass in metropolitan area population from cities\n",
    "    win_loss_by_region = list(nfl_df['ratio']) # pass in win/loss ratio from nfl_df in the same order as cities[\"Metropolitan area\"]\n",
    "\n",
    "    assert len(population_by_region) == len(win_loss_by_region), \"Q4: Your lists must be the same length\"\n",
    "    assert len(population_by_region) == 29, \"Q4: There should be 29 teams being analysed for NFL\"\n",
    "\n",
    "    return stats.pearsonr(population_by_region, win_loss_by_region)[0]"
   ]
  },
  {
   "cell_type": "code",
   "execution_count": null,
   "metadata": {
    "deletable": false,
    "editable": false,
    "nbgrader": {
     "checksum": "e9415d6399aa49e3a1a60813afdefa3b",
     "grade": true,
     "grade_id": "cell-de7b148b9554dbda",
     "locked": true,
     "points": 20,
     "schema_version": 1,
     "solution": false
    }
   },
   "outputs": [],
   "source": []
  },
  {
   "cell_type": "markdown",
   "metadata": {
    "deletable": false,
    "editable": false,
    "nbgrader": {
     "checksum": "b02d5cd3273f561e4ae939bb2a41740c",
     "grade": false,
     "grade_id": "cell-97b49d8639e908c4",
     "locked": true,
     "schema_version": 1,
     "solution": false
    }
   },
   "source": [
    "## Question 5\n",
    "In this question I would like you to explore the hypothesis that **given that an area has two sports teams in different sports, those teams will perform the same within their respective sports**. How I would like to see this explored is with a series of paired t-tests (so use [`ttest_rel`](https://docs.scipy.org/doc/scipy/reference/generated/scipy.stats.ttest_rel.html)) between all pairs of sports. Are there any sports where we can reject the null hypothesis? Again, average values where a sport has multiple teams in one region. Remember, you will only be including, for each sport, cities which have teams engaged in that sport, drop others as appropriate. This question is worth 20% of the grade for this assignment."
   ]
  },
  {
   "cell_type": "code",
   "execution_count": 5,
   "metadata": {
    "deletable": false,
    "nbgrader": {
     "checksum": "6d78c961eb66f8d8c81f06d33ae8f393",
     "grade": false,
     "grade_id": "cell-92f25f44b8d1179f",
     "locked": false,
     "schema_version": 1,
     "solution": true
    }
   },
   "outputs": [],
   "source": [
    "import pandas as pd\n",
    "import numpy as np\n",
    "import scipy.stats as stats\n",
    "import re\n",
    "\n",
    "mlb_df=pd.read_csv(\"assets/mlb.csv\")\n",
    "nhl_df=pd.read_csv(\"assets/nhl.csv\")\n",
    "nba_df=pd.read_csv(\"assets/nba.csv\")\n",
    "nfl_df=pd.read_csv(\"assets/nfl.csv\")\n",
    "cities=pd.read_html(\"assets/wikipedia_data.html\")[1]\n",
    "cities=cities.iloc[:-1,[0,3,5,6,7,8]]\n",
    "\n",
    "def sports_team_performance():\n",
    "    # YOUR CODE HERE\n",
    "    raise NotImplementedError()\n",
    "    \n",
    "    # Note: p_values is a full dataframe, so df.loc[\"NFL\",\"NBA\"] should be the same as df.loc[\"NBA\",\"NFL\"] and\n",
    "    # df.loc[\"NFL\",\"NFL\"] should return np.nan\n",
    "    sports = ['NFL', 'NBA', 'NHL', 'MLB']\n",
    "    p_values = pd.DataFrame({k:np.nan for k in sports}, index=sports)\n",
    "    \n",
    "    assert abs(p_values.loc[\"NBA\", \"NHL\"] - 0.02) <= 1e-2, \"The NBA-NHL p-value should be around 0.02\"\n",
    "    assert abs(p_values.loc[\"MLB\", \"NFL\"] - 0.80) <= 1e-2, \"The MLB-NFL p-value should be around 0.80\"\n",
    "    return p_values"
   ]
  },
  {
   "cell_type": "code",
   "execution_count": null,
   "metadata": {
    "deletable": false,
    "editable": false,
    "nbgrader": {
     "checksum": "2a596ab421a45cc01168d10e8fbb8f89",
     "grade": true,
     "grade_id": "cell-fb4b9cb5ff4570a6",
     "locked": true,
     "points": 20,
     "schema_version": 1,
     "solution": false
    }
   },
   "outputs": [],
   "source": []
  }
 ],
 "metadata": {
  "coursera": {
   "schema_names": [
    "mooc_adswpy_1_v2_assignment4"
   ]
  },
  "kernelspec": {
   "display_name": "Python 3",
   "language": "python",
   "name": "python3"
  },
  "language_info": {
   "codemirror_mode": {
    "name": "ipython",
    "version": 3
   },
   "file_extension": ".py",
   "mimetype": "text/x-python",
   "name": "python",
   "nbconvert_exporter": "python",
   "pygments_lexer": "ipython3",
   "version": "3.7.3"
  }
 },
 "nbformat": 4,
 "nbformat_minor": 4
}
