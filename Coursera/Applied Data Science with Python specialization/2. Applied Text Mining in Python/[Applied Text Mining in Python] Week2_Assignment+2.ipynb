{
 "cells": [
  {
   "cell_type": "markdown",
   "metadata": {},
   "source": [
    "---\n",
    "\n",
    "_You are currently looking at **version 1.0** of this notebook. To download notebooks and datafiles, as well as get help on Jupyter notebooks in the Coursera platform, visit the [Jupyter Notebook FAQ](https://www.coursera.org/learn/python-text-mining/resources/d9pwm) course resource._\n",
    "\n",
    "---"
   ]
  },
  {
   "cell_type": "markdown",
   "metadata": {},
   "source": [
    "# Assignment 2 - Introduction to NLTK\n",
    "\n",
    "In part 1 of this assignment you will use nltk to explore the Herman Melville novel Moby Dick. Then in part 2 you will create a spelling recommender function that uses nltk to find words similar to the misspelling. "
   ]
  },
  {
   "cell_type": "markdown",
   "metadata": {},
   "source": [
    "## Part 1 - Analyzing Moby Dick"
   ]
  },
  {
   "cell_type": "code",
   "execution_count": null,
   "metadata": {
    "collapsed": true
   },
   "outputs": [],
   "source": [
    "import nltk\n",
    "import pandas as pd\n",
    "import numpy as np\n",
    "\n",
    "nltk.download('punkt')\n",
    "# If you would like to work with the raw text you can use 'moby_raw'\n",
    "with open('moby.txt', 'r') as f:\n",
    "    moby_raw = f.read()\n",
    "    \n",
    "# If you would like to work with the novel in nltk.Text format you can use 'text1'\n",
    "moby_tokens = nltk.word_tokenize(moby_raw)\n",
    "text1 = nltk.Text(moby_tokens)"
   ]
  },
  {
   "cell_type": "code",
   "execution_count": null,
   "metadata": {
    "collapsed": true
   },
   "outputs": [],
   "source": [
    "text1"
   ]
  },
  {
   "cell_type": "markdown",
   "metadata": {},
   "source": [
    "### Example 1\n",
    "\n",
    "How many tokens (words and punctuation symbols) are in text1?\n",
    "\n",
    "*This function should return an integer.*"
   ]
  },
  {
   "cell_type": "code",
   "execution_count": null,
   "metadata": {
    "collapsed": true
   },
   "outputs": [],
   "source": [
    "def example_one():\n",
    "    \n",
    "    return len(nltk.word_tokenize(moby_raw)) # or alternatively len(text1)\n",
    "\n",
    "example_one()"
   ]
  },
  {
   "cell_type": "markdown",
   "metadata": {},
   "source": [
    "### Example 2\n",
    "\n",
    "How many unique tokens (unique words and punctuation) does text1 have?\n",
    "\n",
    "*This function should return an integer.*"
   ]
  },
  {
   "cell_type": "code",
   "execution_count": null,
   "metadata": {
    "collapsed": true
   },
   "outputs": [],
   "source": [
    "def example_two():\n",
    "    \n",
    "    return len(set(nltk.word_tokenize(moby_raw))) # or alternatively len(set(text1))\n",
    "\n",
    "example_two()"
   ]
  },
  {
   "cell_type": "markdown",
   "metadata": {},
   "source": [
    "### Example 3\n",
    "\n",
    "After lemmatizing the verbs, how many unique tokens does text1 have?\n",
    "\n",
    "*This function should return an integer.*"
   ]
  },
  {
   "cell_type": "code",
   "execution_count": null,
   "metadata": {
    "collapsed": true
   },
   "outputs": [],
   "source": [
    "from nltk.stem import WordNetLemmatizer\n",
    "\n",
    "def example_three():\n",
    "\n",
    "    lemmatizer = WordNetLemmatizer()\n",
    "    lemmatized = [lemmatizer.lemmatize(w,'v') for w in text1]\n",
    "\n",
    "    return len(set(lemmatized))\n",
    "\n",
    "example_three()"
   ]
  },
  {
   "cell_type": "markdown",
   "metadata": {},
   "source": [
    "### Question 1\n",
    "\n",
    "What is the lexical diversity of the given text input? (i.e. ratio of unique tokens to the total number of tokens)\n",
    "\n",
    "*This function should return a float.*"
   ]
  },
  {
   "cell_type": "code",
   "execution_count": null,
   "metadata": {
    "collapsed": true
   },
   "outputs": [],
   "source": [
    "def answer_one():\n",
    "    \n",
    "    \n",
    "    return len(set(nltk.word_tokenize(moby_raw)))/len(nltk.word_tokenize(moby_raw)) # Your answer here\n",
    "\n",
    "answer_one()"
   ]
  },
  {
   "cell_type": "markdown",
   "metadata": {},
   "source": [
    "### Question 2\n",
    "\n",
    "What percentage of tokens is 'whale'or 'Whale'?\n",
    "\n",
    "*This function should return a float.*"
   ]
  },
  {
   "cell_type": "code",
   "execution_count": null,
   "metadata": {
    "collapsed": true
   },
   "outputs": [],
   "source": [
    "def answer_two():\n",
    "    \n",
    "    \n",
    "    from nltk import FreqDist\n",
    "    \n",
    "    dist = FreqDist(text1)\n",
    "    \n",
    "    whale = dist['whale']\n",
    "    Whale = dist['Whale']\n",
    "    \n",
    "    return ((whale + Whale) / len(nltk.word_tokenize(moby_raw))) * 100 # Your answer here\n",
    "\n",
    "answer_two()"
   ]
  },
  {
   "cell_type": "markdown",
   "metadata": {},
   "source": [
    "### Question 3\n",
    "\n",
    "What are the 20 most frequently occurring (unique) tokens in the text? What is their frequency?\n",
    "\n",
    "*This function should return a list of 20 tuples where each tuple is of the form `(token, frequency)`. The list should be sorted in descending order of frequency.*"
   ]
  },
  {
   "cell_type": "code",
   "execution_count": null,
   "metadata": {
    "collapsed": true
   },
   "outputs": [],
   "source": [
    "def answer_three():\n",
    "    \n",
    "    from nltk import FreqDist\n",
    "\n",
    "    dist = FreqDist(text1)\n",
    "\n",
    "    token_sorted = sorted(dist.items(), key = lambda x:x[1], reverse = True)\n",
    "    \n",
    "    return token_sorted[:20] # Your answer here\n",
    "\n",
    "answer_three()"
   ]
  },
  {
   "cell_type": "markdown",
   "metadata": {},
   "source": [
    "### Question 4\n",
    "\n",
    "What tokens have a length of greater than 5 and frequency of more than 150?\n",
    "\n",
    "*This function should return an alphabetically sorted list of the tokens that match the above constraints. To sort your list, use `sorted()`*"
   ]
  },
  {
   "cell_type": "code",
   "execution_count": null,
   "metadata": {
    "collapsed": true
   },
   "outputs": [],
   "source": [
    "def answer_four():\n",
    "    from nltk import FreqDist\n",
    "\n",
    "    dist = FreqDist(text1)\n",
    "    \n",
    "    tokens = dist.keys()\n",
    "    freqwords = [w for w in tokens if len(w) > 5 and dist[w] > 150]\n",
    "    \n",
    "    return sorted(freqwords) # Your answer here\n",
    "\n",
    "answer_four()"
   ]
  },
  {
   "cell_type": "markdown",
   "metadata": {},
   "source": [
    "### Question 5\n",
    "\n",
    "Find the longest word in text1 and that word's length.\n",
    "\n",
    "*This function should return a tuple `(longest_word, length)`.*"
   ]
  },
  {
   "cell_type": "code",
   "execution_count": null,
   "metadata": {
    "collapsed": true
   },
   "outputs": [],
   "source": [
    "def answer_five():\n",
    "    \n",
    "    from nltk import FreqDist\n",
    "\n",
    "    dist = FreqDist(text1)\n",
    "    tokens = dist.keys()\n",
    "    length = 0\n",
    "    word = ''\n",
    "    \n",
    "    for w in tokens:\n",
    "        if len(w) > length:\n",
    "            length = len(w)\n",
    "            word = w            \n",
    "    \n",
    "    return (word, length) # Your answer here\n",
    "\n",
    "answer_five()"
   ]
  },
  {
   "cell_type": "markdown",
   "metadata": {},
   "source": [
    "### Question 6\n",
    "\n",
    "What unique words have a frequency of more than 2000? What is their frequency?\n",
    "\n",
    "\"Hint:  you may want to use `isalpha()` to check if the token is a word and not punctuation.\"\n",
    "\n",
    "*This function should return a list of tuples of the form `(frequency, word)` sorted in descending order of frequency.*"
   ]
  },
  {
   "cell_type": "code",
   "execution_count": null,
   "metadata": {
    "collapsed": true
   },
   "outputs": [],
   "source": [
    "def answer_six():\n",
    "    \n",
    "    #2000개 이상 빈도 (단어여야하고 구두점 아니여야함.)\n",
    "    from nltk import FreqDist\n",
    "\n",
    "    dist = FreqDist(text1)\n",
    "    tokens = dist.keys()\n",
    "    return_lst = []\n",
    "    \n",
    "    for w in tokens:\n",
    "        if dist[w] > 2000:\n",
    "            if w.isalpha():\n",
    "                return_lst.append((dist[w], w))\n",
    "    \n",
    "    return sorted(return_lst, key = lambda x:x[0], reverse=True) # Your answer here\n",
    "\n",
    "answer_six()"
   ]
  },
  {
   "cell_type": "markdown",
   "metadata": {},
   "source": [
    "### Question 7\n",
    "\n",
    "What is the average number of tokens per sentence?\n",
    "\n",
    "*This function should return a float.*"
   ]
  },
  {
   "cell_type": "code",
   "execution_count": null,
   "metadata": {
    "collapsed": true
   },
   "outputs": [],
   "source": [
    "def answer_seven():\n",
    "    \n",
    "    sentences = nltk.sent_tokenize(moby_raw)\n",
    "    token_sum = 0\n",
    "    \n",
    "    for sen in sentences:\n",
    "        token_sum += len(nltk.word_tokenize(sen))\n",
    "        \n",
    "    \n",
    "    return token_sum / len(sentences) # Your answer here\n",
    "\n",
    "answer_seven()"
   ]
  },
  {
   "cell_type": "markdown",
   "metadata": {},
   "source": [
    "### Question 8\n",
    "\n",
    "What are the 5 most frequent parts of speech in this text? What is their frequency?\n",
    "\n",
    "*This function should return a list of tuples of the form `(part_of_speech, frequency)` sorted in descending order of frequency.*"
   ]
  },
  {
   "cell_type": "code",
   "execution_count": null,
   "metadata": {
    "collapsed": true
   },
   "outputs": [],
   "source": [
    "def answer_eight():\n",
    "    from itertools import groupby\n",
    "\n",
    "    nltk.download('averaged_perceptron_tagger')\n",
    "    pos = nltk.word_tokenize(moby_raw)\n",
    "    pos_list = nltk.pos_tag(pos)\n",
    "\n",
    "    transformed_list = []\n",
    "    d = {}\n",
    "    pos_name = []\n",
    "    final_list = []\n",
    "\n",
    "    for tup in pos_list:\n",
    "        transformed_list.append((tup[1],1))\n",
    "\n",
    "    for a in transformed_list:\n",
    "        if not a[0] in pos_name:\n",
    "            pos_name.append(a[0])\n",
    "            d[a[0]] = 0\n",
    "        d[a[0]] += a[1]\n",
    "\n",
    "    for pos in pos_name:\n",
    "        final_list.append((pos, d[pos]))\n",
    "    \n",
    "    return sorted(final_list, key = lambda x: x[1], reverse=True)# Your answer here\n",
    "\n",
    "answer_eight()"
   ]
  },
  {
   "cell_type": "markdown",
   "metadata": {},
   "source": [
    "## Part 2 - Spelling Recommender\n",
    "\n",
    "For this part of the assignment you will create three different spelling recommenders, that each take a list of misspelled words and recommends a correctly spelled word for every word in the list.\n",
    "\n",
    "For every misspelled word, the recommender should find find the word in `correct_spellings` that has the shortest distance*, and starts with the same letter as the misspelled word, and return that word as a recommendation.\n",
    "\n",
    "*Each of the three different recommenders will use a different distance measure (outlined below).\n",
    "\n",
    "Each of the recommenders should provide recommendations for the three default words provided: `['cormulent', 'incendenece', 'validrate']`."
   ]
  },
  {
   "cell_type": "code",
   "execution_count": null,
   "metadata": {
    "collapsed": true
   },
   "outputs": [],
   "source": [
    "from nltk.corpus import words\n",
    "nltk.download('words')\n",
    "\n",
    "correct_spellings = words.words()"
   ]
  },
  {
   "cell_type": "code",
   "execution_count": null,
   "metadata": {
    "collapsed": true
   },
   "outputs": [],
   "source": [
    "correct_spellings[:10]"
   ]
  },
  {
   "cell_type": "markdown",
   "metadata": {},
   "source": [
    "### Question 9\n",
    "\n",
    "For this recommender, your function should provide recommendations for the three default words provided above using the following distance metric:\n",
    "\n",
    "**[Jaccard distance](https://en.wikipedia.org/wiki/Jaccard_index) on the trigrams of the two words.**\n",
    "\n",
    "*This function should return a list of length three:\n",
    "`['cormulent_reccomendation', 'incendenece_reccomendation', 'validrate_reccomendation']`.*"
   ]
  },
  {
   "cell_type": "code",
   "execution_count": null,
   "metadata": {
    "collapsed": true
   },
   "outputs": [],
   "source": [
    "def answer_nine(entries=['cormulent', 'incendenece', 'validrate']):\n",
    "    \n",
    "    c_list = [c for c in correct_spellings if c[0] == 'c']\n",
    "    i_list = [i for i in correct_spellings if i[0] == 'i']\n",
    "    v_list = [v for v in correct_spellings if v[0] == 'v']\n",
    "    \n",
    "    #distance and word\n",
    "    c_list2 = [(nltk.jaccard_distance(set(nltk.ngrams(entries[0], n=3)),\n",
    "                                      set(nltk.ngrams(a, n=3))), a) for a in c_list]\n",
    "\n",
    "    i_list2 = [(nltk.jaccard_distance(set(nltk.ngrams(entries[1], n=3)),\n",
    "                                      set(nltk.ngrams(a, n=3))), a) for a in i_list]\n",
    "    \n",
    "    v_list2 = [(nltk.jaccard_distance(set(nltk.ngrams(entries[2], n=3)),\n",
    "                                      set(nltk.ngrams(a, n=3))), a) for a in v_list]\n",
    "    \n",
    "    answer = [sorted(c_list2)[0][1], sorted(i_list2)[0][1], sorted(v_list2)[0][1]]\n",
    "    return answer # Your answer here\n",
    "    \n",
    "answer_nine()"
   ]
  },
  {
   "cell_type": "markdown",
   "metadata": {},
   "source": [
    "### Question 10\n",
    "\n",
    "For this recommender, your function should provide recommendations for the three default words provided above using the following distance metric:\n",
    "\n",
    "**[Jaccard distance](https://en.wikipedia.org/wiki/Jaccard_index) on the 4-grams of the two words.**\n",
    "\n",
    "*This function should return a list of length three:\n",
    "`['cormulent_reccomendation', 'incendenece_reccomendation', 'validrate_reccomendation']`.*"
   ]
  },
  {
   "cell_type": "code",
   "execution_count": null,
   "metadata": {
    "collapsed": true
   },
   "outputs": [],
   "source": [
    "def answer_ten(entries=['cormulent', 'incendenece', 'validrate']):\n",
    "    \n",
    "    c_list = [c for c in correct_spellings if c[0] == 'c']\n",
    "    i_list = [i for i in correct_spellings if i[0] == 'i']\n",
    "    v_list = [v for v in correct_spellings if v[0] == 'v']\n",
    "    \n",
    "    #distance and word\n",
    "    c_list2 = [(nltk.jaccard_distance(set(nltk.ngrams(entries[0], n=4)),\n",
    "                                      set(nltk.ngrams(a, n=4))), a) for a in c_list]\n",
    "\n",
    "    i_list2 = [(nltk.jaccard_distance(set(nltk.ngrams(entries[1], n=4)),\n",
    "                                      set(nltk.ngrams(a, n=4))), a) for a in i_list]\n",
    "    \n",
    "    v_list2 = [(nltk.jaccard_distance(set(nltk.ngrams(entries[2], n=4)),\n",
    "                                      set(nltk.ngrams(a, n=4))), a) for a in v_list]\n",
    "    \n",
    "    answer = [sorted(c_list2)[0][1], sorted(i_list2)[0][1], sorted(v_list2)[0][1]]\n",
    "    \n",
    "    return answer # Your answer here\n",
    "    \n",
    "answer_ten()"
   ]
  },
  {
   "cell_type": "markdown",
   "metadata": {},
   "source": [
    "### Question 11\n",
    "\n",
    "For this recommender, your function should provide recommendations for the three default words provided above using the following distance metric:\n",
    "\n",
    "**[Edit distance on the two words with transpositions.](https://en.wikipedia.org/wiki/Damerau%E2%80%93Levenshtein_distance)**\n",
    "\n",
    "*This function should return a list of length three:\n",
    "`['cormulent_reccomendation', 'incendenece_reccomendation', 'validrate_reccomendation']`.*"
   ]
  },
  {
   "cell_type": "code",
   "execution_count": null,
   "metadata": {
    "collapsed": true
   },
   "outputs": [],
   "source": [
    "def answer_eleven(entries=['cormulent', 'incendenece', 'validrate']):\n",
    "    \n",
    "    c_list = [c for c in correct_spellings if c[0] == 'c']\n",
    "    i_list = [i for i in correct_spellings if i[0] == 'i']\n",
    "    v_list = [v for v in correct_spellings if v[0] == 'v']\n",
    "    \n",
    "    #distance and word\n",
    "    c_list2 = [(nltk.edit_distance(entries[0],a), a) for a in c_list]\n",
    "\n",
    "    i_list2 = [(nltk.edit_distance(entries[1],a), a) for a in i_list]\n",
    "    \n",
    "    v_list2 = [(nltk.edit_distance(entries[2],a), a) for a in v_list]\n",
    "    \n",
    "    answer = [sorted(c_list2)[0][1], sorted(i_list2)[0][1], sorted(v_list2)[0][1]]\n",
    "    \n",
    "    return answer # Your answer here \n",
    "    \n",
    "answer_eleven()"
   ]
  },
  {
   "cell_type": "code",
   "execution_count": null,
   "metadata": {
    "collapsed": true
   },
   "outputs": [],
   "source": []
  }
 ],
 "metadata": {
  "coursera": {
   "course_slug": "python-text-mining",
   "graded_item_id": "r35En",
   "launcher_item_id": "tCVfW",
   "part_id": "NTVgL"
  },
  "kernelspec": {
   "display_name": "Python 3",
   "language": "python",
   "name": "python3"
  },
  "language_info": {
   "codemirror_mode": {
    "name": "ipython",
    "version": 3
   },
   "file_extension": ".py",
   "mimetype": "text/x-python",
   "name": "python",
   "nbconvert_exporter": "python",
   "pygments_lexer": "ipython3",
   "version": "3.6.2"
  }
 },
 "nbformat": 4,
 "nbformat_minor": 2
}
