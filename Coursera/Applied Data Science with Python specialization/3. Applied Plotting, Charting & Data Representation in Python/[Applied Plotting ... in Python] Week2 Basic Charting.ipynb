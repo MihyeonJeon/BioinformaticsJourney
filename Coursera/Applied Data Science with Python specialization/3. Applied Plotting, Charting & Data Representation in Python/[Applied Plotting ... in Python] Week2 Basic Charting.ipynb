{
  "nbformat": 4,
  "nbformat_minor": 0,
  "metadata": {
    "colab": {
      "name": "[Applied Plotting ... in Python] Week2_Basic Charting",
      "provenance": []
    },
    "kernelspec": {
      "name": "python3",
      "display_name": "Python 3"
    },
    "language_info": {
      "name": "python"
    }
  },
  "cells": [
    {
      "cell_type": "markdown",
      "metadata": {
        "id": "NjORAT8SZ8iz"
      },
      "source": [
        "## 1. Basic Plotting with matplotlib\n"
      ]
    },
    {
      "cell_type": "code",
      "metadata": {
        "id": "Qg5l2Mx0Y0QV"
      },
      "source": [
        "# This provides an interactive environment\n",
        "%matplotlib notebook"
      ],
      "execution_count": null,
      "outputs": []
    },
    {
      "cell_type": "markdown",
      "metadata": {
        "id": "DXah8ghAlt2k"
      },
      "source": [
        "### Matplotlib Architecture\n",
        "* Backend\n",
        "  * An Abstraction layer which knows how to interact with the operating environment\n",
        "  * Deals with the rendering of plots to screen or files\n",
        "  * In Jupyter notebooks we use the inline backend\n",
        "\n",
        "* Artist Layer\n",
        "  * Contains container such as Figure, Subplot, and Axes\n",
        "  * Contains primitives, such as a Line2D and Rectangle, andn collections, such as a PathCollection\n",
        "\n",
        "* Scripting Layer\n",
        "  * Simplifies access to the Artist and Backend layers\n",
        "  "
      ]
    },
    {
      "cell_type": "markdown",
      "metadata": {
        "id": "cLClGy6NYAgf"
      },
      "source": [
        "* [Matplotlib](http://www.aosabook.org/en/matplotlib.html)\n",
        "* [Ten Simplie Rules for Better figures](https://journals.plos.org/ploscompbiol/article?id=10.1371/journal.pcbi.1003833)"
      ]
    },
    {
      "cell_type": "code",
      "metadata": {
        "colab": {
          "base_uri": "https://localhost:8080/",
          "height": 35
        },
        "id": "x6ZX87jYlErd",
        "outputId": "bdc09fa6-3c6d-469e-90d5-fd4b25361787"
      },
      "source": [
        "import matplotlib as mpl\n",
        "mpl.get_backend()"
      ],
      "execution_count": null,
      "outputs": [
        {
          "output_type": "execute_result",
          "data": {
            "application/vnd.google.colaboratory.intrinsic+json": {
              "type": "string"
            },
            "text/plain": [
              "'module://ipykernel.pylab.backend_inline'"
            ]
          },
          "metadata": {},
          "execution_count": 2
        }
      ]
    },
    {
      "cell_type": "code",
      "metadata": {
        "id": "jEEVhCoalQeU"
      },
      "source": [
        "import matplotlib.pyplot as plt\n",
        "plt.plot?"
      ],
      "execution_count": null,
      "outputs": []
    },
    {
      "cell_type": "code",
      "metadata": {
        "id": "PjnEHFNSlcyL",
        "colab": {
          "base_uri": "https://localhost:8080/",
          "height": 283
        },
        "outputId": "3339dc0e-2928-4334-ea6e-680a9ad791b9"
      },
      "source": [
        "plt.plot(3,2)"
      ],
      "execution_count": null,
      "outputs": [
        {
          "output_type": "execute_result",
          "data": {
            "text/plain": [
              "[<matplotlib.lines.Line2D at 0x7f259e224310>]"
            ]
          },
          "metadata": {},
          "execution_count": 4
        },
        {
          "output_type": "display_data",
          "data": {
            "image/png": "[encoded data removed]",
            "text/plain": [
              "<Figure size 432x288 with 1 Axes>"
            ]
          },
          "metadata": {
            "needs_background": "light"
          }
        }
      ]
    },
    {
      "cell_type": "code",
      "metadata": {
        "colab": {
          "base_uri": "https://localhost:8080/",
          "height": 283
        },
        "id": "vGmWggEUf6d5",
        "outputId": "b3136d03-4c96-487c-8860-eae6211ab4a5"
      },
      "source": [
        "plt.plot(3,2,'.')"
      ],
      "execution_count": null,
      "outputs": [
        {
          "output_type": "execute_result",
          "data": {
            "text/plain": [
              "[<matplotlib.lines.Line2D at 0x7f259dc80950>]"
            ]
          },
          "metadata": {},
          "execution_count": 5
        },
        {
          "output_type": "display_data",
          "data": {
            "image/png": "[encoded data removed]",
            "text/plain": [
              "<Figure size 432x288 with 1 Axes>"
            ]
          },
          "metadata": {
            "needs_background": "light"
          }
        }
      ]
    },
    {
      "cell_type": "code",
      "metadata": {
        "id": "Y10SXVjHgDab"
      },
      "source": [
        "# First let's set the backend without using mpl.use() from the scripting layer\n",
        "from matplotlib.backends.backend_agg import FigureCanvasAgg\n",
        "from matplotlib.figure import Figure\n",
        "\n",
        "# create a new figure\n",
        "fig = Figure()\n",
        "\n",
        "# associate fig with the backend\n",
        "canvas = FigureCanvasAgg(fig)\n",
        "\n",
        "# add a subplot to the fig\n",
        "ax = fig.add_subplot(111)\n",
        "\n",
        "# plot the point (3,2)\n",
        "ax.plot(3, 2, '.')\n",
        "\n",
        "# save the figure to test.png\n",
        "canvas.print_png('test.png')"
      ],
      "execution_count": null,
      "outputs": []
    },
    {
      "cell_type": "code",
      "metadata": {
        "colab": {
          "resources": {
            "http://localhost:8080/test.png": {
              "data": "CjwhRE9DVFlQRSBodG1sPgo8aHRtbCBsYW5nPWVuPgogIDxtZXRhIGNoYXJzZXQ9dXRmLTg+CiAgPG1ldGEgbmFtZT12aWV3cG9ydCBjb250ZW50PSJpbml0aWFsLXNjYWxlPTEsIG1pbmltdW0tc2NhbGU9MSwgd2lkdGg9ZGV2aWNlLXdpZHRoIj4KICA8dGl0bGU+RXJyb3IgNDA0IChOb3QgRm91bmQpISExPC90aXRsZT4KICA8c3R5bGU+CiAgICAqe21hcmdpbjowO3BhZGRpbmc6MH1odG1sLGNvZGV7Zm9udDoxNXB4LzIycHggYXJpYWwsc2Fucy1zZXJpZn1odG1se2JhY2tncm91bmQ6I2ZmZjtjb2xvcjojMjIyO3BhZGRpbmc6MTVweH1ib2R5e21hcmdpbjo3JSBhdXRvIDA7bWF4LXdpZHRoOjM5MHB4O21pbi1oZWlnaHQ6MTgwcHg7cGFkZGluZzozMHB4IDAgMTVweH0qID4gYm9keXtiYWNrZ3JvdW5kOnVybCgvL3d3dy5nb29nbGUuY29tL2ltYWdlcy9lcnJvcnMvcm9ib3QucG5nKSAxMDAlIDVweCBuby1yZXBlYXQ7cGFkZGluZy1yaWdodDoyMDVweH1we21hcmdpbjoxMXB4IDAgMjJweDtvdmVyZmxvdzpoaWRkZW59aW5ze2NvbG9yOiM3Nzc7dGV4dC1kZWNvcmF0aW9uOm5vbmV9YSBpbWd7Ym9yZGVyOjB9QG1lZGlhIHNjcmVlbiBhbmQgKG1heC13aWR0aDo3NzJweCl7Ym9keXtiYWNrZ3JvdW5kOm5vbmU7bWFyZ2luLXRvcDowO21heC13aWR0aDpub25lO3BhZGRpbmctcmlnaHQ6MH19I2xvZ297YmFja2dyb3VuZDp1cmwoLy93d3cuZ29vZ2xlLmNvbS9pbWFnZXMvbG9nb3MvZXJyb3JwYWdlL2Vycm9yX2xvZ28tMTUweDU0LnBuZykgbm8tcmVwZWF0O21hcmdpbi1sZWZ0Oi01cHh9QG1lZGlhIG9ubHkgc2NyZWVuIGFuZCAobWluLXJlc29sdXRpb246MTkyZHBpKXsjbG9nb3tiYWNrZ3JvdW5kOnVybCgvL3d3dy5nb29nbGUuY29tL2ltYWdlcy9sb2dvcy9lcnJvcnBhZ2UvZXJyb3JfbG9nby0xNTB4NTQtMngucG5nKSBuby1yZXBlYXQgMCUgMCUvMTAwJSAxMDAlOy1tb3otYm9yZGVyLWltYWdlOnVybCgvL3d3dy5nb29nbGUuY29tL2ltYWdlcy9sb2dvcy9lcnJvcnBhZ2UvZXJyb3JfbG9nby0xNTB4NTQtMngucG5nKSAwfX1AbWVkaWEgb25seSBzY3JlZW4gYW5kICgtd2Via2l0LW1pbi1kZXZpY2UtcGl4ZWwtcmF0aW86Mil7I2xvZ297YmFja2dyb3VuZDp1cmwoLy93d3cuZ29vZ2xlLmNvbS9pbWFnZXMvbG9nb3MvZXJyb3JwYWdlL2Vycm9yX2xvZ28tMTUweDU0LTJ4LnBuZykgbm8tcmVwZWF0Oy13ZWJraXQtYmFja2dyb3VuZC1zaXplOjEwMCUgMTAwJX19I2xvZ297ZGlzcGxheTppbmxpbmUtYmxvY2s7aGVpZ2h0OjU0cHg7d2lkdGg6MTUwcHh9CiAgPC9zdHlsZT4KICA8YSBocmVmPS8vd3d3Lmdvb2dsZS5jb20vPjxzcGFuIGlkPWxvZ28gYXJpYS1sYWJlbD1Hb29nbGU+PC9zcGFuPjwvYT4KICA8cD48Yj40MDQuPC9iPiA8aW5zPlRoYXTigJlzIGFuIGVycm9yLjwvaW5zPgogIDxwPiAgPGlucz5UaGF04oCZcyBhbGwgd2Uga25vdy48L2lucz4K",
              "ok": false,
              "headers": [
                [
                  "content-length",
                  "1449"
                ],
                [
                  "content-type",
                  "text/html; charset=utf-8"
                ]
              ],
              "status": 404,
              "status_text": ""
            }
          },
          "base_uri": "https://localhost:8080/",
          "height": 36
        },
        "id": "S4qkOA8UkL_W",
        "outputId": "977eca53-7ef2-4354-ace7-9a1c0d6ef808"
      },
      "source": [
        "# We can use html cell magic to display the image.\n",
        "%%html\n",
        "<img src='test.png' />"
      ],
      "execution_count": null,
      "outputs": [
        {
          "output_type": "display_data",
          "data": {
            "text/html": [
              "<img src='test.png' />"
            ],
            "text/plain": [
              "<IPython.core.display.HTML object>"
            ]
          },
          "metadata": {}
        }
      ]
    },
    {
      "cell_type": "code",
      "metadata": {
        "colab": {
          "base_uri": "https://localhost:8080/",
          "height": 287
        },
        "id": "ns_VWLrdkVS-",
        "outputId": "0d82a16f-7a95-4334-9013-9fbb24430176"
      },
      "source": [
        "# create a new figure\n",
        "plt.figure()\n",
        "\n",
        "# plot the point (3,2) using the circle marker\n",
        "plt.plot(3, 2, 'o')\n",
        "\n",
        "# get the current axes\n",
        "ax = plt.gca()\n",
        "\n",
        "# Set axis properties [xmin, xmax, ymin, ymax]\n",
        "ax.axis([0,6,0,10])"
      ],
      "execution_count": null,
      "outputs": [
        {
          "output_type": "execute_result",
          "data": {
            "text/plain": [
              "(0.0, 6.0, 0.0, 10.0)"
            ]
          },
          "metadata": {},
          "execution_count": 8
        },
        {
          "output_type": "display_data",
          "data": {
            "image/png": "[encoded data removed]",
            "text/plain": [
              "<Figure size 432x288 with 1 Axes>"
            ]
          },
          "metadata": {
            "needs_background": "light"
          }
        }
      ]
    },
    {
      "cell_type": "code",
      "metadata": {
        "colab": {
          "base_uri": "https://localhost:8080/",
          "height": 283
        },
        "id": "7L3cI2FelD23",
        "outputId": "e3f32db7-5275-44c3-a5a2-2277f7b41142"
      },
      "source": [
        "# create a new figure\n",
        "plt.figure()\n",
        "\n",
        "# plot the point (1.5, 1.5) using the circle marker\n",
        "plt.plot(1.5, 1.5, 'o')\n",
        "# plot the point (2, 2) using the circle marker\n",
        "plt.plot(2, 2, 'o')\n",
        "# plot the point (2.5, 2.5) using the circle marker\n",
        "plt.plot(2.5, 2.5, 'o')"
      ],
      "execution_count": null,
      "outputs": [
        {
          "output_type": "execute_result",
          "data": {
            "text/plain": [
              "[<matplotlib.lines.Line2D at 0x7f259db505d0>]"
            ]
          },
          "metadata": {},
          "execution_count": 9
        },
        {
          "output_type": "display_data",
          "data": {
            "image/png": "[encoded data removed]",
            "text/plain": [
              "<Figure size 432x288 with 1 Axes>"
            ]
          },
          "metadata": {
            "needs_background": "light"
          }
        }
      ]
    },
    {
      "cell_type": "code",
      "metadata": {
        "colab": {
          "base_uri": "https://localhost:8080/",
          "height": 449
        },
        "id": "2k5kbjzemQEI",
        "outputId": "3e966109-b6a3-43b9-db66-5cf55208f30c"
      },
      "source": [
        "# get current axes\n",
        "ax = plt.gca()\n",
        "# get all the child objects the axes contains\n",
        "ax.get_children()"
      ],
      "execution_count": null,
      "outputs": [
        {
          "output_type": "execute_result",
          "data": {
            "text/plain": [
              "[<matplotlib.spines.Spine at 0x7f259db0fd90>,\n",
              " <matplotlib.spines.Spine at 0x7f259db0f790>,\n",
              " <matplotlib.spines.Spine at 0x7f259daf1050>,\n",
              " <matplotlib.spines.Spine at 0x7f259daf1750>,\n",
              " <matplotlib.axis.XAxis at 0x7f259db0f710>,\n",
              " <matplotlib.axis.YAxis at 0x7f259db04190>,\n",
              " Text(0.5, 1.0, ''),\n",
              " Text(0.0, 1.0, ''),\n",
              " Text(1.0, 1.0, ''),\n",
              " <matplotlib.patches.Rectangle at 0x7f259db19510>]"
            ]
          },
          "metadata": {},
          "execution_count": 10
        },
        {
          "output_type": "display_data",
          "data": {
            "image/png": "[encoded data removed]",
            "text/plain": [
              "<Figure size 432x288 with 1 Axes>"
            ]
          },
          "metadata": {
            "needs_background": "light"
          }
        }
      ]
    },
    {
      "cell_type": "markdown",
      "metadata": {
        "id": "NZ61khsynHRp"
      },
      "source": [
        "## 2. Scatterplots\n",
        "\n",
        "1. Axis objects\n",
        "  * Pyplot is going to retrieve the current figure with the function gcf and then get the current axis with the function gca.\n",
        "  * Pyplot is keeping track of the axis objects for you. We can get them when we want.\n",
        "\n",
        "2. Pyplot just mirrors the API of the axis objects.\n",
        "  * You can call the plot function against the pyplot module\n",
        "\n",
        "3. Remember that the function declaration from most of the functions in matplotlib end with an open set of keyword arguments.\n",
        "  * There are a lot of different properties you can control through these keyword arguments.\n"
      ]
    },
    {
      "cell_type": "markdown",
      "metadata": {
        "id": "6SZW_EiXyDEV"
      },
      "source": [
        "* Scatterplot : a two dimensional plot similar to the line plots. It takes an x-axis value as a first argument and y-axis as the second."
      ]
    },
    {
      "cell_type": "code",
      "metadata": {
        "colab": {
          "base_uri": "https://localhost:8080/",
          "height": 283
        },
        "id": "DQU2ww2emVpX",
        "outputId": "0bb24737-507e-4bcc-e5aa-c2ccddb0ec40"
      },
      "source": [
        "import numpy as np\n",
        "x = np.array([1,2,3,4,5,6,7,8])\n",
        "y = x\n",
        "\n",
        "plt.figure()\n",
        "plt.scatter(x,y)"
      ],
      "execution_count": null,
      "outputs": [
        {
          "output_type": "execute_result",
          "data": {
            "text/plain": [
              "<matplotlib.collections.PathCollection at 0x7f25a3d580d0>"
            ]
          },
          "metadata": {},
          "execution_count": 11
        },
        {
          "output_type": "display_data",
          "data": {
            "image/png": "[encoded data removed]",
            "text/plain": [
              "<Figure size 432x288 with 1 Axes>"
            ]
          },
          "metadata": {
            "needs_background": "light"
          }
        }
      ]
    },
    {
      "cell_type": "code",
      "metadata": {
        "colab": {
          "base_uri": "https://localhost:8080/",
          "height": 283
        },
        "id": "zLniczT8Dmf3",
        "outputId": "bc8fc885-4067-4606-d754-7e89d3d30bdd"
      },
      "source": [
        "colors = ['green']*(len(x)-1)\n",
        "colors.append('red')\n",
        "\n",
        "plt.figure()\n",
        "plt.scatter(x,y, s = 100, c = colors)"
      ],
      "execution_count": null,
      "outputs": [
        {
          "output_type": "execute_result",
          "data": {
            "text/plain": [
              "<matplotlib.collections.PathCollection at 0x7f25995aaf90>"
            ]
          },
          "metadata": {},
          "execution_count": 12
        },
        {
          "output_type": "display_data",
          "data": {
            "image/png": "[encoded data removed]",
            "text/plain": [
              "<Figure size 432x288 with 1 Axes>"
            ]
          },
          "metadata": {
            "needs_background": "light"
          }
        }
      ]
    },
    {
      "cell_type": "code",
      "metadata": {
        "colab": {
          "base_uri": "https://localhost:8080/"
        },
        "id": "nndNdmz5DzF0",
        "outputId": "4287ed3c-5884-404b-aed0-b49d6a55a7d0"
      },
      "source": [
        "# convert the two lists into a list of pairwise tuples\n",
        "zip_generator = zip([1,2,3,4,5], [6,7,8,9,10])\n",
        "list(zip_generator)"
      ],
      "execution_count": null,
      "outputs": [
        {
          "output_type": "execute_result",
          "data": {
            "text/plain": [
              "[(1, 6), (2, 7), (3, 8), (4, 9), (5, 10)]"
            ]
          },
          "metadata": {},
          "execution_count": 13
        }
      ]
    },
    {
      "cell_type": "code",
      "metadata": {
        "colab": {
          "base_uri": "https://localhost:8080/",
          "height": 208
        },
        "id": "wiXOQ6UaETEt",
        "outputId": "be07db25-bd95-4e47-94e2-378aab355108"
      },
      "source": [
        "# The single star * unpacks a collection into positional arguments\n",
        "x,y = zip(*zip_generator)\n",
        "print(x)\n",
        "print(y)"
      ],
      "execution_count": null,
      "outputs": [
        {
          "output_type": "error",
          "ename": "ValueError",
          "evalue": "ignored",
          "traceback": [
            "\u001b[0;31m---------------------------------------------------------------------------\u001b[0m",
            "\u001b[0;31mValueError\u001b[0m                                Traceback (most recent call last)",
            "\u001b[0;32m<ipython-input-14-a1aa30a542ee>\u001b[0m in \u001b[0;36m<module>\u001b[0;34m()\u001b[0m\n\u001b[0;32m----> 1\u001b[0;31m \u001b[0mx\u001b[0m\u001b[0;34m,\u001b[0m\u001b[0my\u001b[0m \u001b[0;34m=\u001b[0m \u001b[0mzip\u001b[0m\u001b[0;34m(\u001b[0m\u001b[0;34m*\u001b[0m\u001b[0mzip_generator\u001b[0m\u001b[0;34m)\u001b[0m\u001b[0;34m\u001b[0m\u001b[0;34m\u001b[0m\u001b[0m\n\u001b[0m\u001b[1;32m      2\u001b[0m \u001b[0mprint\u001b[0m\u001b[0;34m(\u001b[0m\u001b[0mx\u001b[0m\u001b[0;34m)\u001b[0m\u001b[0;34m\u001b[0m\u001b[0;34m\u001b[0m\u001b[0m\n\u001b[1;32m      3\u001b[0m \u001b[0mprint\u001b[0m\u001b[0;34m(\u001b[0m\u001b[0my\u001b[0m\u001b[0;34m)\u001b[0m\u001b[0;34m\u001b[0m\u001b[0;34m\u001b[0m\u001b[0m\n",
            "\u001b[0;31mValueError\u001b[0m: not enough values to unpack (expected 2, got 0)"
          ]
        }
      ]
    },
    {
      "cell_type": "code",
      "metadata": {
        "colab": {
          "base_uri": "https://localhost:8080/",
          "height": 331
        },
        "id": "bVxAFGY0EasO",
        "outputId": "b3027fa7-5a1d-4d11-c233-f4317834833b"
      },
      "source": [
        "x = (1,2,3,4,5)\n",
        "y = (6,7,8,9,10)\n",
        "\n",
        "plt.figure()\n",
        "# plot a data series 'Tall students' in red using the first two elements of x and y\n",
        "plt.scatter(x[:2], y[:2], s=100, c='red', label='Tall students')\n",
        "# plot a second data series 'Short students' in blue using the last three elements of x and y \n",
        "plt.scatter(x[2:], y[2:], s=100, c='blue', label='Short students')\n",
        "# add a label to the x axis\n",
        "plt.xlabel('The number of times the child kicked a ball')\n",
        "# add a label to the y axis\n",
        "plt.ylabel('The grade of the student')\n",
        "# add a title\n",
        "plt.title('Relationship between ball kicking and grades')\n",
        "\n",
        "plt.legend()\n",
        "plt.legend(loc=4, frameon=False, title='Legend')\n",
        "\n",
        "# add the legend to loc=4 (the lower right hand corner), also gets rid of the frame and adds a title\n",
        "plt.legend(loc=4, frameon=False, title='Legend')\n",
        "\n",
        "# get children from current axes (the legend is the second to last item in this list)\n",
        "plt.gca().get_children()\n",
        "\n",
        "# get the legend from the current axes\n",
        "legend = plt.gca().get_children()[-2]\n",
        "\n",
        "# you can use get_children to navigate through the child artists\n",
        "legend.get_children()[0].get_children()[1].get_children()[0].get_children()"
      ],
      "execution_count": null,
      "outputs": [
        {
          "output_type": "execute_result",
          "data": {
            "text/plain": [
              "[<matplotlib.offsetbox.HPacker at 0x7f25992d7dd0>,\n",
              " <matplotlib.offsetbox.HPacker at 0x7f25992d7310>]"
            ]
          },
          "metadata": {},
          "execution_count": 24
        },
        {
          "output_type": "display_data",
          "data": {
            "image/png": "[encoded data removed]",
            "text/plain": [
              "<Figure size 432x288 with 1 Axes>"
            ]
          },
          "metadata": {
            "needs_background": "light"
          }
        }
      ]
    },
    {
      "cell_type": "code",
      "metadata": {
        "colab": {
          "base_uri": "https://localhost:8080/",
          "height": 395
        },
        "id": "gTm8zjUYIsL4",
        "outputId": "eb75c78b-2129-47c4-82fd-8b2ba9d1afd2"
      },
      "source": [
        "# import the artist class from matplotlib\n",
        "from matplotlib.artist import Artist\n",
        "\n",
        "def rec_gc(art, depth=0):\n",
        "    if isinstance(art, Artist):\n",
        "        # increase the depth for pretty printing\n",
        "        print(\"  \" * depth + str(art))\n",
        "        for child in art.get_children():\n",
        "            rec_gc(child, depth+2)\n",
        "\n",
        "# Call this function on the legend artist to see what the legend is made up of\n",
        "rec_gc(plt.legend())"
      ],
      "execution_count": null,
      "outputs": [
        {
          "output_type": "stream",
          "name": "stderr",
          "text": [
            "No handles with labels found to put in legend.\n"
          ]
        },
        {
          "output_type": "stream",
          "name": "stdout",
          "text": [
            "Legend\n",
            "    <matplotlib.offsetbox.VPacker object at 0x7f25992a6290>\n",
            "        <matplotlib.offsetbox.TextArea object at 0x7f25992a6910>\n",
            "            Text(0, 0, '')\n",
            "        <matplotlib.offsetbox.HPacker object at 0x7f25992a6150>\n",
            "    FancyBboxPatch((0, 0), width=1, height=1)\n"
          ]
        },
        {
          "output_type": "display_data",
          "data": {
            "image/png": "[encoded data removed]",
            "text/plain": [
              "<Figure size 432x288 with 1 Axes>"
            ]
          },
          "metadata": {
            "needs_background": "light"
          }
        }
      ]
    },
    {
      "cell_type": "markdown",
      "metadata": {
        "id": "YIWWM918allM"
      },
      "source": [
        "## 3. Line Plots\n",
        "\n"
      ]
    },
    {
      "cell_type": "code",
      "metadata": {
        "colab": {
          "base_uri": "https://localhost:8080/",
          "height": 313
        },
        "id": "hmKf7nSwJbcJ",
        "outputId": "4ad8af44-08a8-4ed3-cacd-0e88f9149968"
      },
      "source": [
        "import numpy as np\n",
        "\n",
        "linear_data = np.array([1,2,3,4,5,6,7,8])\n",
        "exponential_data = linear_data**2\n",
        "\n",
        "plt.figure()\n",
        "# plot the linear data and the exponential data\n",
        "plt.plot(linear_data, '-o', exponential_data, '-o')\n",
        "\n",
        "# plot another series with a dashed red line\n",
        "plt.plot([22,44,55], '--r')\n",
        "\n",
        "plt.xlabel('Some data')\n",
        "plt.ylabel('Some other data')\n",
        "plt.title('A title')\n",
        "# add a legend with legend entries (because we didn't have labels when we plotted the data series)\n",
        "plt.legend(['Baseline', 'Competition', 'Us'])\n",
        "\n",
        "# fill the area between the linear data and exponential data\n",
        "plt.gca().fill_between(range(len(linear_data)), \n",
        "                       linear_data, exponential_data, #lower bound, upper bound\n",
        "                       facecolor='blue', \n",
        "                       alpha=0.25)"
      ],
      "execution_count": null,
      "outputs": [
        {
          "output_type": "execute_result",
          "data": {
            "text/plain": [
              "<matplotlib.collections.PolyCollection at 0x7f2598e24050>"
            ]
          },
          "metadata": {},
          "execution_count": 30
        },
        {
          "output_type": "display_data",
          "data": {
            "image/png": "[encoded data removed]",
            "text/plain": [
              "<Figure size 432x288 with 1 Axes>"
            ]
          },
          "metadata": {
            "needs_background": "light"
          }
        }
      ]
    },
    {
      "cell_type": "code",
      "metadata": {
        "colab": {
          "base_uri": "https://localhost:8080/",
          "height": 301
        },
        "id": "_QGRYwaceTju",
        "outputId": "3ec6840a-78b8-42ec-bbc8-943848b884c9"
      },
      "source": [
        "# working with dates\n",
        "\n",
        "plt.figure()\n",
        "\n",
        "observation_dates = np.arange('2017-01-01', '2017-01-09', dtype='datetime64[D]')\n",
        "\n",
        "plt.plot(observation_dates, linear_data, '-o',  observation_dates, exponential_data, '-o')"
      ],
      "execution_count": null,
      "outputs": [
        {
          "output_type": "execute_result",
          "data": {
            "text/plain": [
              "[<matplotlib.lines.Line2D at 0x7f2598d76490>,\n",
              " <matplotlib.lines.Line2D at 0x7f2598da9a90>]"
            ]
          },
          "metadata": {},
          "execution_count": 31
        },
        {
          "output_type": "display_data",
          "data": {
            "image/png": "[encoded data removed]",
            "text/plain": [
              "<Figure size 432x288 with 1 Axes>"
            ]
          },
          "metadata": {
            "needs_background": "light"
          }
        }
      ]
    },
    {
      "cell_type": "code",
      "metadata": {
        "colab": {
          "base_uri": "https://localhost:8080/",
          "height": 301
        },
        "id": "_OzREvtxecOH",
        "outputId": "48149e32-3326-4a0d-9322-e4f5116419a6"
      },
      "source": [
        "import pandas as pd\n",
        "\n",
        "plt.figure()\n",
        "observation_dates = np.arange('2017-01-01', '2017-01-09', dtype='datetime64[D]')\n",
        "observation_dates = list(map(pd.to_datetime, observation_dates)) # trying to plot a map will result in an error\n",
        "plt.plot(observation_dates, linear_data, '-o',  observation_dates, exponential_data, '-o')"
      ],
      "execution_count": null,
      "outputs": [
        {
          "output_type": "execute_result",
          "data": {
            "text/plain": [
              "[<matplotlib.lines.Line2D at 0x7f2598cd62d0>,\n",
              " <matplotlib.lines.Line2D at 0x7f2598c3ef50>]"
            ]
          },
          "metadata": {},
          "execution_count": 33
        },
        {
          "output_type": "display_data",
          "data": {
            "image/png": "[encoded data removed]",
            "text/plain": [
              "<Figure size 432x288 with 1 Axes>"
            ]
          },
          "metadata": {
            "needs_background": "light"
          }
        }
      ]
    },
    {
      "cell_type": "code",
      "metadata": {
        "colab": {
          "base_uri": "https://localhost:8080/",
          "height": 319
        },
        "id": "ak7bhQoGjBtl",
        "outputId": "a759cbf6-ee3e-4c9b-f24d-40bf96463dd5"
      },
      "source": [
        "plt.figure()\n",
        "observation_dates = np.arange('2017-01-01', '2017-01-09', dtype='datetime64[D]')\n",
        "observation_dates = list(map(pd.to_datetime, observation_dates)) # trying to plot a map will result in an error\n",
        "plt.plot(observation_dates, linear_data, '-o',  observation_dates, exponential_data, '-o')\n",
        "\n",
        "x = plt.gca().xaxis\n",
        "\n",
        "# rotate the tick labels for the x axis\n",
        "for item in x.get_ticklabels():\n",
        "    item.set_rotation(45)\n",
        "\n",
        "# adjust the subplot so the text doesn't run off the image\n",
        "plt.subplots_adjust(bottom=0.25)\n",
        "\n",
        "ax = plt.gca()\n",
        "ax.set_xlabel('Date')\n",
        "ax.set_ylabel('Units')\n",
        "ax.set_title('Exponential vs. Linear performance')\n",
        "\n",
        "# you can add mathematical expressions in any text element\n",
        "ax.set_title(\"Exponential ($x^2$) vs. Linear ($x$) performance\")"
      ],
      "execution_count": null,
      "outputs": [
        {
          "output_type": "execute_result",
          "data": {
            "text/plain": [
              "Text(0.5, 1.0, 'Exponential ($x^2$) vs. Linear ($x$) performance')"
            ]
          },
          "metadata": {},
          "execution_count": 34
        },
        {
          "output_type": "display_data",
          "data": {
            "image/png": "[encoded data removed]",
            "text/plain": [
              "<Figure size 432x288 with 1 Axes>"
            ]
          },
          "metadata": {
            "needs_background": "light"
          }
        }
      ]
    },
    {
      "cell_type": "markdown",
      "metadata": {
        "id": "W9ByuGeqkPpT"
      },
      "source": [
        "## 4. Bar Charts"
      ]
    },
    {
      "cell_type": "code",
      "metadata": {
        "colab": {
          "base_uri": "https://localhost:8080/",
          "height": 283
        },
        "id": "K8o-YEoqj3Op",
        "outputId": "a1fd5f2c-49f8-4c02-b2da-94f5384d852f"
      },
      "source": [
        "plt.figure()\n",
        "xvals = range(len(linear_data))\n",
        "plt.bar(xvals, linear_data, width = 0.3)"
      ],
      "execution_count": null,
      "outputs": [
        {
          "output_type": "execute_result",
          "data": {
            "text/plain": [
              "<BarContainer object of 8 artists>"
            ]
          },
          "metadata": {},
          "execution_count": 35
        },
        {
          "output_type": "display_data",
          "data": {
            "image/png": "[encoded data removed]",
            "text/plain": [
              "<Figure size 432x288 with 1 Axes>"
            ]
          },
          "metadata": {
            "needs_background": "light"
          }
        }
      ]
    },
    {
      "cell_type": "code",
      "metadata": {
        "colab": {
          "base_uri": "https://localhost:8080/",
          "height": 283
        },
        "id": "kt6nmoGBk2Rb",
        "outputId": "0ab04691-5d97-42a3-bb47-5ad31d4677f8"
      },
      "source": [
        "plt.figure()\n",
        "xvals = range(len(linear_data))\n",
        "plt.bar(xvals, linear_data, width = 0.3)\n",
        "\n",
        "new_xvals = []\n",
        "\n",
        "# plot another set of bars, adjusting the new xvals to make up for the first set of bars plotted\n",
        "for item in xvals:\n",
        "    new_xvals.append(item+0.3)\n",
        "\n",
        "plt.bar(new_xvals, exponential_data, width = 0.3 ,color='red')"
      ],
      "execution_count": null,
      "outputs": [
        {
          "output_type": "execute_result",
          "data": {
            "text/plain": [
              "<BarContainer object of 8 artists>"
            ]
          },
          "metadata": {},
          "execution_count": 37
        },
        {
          "output_type": "display_data",
          "data": {
            "image/png": "[encoded data removed]",
            "text/plain": [
              "<Figure size 432x288 with 1 Axes>"
            ]
          },
          "metadata": {
            "needs_background": "light"
          }
        }
      ]
    },
    {
      "cell_type": "code",
      "metadata": {
        "colab": {
          "base_uri": "https://localhost:8080/",
          "height": 283
        },
        "id": "5NwZjZd-lCdb",
        "outputId": "7c99ad54-6177-4374-9793-6cf469b18f5a"
      },
      "source": [
        "from random import randint\n",
        "linear_err = [randint(0,15) for x in range(len(linear_data))] \n",
        "\n",
        "# This will plot a new set of bars with errorbars using the list of random error values\n",
        "plt.bar(xvals, linear_data, width = 0.3, yerr=linear_err)\n"
      ],
      "execution_count": null,
      "outputs": [
        {
          "output_type": "execute_result",
          "data": {
            "text/plain": [
              "<BarContainer object of 8 artists>"
            ]
          },
          "metadata": {},
          "execution_count": 38
        },
        {
          "output_type": "display_data",
          "data": {
            "image/png": "[encoded data removed]",
            "text/plain": [
              "<Figure size 432x288 with 1 Axes>"
            ]
          },
          "metadata": {
            "needs_background": "light"
          }
        }
      ]
    },
    {
      "cell_type": "code",
      "metadata": {
        "colab": {
          "base_uri": "https://localhost:8080/",
          "height": 283
        },
        "id": "dU99GSP8leaF",
        "outputId": "ae61c013-07f8-4d47-ebdd-c223b767e3cd"
      },
      "source": [
        "# stacked bar charts are also possible\n",
        "plt.figure()\n",
        "xvals = range(len(linear_data))\n",
        "plt.bar(xvals, linear_data, width = 0.3, color='b')\n",
        "plt.bar(xvals, exponential_data, width = 0.3, bottom=linear_data, color='r')"
      ],
      "execution_count": null,
      "outputs": [
        {
          "output_type": "execute_result",
          "data": {
            "text/plain": [
              "<BarContainer object of 8 artists>"
            ]
          },
          "metadata": {},
          "execution_count": 39
        },
        {
          "output_type": "display_data",
          "data": {
            "image/png": "[encoded data removed]",
            "text/plain": [
              "<Figure size 432x288 with 1 Axes>"
            ]
          },
          "metadata": {
            "needs_background": "light"
          }
        }
      ]
    },
    {
      "cell_type": "code",
      "metadata": {
        "colab": {
          "base_uri": "https://localhost:8080/",
          "height": 283
        },
        "id": "FJlMbuPylmWO",
        "outputId": "61a8a630-b875-4f7d-d9da-795e52bc89c4"
      },
      "source": [
        "# or use barh for horizontal bar charts\n",
        "plt.figure()\n",
        "xvals = range(len(linear_data))\n",
        "plt.barh(xvals, linear_data, height = 0.3, color='b')\n",
        "plt.barh(xvals, exponential_data, height = 0.3, left=linear_data, color='r')"
      ],
      "execution_count": null,
      "outputs": [
        {
          "output_type": "execute_result",
          "data": {
            "text/plain": [
              "<BarContainer object of 8 artists>"
            ]
          },
          "metadata": {},
          "execution_count": 40
        },
        {
          "output_type": "display_data",
          "data": {
            "image/png": "[encoded data removed]",
            "text/plain": [
              "<Figure size 432x288 with 1 Axes>"
            ]
          },
          "metadata": {
            "needs_background": "light"
          }
        }
      ]
    },
    {
      "cell_type": "code",
      "metadata": {
        "colab": {
          "base_uri": "https://localhost:8080/",
          "height": 296
        },
        "id": "bEUOe1MLlpQ-",
        "outputId": "0aa630a0-0506-45a9-d806-f37d3323d39c"
      },
      "source": [
        "import matplotlib.pyplot as plt\n",
        "import numpy as np\n",
        "\n",
        "plt.figure()\n",
        "\n",
        "languages =['Python', 'SQL', 'Java', 'C++', 'JavaScript']\n",
        "pos = np.arange(len(languages))\n",
        "popularity = [56, 39, 34, 34, 29]\n",
        "\n",
        "plt.bar(pos, popularity, align='center')\n",
        "plt.xticks(pos, languages)\n",
        "plt.ylabel('% Popularity')\n",
        "plt.title('Top 5 Languages for Math & Data \\nby % popularity on Stack Overflow', alpha=0.8)\n",
        "\n",
        "#TODO: remove all the ticks (both axes), and tick labels on the Y axis\n",
        "# plt.tick_params(top='off', bottom='off', left='off', right='off', labelleft='off', labelbottom='on')\n",
        "\n",
        "plt.show()"
      ],
      "execution_count": null,
      "outputs": [
        {
          "output_type": "display_data",
          "data": {
            "image/png": "[encoded data removed]",
            "text/plain": [
              "<Figure size 432x288 with 1 Axes>"
            ]
          },
          "metadata": {
            "needs_background": "light"
          }
        }
      ]
    },
    {
      "cell_type": "code",
      "metadata": {
        "colab": {
          "base_uri": "https://localhost:8080/",
          "height": 296
        },
        "id": "Lx3nt0Q_nHeQ",
        "outputId": "7c2c107b-bd06-4039-8e8a-2e6de819fb6b"
      },
      "source": [
        "import matplotlib.pyplot as plt\n",
        "import numpy as np\n",
        "\n",
        "plt.figure()\n",
        "\n",
        "languages =['Python', 'SQL', 'Java', 'C++', 'JavaScript']\n",
        "pos = np.arange(len(languages))\n",
        "popularity = [56, 39, 34, 34, 29]\n",
        "\n",
        "plt.bar(pos, popularity, align='center')\n",
        "plt.xticks(pos, languages)\n",
        "plt.ylabel('% Popularity')\n",
        "plt.title('Top 5 Languages for Math & Data \\nby % popularity on Stack Overflow', alpha=0.8)\n",
        "\n",
        "# remove all the ticks (both axes), and tick labels on the Y axis\n",
        "plt.tick_params(top='off', bottom='off', left='off', right='off', labelleft='off', labelbottom='on')\n",
        "\n",
        "# TODO: remove the frame of the chart\n",
        "for spine in plt.gca().spines.values():\n",
        "    spine.set_visible(False)\n",
        "plt.show()"
      ],
      "execution_count": null,
      "outputs": [
        {
          "output_type": "display_data",
          "data": {
            "image/png": "[encoded data removed]",
            "text/plain": [
              "<Figure size 432x288 with 1 Axes>"
            ]
          },
          "metadata": {
            "needs_background": "light"
          }
        }
      ]
    },
    {
      "cell_type": "code",
      "metadata": {
        "colab": {
          "base_uri": "https://localhost:8080/",
          "height": 296
        },
        "id": "VISllH2itGJK",
        "outputId": "2597e408-c0b7-49ec-8e6e-f1cb6a6f21bc"
      },
      "source": [
        "import matplotlib.pyplot as plt\n",
        "import numpy as np\n",
        "\n",
        "plt.figure()\n",
        "\n",
        "languages =['Python', 'SQL', 'Java', 'C++', 'JavaScript']\n",
        "pos = np.arange(len(languages))\n",
        "popularity = [56, 39, 34, 34, 29]\n",
        "\n",
        "# change the bar colors to be less bright blue\n",
        "bars = plt.bar(pos, popularity, align='center', linewidth=0, color='lightslategrey')\n",
        "# make one bar, the python bar, a contrasting color\n",
        "bars[0].set_color('#1F77B4')\n",
        "\n",
        "# soften all labels by turning grey\n",
        "plt.xticks(pos, languages, alpha=0.8)\n",
        "plt.ylabel('% Popularity', alpha=0.8)\n",
        "plt.title('Top 5 Languages for Math & Data \\nby % popularity on Stack Overflow', alpha=0.8)\n",
        "\n",
        "# remove all the ticks (both axes), and tick labels on the Y axis\n",
        "plt.tick_params(top='off', bottom='off', left='off', right='off', labelleft='off', labelbottom='on')\n",
        "\n",
        "# remove the frame of the chart\n",
        "for spine in plt.gca().spines.values():\n",
        "    spine.set_visible(False)\n",
        "plt.show()"
      ],
      "execution_count": null,
      "outputs": [
        {
          "output_type": "display_data",
          "data": {
            "image/png": "[encoded data removed]",
            "text/plain": [
              "<Figure size 432x288 with 1 Axes>"
            ]
          },
          "metadata": {
            "needs_background": "light"
          }
        }
      ]
    },
    {
      "cell_type": "code",
      "metadata": {
        "colab": {
          "base_uri": "https://localhost:8080/",
          "height": 296
        },
        "id": "NsjrvNJMtsQ4",
        "outputId": "a29d92e4-2720-4248-829c-3f55039ab3ce"
      },
      "source": [
        "import matplotlib.pyplot as plt\n",
        "import numpy as np\n",
        "\n",
        "plt.figure()\n",
        "\n",
        "languages =['Python', 'SQL', 'Java', 'C++', 'JavaScript']\n",
        "pos = np.arange(len(languages))\n",
        "popularity = [56, 39, 34, 34, 29]\n",
        "\n",
        "# change the bar colors to be less bright blue\n",
        "bars = plt.bar(pos, popularity, align='center', linewidth=0, color='lightslategrey')\n",
        "# make one bar, the python bar, a contrasting color\n",
        "bars[0].set_color('#1F77B4')\n",
        "\n",
        "# soften all labels by turning grey\n",
        "plt.xticks(pos, languages, alpha=0.8)\n",
        "\n",
        "# TODO: remove the Y label since bars are directly labeled\n",
        "# plt.ylabel('% Popularity', alpha=0.8)\n",
        "plt.title('Top 5 Languages for Math & Data \\nby % popularity on Stack Overflow', alpha=0.8)\n",
        "\n",
        "# remove all the ticks (both axes), and tick labels on the Y axis\n",
        "plt.tick_params(top='off', bottom='off', left='off', right='off', labelleft='off', labelbottom='on')\n",
        "\n",
        "# remove the frame of the chart\n",
        "for spine in plt.gca().spines.values():\n",
        "    spine.set_visible(False)\n",
        "    \n",
        "# TODO: direct label each bar with Y axis values\n",
        "for bar in bars:\n",
        "    plt.gca().text(bar.get_x() + bar.get_width()/2, bar.get_height() - 5, str(int(bar.get_height())) + '%', \n",
        "                 ha='center', color='w', fontsize=11)\n",
        "\n",
        "plt.show()"
      ],
      "execution_count": null,
      "outputs": [
        {
          "output_type": "display_data",
          "data": {
            "image/png": "[encoded data removed]",
            "text/plain": [
              "<Figure size 432x288 with 1 Axes>"
            ]
          },
          "metadata": {
            "needs_background": "light"
          }
        }
      ]
    },
    {
      "cell_type": "code",
      "metadata": {
        "id": "K42T5BW1vBHv"
      },
      "source": [
        ""
      ],
      "execution_count": null,
      "outputs": []
    }
  ]
}