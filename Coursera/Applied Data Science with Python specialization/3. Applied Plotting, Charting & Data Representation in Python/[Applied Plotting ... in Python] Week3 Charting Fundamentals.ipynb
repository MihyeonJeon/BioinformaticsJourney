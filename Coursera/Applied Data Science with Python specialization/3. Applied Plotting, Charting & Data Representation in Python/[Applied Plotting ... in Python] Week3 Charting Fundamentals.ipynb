{
  "nbformat": 4,
  "nbformat_minor": 0,
  "metadata": {
    "colab": {
      "name": "[Applied Plotting .. in Python] Week3_Charting Fundamentals.ipynb",
      "provenance": []
    },
    "kernelspec": {
      "name": "python3",
      "display_name": "Python 3"
    },
    "language_info": {
      "name": "python"
    }
  },
  "cells": [
    {
      "cell_type": "markdown",
      "metadata": {
        "id": "nbUvpw5HQeoj"
      },
      "source": [
        "## 1. Subplots"
      ]
    },
    {
      "cell_type": "code",
      "metadata": {
        "id": "76_DFtD-Hr8S"
      },
      "source": [
        "%matplotlib notebook\n",
        "\n",
        "import matplotlib.pyplot as plt\n",
        "import numpy as np\n",
        "\n",
        "plt.subplot?"
      ],
      "execution_count": null,
      "outputs": []
    },
    {
      "cell_type": "code",
      "metadata": {
        "colab": {
          "base_uri": "https://localhost:8080/",
          "height": 339
        },
        "id": "5InJQOsfSLDb",
        "outputId": "51ed2b1f-3c1d-473b-d525-3abeeeff37c0"
      },
      "source": [
        "plt.figure()\n",
        "\n",
        "# subplot with 1 row, 2 columns, and current axis is 1st subplot axes\n",
        "plt.subplot(1, 2, 1)\n",
        "\n",
        "linear_data = np.array([1,2,3,4,5,6,7,8])\n",
        "plt.plot(linear_data, '-o')\n",
        "\n",
        "exponential_data = linear_data**2\n",
        "\n",
        "# subplot with 1 row, 2 columns, and current axis is 2nd subplot axes\n",
        "plt.subplot(1,2,2)\n",
        "plt.plot(exponential_data,'-o')\n",
        "\n",
        "# plot exponential data on 1st subplot axes\n",
        "plt.subplot(1, 2, 1)\n",
        "plt.plot(exponential_data, '-x')"
      ],
      "execution_count": null,
      "outputs": [
        {
          "output_type": "stream",
          "name": "stderr",
          "text": [
            "/usr/local/lib/python3.7/dist-packages/ipykernel_launcher.py:16: MatplotlibDeprecationWarning: Adding an axes using the same arguments as a previous axes currently reuses the earlier instance.  In a future version, a new instance will always be created and returned.  Meanwhile, this warning can be suppressed, and the future behavior ensured, by passing a unique label to each axes instance.\n",
            "  app.launch_new_instance()\n"
          ]
        },
        {
          "output_type": "execute_result",
          "data": {
            "text/plain": [
              "[<matplotlib.lines.Line2D at 0x7f0438ef0890>]"
            ]
          },
          "metadata": {},
          "execution_count": 7
        },
        {
          "output_type": "display_data",
          "data": {
            "image/png": "[encoded data removed]",
            "text/plain": [
              "<Figure size 432x288 with 2 Axes>"
            ]
          },
          "metadata": {
            "needs_background": "light"
          }
        }
      ]
    },
    {
      "cell_type": "markdown",
      "metadata": {
        "id": "jhG7X39DTPTL"
      },
      "source": [
        "* The norm with matplotlib is that you store the axis object that you get back from the subplot.\n",
        "* There would be a big problem with misleading the reader if we didn't lock axis between two plots."
      ]
    },
    {
      "cell_type": "code",
      "metadata": {
        "colab": {
          "base_uri": "https://localhost:8080/",
          "height": 283
        },
        "id": "Oc2ETP50SxE0",
        "outputId": "10785945-f382-400a-e898-f8c0fe97d647"
      },
      "source": [
        "plt.figure()\n",
        "ax1 = plt.subplot(1, 2, 1)\n",
        "plt.plot(linear_data, '-o')\n",
        "# pass sharey=ax1 to ensure the two subplots share the same y axis\n",
        "ax2 = plt.subplot(1, 2, 2, sharey=ax1)\n",
        "plt.plot(exponential_data, '-x')"
      ],
      "execution_count": null,
      "outputs": [
        {
          "output_type": "execute_result",
          "data": {
            "text/plain": [
              "[<matplotlib.lines.Line2D at 0x7f0438e3b450>]"
            ]
          },
          "metadata": {},
          "execution_count": 8
        },
        {
          "output_type": "display_data",
          "data": {
            "image/png": "[encoded data removed]",
            "text/plain": [
              "<Figure size 432x288 with 2 Axes>"
            ]
          },
          "metadata": {
            "needs_background": "light"
          }
        }
      ]
    },
    {
      "cell_type": "code",
      "metadata": {
        "colab": {
          "base_uri": "https://localhost:8080/",
          "height": 343
        },
        "id": "uT7SuPWuS_Yx",
        "outputId": "8f4bd85b-9c5c-47a7-da7d-a46f6e9741f9"
      },
      "source": [
        "plt.figure()\n",
        "# the right hand side is equivalent shorthand syntax\n",
        "plt.subplot(1,2,1) == plt.subplot(121)"
      ],
      "execution_count": null,
      "outputs": [
        {
          "output_type": "stream",
          "name": "stderr",
          "text": [
            "/usr/local/lib/python3.7/dist-packages/ipykernel_launcher.py:3: MatplotlibDeprecationWarning: Adding an axes using the same arguments as a previous axes currently reuses the earlier instance.  In a future version, a new instance will always be created and returned.  Meanwhile, this warning can be suppressed, and the future behavior ensured, by passing a unique label to each axes instance.\n",
            "  This is separate from the ipykernel package so we can avoid doing imports until\n"
          ]
        },
        {
          "output_type": "execute_result",
          "data": {
            "text/plain": [
              "True"
            ]
          },
          "metadata": {},
          "execution_count": 9
        },
        {
          "output_type": "display_data",
          "data": {
            "image/png": "[encoded data removed]",
            "text/plain": [
              "<Figure size 432x288 with 1 Axes>"
            ]
          },
          "metadata": {
            "needs_background": "light"
          }
        }
      ]
    },
    {
      "cell_type": "code",
      "metadata": {
        "colab": {
          "base_uri": "https://localhost:8080/",
          "height": 265
        },
        "id": "crJnCM2nVTW6",
        "outputId": "42c7fbdf-08f2-4f4e-9a71-ef1e37274e24"
      },
      "source": [
        "#create a 3x3 grid of subplots\n",
        "fig, ((ax1,ax2,ax3), (ax4,ax5,ax6), (ax7,ax8,ax9)) = plt.subplots(3, 3, sharex=True, sharey=True)\n",
        "# plot the linear_data on the 5th subplot axes \n",
        "ax5.plot(linear_data, '-')\n",
        "\n",
        "# set inside tick labels to visible\n",
        "for ax in plt.gcf().get_axes():\n",
        "    for label in ax.get_xticklabels() + ax.get_yticklabels():\n",
        "        label.set_visible(True)\n",
        "\n",
        "# necessary on some systems to update the plot\n",
        "plt.gcf().canvas.draw()"
      ],
      "execution_count": null,
      "outputs": [
        {
          "output_type": "display_data",
          "data": {
            "image/png": "[encoded data removed]",
            "text/plain": [
              "<Figure size 432x288 with 9 Axes>"
            ]
          },
          "metadata": {
            "needs_background": "light"
          }
        }
      ]
    },
    {
      "cell_type": "markdown",
      "metadata": {
        "id": "jsHo0UNBWhnY"
      },
      "source": [
        "## 2. Histograms\n",
        "\n",
        "* a bar chart which shows the frequency of a given phenomena.\n",
        "* ex : probability distributions\n"
      ]
    },
    {
      "cell_type": "code",
      "metadata": {
        "colab": {
          "base_uri": "https://localhost:8080/",
          "height": 281
        },
        "id": "6WYi9QpNWB94",
        "outputId": "0a7bc440-f2a8-45a5-c74d-2d76ea22b8d4"
      },
      "source": [
        "# create 2x2 grid of axis subplots\n",
        "fig, ((ax1, ax2), (ax3, ax4)) = plt.subplots(2, 2, sharex=True)\n",
        "axs = [ax1,ax2,ax3,ax4]\n",
        "\n",
        "# draw n = 10, 100, 1000, and 10000 samples from the normal distribution and plot corresponding histograms\n",
        "for n in range(0,len(axs)):\n",
        "    sample_size = 10**(n+1)\n",
        "    sample = np.random.normal(loc=0.0, scale=1.0, size=sample_size)\n",
        "    axs[n].hist(sample)\n",
        "    axs[n].set_title('n={}'.format(sample_size))\n",
        "\n",
        "# The default bin is 10."
      ],
      "execution_count": null,
      "outputs": [
        {
          "output_type": "display_data",
          "data": {
            "image/png": "[encoded data removed]",
            "text/plain": [
              "<Figure size 432x288 with 4 Axes>"
            ]
          },
          "metadata": {
            "needs_background": "light"
          }
        }
      ]
    },
    {
      "cell_type": "code",
      "metadata": {
        "colab": {
          "base_uri": "https://localhost:8080/",
          "height": 281
        },
        "id": "nlVJbijfWG3_",
        "outputId": "8f1bad9d-e8a8-49e2-f1c7-d36e56491ed4"
      },
      "source": [
        "# repeat with number of bins set to 100\n",
        "fig, ((ax1, ax2), (ax3, ax4)) = plt.subplots(2, 2, sharex=True)\n",
        "axs = [ax1,ax2,ax3,ax4]\n",
        "\n",
        "for n in range(0,len(axs)):\n",
        "    sample_size = 10**(n+1)\n",
        "    sample = np.random.normal(loc=0.0, scale=1.0, size=sample_size)\n",
        "    axs[n].hist(sample, bins=100)\n",
        "    axs[n].set_title('n={}'.format(sample_size))"
      ],
      "execution_count": null,
      "outputs": [
        {
          "output_type": "display_data",
          "data": {
            "image/png": "[encoded data removed]",
            "text/plain": [
              "<Figure size 432x288 with 4 Axes>"
            ]
          },
          "metadata": {
            "needs_background": "light"
          }
        }
      ]
    },
    {
      "cell_type": "markdown",
      "metadata": {
        "id": "8CWZrw87aDAI"
      },
      "source": [
        "* So how many bins should we plot? : The answer is not really clear.\n",
        "* Both plots are true but plotting with 10,000 bins became useless for decision making."
      ]
    },
    {
      "cell_type": "code",
      "metadata": {
        "colab": {
          "base_uri": "https://localhost:8080/",
          "height": 284
        },
        "id": "E1jm0hBaZYCs",
        "outputId": "3a45cec0-e5a4-4fd4-9bdd-c7fff1131f4b"
      },
      "source": [
        "plt.figure()\n",
        "Y = np.random.normal(loc=0.0, scale=1.0, size=10000)\n",
        "X = np.random.random(size=10000)\n",
        "plt.scatter(X,Y)"
      ],
      "execution_count": null,
      "outputs": [
        {
          "output_type": "execute_result",
          "data": {
            "text/plain": [
              "<matplotlib.collections.PathCollection at 0x7f04381c8850>"
            ]
          },
          "metadata": {},
          "execution_count": 17
        },
        {
          "output_type": "display_data",
          "data": {
            "image/png": "[encoded data removed]",
            "text/plain": [
              "<Figure size 432x288 with 1 Axes>"
            ]
          },
          "metadata": {
            "needs_background": "light"
          }
        }
      ]
    },
    {
      "cell_type": "code",
      "metadata": {
        "colab": {
          "base_uri": "https://localhost:8080/",
          "height": 265
        },
        "id": "zolmjJBqZwvN",
        "outputId": "ef881c74-0489-4833-fde7-b68437e62f75"
      },
      "source": [
        "# use gridspec to partition the figure into subplots\n",
        "import matplotlib.gridspec as gridspec\n",
        "\n",
        "plt.figure()\n",
        "gspec = gridspec.GridSpec(3, 3)\n",
        "\n",
        "top_histogram = plt.subplot(gspec[0, 1:])\n",
        "side_histogram = plt.subplot(gspec[1:, 0])\n",
        "lower_right = plt.subplot(gspec[1:, 1:])\n",
        "\n",
        "Y = np.random.normal(loc=0.0, scale=1.0, size=10000)\n",
        "X = np.random.random(size=10000)\n",
        "lower_right.scatter(X, Y)\n",
        "top_histogram.hist(X, bins=100)\n",
        "s = side_histogram.hist(Y, bins=100, orientation='horizontal')"
      ],
      "execution_count": null,
      "outputs": [
        {
          "output_type": "display_data",
          "data": {
            "image/png": "[encoded data removed]",
            "text/plain": [
              "<Figure size 432x288 with 3 Axes>"
            ]
          },
          "metadata": {
            "needs_background": "light"
          }
        }
      ]
    },
    {
      "cell_type": "code",
      "metadata": {
        "colab": {
          "base_uri": "https://localhost:8080/",
          "height": 265
        },
        "id": "LnCPQN9ea6fu",
        "outputId": "3864947e-97cd-497f-8e9d-484f4c6acc31"
      },
      "source": [
        "# use gridspec to partition the figure into subplots\n",
        "import matplotlib.gridspec as gridspec\n",
        "\n",
        "plt.figure()\n",
        "gspec = gridspec.GridSpec(3, 3)\n",
        "\n",
        "top_histogram = plt.subplot(gspec[0, 1:])\n",
        "side_histogram = plt.subplot(gspec[1:, 0])\n",
        "lower_right = plt.subplot(gspec[1:, 1:])\n",
        "\n",
        "Y = np.random.normal(loc=0.0, scale=1.0, size=10000)\n",
        "X = np.random.random(size=10000)\n",
        "lower_right.scatter(X, Y)\n",
        "top_histogram.hist(X, bins=100)\n",
        "s = side_histogram.hist(Y, bins=100, orientation='horizontal')\n",
        "\n",
        "\n",
        "# clear the histograms and plot normed histograms\n",
        "top_histogram.clear()\n",
        "top_histogram.hist(X, bins=100, density=True, stacked=True)\n",
        "side_histogram.clear()\n",
        "side_histogram.hist(Y, bins=100, orientation='horizontal',  density=True, stacked=True)\n",
        "# flip the side histogram's x axis\n",
        "side_histogram.invert_xaxis()\n",
        "\n",
        "# change axes limits\n",
        "for ax in [top_histogram, lower_right]:\n",
        "    ax.set_xlim(0, 1)\n",
        "for ax in [side_histogram, lower_right]:\n",
        "    ax.set_ylim(-5, 5)"
      ],
      "execution_count": null,
      "outputs": [
        {
          "output_type": "display_data",
          "data": {
            "image/png": "[encoded data removed]",
            "text/plain": [
              "<Figure size 432x288 with 3 Axes>"
            ]
          },
          "metadata": {
            "needs_background": "light"
          }
        }
      ]
    },
    {
      "cell_type": "markdown",
      "metadata": {
        "id": "L0Hx8pklgatU"
      },
      "source": [
        "[Selecting the Number of Bins in a Histogram : A Decision Theoretic Approach](http://users.stat.umn.edu/~gmeeden/papers/hist.pdf)"
      ]
    },
    {
      "cell_type": "markdown",
      "metadata": {
        "id": "95_2-_oVgrkC"
      },
      "source": [
        "## 3. Box Plots (Box-and-whisker plot)\n",
        "\n"
      ]
    },
    {
      "cell_type": "code",
      "metadata": {
        "id": "lj14m6mlcy_g"
      },
      "source": [
        "import pandas as pd\n",
        "normal_sample = np.random.normal(loc=0.0, scale=1.0, size = 10000)\n",
        "random_sample = np.random.random(size = 10000)\n",
        "gamma_sample = np.random.gamma(2, size = 10000)\n",
        "\n",
        "df = pd.DataFrame({'normal': normal_sample,\n",
        "                  'random': random_sample,\n",
        "                  'gamma': gamma_sample})"
      ],
      "execution_count": null,
      "outputs": []
    },
    {
      "cell_type": "code",
      "metadata": {
        "colab": {
          "base_uri": "https://localhost:8080/",
          "height": 297
        },
        "id": "Cpery7dHhRUY",
        "outputId": "e66fdf01-d699-4706-d39f-caf63f6f09a9"
      },
      "source": [
        "df.describe()"
      ],
      "execution_count": null,
      "outputs": [
        {
          "output_type": "execute_result",
          "data": {
            "text/html": [
              "<div>\n",
              "<style scoped>\n",
              "    .dataframe tbody tr th:only-of-type {\n",
              "        vertical-align: middle;\n",
              "    }\n",
              "\n",
              "    .dataframe tbody tr th {\n",
              "        vertical-align: top;\n",
              "    }\n",
              "\n",
              "    .dataframe thead th {\n",
              "        text-align: right;\n",
              "    }\n",
              "</style>\n",
              "<table border=\"1\" class=\"dataframe\">\n",
              "  <thead>\n",
              "    <tr style=\"text-align: right;\">\n",
              "      <th></th>\n",
              "      <th>normal</th>\n",
              "      <th>random</th>\n",
              "      <th>gamma</th>\n",
              "    </tr>\n",
              "  </thead>\n",
              "  <tbody>\n",
              "    <tr>\n",
              "      <th>count</th>\n",
              "      <td>10000.000000</td>\n",
              "      <td>10000.000000</td>\n",
              "      <td>10000.000000</td>\n",
              "    </tr>\n",
              "    <tr>\n",
              "      <th>mean</th>\n",
              "      <td>0.007733</td>\n",
              "      <td>0.499530</td>\n",
              "      <td>1.982637</td>\n",
              "    </tr>\n",
              "    <tr>\n",
              "      <th>std</th>\n",
              "      <td>0.992663</td>\n",
              "      <td>0.287058</td>\n",
              "      <td>1.400810</td>\n",
              "    </tr>\n",
              "    <tr>\n",
              "      <th>min</th>\n",
              "      <td>-3.799074</td>\n",
              "      <td>0.000159</td>\n",
              "      <td>0.011055</td>\n",
              "    </tr>\n",
              "    <tr>\n",
              "      <th>25%</th>\n",
              "      <td>-0.654023</td>\n",
              "      <td>0.250214</td>\n",
              "      <td>0.956321</td>\n",
              "    </tr>\n",
              "    <tr>\n",
              "      <th>50%</th>\n",
              "      <td>0.013283</td>\n",
              "      <td>0.502979</td>\n",
              "      <td>1.659169</td>\n",
              "    </tr>\n",
              "    <tr>\n",
              "      <th>75%</th>\n",
              "      <td>0.677431</td>\n",
              "      <td>0.741329</td>\n",
              "      <td>2.674684</td>\n",
              "    </tr>\n",
              "    <tr>\n",
              "      <th>max</th>\n",
              "      <td>3.891082</td>\n",
              "      <td>0.999936</td>\n",
              "      <td>10.878380</td>\n",
              "    </tr>\n",
              "  </tbody>\n",
              "</table>\n",
              "</div>"
            ],
            "text/plain": [
              "             normal        random         gamma\n",
              "count  10000.000000  10000.000000  10000.000000\n",
              "mean       0.007733      0.499530      1.982637\n",
              "std        0.992663      0.287058      1.400810\n",
              "min       -3.799074      0.000159      0.011055\n",
              "25%       -0.654023      0.250214      0.956321\n",
              "50%        0.013283      0.502979      1.659169\n",
              "75%        0.677431      0.741329      2.674684\n",
              "max        3.891082      0.999936     10.878380"
            ]
          },
          "metadata": {},
          "execution_count": 30
        }
      ]
    },
    {
      "cell_type": "code",
      "metadata": {
        "colab": {
          "base_uri": "https://localhost:8080/",
          "height": 321
        },
        "id": "ldO7Qd7YhWyM",
        "outputId": "16803de4-45ba-455f-b32d-9ec315a4f110"
      },
      "source": [
        "plt.figure()\n",
        "# create a boxplot of the normal data, assign the output to a variable to supress output\n",
        "_ = plt.boxplot(df['normal'], whis = 'range')"
      ],
      "execution_count": null,
      "outputs": [
        {
          "output_type": "stream",
          "name": "stderr",
          "text": [
            "/usr/local/lib/python3.7/dist-packages/ipykernel_launcher.py:3: MatplotlibDeprecationWarning: Setting whis to 'range' is deprecated since 3.2 and support for it will be removed two minor releases later; set it to [0, 100] to achieve the same effect.\n",
            "  This is separate from the ipykernel package so we can avoid doing imports until\n"
          ]
        },
        {
          "output_type": "display_data",
          "data": {
            "image/png": "[encoded data removed]",
            "text/plain": [
              "<Figure size 432x288 with 1 Axes>"
            ]
          },
          "metadata": {
            "needs_background": "light"
          }
        }
      ]
    },
    {
      "cell_type": "code",
      "metadata": {
        "colab": {
          "base_uri": "https://localhost:8080/",
          "height": 321
        },
        "id": "XCSj97sJiHM-",
        "outputId": "46d7cd86-e827-4c9e-f02b-21b5ea05fd12"
      },
      "source": [
        "# clear the current figure\n",
        "plt.clf()\n",
        "# plot boxplots for all three of df's columns\n",
        "_ = plt.boxplot([ df['normal'], df['random'], df['gamma'] ], whis='range')"
      ],
      "execution_count": null,
      "outputs": [
        {
          "output_type": "stream",
          "name": "stderr",
          "text": [
            "/usr/local/lib/python3.7/dist-packages/ipykernel_launcher.py:4: MatplotlibDeprecationWarning: Setting whis to 'range' is deprecated since 3.2 and support for it will be removed two minor releases later; set it to [0, 100] to achieve the same effect.\n",
            "  after removing the cwd from sys.path.\n"
          ]
        },
        {
          "output_type": "display_data",
          "data": {
            "image/png": "[encoded data removed]",
            "text/plain": [
              "<Figure size 432x288 with 1 Axes>"
            ]
          },
          "metadata": {
            "needs_background": "light"
          }
        }
      ]
    },
    {
      "cell_type": "code",
      "metadata": {
        "colab": {
          "base_uri": "https://localhost:8080/",
          "height": 265
        },
        "id": "uxnm2DZlyZIT",
        "outputId": "38a930f6-5780-4a7c-d63f-c8d6e710a225"
      },
      "source": [
        "plt.figure()\n",
        "_ = plt.hist(df['gamma'], bins=100)"
      ],
      "execution_count": null,
      "outputs": [
        {
          "output_type": "display_data",
          "data": {
            "image/png": "[encoded data removed]",
            "text/plain": [
              "<Figure size 432x288 with 1 Axes>"
            ]
          },
          "metadata": {
            "needs_background": "light"
          }
        }
      ]
    },
    {
      "cell_type": "code",
      "metadata": {
        "colab": {
          "base_uri": "https://localhost:8080/",
          "height": 321
        },
        "id": "8U3uS8jpyeOQ",
        "outputId": "c450c99c-a0e5-480b-af81-768364f7c8a2"
      },
      "source": [
        "import mpl_toolkits.axes_grid1.inset_locator as mpl_il\n",
        "\n",
        "plt.figure()\n",
        "plt.boxplot([ df['normal'], df['random'], df['gamma'] ], whis='range')\n",
        "# overlay axis on top of another \n",
        "ax2 = mpl_il.inset_axes(plt.gca(), width='60%', height='40%', loc=2)\n",
        "ax2.hist(df['gamma'], bins=100)\n",
        "ax2.margins(x=0.5)\n",
        "\n",
        "# switch the y axis ticks for ax2 to the right side\n",
        "ax2.yaxis.tick_right()"
      ],
      "execution_count": null,
      "outputs": [
        {
          "output_type": "stream",
          "name": "stderr",
          "text": [
            "/usr/local/lib/python3.7/dist-packages/ipykernel_launcher.py:4: MatplotlibDeprecationWarning: Setting whis to 'range' is deprecated since 3.2 and support for it will be removed two minor releases later; set it to [0, 100] to achieve the same effect.\n",
            "  after removing the cwd from sys.path.\n"
          ]
        },
        {
          "output_type": "display_data",
          "data": {
            "image/png": "[encoded data removed]",
            "text/plain": [
              "<Figure size 432x288 with 2 Axes>"
            ]
          },
          "metadata": {
            "needs_background": "light"
          }
        }
      ]
    },
    {
      "cell_type": "code",
      "metadata": {
        "colab": {
          "base_uri": "https://localhost:8080/",
          "height": 265
        },
        "id": "z726Ax0Z1xRb",
        "outputId": "731f02b1-7f64-47a4-c16d-eae762afba48"
      },
      "source": [
        "# if `whis` argument isn't passed, boxplot defaults to showing 1.5*interquartile (IQR) whiskers with outliers\n",
        "plt.figure()\n",
        "_ = plt.boxplot([ df['normal'], df['random'], df['gamma'] ] )"
      ],
      "execution_count": null,
      "outputs": [
        {
          "output_type": "display_data",
          "data": {
            "image/png": "[encoded data removed]",
            "text/plain": [
              "<Figure size 432x288 with 1 Axes>"
            ]
          },
          "metadata": {
            "needs_background": "light"
          }
        }
      ]
    },
    {
      "cell_type": "markdown",
      "metadata": {
        "id": "KNErLUjM2qfw"
      },
      "source": [
        "##  4. Heatmaps\n",
        "\n"
      ]
    },
    {
      "cell_type": "code",
      "metadata": {
        "colab": {
          "base_uri": "https://localhost:8080/",
          "height": 265
        },
        "id": "xfQ5J8TB2Z1b",
        "outputId": "149e4bf1-b5a6-48a0-c992-f6fe33504f72"
      },
      "source": [
        "plt.figure()\n",
        "\n",
        "Y = np.random.normal(loc=0.0, scale=1.0, size=10000)\n",
        "X = np.random.random(size=10000)\n",
        "_ = plt.hist2d(X, Y, bins=25)"
      ],
      "execution_count": null,
      "outputs": [
        {
          "output_type": "display_data",
          "data": {
            "image/png": "[encoded data removed]",
            "text/plain": [
              "<Figure size 432x288 with 1 Axes>"
            ]
          },
          "metadata": {
            "needs_background": "light"
          }
        }
      ]
    },
    {
      "cell_type": "code",
      "metadata": {
        "colab": {
          "base_uri": "https://localhost:8080/",
          "height": 287
        },
        "id": "2AKjjnWk3Oya",
        "outputId": "20ec6041-8b22-4657-b873-ee1ce5cb4244"
      },
      "source": [
        "plt.figure()\n",
        "_ = plt.hist2d(X, Y, bins=100)\n",
        "\n",
        "# add a colorbar legend\n",
        "plt.colorbar()"
      ],
      "execution_count": null,
      "outputs": [
        {
          "output_type": "execute_result",
          "data": {
            "text/plain": [
              "<matplotlib.colorbar.Colorbar at 0x7f0437676b90>"
            ]
          },
          "metadata": {},
          "execution_count": 40
        },
        {
          "output_type": "display_data",
          "data": {
            "image/png": "[encoded data removed]",
            "text/plain": [
              "<Figure size 432x288 with 2 Axes>"
            ]
          },
          "metadata": {
            "needs_background": "light"
          }
        }
      ]
    },
    {
      "cell_type": "markdown",
      "metadata": {
        "id": "YquBEK7q3k_G"
      },
      "source": [
        "## 5. Animation"
      ]
    },
    {
      "cell_type": "markdown",
      "metadata": {
        "id": "BOtCKmrCgS-S"
      },
      "source": [
        ""
      ]
    },
    {
      "cell_type": "code",
      "metadata": {
        "id": "Hry4dISA3UoQ"
      },
      "source": [
        "import matplotlib.animation as animation\n",
        "\n",
        "n = 100\n",
        "x = np.random.randn(n)"
      ],
      "execution_count": null,
      "outputs": []
    },
    {
      "cell_type": "code",
      "metadata": {
        "id": "LTlx3Zqx45sF"
      },
      "source": [
        "# create the function that will do the plotting, where curr is the current frame\n",
        "def update(curr):\n",
        "    # check if animation is at the last frame, and if so, stop the animation a\n",
        "    if curr == n: \n",
        "        a.event_source.stop()\n",
        "    plt.cla()\n",
        "    bins = np.arange(-4, 4, 0.5)\n",
        "    plt.hist(x[:curr], bins=bins)\n",
        "    plt.axis([-4,4,0,30])\n",
        "    plt.gca().set_title('Sampling the Normal Distribution')\n",
        "    plt.gca().set_ylabel('Frequency')\n",
        "    plt.gca().set_xlabel('Value')\n",
        "    plt.annotate('n = {}'.format(curr), [3,27])"
      ],
      "execution_count": null,
      "outputs": []
    },
    {
      "cell_type": "code",
      "metadata": {
        "colab": {
          "base_uri": "https://localhost:8080/",
          "height": 295
        },
        "id": "3hakw_vr5ybC",
        "outputId": "da608986-646b-4dc9-81f7-602e1d6cc5bb"
      },
      "source": [
        "fig = plt.figure()\n",
        "a = animation.FuncAnimation(fig, update, interval=100)"
      ],
      "execution_count": null,
      "outputs": [
        {
          "output_type": "display_data",
          "data": {
            "image/png": "[encoded data removed]",
            "text/plain": [
              "<Figure size 432x288 with 1 Axes>"
            ]
          },
          "metadata": {
            "needs_background": "light"
          }
        }
      ]
    },
    {
      "cell_type": "markdown",
      "metadata": {
        "id": "9IJjU5746mb-"
      },
      "source": [
        "## 6. Interactivity\n"
      ]
    },
    {
      "cell_type": "code",
      "metadata": {
        "colab": {
          "base_uri": "https://localhost:8080/",
          "height": 283
        },
        "id": "6E7cGKio5zK6",
        "outputId": "a7c169ae-40f7-4a58-cbf1-4002392298bf"
      },
      "source": [
        "plt.figure()\n",
        "data = np.random.rand(10)\n",
        "plt.plot(data)\n",
        "\n",
        "def onclick(event):\n",
        "    plt.cla()\n",
        "    plt.plot(data)\n",
        "    plt.gca().set_title('Event at pixels {},{} \\nand data {},{}'.format(event.x, event.y, event.xdata, event.ydata))\n",
        "\n",
        "# tell mpl_connect we want to pass a 'button_press_event' into onclick when the event is detected\n",
        "plt.gcf().canvas.mpl_connect('button_press_event', onclick)"
      ],
      "execution_count": null,
      "outputs": [
        {
          "output_type": "execute_result",
          "data": {
            "text/plain": [
              "5"
            ]
          },
          "metadata": {},
          "execution_count": 44
        },
        {
          "output_type": "display_data",
          "data": {
            "image/png": "[encoded data removed]",
            "text/plain": [
              "<Figure size 432x288 with 1 Axes>"
            ]
          },
          "metadata": {
            "needs_background": "light"
          }
        }
      ]
    },
    {
      "cell_type": "code",
      "metadata": {
        "colab": {
          "base_uri": "https://localhost:8080/",
          "height": 359
        },
        "id": "BfyFJf-v8rKx",
        "outputId": "61bf78d5-f1a4-4b0c-e7a3-49cf23f43af6"
      },
      "source": [
        "from random import shuffle\n",
        "origins = ['China', 'Brazil', 'India', 'USA', 'Canada', 'UK', 'Germany', 'Iraq', 'Chile', 'Mexico']\n",
        "\n",
        "shuffle(origins)\n",
        "\n",
        "df = pd.DataFrame({'height': np.random.rand(10),\n",
        "                   'weight': np.random.rand(10),\n",
        "                   'origin': origins})\n",
        "df"
      ],
      "execution_count": null,
      "outputs": [
        {
          "output_type": "execute_result",
          "data": {
            "text/html": [
              "<div>\n",
              "<style scoped>\n",
              "    .dataframe tbody tr th:only-of-type {\n",
              "        vertical-align: middle;\n",
              "    }\n",
              "\n",
              "    .dataframe tbody tr th {\n",
              "        vertical-align: top;\n",
              "    }\n",
              "\n",
              "    .dataframe thead th {\n",
              "        text-align: right;\n",
              "    }\n",
              "</style>\n",
              "<table border=\"1\" class=\"dataframe\">\n",
              "  <thead>\n",
              "    <tr style=\"text-align: right;\">\n",
              "      <th></th>\n",
              "      <th>height</th>\n",
              "      <th>weight</th>\n",
              "      <th>origin</th>\n",
              "    </tr>\n",
              "  </thead>\n",
              "  <tbody>\n",
              "    <tr>\n",
              "      <th>0</th>\n",
              "      <td>0.430795</td>\n",
              "      <td>0.925904</td>\n",
              "      <td>Iraq</td>\n",
              "    </tr>\n",
              "    <tr>\n",
              "      <th>1</th>\n",
              "      <td>0.238578</td>\n",
              "      <td>0.181475</td>\n",
              "      <td>Germany</td>\n",
              "    </tr>\n",
              "    <tr>\n",
              "      <th>2</th>\n",
              "      <td>0.933728</td>\n",
              "      <td>0.634844</td>\n",
              "      <td>USA</td>\n",
              "    </tr>\n",
              "    <tr>\n",
              "      <th>3</th>\n",
              "      <td>0.803494</td>\n",
              "      <td>0.418692</td>\n",
              "      <td>UK</td>\n",
              "    </tr>\n",
              "    <tr>\n",
              "      <th>4</th>\n",
              "      <td>0.396264</td>\n",
              "      <td>0.090326</td>\n",
              "      <td>Mexico</td>\n",
              "    </tr>\n",
              "    <tr>\n",
              "      <th>5</th>\n",
              "      <td>0.365502</td>\n",
              "      <td>0.451611</td>\n",
              "      <td>China</td>\n",
              "    </tr>\n",
              "    <tr>\n",
              "      <th>6</th>\n",
              "      <td>0.641732</td>\n",
              "      <td>0.094720</td>\n",
              "      <td>India</td>\n",
              "    </tr>\n",
              "    <tr>\n",
              "      <th>7</th>\n",
              "      <td>0.887334</td>\n",
              "      <td>0.738133</td>\n",
              "      <td>Brazil</td>\n",
              "    </tr>\n",
              "    <tr>\n",
              "      <th>8</th>\n",
              "      <td>0.038727</td>\n",
              "      <td>0.942994</td>\n",
              "      <td>Chile</td>\n",
              "    </tr>\n",
              "    <tr>\n",
              "      <th>9</th>\n",
              "      <td>0.877731</td>\n",
              "      <td>0.488326</td>\n",
              "      <td>Canada</td>\n",
              "    </tr>\n",
              "  </tbody>\n",
              "</table>\n",
              "</div>"
            ],
            "text/plain": [
              "     height    weight   origin\n",
              "0  0.430795  0.925904     Iraq\n",
              "1  0.238578  0.181475  Germany\n",
              "2  0.933728  0.634844      USA\n",
              "3  0.803494  0.418692       UK\n",
              "4  0.396264  0.090326   Mexico\n",
              "5  0.365502  0.451611    China\n",
              "6  0.641732  0.094720    India\n",
              "7  0.887334  0.738133   Brazil\n",
              "8  0.038727  0.942994    Chile\n",
              "9  0.877731  0.488326   Canada"
            ]
          },
          "metadata": {},
          "execution_count": 45
        }
      ]
    },
    {
      "cell_type": "code",
      "metadata": {
        "colab": {
          "base_uri": "https://localhost:8080/",
          "height": 297
        },
        "id": "nLUuZEgU9Fo7",
        "outputId": "eb320201-a040-430b-ada6-02ab7cb6735d"
      },
      "source": [
        "plt.figure()\n",
        "# picker=5 means the mouse doesn't have to click directly on an event, but can be up to 5 pixels away\n",
        "plt.scatter(df['height'], df['weight'], picker=5)\n",
        "plt.gca().set_ylabel('Weight')\n",
        "plt.gca().set_xlabel('Height')"
      ],
      "execution_count": null,
      "outputs": [
        {
          "output_type": "execute_result",
          "data": {
            "text/plain": [
              "Text(0.5, 0, 'Height')"
            ]
          },
          "metadata": {},
          "execution_count": 46
        },
        {
          "output_type": "display_data",
          "data": {
            "image/png": "[encoded data removed]",
            "text/plain": [
              "<Figure size 432x288 with 1 Axes>"
            ]
          },
          "metadata": {
            "needs_background": "light"
          }
        }
      ]
    },
    {
      "cell_type": "code",
      "metadata": {
        "colab": {
          "base_uri": "https://localhost:8080/",
          "height": 53
        },
        "id": "lo26B0Xg9LPY",
        "outputId": "4f7361c0-c0b7-4b52-d61f-ab41f09882a0"
      },
      "source": [
        "def onpick(event):\n",
        "    origin = df.iloc[event.ind[0]]['origin']\n",
        "    plt.gca().set_title('Selected item came from {}'.format(origin))\n",
        "\n",
        "# tell mpl_connect we want to pass a 'pick_event' into onpick when the event is detected\n",
        "plt.gcf().canvas.mpl_connect('pick_event', onpick)"
      ],
      "execution_count": null,
      "outputs": [
        {
          "output_type": "execute_result",
          "data": {
            "text/plain": [
              "5"
            ]
          },
          "metadata": {},
          "execution_count": 47
        },
        {
          "output_type": "display_data",
          "data": {
            "text/plain": [
              "<Figure size 432x288 with 0 Axes>"
            ]
          },
          "metadata": {}
        }
      ]
    },
    {
      "cell_type": "markdown",
      "metadata": {
        "id": "C0S7tFlI9qoo"
      },
      "source": [
        "# Practice Assignment: Understanding Distributions Through Sampling\n",
        "\n",
        "** *This assignment is optional, and I encourage you to share your solutions with me and your peers in the discussion forums!* **\n",
        "\n",
        "\n",
        "To complete this assignment, create a code cell that:\n",
        "* Creates a number of subplots using the `pyplot subplots` or `matplotlib gridspec` functionality.\n",
        "* Creates an animation, pulling between 100 and 1000 samples from each of the random variables (`x1`, `x2`, `x3`, `x4`) for each plot and plotting this as we did in the lecture on animation.\n",
        "* **Bonus:** Go above and beyond and \"wow\" your classmates (and me!) by looking into matplotlib widgets and adding a widget which allows for parameterization of the distributions behind the sampling animations.\n",
        "\n",
        "\n",
        "Tips:\n",
        "* Before you start, think about the different ways you can create this visualization to be as interesting and effective as possible.\n",
        "* Take a look at the histograms below to get an idea of what the random variables look like, as well as their positioning with respect to one another. This is just a guide, so be creative in how you lay things out!\n",
        "* Try to keep the length of your animation reasonable (roughly between 10 and 30 seconds)."
      ]
    },
    {
      "cell_type": "code",
      "metadata": {
        "id": "mQ_WVY4z9nxh"
      },
      "source": [
        ""
      ],
      "execution_count": null,
      "outputs": []
    }
  ]
}