{
  "nbformat": 4,
  "nbformat_minor": 0,
  "metadata": {
    "colab": {
      "name": "Coding Standards and Style.ipynb",
      "provenance": []
    },
    "kernelspec": {
      "name": "python3",
      "display_name": "Python 3"
    },
    "language_info": {
      "name": "python"
    }
  },
  "cells": [
    {
      "cell_type": "markdown",
      "metadata": {
        "id": "8Nbmh1zLqQBm"
      },
      "source": [
        "##[Coding Standards and Style]\n",
        "\n",
        "### 1. Documentation, \"docstrings\"\n",
        "\n",
        "\n",
        "> * At the top of each file describing the purpose of the program or module.\n",
        "> * Below each function definition describing the purpose of the function.\n",
        "\n",
        "*  It describes what is being done in a program or function, not how it is being done. It should explain the arguments, what the function does, and what the function returns.\n",
        "* When you type help(...), it will return the docstring for whatever the argument you passed to help is.\n",
        "\n",
        "\n",
        "### 2. Comments, '#'\n",
        "* Comments should describe how a section of code is accomplishing something. Not to obvious code, but complex code or design decsions.\n",
        "\n",
        "### 3. Global variables\n",
        "* It should never be used in this specialization. Avoding their use is good programming practice in any language. As Python languages does not actually support constants, by convention, promrammers use global variables with names that are in all capital letters for constants. It menas you should never change it.\n",
        "\n",
        "### 4. Names\n",
        "* All variable and function names must be at least 3 characters. The first character of a name should follow these conventions:\n",
        "> * Starting with a lower case letter\n",
        "> * Function names should always start with a lower case letter.\n",
        "\n",
        "### 5. Indentation\n",
        "* Each indentation level should be indented by 4 spaces. As Python requires indentation to be consistent, it is important not to mix tabs and spaces. You should never use tabs for indentation. Instead, all indentation levels should be 4 spaces. Note that CodeSkulptor automatically converts all tab indents into 4 spaces.\n",
        "\n",
        "### 6. Scope\n",
        "*  You should never use names that are the same as existing Python built-in functions.\n",
        "\n",
        "### 7. Arguments and local variables\n",
        "\n",
        "* Too many arguments or variables lead to unnecessarily complex and unreadable programs. \n"
      ]
    },
    {
      "cell_type": "code",
      "metadata": {
        "id": "xSEty3ifpUwL"
      },
      "source": [
        "for num in range(42):\n",
        "    # do something 42 times    "
      ],
      "execution_count": null,
      "outputs": []
    },
    {
      "cell_type": "markdown",
      "metadata": {
        "id": "GIS4I3fovuSu"
      },
      "source": [
        "* In this case, you should name the variable with the dummy_ prefix. This indicates clearly to you, others, and Pylint that the variable is intentionally unused."
      ]
    },
    {
      "cell_type": "code",
      "metadata": {
        "id": "yuRKAU-Tvyeo"
      },
      "source": [
        "for dummy_num in range(42):\n",
        "    # do something 42 times"
      ],
      "execution_count": null,
      "outputs": []
    }
  ]
}