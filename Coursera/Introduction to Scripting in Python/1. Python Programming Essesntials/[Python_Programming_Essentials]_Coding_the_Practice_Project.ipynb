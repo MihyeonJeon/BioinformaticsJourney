{
  "nbformat": 4,
  "nbformat_minor": 0,
  "metadata": {
    "colab": {
      "name": "[Python Programming Essenstials] Coding the Practice Project.ipynb",
      "provenance": []
    },
    "kernelspec": {
      "name": "python3",
      "display_name": "Python 3"
    },
    "language_info": {
      "name": "python"
    }
  },
  "cells": [
    {
      "cell_type": "markdown",
      "metadata": {
        "id": "6XFIf0jjMVyn"
      },
      "source": [
        "[Terminiology in this course]\n",
        "\n",
        "1. Programming : Process of writing Python code that meets an English specification\n",
        "2. Testing : The process of checking whether your code is producing the intend answer\n",
        "3. Tests : Pairs consisting of program input and corresponding output for the specification\n",
        "4. Debugging : Process of corresponding errors in your code"
      ]
    },
    {
      "cell_type": "markdown",
      "metadata": {
        "id": "leDJIgKdiAbY"
      },
      "source": [
        "## 1. Rock-paper-scissors-lizard-Spock"
      ]
    },
    {
      "cell_type": "code",
      "metadata": {
        "colab": {
          "base_uri": "https://localhost:8080/"
        },
        "id": "U49rRGFlMGGk",
        "outputId": "ebe3125c-f7e1-4b2a-ff68-12f99ab500a1"
      },
      "source": [
        "\"\"\"\n",
        "Implementing RPSLS for Practice Project\n",
        "\"\"\"\n",
        "\n",
        "def name_to_number(name):\n",
        "    \"\"\"\n",
        "    Take string name as input (rock-Spock-paper-lizard-scissors)\n",
        "    and returns integer (0-1-2-3-4)\n",
        "    \"\"\"\n",
        "    if name == 'rock':\n",
        "        return 0\n",
        "    elif name == 'Spock':\n",
        "        return 1\n",
        "    elif name == 'paper':\n",
        "        return 2\n",
        "    elif name == 'lizard':\n",
        "        return 3\n",
        "    else :\n",
        "        return 4\n",
        "    \n",
        "print(name_to_number(\"rock\"))\t\t# output - 0\n",
        "print(name_to_number(\"Spock\"))\t\t# output - 1\n",
        "print(name_to_number(\"paper\"))\t\t# output - 2\n",
        "print(name_to_number(\"lizard\"))\t\t# output - 3\n",
        "print(name_to_number(\"scissors\"))\t# output - 4"
      ],
      "execution_count": null,
      "outputs": [
        {
          "output_type": "stream",
          "text": [
            "0\n",
            "1\n",
            "2\n",
            "3\n",
            "4\n"
          ],
          "name": "stdout"
        }
      ]
    },
    {
      "cell_type": "code",
      "metadata": {
        "id": "dYGNPeKtOCOP"
      },
      "source": [
        "def number_to_name(number):\n",
        "    \"\"\"\n",
        "    Converts a number in the range 0 tp 4 into its corresponding name as a string.\n",
        "    \"\"\"\n",
        "    if number == 0 :\n",
        "        return 'rock'\n",
        "    elif number == 1:\n",
        "        return 'Spock'\n",
        "    elif number == 2:\n",
        "        return 'paper'\n",
        "    elif number == 3:\n",
        "        return 'lizard'\n",
        "    else :\n",
        "        return 'scissors'"
      ],
      "execution_count": null,
      "outputs": []
    },
    {
      "cell_type": "code",
      "metadata": {
        "id": "qfpvIl7CXkgZ"
      },
      "source": [
        "import random"
      ],
      "execution_count": null,
      "outputs": []
    },
    {
      "cell_type": "code",
      "metadata": {
        "id": "XDi44EUhR009"
      },
      "source": [
        "def rpsls(player_choice):\n",
        "    \"\"\"\n",
        "    1. Print out the Player's choice.\n",
        "    \"\"\"\n",
        "    print(\"\")\n",
        "\n",
        "    print(\"Player chooses\",player_choice)\n",
        "    player_number = name_to_number(player_choice)\n",
        "\n",
        "    \"\"\"\n",
        "    2. Choose computer's choice randomly.\n",
        "    \"\"\"\n",
        "\n",
        "    comp_number = random.randrange(5)\n",
        "    comp_choice = number_to_name(comp_number)\n",
        "    print(\"Computer chooses\",comp_choice)\n",
        "\n",
        "    \"\"\"\n",
        "    3. Determine and print out the winner.\n",
        "    \"\"\"\n",
        "    \n",
        "    rule = (player_number - comp_number) % 5\n",
        "    if rule in (1,2) :\n",
        "        print(\"Player wins!\")\n",
        "    elif rule in (3,4):\n",
        "        print(\"Computer wins!\")\n",
        "    else:\n",
        "        print(\"Player and computer tie!\")\n",
        "        \n",
        "\n",
        "\n",
        "    \n"
      ],
      "execution_count": null,
      "outputs": []
    },
    {
      "cell_type": "code",
      "metadata": {
        "colab": {
          "base_uri": "https://localhost:8080/"
        },
        "id": "scgkKSI7Wyp0",
        "outputId": "d30bd504-2409-40b6-bf2b-5f79e6bfe5e0"
      },
      "source": [
        "rpsls(\"rock\")\n",
        "rpsls(\"Spock\")\n",
        "rpsls(\"paper\")\n",
        "rpsls(\"lizard\")\n",
        "rpsls(\"scissors\")"
      ],
      "execution_count": null,
      "outputs": [
        {
          "output_type": "stream",
          "text": [
            "\n",
            "Player chooses rock\n",
            "Computer chooses lizard\n",
            "Player wins!\n",
            "\n",
            "Player chooses Spock\n",
            "Computer chooses scissors\n",
            "Player wins!\n",
            "\n",
            "Player chooses paper\n",
            "Computer chooses Spock\n",
            "Player wins!\n",
            "\n",
            "Player chooses lizard\n",
            "Computer chooses lizard\n",
            "Nobody wins.\n",
            "\n",
            "Player chooses scissors\n",
            "Computer chooses rock\n",
            "Computer wins!\n"
          ],
          "name": "stdout"
        }
      ]
    },
    {
      "cell_type": "markdown",
      "metadata": {
        "id": "5ibU1CrViFAZ"
      },
      "source": [
        "##2. Date project"
      ]
    },
    {
      "cell_type": "code",
      "metadata": {
        "id": "hz1A2FAvbIFU"
      },
      "source": [
        "\"\"\"\n",
        "Project for Week 4 of \"Python Programming Essentials\".\n",
        "Collection of functions to process dates.\n",
        "\n",
        "Be sure to read the project description page for further information\n",
        "about the expected behavior of the program.\n",
        "\"\"\"\n",
        "\n",
        "import datetime\n",
        "\n",
        "def days_in_month(year, month):\n",
        "    \"\"\"\n",
        "    Inputs:\n",
        "      year  - an integer between datetime.MINYEAR and datetime.MAXYEAR\n",
        "              representing the year\n",
        "      month - an integer between 1 and 12 representing the month\n",
        "\n",
        "    Returns:\n",
        "      The number of days in the input month.\n",
        "    \"\"\"\n",
        "    \n",
        "    if month+1 > 12:\n",
        "        year2 = year+1\n",
        "        month2 = 1\n",
        "    else:\n",
        "        year2 = year\n",
        "        month2 = month+1\n",
        "        \n",
        "    if (year >= datetime.MINYEAR and year < datetime.MAXYEAR) and (month >=1 and month <= 12) :\n",
        "        return (datetime.date(year2, month2, 1) - datetime.date(year, month, 1)).days\n",
        "\n"
      ],
      "execution_count": null,
      "outputs": []
    },
    {
      "cell_type": "code",
      "metadata": {
        "colab": {
          "base_uri": "https://localhost:8080/"
        },
        "id": "Of44uEDQiRMG",
        "outputId": "a831004f-e125-4086-ef02-0b8f03d0758e"
      },
      "source": [
        "print(days_in_month(2021, 5))"
      ],
      "execution_count": null,
      "outputs": [
        {
          "output_type": "stream",
          "text": [
            "31\n"
          ],
          "name": "stdout"
        }
      ]
    },
    {
      "cell_type": "code",
      "metadata": {
        "id": "5N_g_mP6iURE"
      },
      "source": [
        "def is_valid_date(year, month, day):\n",
        "    \"\"\"\n",
        "    Inputs:\n",
        "      year  - an integer representing the year\n",
        "      month - an integer representing the month\n",
        "      day   - an integer representing the day\n",
        "\n",
        "    Returns:\n",
        "      True if year-month-day is a valid date and\n",
        "      False otherwise\n",
        "    \"\"\"\n",
        "    if year >= datetime.MINYEAR and datetime.MAXYEAR >= year:\n",
        "        if month >= 1 and month <= 12:\n",
        "            if day > 0 and day <= days_in_month(year, month):\n",
        "                return True\n",
        "            else:\n",
        "                return False\n",
        "        else:\n",
        "            return False\n",
        "    else:\n",
        "        return False"
      ],
      "execution_count": null,
      "outputs": []
    },
    {
      "cell_type": "code",
      "metadata": {
        "colab": {
          "base_uri": "https://localhost:8080/"
        },
        "id": "Zx9LvF5gjaEM",
        "outputId": "487e489c-25f2-4349-c9ab-2d11eec2ac58"
      },
      "source": [
        "is_valid_date(2021, 6, 0)"
      ],
      "execution_count": null,
      "outputs": [
        {
          "output_type": "execute_result",
          "data": {
            "text/plain": [
              "False"
            ]
          },
          "metadata": {
            "tags": []
          },
          "execution_count": 42
        }
      ]
    },
    {
      "cell_type": "code",
      "metadata": {
        "id": "29ixYV37jdlA"
      },
      "source": [
        "def days_between(year1, month1, day1, year2, month2, day2):\n",
        "    \"\"\"\n",
        "    Inputs:\n",
        "      year1  - an integer representing the year of the first date\n",
        "      month1 - an integer representing the month of the first date\n",
        "      day1   - an integer representing the day of the first date\n",
        "      year2  - an integer representing the year of the second date\n",
        "      month2 - an integer representing the month of the second date\n",
        "      day2   - an integer representing the day of the second date\n",
        "\n",
        "    Returns:\n",
        "      The number of days from the first date to the second date.\n",
        "      Returns 0 if either date is invalid or the second date is\n",
        "      before the first date.\n",
        "    \"\"\"\n",
        "    if is_valid_date(year1, month1, day1) and is_valid_date(year2, month2, day2) :\n",
        "        if (datetime.date(year2, month2, day2)- datetime.date(year1, month1, day1)).days > 0 :\n",
        "            return (datetime.date(year2, month2, day2)- datetime.date(year1, month1, day1)).days\n",
        "        else:\n",
        "            return 0\n",
        "    else :\n",
        "        return 0\n"
      ],
      "execution_count": null,
      "outputs": []
    },
    {
      "cell_type": "code",
      "metadata": {
        "colab": {
          "base_uri": "https://localhost:8080/"
        },
        "id": "CmphsYYakTUm",
        "outputId": "8861e95b-855d-4203-98aa-08a7009937f2"
      },
      "source": [
        "days_between(2021,6,31,2021,7,23)"
      ],
      "execution_count": null,
      "outputs": [
        {
          "output_type": "execute_result",
          "data": {
            "text/plain": [
              "0"
            ]
          },
          "metadata": {
            "tags": []
          },
          "execution_count": 51
        }
      ]
    },
    {
      "cell_type": "code",
      "metadata": {
        "id": "1HCvMCr6kVe1"
      },
      "source": [
        "def age_in_days(year, month, day):\n",
        "    \"\"\"\n",
        "    Inputs:\n",
        "      year  - an integer representing the birthday year\n",
        "      month - an integer representing the birthday month\n",
        "      day   - an integer representing the birthday day\n",
        "\n",
        "    Returns:\n",
        "      The age of a person with the input birthday as of today.\n",
        "      Returns 0 if the input date is invalid or if the input\n",
        "      date is in the future.\n",
        "    \"\"\"\n",
        "\n",
        "    today = datetime.date.today()\n",
        "    \n",
        "    if is_valid_date(year, month, day) == False:\n",
        "        return 0\n",
        "    elif (datetime.date.today()-datetime.date(year, month, day)).days <= 0 :\n",
        "        return 0\n",
        "    else:\n",
        "        return days_between(year, month, day ,today.year, today.month, today.day)\n",
        "\n"
      ],
      "execution_count": null,
      "outputs": []
    },
    {
      "cell_type": "code",
      "metadata": {
        "colab": {
          "base_uri": "https://localhost:8080/"
        },
        "id": "sFBL_FMEmi2R",
        "outputId": "88110eb4-5972-49c7-b7fc-9a32e5f7ad1d"
      },
      "source": [
        "age_in_days(2021,6,15)"
      ],
      "execution_count": null,
      "outputs": [
        {
          "output_type": "execute_result",
          "data": {
            "text/plain": [
              "5"
            ]
          },
          "metadata": {
            "tags": []
          },
          "execution_count": 80
        }
      ]
    },
    {
      "cell_type": "code",
      "metadata": {
        "colab": {
          "base_uri": "https://localhost:8080/"
        },
        "id": "VA8Sls_amk21",
        "outputId": "e11bd60a-479f-451d-87f5-5d400c41da45"
      },
      "source": [
        "date1 = datetime.date(1999, 12, 31)\n",
        "date2 = datetime.date(2000, 1, 1)\n",
        "date3 = datetime.date(2016, 4, 15)\n",
        "\n",
        "diff = date2 - date1\n",
        "print(diff)\n",
        "print(diff.days)"
      ],
      "execution_count": null,
      "outputs": [
        {
          "output_type": "stream",
          "text": [
            "1 day, 0:00:00\n",
            "1\n"
          ],
          "name": "stdout"
        }
      ]
    }
  ]
}