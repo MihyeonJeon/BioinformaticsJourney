{
  "nbformat": 4,
  "nbformat_minor": 0,
  "metadata": {
    "colab": {
      "name": "[Python Programming Essesntials] Week1_Expressions.ipynb",
      "provenance": []
    },
    "kernelspec": {
      "name": "python3",
      "display_name": "Python 3"
    },
    "language_info": {
      "name": "python"
    }
  },
  "cells": [
    {
      "cell_type": "markdown",
      "metadata": {
        "id": "fK-g7SKSWpIg"
      },
      "source": [
        "# [Python Programming Essesntials] Week1\n",
        "\n",
        "## Practice Exercise for Expressions\n",
        "\n",
        "### : Practice converting a mathematical formula in an equivalent Python expressions."
      ]
    },
    {
      "cell_type": "markdown",
      "metadata": {
        "id": "nG-XE31pXGpn"
      },
      "source": [
        "#### 1.There are 5280 feet in a mile. Write a Python statement that calculates and prints the number of feet in 13 miles."
      ]
    },
    {
      "cell_type": "code",
      "metadata": {
        "colab": {
          "base_uri": "https://localhost:8080/"
        },
        "id": "cGe2qvODWjBH",
        "outputId": "084cfabb-b19e-4ccb-a0bd-5cf4b97e45d8"
      },
      "source": [
        "print(5280*13)"
      ],
      "execution_count": null,
      "outputs": [
        {
          "output_type": "stream",
          "text": [
            "68640\n"
          ],
          "name": "stdout"
        }
      ]
    },
    {
      "cell_type": "markdown",
      "metadata": {
        "id": "krTVwnI-XVWN"
      },
      "source": [
        "#### 2.Write a Python statement that calculates and prints the number of seconds in 77 hours, 21 minutes and 37 seconds."
      ]
    },
    {
      "cell_type": "code",
      "metadata": {
        "colab": {
          "base_uri": "https://localhost:8080/"
        },
        "id": "jrsoaRT1XSWo",
        "outputId": "fb7bd0fb-a097-4ab5-8f99-38ec5b3e64cc"
      },
      "source": [
        "print((77*60*60) + (21*60) + 37)"
      ],
      "execution_count": null,
      "outputs": [
        {
          "output_type": "stream",
          "text": [
            "278497\n"
          ],
          "name": "stdout"
        }
      ]
    },
    {
      "cell_type": "markdown",
      "metadata": {
        "id": "R7Uk6VwLY4i3"
      },
      "source": [
        "#### 3. The perimeter of a rectangle is 2w+2h, where w and h are the lengths of its sides. Write a Python statement that calculates and prints the length in inches of the perimeter of a rectangle with sides of length 4 and 7 inches. "
      ]
    },
    {
      "cell_type": "code",
      "metadata": {
        "colab": {
          "base_uri": "https://localhost:8080/"
        },
        "id": "nAFIVDTzYz0T",
        "outputId": "f6aafc24-8761-45ab-dda7-1e5b7510dec8"
      },
      "source": [
        "print(2*4 + 2*7)"
      ],
      "execution_count": null,
      "outputs": [
        {
          "output_type": "stream",
          "text": [
            "22\n"
          ],
          "name": "stdout"
        }
      ]
    },
    {
      "cell_type": "markdown",
      "metadata": {
        "id": "88_3W4UbZVts"
      },
      "source": [
        "#### 4. The area of a rectangle is w hwh, where ww and hh are the lengths of its sides. Note that the multiplication operation is not shown explicitly in this formula. This is standard practice in mathematics, but not in programming. Write a Python statement that calculates and prints the area in square inches of a rectangle with sides of length 4 and 7 inches."
      ]
    },
    {
      "cell_type": "code",
      "metadata": {
        "colab": {
          "base_uri": "https://localhost:8080/"
        },
        "id": "WXSjqJx9ZTWy",
        "outputId": "831828de-9695-474b-b8b6-0642fc0bb5f6"
      },
      "source": [
        "print(4*7)"
      ],
      "execution_count": null,
      "outputs": [
        {
          "output_type": "stream",
          "text": [
            "28\n"
          ],
          "name": "stdout"
        }
      ]
    },
    {
      "cell_type": "markdown",
      "metadata": {
        "id": "TgpO6df3Znx3"
      },
      "source": [
        "#### 5. The circumference of a circle is 2πr where rr is the radius of the circle. Write a Python statement that calculates and prints the circumference in inches of a circle whose radius is 8 inches. Assume that the constant π = 3.14"
      ]
    },
    {
      "cell_type": "code",
      "metadata": {
        "colab": {
          "base_uri": "https://localhost:8080/"
        },
        "id": "xjUMzUuAZglc",
        "outputId": "104645df-3bae-4b56-cb5d-13d1160b4155"
      },
      "source": [
        "print(2*3.14*8)"
      ],
      "execution_count": null,
      "outputs": [
        {
          "output_type": "stream",
          "text": [
            "50.24\n"
          ],
          "name": "stdout"
        }
      ]
    },
    {
      "cell_type": "markdown",
      "metadata": {
        "id": "-3ucxGXKaEbW"
      },
      "source": [
        "#### 6. The area of a circle is πr^2 where r is the radius of the circle. (The raised 2 in the formula is an exponent.) Write a Python statement that calculates and prints the area in square inches of a circle whose radius is 8 inches. Assume that the constant π=3.14"
      ]
    },
    {
      "cell_type": "code",
      "metadata": {
        "colab": {
          "base_uri": "https://localhost:8080/"
        },
        "id": "mvxUCSmoaBiF",
        "outputId": "c57ee807-ac4a-4dfc-ee94-9805ee1230c1"
      },
      "source": [
        "print(3.14 * 8**2)"
      ],
      "execution_count": null,
      "outputs": [
        {
          "output_type": "stream",
          "text": [
            "200.96\n"
          ],
          "name": "stdout"
        }
      ]
    },
    {
      "cell_type": "markdown",
      "metadata": {
        "id": "_HE_6vIGajWK"
      },
      "source": [
        "#### 7.Given p dollars, the future value of this money when compounded yearly at a rate of r percent interest for y years is  p (1 + 0.01 r)^y . (Remember that you don't need to understand how this formula works, only how to translate it into Python.) Write a Python statement that calculates and prints the value of 1000 dollars compounded at 7 percent interest for 10 years. "
      ]
    },
    {
      "cell_type": "code",
      "metadata": {
        "colab": {
          "base_uri": "https://localhost:8080/"
        },
        "id": "WJD17SWBaYOI",
        "outputId": "2f9b4004-90f0-416d-87df-470bf87df615"
      },
      "source": [
        "print( 1000*(1+0.01*7)**10)"
      ],
      "execution_count": null,
      "outputs": [
        {
          "output_type": "stream",
          "text": [
            "1967.1513572895665\n"
          ],
          "name": "stdout"
        }
      ]
    },
    {
      "cell_type": "markdown",
      "metadata": {
        "id": "cJUanhbqa_LH"
      },
      "source": [
        "#### 8. Write a single Python statement that combines the three strings \"My name is\", \"Joe\" and \"Warren\" (plus a couple of other small strings) into one larger string\"My name is Joe Warren.\" and prints the result. (Hint: Experiment with adding two strings in Python using the +  operator.) "
      ]
    },
    {
      "cell_type": "code",
      "metadata": {
        "colab": {
          "base_uri": "https://localhost:8080/"
        },
        "id": "CQY1QI8qa7Vm",
        "outputId": "e6f75f3c-f17e-4299-8696-b198b831d7f9"
      },
      "source": [
        "print(\"My name is \"+\"Joe\"+\" \"+\"Warren\")"
      ],
      "execution_count": null,
      "outputs": [
        {
          "output_type": "stream",
          "text": [
            "My name is Joe Warren\n"
          ],
          "name": "stdout"
        }
      ]
    },
    {
      "cell_type": "markdown",
      "metadata": {
        "id": "JAFyFt_ccBTu"
      },
      "source": [
        "#### 9. Write a Python expression that creates the string \"Joe Warren is 56 years old.\" from several strings including \"Joe Warren\" and the number 56 and then prints the result (Hint: Use the function str to convert the number into a string.) "
      ]
    },
    {
      "cell_type": "code",
      "metadata": {
        "colab": {
          "base_uri": "https://localhost:8080/"
        },
        "id": "d5rI97-lb0MS",
        "outputId": "3eae7628-4b79-4c6c-cb97-ef04af98fae9"
      },
      "source": [
        "print(\"Joe Warren \"+\"is \"+ str(56)+ \" years old\")"
      ],
      "execution_count": null,
      "outputs": [
        {
          "output_type": "stream",
          "text": [
            "Joe Warren is 56 years old\n"
          ],
          "name": "stdout"
        }
      ]
    },
    {
      "cell_type": "markdown",
      "metadata": {
        "id": "br_5hEL7camw"
      },
      "source": [
        "#### 10. Challenge: The distance between two points (x_0, y_0) and (x_1, y_1) is \\sqrt{(x_0-x_1)^2 + (y_0-y_1)^2} . Write a Python statement that calculates and prints the distance between the points (2, 2) and (5, 6). (Hint: Remember that a square root can be computed by raising a value to the 0.5 power.) "
      ]
    },
    {
      "cell_type": "code",
      "metadata": {
        "colab": {
          "base_uri": "https://localhost:8080/"
        },
        "id": "7wDOSdfqcZGk",
        "outputId": "e6d23fbe-5358-407d-9df1-afd901a2b6d5"
      },
      "source": [
        "print( ((2-5)**2 + (2-6)**2)**0.5)"
      ],
      "execution_count": null,
      "outputs": [
        {
          "output_type": "stream",
          "text": [
            "5.0\n"
          ],
          "name": "stdout"
        }
      ]
    },
    {
      "cell_type": "code",
      "metadata": {
        "id": "_fa5C6z8t2yj"
      },
      "source": [
        ""
      ],
      "execution_count": null,
      "outputs": []
    }
  ]
}