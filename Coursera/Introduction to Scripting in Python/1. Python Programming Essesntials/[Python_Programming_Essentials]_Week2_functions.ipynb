{
  "nbformat": 4,
  "nbformat_minor": 0,
  "metadata": {
    "colab": {
      "name": "[Python Programming Essesntials] Week2_functions.ipynb",
      "provenance": []
    },
    "kernelspec": {
      "name": "python3",
      "display_name": "Python 3"
    },
    "language_info": {
      "name": "python"
    }
  },
  "cells": [
    {
      "cell_type": "markdown",
      "metadata": {
        "id": "xrKqrBfuxLWb"
      },
      "source": [
        "## Defining Functions"
      ]
    },
    {
      "cell_type": "code",
      "metadata": {
        "id": "r5_QoAAgxGJp"
      },
      "source": [
        "def sayhello():\n",
        "    \"\"\"\n",
        "    Prints \"hello\".\n",
        "    \"\"\"\n",
        "    print(\"hello\")\n"
      ],
      "execution_count": null,
      "outputs": []
    },
    {
      "cell_type": "code",
      "metadata": {
        "colab": {
          "base_uri": "https://localhost:8080/"
        },
        "id": "PnRF5BLYxY2Z",
        "outputId": "7d77b96d-e36c-4f7a-8004-4f47786c24de"
      },
      "source": [
        "sayhello()"
      ],
      "execution_count": null,
      "outputs": [
        {
          "output_type": "stream",
          "text": [
            "hello\n"
          ],
          "name": "stdout"
        }
      ]
    },
    {
      "cell_type": "markdown",
      "metadata": {
        "id": "_TXwSggtxeNV"
      },
      "source": [
        "* Python cares about indenting.\n",
        "* Indenting means function contents.\n",
        "* You can pass the function without parameters.\n",
        "* Using docstring, you can describe what the function does clearly.\n",
        "* Writing 'return', a function returns the result."
      ]
    },
    {
      "cell_type": "code",
      "metadata": {
        "id": "xolUT36Bxat9"
      },
      "source": [
        "\n",
        "def double(value):\n",
        "    \"\"\"\n",
        "    Return twice the input value\n",
        "    \"\"\"\n",
        "    return value * 2\n"
      ],
      "execution_count": null,
      "outputs": []
    },
    {
      "cell_type": "code",
      "metadata": {
        "colab": {
          "base_uri": "https://localhost:8080/"
        },
        "id": "2SLjc-RhygaS",
        "outputId": "f4c484c2-4676-4c08-9386-6bfc64a6cb44"
      },
      "source": [
        "# Call the function and assign the result to a variable\n",
        "result = double(6)\n",
        "print(result)"
      ],
      "execution_count": null,
      "outputs": [
        {
          "output_type": "stream",
          "text": [
            "12\n"
          ],
          "name": "stdout"
        }
      ]
    },
    {
      "cell_type": "code",
      "metadata": {
        "id": "ch4Ht9MDyhra"
      },
      "source": [
        "def product(value1, value2, value3):\n",
        "    \"\"\"\n",
        "    Returns the product of the three input values.\n",
        "    \"\"\"\n",
        "    prod = value1 * value2\n",
        "    prod = prod * value3\n",
        "    return prod\n"
      ],
      "execution_count": null,
      "outputs": []
    },
    {
      "cell_type": "code",
      "metadata": {
        "colab": {
          "base_uri": "https://localhost:8080/"
        },
        "id": "3HOlutI8yjXj",
        "outputId": "ce108bc2-2c57-4e10-a312-9a8652745056"
      },
      "source": [
        "result = product(7, 13.3, -1.2)\n",
        "print(result)"
      ],
      "execution_count": null,
      "outputs": [
        {
          "output_type": "stream",
          "text": [
            "-111.72000000000001\n"
          ],
          "name": "stdout"
        }
      ]
    },
    {
      "cell_type": "markdown",
      "metadata": {
        "id": "BH3xuB7Jy0jP"
      },
      "source": [
        "* 'print' is also a function!\n",
        "* It takes a various number of arguments."
      ]
    },
    {
      "cell_type": "code",
      "metadata": {
        "colab": {
          "base_uri": "https://localhost:8080/"
        },
        "id": "_AiXU_GIym42",
        "outputId": "280be209-d3cd-402b-9701-edb524509371"
      },
      "source": [
        "print(result, result, result)"
      ],
      "execution_count": null,
      "outputs": [
        {
          "output_type": "stream",
          "text": [
            "-111.72000000000001 -111.72000000000001 -111.72000000000001\n"
          ],
          "name": "stdout"
        }
      ]
    },
    {
      "cell_type": "markdown",
      "metadata": {
        "id": "vG8qBYsIzV8O"
      },
      "source": [
        "## Local variables"
      ]
    },
    {
      "cell_type": "markdown",
      "metadata": {
        "id": "JARBj54tzd32"
      },
      "source": [
        "* It's a variable that's created ** inside of a function.**"
      ]
    },
    {
      "cell_type": "code",
      "metadata": {
        "id": "futFH2E4y-hx"
      },
      "source": [
        "def fahrenheit_to_celsius(fahrenheit):\n",
        "    \"\"\"\n",
        "    Return celsius temperature that corresponds to fahrenheit\n",
        "    temperature input.\n",
        "    \"\"\"\n",
        "    offset = 32\n",
        "    multiplier = 5 / 9\n",
        "    celsius = (fahrenheit - offset) * multiplier\n",
        "    print(\"inside function:\", fahrenheit, offset, multiplier, celsius)\n",
        "    return celsius"
      ],
      "execution_count": null,
      "outputs": []
    },
    {
      "cell_type": "code",
      "metadata": {
        "colab": {
          "base_uri": "https://localhost:8080/"
        },
        "id": "FDuwpCZGzx3b",
        "outputId": "b0d5d005-04d7-4d74-b21c-0c24238bae80"
      },
      "source": [
        "temperature = 95\n",
        "converted = fahrenheit_to_celsius(temperature)\n",
        "print(\"Fahrenheit temp:\", temperature)\n",
        "print(\"Celsius temp:\", converted)"
      ],
      "execution_count": null,
      "outputs": [
        {
          "output_type": "stream",
          "text": [
            "inside function: 95 32 0.5555555555555556 35.0\n",
            "Fahrenheit temp: 95\n",
            "Celsius temp: 35.0\n"
          ],
          "name": "stdout"
        }
      ]
    },
    {
      "cell_type": "code",
      "metadata": {
        "colab": {
          "base_uri": "https://localhost:8080/"
        },
        "id": "yd86By6A0H_t",
        "outputId": "11d06481-4bf4-4d66-b1b9-9aef275ef8f7"
      },
      "source": [
        "# Variables defined inside a function are local to that function\n",
        "fahrenheit = 27\n",
        "offset = 2\n",
        "multiplier = 19\n",
        "celsius = 77\n",
        "print(\"before:\", fahrenheit, offset, multiplier, celsius)\n",
        "newtemp = fahrenheit_to_celsius(32)\n",
        "print(\"after:\", fahrenheit, offset, multiplier, celsius)\n",
        "print(\"result:\", newtemp)"
      ],
      "execution_count": null,
      "outputs": [
        {
          "output_type": "stream",
          "text": [
            "before: 27 2 19 77\n",
            "inside function: 32 32 0.5555555555555556 0.0\n",
            "after: 27 2 19 77\n",
            "result: 0.0\n"
          ],
          "name": "stdout"
        }
      ]
    },
    {
      "cell_type": "markdown",
      "metadata": {
        "id": "BACHxhTE0afK"
      },
      "source": [
        "* Local variables only exist during the execution of one particular function call."
      ]
    },
    {
      "cell_type": "markdown",
      "metadata": {
        "id": "xQrsVtuU0aXx"
      },
      "source": [
        "## Understanding Function Evaluation\n",
        "\n",
        "\n",
        "\n",
        "*   Python tutor : http://pythontutor.com/\n",
        "*   It helps you to visualize your codes and understand how Python executes them.\n",
        "*    http://pythontutor.com/visualize.html#mode=display\n",
        "\n"
      ]
    },
    {
      "cell_type": "markdown",
      "metadata": {
        "id": "nY5kBLOyKTMb"
      },
      "source": [
        "## Using Print and Return in Functions\n",
        "\n",
        "*    Comparing print vs. return\n",
        "*    "
      ]
    },
    {
      "cell_type": "code",
      "metadata": {
        "colab": {
          "base_uri": "https://localhost:8080/"
        },
        "id": "hi6NqoFVEw77",
        "outputId": "12f7fdd1-ef8b-478a-8c43-6f5331ddaa46"
      },
      "source": [
        "\"\"\"\n",
        "Comparing print vs. return - version one\n",
        "Return a string from a function that is printed outside the function\n",
        "\"\"\"\n",
        "\n",
        "def welcome(location):\n",
        "    \"\"\"\n",
        "    Given a string location, return a string of the form\n",
        "    \"Welcome to location\"\n",
        "    \"\"\"\n",
        "    answer = \"Welcome to \" + location\n",
        "    return answer\n",
        "\n",
        "\n",
        "print(welcome(\"the Matrix\"))"
      ],
      "execution_count": null,
      "outputs": [
        {
          "output_type": "stream",
          "text": [
            "Welcome to the Matrix\n"
          ],
          "name": "stdout"
        }
      ]
    },
    {
      "cell_type": "code",
      "metadata": {
        "colab": {
          "base_uri": "https://localhost:8080/"
        },
        "id": "N3qh9CxULzFr",
        "outputId": "91d3c77e-f4da-4cb7-d200-0e970c3f9c76"
      },
      "source": [
        "\"\"\"\n",
        "Comparing print vs. return - version two\n",
        "Print a string from inside a function call\n",
        "\"\"\"\n",
        "\n",
        "def welcome(location):\n",
        "    \"\"\"\n",
        "    Given a string location, print a string of the form\n",
        "    \"Welcome to location\"\n",
        "    \"\"\"\n",
        "    answer = \"Welcome to \" + location\n",
        "    print(answer)\n",
        "\n",
        "\n",
        "print(welcome(\"Python Scripting\"))"
      ],
      "execution_count": null,
      "outputs": [
        {
          "output_type": "stream",
          "text": [
            "Welcome to Python Scripting\n",
            "None\n"
          ],
          "name": "stdout"
        }
      ]
    },
    {
      "cell_type": "code",
      "metadata": {
        "colab": {
          "base_uri": "https://localhost:8080/"
        },
        "id": "5f5J74yNL7DR",
        "outputId": "8fbf8ab8-7b8f-492a-ef60-03d0f5618338"
      },
      "source": [
        "def tricky():\n",
        "    \"\"\" What does this function return? \"\"\"\n",
        "    return\n",
        "\n",
        "print(tricky())"
      ],
      "execution_count": null,
      "outputs": [
        {
          "output_type": "stream",
          "text": [
            "None\n"
          ],
          "name": "stdout"
        }
      ]
    },
    {
      "cell_type": "markdown",
      "metadata": {
        "id": "QbJ6p0GGM2JQ"
      },
      "source": [
        "\n",
        "\n",
        "---\n",
        "## Practice Exercises for Functions\n"
      ]
    },
    {
      "cell_type": "markdown",
      "metadata": {
        "id": "aumLaD8NNlAd"
      },
      "source": [
        "### 1. Write a Python function miles_to_feet that takes a parameter miles and returns the number of feet in miles miles. "
      ]
    },
    {
      "cell_type": "code",
      "metadata": {
        "colab": {
          "base_uri": "https://localhost:8080/"
        },
        "id": "JASlZff3N83h",
        "outputId": "1b1f5954-2420-48d0-87fc-aecc28a06df0"
      },
      "source": [
        "def miles_to_feet(miles):\n",
        "    feet = 5280 * miles\n",
        "    return feet\n",
        "\n",
        "\n",
        "miles = 13\n",
        "print(str(miles) + \" miles equals \" + str(miles_to_feet(miles)) + \" feet.\")\n",
        "    \n",
        "miles = 57\n",
        "print(str(miles) + \" miles equals \" + str(miles_to_feet(miles)) + \" feet.\")\n",
        "\n",
        "miles = 82.67\n",
        "print(str(miles) + \" miles equals \" + str(miles_to_feet(miles)) + \" feet.\")\n"
      ],
      "execution_count": null,
      "outputs": [
        {
          "output_type": "stream",
          "text": [
            "13 miles equals 68640 feet.\n",
            "57 miles equals 300960 feet.\n",
            "82.67 miles equals 436497.60000000003 feet.\n"
          ],
          "name": "stdout"
        }
      ]
    },
    {
      "cell_type": "markdown",
      "metadata": {
        "id": "0ne_-4y7Nk52"
      },
      "source": [
        "### 2. Write a Python function total_seconds that takes three parameters hours, minutes and seconds and returns the total number of seconds for hours hours, minutes minutes and seconds seconds."
      ]
    },
    {
      "cell_type": "code",
      "metadata": {
        "colab": {
          "base_uri": "https://localhost:8080/"
        },
        "id": "MnSC-MBZPdJg",
        "outputId": "b6d52fb1-bfda-4f39-a864-ad3091d7708e"
      },
      "source": [
        "def total_seconds(hours,minutes,seconds):\n",
        "    hours = hours*60*60\n",
        "    minutes = minutes*60\n",
        "\n",
        "    return hours+minutes+seconds\n",
        "    \n",
        "\n",
        "hours, minutes, seconds = 7, 21, 37\n",
        "print(str(hours) + \" hours, \" + str(minutes) + \" minutes, and \" + \n",
        "      str(seconds) + \" seconds totals to \" + str(total_seconds(hours, minutes, seconds)) + \n",
        "      \" seconds.\")\n",
        "\n",
        "hours, minutes, seconds = 10, 1, 7\n",
        "print(str(hours) + \" hours, \" + str(minutes) + \" minutes, and \" + \n",
        "      str(seconds) + \" seconds totals to \" + str(total_seconds(hours, minutes, seconds)) + \n",
        "      \" seconds.\")\n",
        "\n",
        "hours, minutes, seconds = 1, 0, 1\n",
        "print(str(hours) + \" hours, \" + str(minutes) + \" minutes, and \" + \n",
        "      str(seconds) + \" seconds totals to \" + str(total_seconds(hours, minutes, seconds)) + \n",
        "      \" seconds.\")"
      ],
      "execution_count": null,
      "outputs": [
        {
          "output_type": "stream",
          "text": [
            "7 hours, 21 minutes, and 37 seconds totals to 26497 seconds.\n",
            "10 hours, 1 minutes, and 7 seconds totals to 36067 seconds.\n",
            "1 hours, 0 minutes, and 1 seconds totals to 3601 seconds.\n"
          ],
          "name": "stdout"
        }
      ]
    },
    {
      "cell_type": "markdown",
      "metadata": {
        "id": "6QWxMkHlPctC"
      },
      "source": [
        "### 3. Write a Python function rectangle_perimeter that takes two parameters width and height corresponding to the lengths of the sides of a rectangle and returns the perimeter of the rectangle in inches."
      ]
    },
    {
      "cell_type": "code",
      "metadata": {
        "colab": {
          "base_uri": "https://localhost:8080/"
        },
        "id": "6CfTbPsHQyYQ",
        "outputId": "8dffb4f2-ca75-4226-a39d-7fb24433f340"
      },
      "source": [
        "def rectangle_perimeter(width,height):\n",
        "    perimeter = (width + height) *2\n",
        "    return perimeter\n",
        "\n",
        "\n",
        "width, height = 4, 7\n",
        "print(\"A rectangle \" + str(width) + \" inches wide and \" + str(height) + \n",
        "      \" inches high has a perimeter of \" + str(rectangle_perimeter(width, height)) + \" inches.\")\n",
        "\n",
        "width, height = 7, 4\n",
        "print(\"A rectangle \" + str(width) + \" inches wide and \" + str(height) + \n",
        "      \" inches high has a perimeter of \" + str(rectangle_perimeter(width, height)) + \" inches.\")\n",
        "\n",
        "width, height = 10, 10\n",
        "print(\"A rectangle \" + str(width) + \" inches wide and \" + str(height) + \n",
        "      \" inches high has a perimeter of \" + str(rectangle_perimeter(width, height)) + \" inches.\")\n",
        "\n"
      ],
      "execution_count": null,
      "outputs": [
        {
          "output_type": "stream",
          "text": [
            "A rectangle 4 inches wide and 7 inches high has a perimeter of 22 inches.\n",
            "A rectangle 7 inches wide and 4 inches high has a perimeter of 22 inches.\n",
            "A rectangle 10 inches wide and 10 inches high has a perimeter of 40 inches.\n"
          ],
          "name": "stdout"
        }
      ]
    },
    {
      "cell_type": "markdown",
      "metadata": {
        "id": "dxxZuaCBNkwM"
      },
      "source": [
        "### 4. Write a Python function rectangle_area that takes two parameters width and height corresponding to the lengths of the sides of a rectangle and returns the area of the rectangle in square inches."
      ]
    },
    {
      "cell_type": "code",
      "metadata": {
        "colab": {
          "base_uri": "https://localhost:8080/"
        },
        "id": "tuoQKbyvShbU",
        "outputId": "17dd238d-1a34-4605-915a-6c67d900f71f"
      },
      "source": [
        "def rectangle_area(width, height):\n",
        "    area = width*height\n",
        "    return area\n",
        "\n",
        "\n",
        "\n",
        "width, height = 4, 7\n",
        "print(\"A rectangle \" + str(width) + \" inches wide and \" + str(height) + \n",
        "      \" inches high has an area of \" + str(rectangle_area(width, height)) + \" square inches.\")\n",
        "    \n",
        "width, height = 7, 4\n",
        "print(\"A rectangle \" + str(width) + \" inches wide and \" + str(height) + \n",
        "      \" inches high has an area of \" + str(rectangle_area(width, height)) + \" square inches.\")\n",
        "\n",
        "width, height = 10, 10\n",
        "print(\"A rectangle \" + str(width) + \" inches wide and \" + str(height) + \n",
        "      \" inches high has an area of \" + str(rectangle_area(width, height)) + \" square inches.\")\n",
        "\n",
        "    "
      ],
      "execution_count": null,
      "outputs": [
        {
          "output_type": "stream",
          "text": [
            "A rectangle 4 inches wide and 7 inches high has an area of 28 square inches.\n",
            "A rectangle 7 inches wide and 4 inches high has an area of 28 square inches.\n",
            "A rectangle 10 inches wide and 10 inches high has an area of 100 square inches.\n"
          ],
          "name": "stdout"
        }
      ]
    },
    {
      "cell_type": "markdown",
      "metadata": {
        "id": "2HovTPG2Nkrc"
      },
      "source": [
        "### 5. Write a Python function circle_circumference that takes a single parameter radius corresponding to the radius of a circle in inches and returns the the circumference of a circle with radius radius in inches. Do not use π=3.14, instead use the math module to supply a higher-precision approximation to π."
      ]
    },
    {
      "cell_type": "code",
      "metadata": {
        "id": "bfrp1X1Dm7C2"
      },
      "source": [
        "import math\n",
        "PI = math.pi"
      ],
      "execution_count": null,
      "outputs": []
    },
    {
      "cell_type": "code",
      "metadata": {
        "colab": {
          "base_uri": "https://localhost:8080/"
        },
        "id": "v5flrW_VSh3b",
        "outputId": "328c0abe-a1af-44ff-a55f-ca88ebb9d5ae"
      },
      "source": [
        "def circle_circumference(radius):\n",
        "    circumference = 2*PI*radius\n",
        "    return circumference\n",
        "  \n",
        "\n",
        "radius = 8\n",
        "print(\"A circle with a radius of \" + str(radius) + \n",
        "      \" inches has a circumference of \" + str(circle_circumference(radius)) + \" inches.\")\n",
        "\n",
        "radius = 3\n",
        "print(\"A circle with a radius of \" + str(radius) + \n",
        "      \" inches has a circumference of \" + str(circle_circumference(radius)) + \" inches.\")\n",
        "\n",
        "radius = 12.9\n",
        "print(\"A circle with a radius of \" + str(radius) + \n",
        "      \" inches has a circumference of \" + str(circle_circumference(radius)) + \" inches.\")\n"
      ],
      "execution_count": null,
      "outputs": [
        {
          "output_type": "stream",
          "text": [
            "A circle with a radius of 8 inches has a circumference of 50.26548245743669 inches.\n",
            "A circle with a radius of 3 inches has a circumference of 18.84955592153876 inches.\n",
            "A circle with a radius of 12.9 inches has a circumference of 81.05309046261667 inches.\n"
          ],
          "name": "stdout"
        }
      ]
    },
    {
      "cell_type": "markdown",
      "metadata": {
        "id": "Q8fj_Z0PNkmG"
      },
      "source": [
        "### 6.Write a Python function circle_area that takes a single parameter radius corresponding to the radius of a circle in inches and returns the the area of a circle with radius radius in square inches. Do not use π=3.14, instead use the math module to supply a higher-precision approximation to π."
      ]
    },
    {
      "cell_type": "code",
      "metadata": {
        "colab": {
          "base_uri": "https://localhost:8080/"
        },
        "id": "Kvnbw8CNSiSL",
        "outputId": "3eb0856a-515c-49c2-fc9a-ea2152fa91cc"
      },
      "source": [
        "def circle_area(radius):\n",
        "    area = PI*(radius**2)\n",
        "    return area\n",
        "\n",
        "\n",
        "radius = 8\n",
        "print(\"A circle with a radius of \" + str(radius) + \n",
        "      \" inches has an area of \" + str(circle_area(radius)) + \n",
        "      \" square inches.\")\n",
        "\n",
        "radius = 3\n",
        "print(\"A circle with a radius of \" + str(radius) + \n",
        "      \" inches has an area of \" + str(circle_area(radius)) + \n",
        "      \" square inches.\")\n",
        "\n",
        "radius = 12.9\n",
        "print(\"A circle with a radius of \" + str(radius) + \n",
        "      \" inches has an area of \" + str(circle_area(radius)) + \n",
        "      \" square inches.\")\n",
        "\n"
      ],
      "execution_count": null,
      "outputs": [
        {
          "output_type": "stream",
          "text": [
            "A circle with a radius of 8 inches has an area of 201.06192982974676 square inches.\n",
            "A circle with a radius of 3 inches has an area of 28.274333882308138 square inches.\n",
            "A circle with a radius of 12.9 inches has an area of 522.7924334838775 square inches.\n"
          ],
          "name": "stdout"
        }
      ]
    },
    {
      "cell_type": "markdown",
      "metadata": {
        "id": "G7ETsbgDNkhi"
      },
      "source": [
        "### 7. Write a Python function future_value that takes three parameters present_value, annual_rate and years and returns the future value of present_value dollars invested at annual_rate percent interest, compounded annually for years years."
      ]
    },
    {
      "cell_type": "code",
      "metadata": {
        "colab": {
          "base_uri": "https://localhost:8080/"
        },
        "id": "RfDKYqSISi8c",
        "outputId": "6bcceb28-fa6e-42fe-879c-687728abb916"
      },
      "source": [
        "def future_value(present_value, annual_rate,years):\n",
        "    future_val = present_value*(1+ 0.01*annual_rate)**years\n",
        "    return future_val\n",
        "\n",
        "\n",
        "present_value, annual_rate, years = 1000, 7, 10\t\n",
        "print(\"The future value of $\" + str(present_value) + \" in \" + str(years) + \n",
        "      \" years at an annual rate of \" + str(annual_rate) + \"% is $\" + \n",
        "      str(future_value(present_value, annual_rate, years)) + \".\")\n",
        "    \n",
        "present_value, annual_rate, years = 200, 4, 5\n",
        "print(\"The future value of $\" + str(present_value) + \" in \" + str(years) + \n",
        "      \" years at an annual rate of \" + str(annual_rate) + \"% is $\" + \n",
        "      str(future_value(present_value, annual_rate, years)) + \".\")\n",
        "\n",
        "present_value, annual_rate, years = 1000, 3, 20\n",
        "print(\"The future value of $\" + str(present_value) + \" in \" + str(years) + \n",
        "      \" years at an annual rate of \" + str(annual_rate) + \"% is $\" + \n",
        "      str(future_value(present_value, annual_rate, years)) + \".\")\n"
      ],
      "execution_count": null,
      "outputs": [
        {
          "output_type": "stream",
          "text": [
            "The future value of $1000 in 10 years at an annual rate of 7% is $1967.1513572895665.\n",
            "The future value of $200 in 5 years at an annual rate of 4% is $243.33058048000004.\n",
            "The future value of $1000 in 20 years at an annual rate of 3% is $1806.111234669415.\n"
          ],
          "name": "stdout"
        }
      ]
    },
    {
      "cell_type": "markdown",
      "metadata": {
        "id": "dVIVyGldNkbi"
      },
      "source": [
        "### 8. Write a Python function name_tag that takes as input the parameters first_name and last_name (strings) and returns a string of the form \"My name is % %.\" where the percents are the strings first_name and last_name. Reference the test cases in the provided template for an exact description of the format of the returned string. "
      ]
    },
    {
      "cell_type": "code",
      "metadata": {
        "colab": {
          "base_uri": "https://localhost:8080/"
        },
        "id": "HHKlb_ILSjbD",
        "outputId": "9dbf42d0-cf07-402c-a3d0-f6087e6cb54a"
      },
      "source": [
        "def name_tag(first_name, last_name):\n",
        "    form = 'My name is '+first_name+' '+last_name+'.'\n",
        "    return form\n",
        "\n",
        "  \n",
        "first_name, last_name = \"Joe\", \"Warren\"\n",
        "print(name_tag(first_name, last_name))\n",
        "\n",
        "first_name, last_name = \"Scott\", \"Rixner\"\n",
        "print(name_tag(first_name, last_name))\n",
        "\n",
        "first_name, last_name = \"John\", \"Greiner\"\n",
        "print(name_tag(first_name, last_name))\n"
      ],
      "execution_count": null,
      "outputs": [
        {
          "output_type": "stream",
          "text": [
            "My name is Joe Warren.\n",
            "My name is Scott Rixner.\n",
            "My name is John Greiner.\n"
          ],
          "name": "stdout"
        }
      ]
    },
    {
      "cell_type": "markdown",
      "metadata": {
        "id": "NV4hGeGkNkXq"
      },
      "source": [
        "### 9. Write a Python function name_and_age that takes as input the parameters name (a string) and age (a number) and returns a string of the form \"% is % years old.\" where the percents are the string forms of name and age. Reference the test cases in the provided template for an exact description of the format of the returned string. "
      ]
    },
    {
      "cell_type": "code",
      "metadata": {
        "id": "HDeP13gGMwvu",
        "colab": {
          "base_uri": "https://localhost:8080/"
        },
        "outputId": "7c9d5cd1-fdd9-4800-91e2-190ea092abab"
      },
      "source": [
        "def name_and_age(name, age):\n",
        "    form = name+' is '+str(age)+' years old.'\n",
        "    return form\n",
        "\n",
        "\n",
        "name, age = \"Joe Warren\", 56\n",
        "print(name_and_age(name, age))\n",
        "\n",
        "name, age = \"Scott Rixner\", 40\n",
        "print(name_and_age(name, age))\n",
        "\n",
        "name, age = \"John Greiner\", 46\n",
        "print(name_and_age(name, age))\n"
      ],
      "execution_count": null,
      "outputs": [
        {
          "output_type": "stream",
          "text": [
            "Joe Warren is 56 years old.\n",
            "Scott Rixner is 40 years old.\n",
            "John Greiner is 46 years old.\n"
          ],
          "name": "stdout"
        }
      ]
    },
    {
      "cell_type": "markdown",
      "metadata": {
        "id": "RbC-ZhWrsqEu"
      },
      "source": [
        "### 10. Write a Python function point_distance that takes as input the parameters x_0, y_0, x_1 and y_1, and returns the distance between the points (x_0,y_0) and (x_1, y_1)."
      ]
    },
    {
      "cell_type": "code",
      "metadata": {
        "colab": {
          "base_uri": "https://localhost:8080/"
        },
        "id": "hj3KUWU6xBF3",
        "outputId": "9866527e-cd7f-4caf-c88f-b1d20f571e2d"
      },
      "source": [
        "def point_distance(x_0,y_0,x_1,y_1):\n",
        "    distance = ( (x_0-x_1)**2 + (y_0-y_1)**2 ) ** 0.5\n",
        "    return distance\n",
        "\n",
        "\n",
        "\n",
        "x_0, y_0, x_1, y_1 = 2, 2, 5, 6\n",
        "print(\"The distance from (\" + str(x_0) + \", \" + str(y_0) + \") to (\" + \n",
        "      str(x_1) + \", \" + str(y_1) + \") is \" + str(point_distance(x_0, y_0, x_1, y_1)) + \".\")\n",
        "\n",
        "x_0, y_0, x_1, y_1 = 1, 1, 2, 2\n",
        "print(\"The distance from (\" + str(x_0) + \", \" + str(y_0) + \") to (\" + \n",
        "      str(x_1) + \", \" + str(y_1) + \") is \" + str(point_distance(x_0, y_0, x_1, y_1)) + \".\")\n",
        "\n",
        "x_0, y_0, x_1, y_1 = 0, 0, 3, 4\n",
        "print(\"The distance from (\" + str(x_0) + \", \" + str(y_0) + \") to (\" + \n",
        "      str(x_1) + \", \" + str(y_1) + \") is \" + str(point_distance(x_0, y_0, x_1, y_1)) + \".\")\n",
        "\n"
      ],
      "execution_count": null,
      "outputs": [
        {
          "output_type": "stream",
          "text": [
            "The distance from (2, 2) to (5, 6) is 5.0.\n",
            "The distance from (1, 1) to (2, 2) is 1.4142135623730951.\n",
            "The distance from (0, 0) to (3, 4) is 5.0.\n"
          ],
          "name": "stdout"
        }
      ]
    },
    {
      "cell_type": "markdown",
      "metadata": {
        "id": "hyaS5ctcsp7l"
      },
      "source": [
        "### 11. Challenge: Write a Python function triangle_area that takes the parameters x_0, y_0, x_1,y_1, x_2, and y_2 (all numbers), and returns the area of the triangle with vertices (x_0,y_0), (x_1, y_1) and (x_2, y_2). (Hint: use the function point_distance as a helper function and apply Heron's formula.) "
      ]
    },
    {
      "cell_type": "code",
      "metadata": {
        "id": "HQB5jOztxqn_"
      },
      "source": [
        "def triangle_area( x_0, y_0, x_1,y_1, x_2, y_2):\n",
        "    a = point_distance(x_0,y_0,x_1,y_1)\n",
        "    b = point_distance(x_0,y_0,x_2,y_2)\n",
        "    c = point_distance(x_1,y_1,x_2,y_2)\n",
        "\n",
        "    s = (a+b+c)/2\n",
        "\n",
        "    area = ( s* (s-a) * (s-b) * (s-c) )**0.5\n",
        "    return round(area,1)\n",
        "\n"
      ],
      "execution_count": null,
      "outputs": []
    },
    {
      "cell_type": "code",
      "metadata": {
        "colab": {
          "base_uri": "https://localhost:8080/"
        },
        "id": "E4d9p0Dk7tbf",
        "outputId": "8d6720c2-5f42-4738-b134-cb7020ce902e"
      },
      "source": [
        "\n",
        "def test(x_0, y_0, x_1, y_1, x_2, y_2):\n",
        "    \"\"\"Tests the triangle_area function.\"\"\"\n",
        "    \n",
        "    print(\"A triangle with vertices (\" + str(x_0) + \",\" + str(y_0) + \"),\")\n",
        "    print(\"(\" + str(x_1) + \",\" + str(y_1) + \"), and\")\n",
        "    print(\"(\" + str(x_2) + \",\" + str(y_2) + \") has an area of\")\n",
        "    print(str(triangle_area(x_0, y_0, x_1, y_1, x_2, y_2)) + \".\")\n",
        "\n",
        "x_0, y_0, x_1, y_1, x_2, y_2 = 0, 0, 3, 4, 1, 1\n",
        "print(\"A triangle with vertices (\" + str(x_0) + \", \" + str(y_0) + \"), (\" + \n",
        "      str(x_1) + \",\" + str(y_1) + \"), and (\" + str(x_2) + \", \" + str(y_2) + \n",
        "      \") has an area of \" + str(triangle_area(x_0, y_0, x_1, y_1, x_2, y_2)) + \".\")\n",
        "\n",
        "x_0, y_0, x_1, y_1, x_2, y_2 = -2, 4, 1, 6, 2, 1\n",
        "print(\"A triangle with vertices (\" + str(x_0) + \", \" + str(y_0) + \"), (\" + \n",
        "      str(x_1) + \",\" + str(y_1) + \"), and (\" + str(x_2) + \", \" + str(y_2) + \n",
        "      \") has an area of \" + str(triangle_area(x_0, y_0, x_1, y_1, x_2, y_2)) + \".\")\n",
        "\n",
        "x_0, y_0, x_1, y_1, x_2, y_2 = 10, 0, 0, 0, 0, 10\n",
        "print(\"A triangle with vertices (\" + str(x_0) + \", \" + str(y_0) + \"), (\" + \n",
        "      str(x_1) + \",\" + str(y_1) + \"), and (\" + str(x_2) + \", \" + str(y_2) + \n",
        "      \") has an area of \" + str(triangle_area(x_0, y_0, x_1, y_1, x_2, y_2)) + \".\")\n"
      ],
      "execution_count": null,
      "outputs": [
        {
          "output_type": "stream",
          "text": [
            "A triangle with vertices (0, 0), (3,4), and (1, 1) has an area of 0.5.\n",
            "A triangle with vertices (-2, 4), (1,6), and (2, 1) has an area of 8.5.\n",
            "A triangle with vertices (10, 0), (0,0), and (0, 10) has an area of 50.0.\n"
          ],
          "name": "stdout"
        }
      ]
    },
    {
      "cell_type": "markdown",
      "metadata": {
        "id": "bQFLdrLZsp03"
      },
      "source": [
        "### 12.Challenge: Write a Python function print_digits that takes an integer number in the range [0,100), (i.e., at least 0, but less than 100) and prints the message \"The tens digit is %, and the ones digit is %.\", where the percent signs should be replaced with the appropriate values. (Hint: Use the arithmetic operators for integer division // and remainder % to find the two digits. Note that this function should print the desired message, rather than returning it as a string. "
      ]
    },
    {
      "cell_type": "code",
      "metadata": {
        "colab": {
          "base_uri": "https://localhost:8080/"
        },
        "id": "vMx6pz-u-R0u",
        "outputId": "9fc5b822-5db7-41a8-b61f-60e66568b667"
      },
      "source": [
        "def print_digits(number):\n",
        "      tens = number//10\n",
        "      ones = number%10\n",
        "\n",
        "      print('The tens digit is',tens,'and the ones digit is ', ones)\n",
        "      \n",
        "\n",
        "print_digits(42)\n",
        "print_digits(99)\n",
        "print_digits(5)"
      ],
      "execution_count": null,
      "outputs": [
        {
          "output_type": "stream",
          "text": [
            "The tens digit is 4 and the ones digit is  2\n",
            "The tens digit is 9 and the ones digit is  9\n",
            "The tens digit is 0 and the ones digit is  5\n"
          ],
          "name": "stdout"
        }
      ]
    },
    {
      "cell_type": "markdown",
      "metadata": {
        "id": "o0E699V4wCqM"
      },
      "source": [
        "### 13. Challenge:Powerball is lottery game in which 6 numbers are drawn at random. Players can purchase a lottery ticket with a specific number combination and, if the number on the ticket matches the numbers generated in a random drawing, the player wins a massive jackpot. Write a Python function 'powerball'  that takes no arguments and prints the message  \"Today’s numbers are %, %, %, %, and %. The Powerball number is %.\".\n",
        "### The first five numbers should be random integers in the range [1,60), i.e., at least 1, but less than 60. In reality, these five numbers must all be distinct, but for this problem, we will allow duplicates.  The Powerball number is a random integer in the range [1,36), i.e., at least 1 but less than 36.  Note that this function should print the desired message, rather than returning it as a string. "
      ]
    },
    {
      "cell_type": "code",
      "metadata": {
        "id": "vO2RUlgMsmw9"
      },
      "source": [
        "import random"
      ],
      "execution_count": null,
      "outputs": []
    },
    {
      "cell_type": "code",
      "metadata": {
        "id": "FUhRhRKjG0YJ"
      },
      "source": [
        "\n",
        "def powerball():\n",
        "    \"\"\"\n",
        "    Prints Powerball lottery numbers.\n",
        "    \"\"\"\n",
        "  \n",
        "    print(\"Today's numbers are \" + str(random.randrange(1, 60)) + \", \", end = \"\")\n",
        "    print(str(random.randrange(1, 60)) + \", \", end = \"\")\n",
        "    print(str(random.randrange(1, 60)) + \", \", end = \"\") \n",
        "    print(str(random.randrange(1, 60)) + \", and \", end = \"\")\n",
        "    print(str(random.randrange(1, 60)) + \". The Powerball number is \",  end = \"\") \n",
        "    print(str(random.randrange(1, 36)) + \".\")"
      ],
      "execution_count": null,
      "outputs": []
    },
    {
      "cell_type": "code",
      "metadata": {
        "colab": {
          "base_uri": "https://localhost:8080/"
        },
        "id": "0bcZMq_fHkZD",
        "outputId": "4cd58fe6-78d9-4b25-f4e3-d886d4b7f27f"
      },
      "source": [
        "powerball()\n",
        "powerball()\n",
        "powerball()"
      ],
      "execution_count": null,
      "outputs": [
        {
          "output_type": "stream",
          "text": [
            "Today's numbers are 35, 56, 17, 28, and 22. The Powerball number is 9.\n",
            "Today's numbers are 9, 18, 6, 7, and 20. The Powerball number is 24.\n",
            "Today's numbers are 34, 56, 17, 44, and 50. The Powerball number is 20.\n"
          ],
          "name": "stdout"
        }
      ]
    },
    {
      "cell_type": "code",
      "metadata": {
        "id": "QLlnwi4vHlND"
      },
      "source": [
        ""
      ],
      "execution_count": null,
      "outputs": []
    }
  ]
}