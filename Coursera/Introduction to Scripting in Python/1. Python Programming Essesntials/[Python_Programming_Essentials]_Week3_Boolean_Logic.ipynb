{
  "nbformat": 4,
  "nbformat_minor": 0,
  "metadata": {
    "colab": {
      "name": "[Python Programming Essentials] Week3_Boolean Logic.ipynb",
      "provenance": []
    },
    "kernelspec": {
      "name": "python3",
      "display_name": "Python 3"
    },
    "language_info": {
      "name": "python"
    }
  },
  "cells": [
    {
      "cell_type": "markdown",
      "metadata": {
        "id": "aOTc9pICb3RS"
      },
      "source": [
        "### Boolean Logic\n",
        "\n",
        "![and or.JPG](data:image/jpeg;base64,/9j/4AAQSkZJRgABAQEAYABgAAD/4RDcRXhpZgAATU0AKgAAAAgABAE7AAIAAAAGAAAISodpAAQAAAABAAAIUJydAAEAAAAMAAAQyOocAAcAAAgMAAAAPgAAAAAc6gAAAAgAAAAAAAAAAAAAAAAAAAAAAAAAAAAAAAAAAAAAAAAAAAAAAAAAAAAAAAAAAAAAAAAAAAAAAAAAAAAAAAAAAAAAAAAAAAAAAAAAAAAAAAAAAAAAAAAAAAAAAAAAAAAAAAAAAAAAAAAAAAAAAAAAAAAAAAAAAAAAAAAAAAAAAAAAAAAAAAAAAAAAAAAAAAAAAAAAAAAAAAAAAAAAAAAAAAAAAAAAAAAAAAAAAAAAAAAAAAAAAAAAAAAAAAAAAAAAAAAAAAAAAAAAAAAAAAAAAAAAAAAAAAAAAAAAAAAAAAAAAAAAAAAAAAAAAAAAAAAAAAAAAAAAAAAAAAAAAAAAAAAAAAAAAAAAAAAAAAAAAAAAAAAAAAAAAAAAAAAAAAAAAAAAAAAAAAAAAAAAAAAAAAAAAAAAAAAAAAAAAAAAAAAAAAAAAAAAAAAAAAAAAAAAAAAAAAAAAAAAAAAAAAAAAAAAAAAAAAAAAAAAAAAAAAAAAAAAAAAAAAAAAAAAAAAAAAAAAAAAAAAAAAAAAAAAAAAAAAAAAAAAAAAAAAAAAAAAAAAAAAAAAAAAAAAAAAAAAAAAAAAAAAAAAAAAAAAAAAAAAAAAAAAAAAAAAAAAAAAAAAAAAAAAAAAAAAAAAAAAAAAAAAAAAAAAAAAAAAAAAAAAAAAAAAAAAAAAAAAAAAAAAAAAAAAAAAAAAAAAAAAAAAAAAAAAAAAAAAAAAAAAAAAAAAAAAAAAAAAAAAAAAAAAAAAAAAAAAAAAAAAAAAAAAAAAAAAAAAAAAAAAAAAAAAAAAAAAAAAAAAAAAAAAAAAAAAAAAAAAAAAAAAAAAAAAAAAAAAAAAAAAAAAAAAAAAAAAAAAAAAAAAAAAAAAAAAAAAAAAAAAAAAAAAAAAAAAAAAAAAAAAAAAAAAAAAAAAAAAAAAAAAAAAAAAAAAAAAAAAAAAAAAAAAAAAAAAAAAAAAAAAAAAAAAAAAAAAAAAAAAAAAAAAAAAAAAAAAAAAAAAAAAAAAAAAAAAAAAAAAAAAAAAAAAAAAAAAAAAAAAAAAAAAAAAAAAAAAAAAAAAAAAAAAAAAAAAAAAAAAAAAAAAAAAAAAAAAAAAAAAAAAAAAAAAAAAAAAAAAAAAAAAAAAAAAAAAAAAAAAAAAAAAAAAAAAAAAAAAAAAAAAAAAAAAAAAAAAAAAAAAAAAAAAAAAAAAAAAAAAAAAAAAAAAAAAAAAAAAAAAAAAAAAAAAAAAAAAAAAAAAAAAAAAAAAAAAAAAAAAAAAAAAAAAAAAAAAAAAAAAAAAAAAAAAAAAAAAAAAAAAAAAAAAAAAAAAAAAAAAAAAAAAAAAAAAAAAAAAAAAAAAAAAAAAAAAAAAAAAAAAAAAAAAAAAAAAAAAAAAAAAAAAAAAAAAAAAAAAAAAAAAAAAAAAAAAAAAAAAAAAAAAAAAAAAAAAAAAAAAAAAAAAAAAAAAAAAAAAAAAAAAAAAAAAAAAAAAAAAAAAAAAAAAAAAAAAAAAAAAAAAAAAAAAAAAAAAAAAAAAAAAAAAAAAAAAAAAAAAAAAAAAAAAAAAAAAAAAAAAAAAAAAAAAAAAAAAAAAAAAAAAAAAAAAAAAAAAAAAAAAAAAAAAAAAAAAAAAAAAAAAAAAAAAAAAAAAAAAAAAAAAAAAAAAAAAAAAAAAAAAAAAAAAAAAAAAAAAAAAAAAAAAAAAAAAAAAAAAAAAAAAAAAAAAAAAAAAAAAAAAAAAAAAAAAAAAAAAAAAAAAAAAAAAAAAAAAAAAAAAAAAAAAAAAAAAAAAAAAAAAAAAAAAAAAAAAAAAAAAAAAAAAAAAAAAAAAAAAAAAAAAAAAAAAAAAAAAAAAAAAAAAAAAAAAAAAAAAAAAAAAAAAAAAAAAAAAAAAAAAAAAAAAAAAAAAAAAAAAAAAAAAAAAAAAAAAAAAAAAAAAAAAAAAAAAAAAAAAAAAAAAAAAAAAAAAAAAAAAAAAAAAAAAAAAAAAAAAAAAAAAAAAAAAAAAAAAAAAAAAAAAAAAAAAAAAAAAAAAAAAAAAAAAAAAAAAAAAAAAAAAAAAAAAAAAAAAAAAAAAAAAAAAAAAAAAAAAAAAAAAAAAAAAAAAAAAAAAAAAAAAAAAAAAAAAAAAAAAAAAAAAAAAAAAAAAAAAAAAAAAAAAAAAAAAAAAAAAAAAAAAAAAAAAAAAAAAAAAAAAAAAAAAAAAAAAAAAAAAAAAAAAAAAAAAAAAAAAAAAAAAAAAAAAAAAAAAAAAAAAAAAAAAAAAAAAAAAAAAAAAAAAAAAAAAAAAAAAAAAAAAAAAAAAAAAAAAAAAAAAAAAAAAAAAAAAAAAAAAAAAAAAAAAAAAAAAAAAAAAAAAAAAAAAAAAAAAAAAAAAAAAAAAAAAAAAAAAAAAAAAAAAAAAAAAAAAAAAAAAAAAAAAAAAAAAAAAAAAAAAAAAAAAAAAAAAAAAAAAAAAAAAAAAAAAAAAAAAAAAAAAAAAAAAAAAAAAAAAAAAAAAAAAAAAAAAAAAAAAAAAAAAAAAAAAAAAAAAAAAAAAAAAAAAAAAAAAAAAAAAAAAAAAAAAAAAAAAAAAAAAAAAAAAAAAAAAAAAAAAAAAAAAAAAAAAAAAAAAAAAAAAAAAAAAAAAAAAAAAAAAAAAAAAAAAAAAAAAAAAAAAAAAAAAAAAAAAAAAAAAAAAAAAAAAAAAAAAAAAAAAAAAAAAAAAAAAAAAAAAAAAAAAAAAAAAAAAAAAAAAAAAAAAAAAAAAAAAAAAAGNiMjUzAAAFkAMAAgAAABQAABCekAQAAgAAABQAABCykpEAAgAAAAM0NQAAkpIAAgAAAAM0NQAA6hwABwAACAwAAAiSAAAAABzqAAAACAAAAAAAAAAAAAAAAAAAAAAAAAAAAAAAAAAAAAAAAAAAAAAAAAAAAAAAAAAAAAAAAAAAAAAAAAAAAAAAAAAAAAAAAAAAAAAAAAAAAAAAAAAAAAAAAAAAAAAAAAAAAAAAAAAAAAAAAAAAAAAAAAAAAAAAAAAAAAAAAAAAAAAAAAAAAAAAAAAAAAAAAAAAAAAAAAAAAAAAAAAAAAAAAAAAAAAAAAAAAAAAAAAAAAAAAAAAAAAAAAAAAAAAAAAAAAAAAAAAAAAAAAAAAAAAAAAAAAAAAAAAAAAAAAAAAAAAAAAAAAAAAAAAAAAAAAAAAAAAAAAAAAAAAAAAAAAAAAAAAAAAAAAAAAAAAAAAAAAAAAAAAAAAAAAAAAAAAAAAAAAAAAAAAAAAAAAAAAAAAAAAAAAAAAAAAAAAAAAAAAAAAAAAAAAAAAAAAAAAAAAAAAAAAAAAAAAAAAAAAAAAAAAAAAAAAAAAAAAAAAAAAAAAAAAAAAAAAAAAAAAAAAAAAAAAAAAAAAAAAAAAAAAAAAAAAAAAAAAAAAAAAAAAAAAAAAAAAAAAAAAAAAAAAAAAAAAAAAAAAAAAAAAAAAAAAAAAAAAAAAAAAAAAAAAAAAAAAAAAAAAAAAAAAAAAAAAAAAAAAAAAAAAAAAAAAAAAAAAAAAAAAAAAAAAAAAAAAAAAAAAAAAAAAAAAAAAAAAAAAAAAAAAAAAAAAAAAAAAAAAAAAAAAAAAAAAAAAAAAAAAAAAAAAAAAAAAAAAAAAAAAAAAAAAAAAAAAAAAAAAAAAAAAAAAAAAAAAAAAAAAAAAAAAAAAAAAAAAAAAAAAAAAAAAAAAAAAAAAAAAAAAAAAAAAAAAAAAAAAAAAAAAAAAAAAAAAAAAAAAAAAAAAAAAAAAAAAAAAAAAAAAAAAAAAAAAAAAAAAAAAAAAAAAAAAAAAAAAAAAAAAAAAAAAAAAAAAAAAAAAAAAAAAAAAAAAAAAAAAAAAAAAAAAAAAAAAAAAAAAAAAAAAAAAAAAAAAAAAAAAAAAAAAAAAAAAAAAAAAAAAAAAAAAAAAAAAAAAAAAAAAAAAAAAAAAAAAAAAAAAAAAAAAAAAAAAAAAAAAAAAAAAAAAAAAAAAAAAAAAAAAAAAAAAAAAAAAAAAAAAAAAAAAAAAAAAAAAAAAAAAAAAAAAAAAAAAAAAAAAAAAAAAAAAAAAAAAAAAAAAAAAAAAAAAAAAAAAAAAAAAAAAAAAAAAAAAAAAAAAAAAAAAAAAAAAAAAAAAAAAAAAAAAAAAAAAAAAAAAAAAAAAAAAAAAAAAAAAAAAAAAAAAAAAAAAAAAAAAAAAAAAAAAAAAAAAAAAAAAAAAAAAAAAAAAAAAAAAAAAAAAAAAAAAAAAAAAAAAAAAAAAAAAAAAAAAAAAAAAAAAAAAAAAAAAAAAAAAAAAAAAAAAAAAAAAAAAAAAAAAAAAAAAAAAAAAAAAAAAAAAAAAAAAAAAAAAAAAAAAAAAAAAAAAAAAAAAAAAAAAAAAAAAAAAAAAAAAAAAAAAAAAAAAAAAAAAAAAAAAAAAAAAAAAAAAAAAAAAAAAAAAAAAAAAAAAAAAAAAAAAAAAAAAAAAAAAAAAAAAAAAAAAAAAAAAAAAAAAAAAAAAAAAAAAAAAAAAAAAAAAAAAAAAAAAAAAAAAAAAAAAAAAAAAAAAAAAAAAAAAAAAAAAAAAAAAAAAAAAAAAAAAAAAAAAAAAAAAAAAAAAAAAAAAAAAAAAAAAAAAAAAAAAAAAAAAAAAAAAAAAAAAAAAAAAAAAAAAAAAAAAAAAAAAAAAAAAAAAAAAAAAAAAAAAAAAAAAAAAAAAAAAAAAAAAAAAAAAAAAAAAAAAAAAAAAAAAAAAAAAAAAAAAAAAAAAAAAAAAAAAAAAAAAAAAAAAAAAAAAAAAAAAAAAAAAAAAAAAAAAAAAAAAAAAAAAAAAAAAAAAAAAAAAAAAAAAAAAAAAAAAAAAAAAAAAAAAAAAAAAAAAAAAAAAAAAAAAAAAAAAAAAAAAAAAAAAAAAAAAAAAAAAAAAAAAAAAAAAAAAAAAAAAAAAAAAAAAAAAAAAAAAAAAAAAAAAAAAAAAAAAAAAAAAAAAAAAAAAAAAAAAAAAAAAAAAAAAAAAAAAAAAAAAAAAAAAAAAAAAAAAAAAAAAAAAAAAAAAAAAAAAAAAAAAAAAAAAAAAAAAAAAAAAAAAAAAAAAAAAAAAAAAAAAAAAAAAAAAAAAAAAAAAAAAAAAAAAAAAAAAAAAAAAAAAAAAAAAAAAAAAAAAAAAAAAAAAAAAAAAAAAAAAAAAAAAAAAAAAAAAAAAAAAAAAAAAAAAAAAAAAAAAAAAAAAAAAAAAAAAAAAAAAAAAAAAAAAAAAAAAAAAAAAAAAAAAAAAAAAAAAAAAAAAAAAAAAAAAAAAAAAAAAAAAAAAAAAAAAAAAAAAAAAAAAAAAAAAAAAAAAAAAAAAAAAAAAAAAAAAAAAAAAAAAAAAAAAAAAAAAAAAAAAAAAAAAAAAAAAAAAAAAAAAAAAAAAAAAAAAAAAAAAAAAAAAAAAAAAAAAAAAAAAAAAAAAAAAAAAAAAAAAAAAAAAAAAAAAAAAAAAAAAAAAAAAAAAAAAAAAAAAAAAAAAAAAAAAAAAAAAAAAAAAAAAAAAAAAAAAAAAAAAAAAAAAAAAAAAAAAAAAAAAAAAAAAAAAAAAAAAAAAAAAAAAAAAAAAAAAAAAAAAAAAAAAAAAAAAAAAAAAAAAAAAAAAAAAAAMjAyMTowNjoxNiAxNToyMjowNgAyMDIxOjA2OjE2IDE1OjIyOjA2AAAAYwBiADIANQAzAAAA/+ELGGh0dHA6Ly9ucy5hZG9iZS5jb20veGFwLzEuMC8APD94cGFja2V0IGJlZ2luPSfvu78nIGlkPSdXNU0wTXBDZWhpSHpyZVN6TlRjemtjOWQnPz4NCjx4OnhtcG1ldGEgeG1sbnM6eD0iYWRvYmU6bnM6bWV0YS8iPjxyZGY6UkRGIHhtbG5zOnJkZj0iaHR0cDovL3d3dy53My5vcmcvMTk5OS8wMi8yMi1yZGYtc3ludGF4LW5zIyI+PHJkZjpEZXNjcmlwdGlvbiByZGY6YWJvdXQ9InV1aWQ6ZmFmNWJkZDUtYmEzZC0xMWRhLWFkMzEtZDMzZDc1MTgyZjFiIiB4bWxuczpkYz0iaHR0cDovL3B1cmwub3JnL2RjL2VsZW1lbnRzLzEuMS8iLz48cmRmOkRlc2NyaXB0aW9uIHJkZjphYm91dD0idXVpZDpmYWY1YmRkNS1iYTNkLTExZGEtYWQzMS1kMzNkNzUxODJmMWIiIHhtbG5zOnhtcD0iaHR0cDovL25zLmFkb2JlLmNvbS94YXAvMS4wLyI+PHhtcDpDcmVhdGVEYXRlPjIwMjEtMDYtMTZUMTU6MjI6MDYuNDQ5PC94bXA6Q3JlYXRlRGF0ZT48L3JkZjpEZXNjcmlwdGlvbj48cmRmOkRlc2NyaXB0aW9uIHJkZjphYm91dD0idXVpZDpmYWY1YmRkNS1iYTNkLTExZGEtYWQzMS1kMzNkNzUxODJmMWIiIHhtbG5zOmRjPSJodHRwOi8vcHVybC5vcmcvZGMvZWxlbWVudHMvMS4xLyI+PGRjOmNyZWF0b3I+PHJkZjpTZXEgeG1sbnM6cmRmPSJodHRwOi8vd3d3LnczLm9yZy8xOTk5LzAyLzIyLXJkZi1zeW50YXgtbnMjIj48cmRmOmxpPmNiMjUzPC9yZGY6bGk+PC9yZGY6U2VxPg0KCQkJPC9kYzpjcmVhdG9yPjwvcmRmOkRlc2NyaXB0aW9uPjwvcmRmOlJERj48L3g6eG1wbWV0YT4NCiAgICAgICAgICAgICAgICAgICAgICAgICAgICAgICAgICAgICAgICAgICAgICAgICAgICAgICAgICAgICAgICAgICAgICAgICAgICAgICAgICAgICAgICAgICAgICAgICAgICAKICAgICAgICAgICAgICAgICAgICAgICAgICAgICAgICAgICAgICAgICAgICAgICAgICAgICAgICAgICAgICAgICAgICAgICAgICAgICAgICAgICAgICAgICAgICAgICAgICAgIAogICAgICAgICAgICAgICAgICAgICAgICAgICAgICAgICAgICAgICAgICAgICAgICAgICAgICAgICAgICAgICAgICAgICAgICAgICAgICAgICAgICAgICAgICAgICAgICAgICAgCiAgICAgICAgICAgICAgICAgICAgICAgICAgICAgICAgICAgICAgICAgICAgICAgICAgICAgICAgICAgICAgICAgICAgICAgICAgICAgICAgICAgICAgICAgICAgICAgICAgICAKICAgICAgICAgICAgICAgICAgICAgICAgICAgICAgICAgICAgICAgICAgICAgICAgICAgICAgICAgICAgICAgICAgICAgICAgICAgICAgICAgICAgICAgICAgICAgICAgICAgIAogICAgICAgICAgICAgICAgICAgICAgICAgICAgICAgICAgICAgICAgICAgICAgICAgICAgICAgICAgICAgICAgICAgICAgICAgICAgICAgICAgICAgICAgICAgICAgICAgICAgCiAgICAgICAgICAgICAgICAgICAgICAgICAgICAgICAgICAgICAgICAgICAgICAgICAgICAgICAgICAgICAgICAgICAgICAgICAgICAgICAgICAgICAgICAgICAgICAgICAgICAKICAgICAgICAgICAgICAgICAgICAgICAgICAgICAgICAgICAgICAgICAgICAgICAgICAgICAgICAgICAgICAgICAgICAgICAgICAgICAgICAgICAgICAgICAgICAgICAgICAgIAogICAgICAgICAgICAgICAgICAgICAgICAgICAgICAgICAgICAgICAgICAgICAgICAgICAgICAgICAgICAgICAgICAgICAgICAgICAgICAgICAgICAgICAgICAgICAgICAgICAgCiAgICAgICAgICAgICAgICAgICAgICAgICAgICAgICAgICAgICAgICAgICAgICAgICAgICAgICAgICAgICAgICAgICAgICAgICAgICAgICAgICAgICAgICAgICAgICAgICAgICAKICAgICAgICAgICAgICAgICAgICAgICAgICAgICAgICAgICAgICAgICAgICAgICAgICAgICAgICAgICAgICAgICAgICAgICAgICAgICAgICAgICAgICAgICAgICAgICAgICAgIAogICAgICAgICAgICAgICAgICAgICAgICAgICAgICAgICAgICAgICAgICAgICAgICAgICAgICAgICAgICAgICAgICAgICAgICAgICAgICAgICAgICAgICAgICAgICAgICAgICAgCiAgICAgICAgICAgICAgICAgICAgICAgICAgICAgICAgICAgICAgICAgICAgICAgICAgICAgICAgICAgICAgICAgICAgICAgICAgICAgICAgICAgICAgICAgICAgICAgICAgICAKICAgICAgICAgICAgICAgICAgICAgICAgICAgICAgICAgICAgICAgICAgICAgICAgICAgICAgICAgICAgICAgICAgICAgICAgICAgICAgICAgICAgICAgICAgICAgICAgICAgIAogICAgICAgICAgICAgICAgICAgICAgICAgICAgICAgICAgICAgICAgICAgICAgICAgICAgICAgICAgICAgICAgICAgICAgICAgICAgICAgICAgICAgICAgICAgICAgICAgICAgCiAgICAgICAgICAgICAgICAgICAgICAgICAgICAgICAgICAgICAgICAgICAgICAgICAgICAgICAgICAgICAgICAgICAgICAgICAgICAgICAgICAgICAgICAgICAgICAgICAgICAKICAgICAgICAgICAgICAgICAgICAgICAgICAgICAgICAgICAgICAgICAgICAgICAgICAgICAgICAgICAgICAgICAgICAgICAgICAgICAgICAgICAgICAgICAgICAgICAgICAgIAogICAgICAgICAgICAgICAgICAgICAgICAgICAgICAgICAgICAgICAgICAgICAgICAgICAgICAgICAgICAgICAgICAgICAgICAgICAgICAgICAgICAgICAgICAgICAgICAgICAgCiAgICAgICAgICAgICAgICAgICAgICAgICAgICAgICAgICAgICAgICAgICAgICAgICAgICAgICAgICAgICAgICAgICAgICAgICAgICAgICAgICAgICAgICAgICAgICAgICAgICAKICAgICAgICAgICAgICAgICAgICAgICAgICAgICAgICAgICAgICAgICAgICAgICAgICAgICAgICAgICAgICAgICAgICAgICAgICAgICAgICAgICAgICAgICAgICAgICAgICAgIAogICAgICAgICAgICAgICAgICAgICAgICAgICAgPD94cGFja2V0IGVuZD0ndyc/Pv/bAEMABwUFBgUEBwYFBggHBwgKEQsKCQkKFQ8QDBEYFRoZGBUYFxseJyEbHSUdFxgiLiIlKCkrLCsaIC8zLyoyJyorKv/bAEMBBwgICgkKFAsLFCocGBwqKioqKioqKioqKioqKioqKioqKioqKioqKioqKioqKioqKioqKioqKioqKioqKioqKv/AABEIAJQBIgMBIgACEQEDEQH/xAAfAAABBQEBAQEBAQAAAAAAAAAAAQIDBAUGBwgJCgv/xAC1EAACAQMDAgQDBQUEBAAAAX0BAgMABBEFEiExQQYTUWEHInEUMoGRoQgjQrHBFVLR8CQzYnKCCQoWFxgZGiUmJygpKjQ1Njc4OTpDREVGR0hJSlNUVVZXWFlaY2RlZmdoaWpzdHV2d3h5eoOEhYaHiImKkpOUlZaXmJmaoqOkpaanqKmqsrO0tba3uLm6wsPExcbHyMnK0tPU1dbX2Nna4eLj5OXm5+jp6vHy8/T19vf4+fr/xAAfAQADAQEBAQEBAQEBAAAAAAAAAQIDBAUGBwgJCgv/xAC1EQACAQIEBAMEBwUEBAABAncAAQIDEQQFITEGEkFRB2FxEyIygQgUQpGhscEJIzNS8BVictEKFiQ04SXxFxgZGiYnKCkqNTY3ODk6Q0RFRkdISUpTVFVWV1hZWmNkZWZnaGlqc3R1dnd4eXqCg4SFhoeIiYqSk5SVlpeYmZqio6Slpqeoqaqys7S1tre4ubrCw8TFxsfIycrS09TV1tfY2dri4+Tl5ufo6ery8/T19vf4+fr/2gAMAwEAAhEDEQA/APpGiiigAoqtdalZWU9vDd3UUMly/lwo7AGRvQetWaBXT0QVl2mr/afEWo6WYwps44ZA+fviTd29ttalcfbTGH4xX1ueFudIikHuUkYf+zUGdSTi4+b/AMzsKKzda1/TPD1l9q1i7jtoicLu5LH0AHJ/CudtPin4dubuOGX7ZZxysFiuLm3KRSc44b09zigU69KD5ZSSZ2lFAIIyORRQbDXbZGzAZwCcetY/hLxCvinw3b6skBt/OLAxFt20qxHXv0zW0eRXEfCtDB4cv7M5/wBE1O4hAPbBB/rQc85yVaMejT/Q7eiiig6AooooAKKKKACiiqk2radbzNFPf20Ui/eR5lBH4E0CbS3LdFMhniuIxJBIkiN0ZGyD+NPoHuFYPhPVrvVLC8XUShurK+mtZGQYDbW+U47fKRW9XKeD/wB3rXiqH+7qpf8A76iQ0GM21Uh53/I6uiiqGt6tb6Fo1zqV5nyrdCxVerHso9ycD8aDWUlFXZfoqppmoQatpdtf2hzDcRiRM9QCOh96t0AmmroKKTIzjPNLQMKKiuLmC0hM11MkMYIBeRgoBJwOT7kCnNNEjKryKrN90E4J+lArofWV4k12Pw9oz3skfmtuCRx5xuY+/wCBP4Vq15l8W/FWj2mnw6VLd5vo7lJHhRGYquxuuBjuPzoFKUY/EyqfinrWeLWwA943/wDi6T/haWt/8+th/wB+3/8Ai65jQ5rC70ae9+zC+zNFFEPMZMFhJnp3yo61sadHpmk6o9vcySSvErLdt5gWIj+JApBL88dueeMZoK3L/wDwtLW/+fWw/wC/b/8AxdFcfcNE1zK1sjJCXJjVjkqueAT9KKAPoig0UGgDyPxxbQeJfiPNYyXkdn/Zmll45pJAm2ckMnJ+q/ka7zwP4g/4STwnaXsjKbkL5VyB/DIvB/Pr+NcnpnhHSPFvjTxNqOt2jXCw3yQQguyD5IwG6EZ7V1mi+FYfDus3M2jssGn3aAyWeOElHAZfQEdR7Cg8yhGp7V1baNv/AID+VvxOgrjtZX7N8V/DtwOPtVrc2zH/AHQHFdjXHeOSbbWvCl+v/LPVFgJ9BIpU/wAqDqxOlPm7NP8AE1fFOnQXOjz3rWUN1e2MEstmZYw+yTacEA+4FeZ+IL7xJ4h8I6TJdWkk/h17eGS+uLQK87sv3zg9MEHoMep7V7MyhkKnoRg15xZXPi7wjpMWg6d4W/tBIWdYLwXS7GUsSCVwCOCMgkUHNi6fM9W0muiv953WiahY6pottd6TKJbR0AjYdgOMH0Iq/XJ/Dzw3feG9Bmj1V4xc3dy1y0MX3IcgDaPyrrKDtoylKmnJWYVxPw/k8vVvFln3i1d5MezgY/lXbVwvhZPs3xS8YQAYEn2aYe+UOf1NBlW0q035v8mdya8psvFuqL42n1uW4d/D82pHSfKZvkiwBskHbk5yfQ/l6TrdxNa6DfXFpG8s8VvI8SRqSzMFOAAO+a880n4Q2E3hONdQnu01G4t975lISKQjI+QYzjjr6UGWK9rKcVS6a9vQ9QBzXI3nj+Gw8U6jpVzp9wYNPhSWS4gUyH5gDnYBkKM9a3tCN7/YdoNVj8u8SMJMNwYFl4LAjscZ/GuZ8R+Htfi8Vr4h8JfYmuJrX7Lcw3eQCM5DAjqen5UGteVTkUqfz9Do/wC37KbwxJrljKLi0W3adHXjcFBJHPQ8Yry3SdV8Qat4k0ZrLWry51K7K3d7ApAtLW3PIQr3baR+Y78133hfwn/Yvgc6HeSrK8ySeeyfdy+chfYZrn9A+FyLpNm2r3F1Y6rbhojPp1yUMkYY7c8emPwxQc1aOIq8jtbS71t2/r7z0evLvFtp8PdP17Updd02Z79YVunVXcLNubb8uGxnOM9OufWvRtM05NLslto57m4AJO+5maVz+LfyqrfeH7S+12y1WVR59qjxnKgiRGH3T9Dgj8fWg6q9N1YJWV/PU4j4OxRGDVLy0mghtLqVTDp0Vx5rW4GeWycgnI+uK9NryvxsNH0vxRpVx4VaKPxIbxInt7QgCSM/eEijgduvOCfTj1NenNBng/ci6X8v9fL0FrkfDZEfj/xbB6yWsuPrFj+lddXJ6enkfFbWF/5+NNt5frtZ1oNqvxwfn+jOsrzz4z3Ri8H29shcPdXaqNnX5VZh/wCPBa9DrmvFHhmTxDrGgzGRVtdOujczKT8zEAFAPxHPtQLEwlUpOEd2YXw116wMl/oVnNJOkVw01swgcARuNxVsj5cNuHOM9q9C7Vj3OjMPFNnrNoVVhE9vdKTjzIz8yn3IYfkxrX7UDoQlCHJLp+R5l4t1CeT4kKuj6rBY3unaaSFnkVVuZGcEQkEjORjp7Vta3rUuufCm71bSZpLOf7P5p2tteNkYF0JHI+6RWjpPhlYPEOsatqUFtNPeXKvbvsDNHGqKo5I4OQentV4+HLAW2p28aNHDqm43CKeCzLtZgOxIxn359aDCNKo+d/zX/wCAeZw+I9U8QfDdtEuNN1O41XUOIrgwExOjvuD+Z0AA49sVu634ZstV+JVpFrlv9ot7rSSkUm9lKSxPkkEHg4bNdzpenQaRpNrp9ru8m1iWJNxySAMc+9UfEXh5PENvDE11NaNE7fvYMB9jKVZQT0yDQR9VlyLmfM1b8DM+Hl7PeeHrgTXMl3Db300FrPI25pIVOFJb+LuM+1cJ8aobm01zT7jSLUy3FxbyGURr97btAdvXAPfpXremaba6PpsFhp8Sw28CBUQfzPqT1J71jeI4JYdc07WLbTbrUJbSGaMRW4T5t4XqWYY+72BoNZU5KjGLeqseJ+ENQ0+HQZbOeK5lPnK8m2QRuki785yD/f8A0rdi1LS7Z5JbeyujM8boDLcKw+ZSuT8vPWu68HeDylzq2q+I9HsYbjUpxIlp5aSCBQMAZxjJ74rqB4d0T/oD2H/gKn+FBvRbcE2rHgtFe9/8I7on/QHsP/AVP8KKDUl1LUodLtxNcR3EilgoFvA8rZ+ignt1rJbxnaD7mma1J/u6ZN/VRXRUlBnJTb0dvkc1/wAJigz5Xh7Xm+lgRn8yKB4vuG/1fhbXW+sEa/zeujLBQSSBiq2n6naapp8F7Zyh4J13ISNpI+h5pmbjPbn/AARi/wDCVaiR8vhHWD9TCP8A2pXMeOte1G50vT2m8N39osOpW8oeaSLDENwowx5PTPSvTa4z4onb4QRv7t9bn/yIKRhiadRUZNz6dkWT4k8R4+TwVdn/AHr6Af1ph8SeKj93wRL/AMC1OEV1lRvPDE2JZUQ9cMwFM2dOa1dR/h/kcr/wkXjDt4JA+uqx/wDxNH9u+NG+74PgX/e1Rf8A4mumk1GyiUtLeW6KOpaVRj9aisda0vUriSDTtRtbuWIZkSCZXKj3APFBKi27e1f/AJL/AJHPf2v45b7vhnT0/wB/Uc/yWuWtbzxXB8Ur4RaZpq6jdackjwPdN5exWwGDBevtivWK4HUwbf456NKOBdabJCT67S7f4UjKvSkuVub3Xbrp2L32z4gnppWhD63cn/xNJ9q+IZ/5hvh8fW5lP9K7Cig39i/539//AADj/tHxF7WHh38Z5v8ACk+0/Eb/AJ8fDn/f+b/CuxrM1LxHo2j3Mdvqup2tpLIu5EmlCkjpnntQKVJRV3N/eYP2j4i/8+Hh3/v/ADf4UfafiL/z4eHf+/8AN/hV+48f+FLX/W69ZN/1yk8z/wBBzVCL4n6De3X2fSI9Q1ST0tLRmx+eKDJuknb2v4oQ3XxGH/MO8PH6XEv+FKLz4hgc6VoJ+l1J/hXWWsxubWOZoZIC658uUAMvscE1LQbexf8AO/v/AOAcPGPGkN01zH4a8PrO5JaVJ2DN9TtzVj+0vH3/AEANJP0vm/8Aia7CigSoNbTf4f5HIHVfHg/5lzTT9L8//E1z39p+Lo/iOZDoNmb6XS9vkC9+Xy1lzu3Y65OMV6j2rj9UPkfFrQ36C4sLiH67SGoM6tKSSfO9129Owf2145HXwpZn6akP/iaaup+PppmK6BpcEa4+Sa8Ys30ZR/MCuyooNvYy/nf4f5HH/wDCQeM4T++8GRzDu0Gpp+gYClHjPVYj/pfgvWE9TCY5f5EV19JigXsqnSo/uX+Ryf8Awn6Ac+GvEQb+7/Z5/wAab/wnr/w+FPEbf9uWP/Zqu6p488NaLey2eo6rHFcxY3xBGYrxnsDWP/wt7wu0my2e8ujnA8m1Y5/PFMwlUSdnWX4FhvHl7/yy8G6+x/2oFX+tRf8ACX+Kbxsab4HugB1a8ukh/QjmtjT/ABbb6kyeTpmrorkAPLp8ir+eMYrfpGkYTnqqv4L/ACOIOvePe3hC0/8ABitVL3VfiXdqiWGgWNgQcs8lysuR6deK9CxRQU6Enp7R/h/kcXYWnxEl2vf6no1vzyiWzSY/Ufzrq7JLxLYLqE0M02eXhiMan/gJZv51ZooNYU1Dq36sKKKKDUKjmj82F4wzJvUruU4K57j3qSigNzz5Pg/oZy17fareSHJLS3I/oKpfDLwhod14chv73TFkvobiRDJKzNyjnB2k4GOnTtXpxrN0PSl0exkt1IIe5nm49HkZwPwBA/Cg4lhKUailGPf9DSri/isceBnb0uoD/wCRFrtK4n4tcfD25P8AdngP/kRaDTFfwJ+jO1rnNb8A+HfEWom+1WyaW4ZQhdZnXIHTgHFdHRQbTpwqLlmro8n8KeBfDl14v8SWl1paTQafcRrbK8jnaCpJB556DrXp9jp1lpsIh0+0htYx/BDGEH6VS0vRBputavfCQN/aMySbduNm1AuM9+QT+Na9BhhqEaUdtdfzCuF8ZyC0+IXgu6AwWnnhJ9mVQP5mu6rz34qgwy+GLxePI1eLJ9ATn/2WgMVpSb7NP7mj0Giiig6QrK1fwxouvsraxpsF26LtVnX5lHXAI5rVooJlFSVpK55Z4t8IeH9E1vwv/Z2lQRJcakscykFhIvHB3E5Fen29rBaxiO2hjhjHRY1CgfgKo6nodrqt/pt1d7i2nTGeJR0LbSBn6Zz9QK06DGjRVOcmkkna33CYoxS0UHSJijFLRQAVx3igbPiD4On6fvrmMn/ei/8ArV2NcZ45fyNc8JT+mrLH/wB9qRQc+I/h381+aOzooooOgKKKKAKZ0qwNxJP9htvNlbc8nlLuY4xknHPAFcrYW4074x6jHGoEWo6ZHcYAxho22Y/Ku2qt9htv7S+3mJftQi8kS9wmc4/OgwqUlJxa6O5YpaSlFBsFFFFAwooooAKKKKACiiigCrd6nY2MiJe3tvbu4yqyyqpb6ZNZ8/jHw3bPsn13T0bPT7SpI/Wna14V0TxBMkusabDdSRrsV2yCB1xkEVx3gfwhoh1TxGlzpFtKttqbwwrNEJBHGFBAG7PrQclSddTUYpWfqd5p2sadq8bvpV9b3iIcM0EocKfQ46Vy3xc4+G18f+mkP/oxa7C3tLe0iEdrDHBGOiRoFA/AVyHxc/5JrqH+/D/6NWgeI5vq8ubezOyhbdCjf3lB/Sn1XsW36fbt/eiU/oKTUTMumXRtV3TiF/LHq2Dj9aDpvpcqSeJdDilEUusWCSE4CtcoDn6ZrRhmjnjDwyLIh6MjAivF/Bmp+Ff7Cs7V/CFzq2oquJpY7BZdz5J+8x7e9euaNDbQ6an2PTBpaMSxtvLRCp9wuRQcmGxDra6fK5frgvjDGT4IS4Xg217FKD6dR/Wu9rjPixCZvhrqYUZKeU/5SLn9KC8Wr4efozsInEkKOvRlBH40+szw5P8AavC+lzn/AJaWkTfmgrToNoO8UwNYus+LtB0CdYdX1OG2lYZEZJLY9cDJraNZd54b0XUL03d/pVndXBUKZJoFckDoORQKp7S37u1/MxG+KPhBemsI59EhkP8AJa0dL8YaXrNykOn/AGyQv0c2UqoPqxXA/OuZ8RaJp9l8QPBsel2Ntabp7h38iFU3bUU84HPf869DAoOejKvKUlNrR9F5J9xaKKKDsCiiigArifiWCljoVwOsGtWzZ/Ej+tdtXGfFJT/whomHWC9t5B7YcD+tBzYv+BI7OikU5GaWg6QooooA8/8Airdarp1hY3lleXUFiJGjuUtJPLdmK/u/nwcDcMH61l6GdLvNOtLofEDU7K4lhWWS3n1GNzHnqDuHrXoXiHSI9e8P3mmTYC3ERUMR91uqn8Dg1w/w68D6O/hiGfW9CjOpRyyRym6QncVc4IVuOmBnHameVWo1Hibx1TXVvS3odzoiY01XXVpNWjc5S5cxnI6YBQAEcVo1HDBFbQrDbxpFGgwqIoAUegAqQUj04qySCiiigoKKKKACiiigAooooAKihtYLdpWgiSNpn3yFVwXbAGT6nAA/Cku7uCxtJbq7lWGCFS8kjHAUDvXL2/xH0u9b/QNP1e7jJwssNg7K30NBlOrTg0pPU66uL+LYz8M9S9jF/wCjVrso38yNX2su4A4YYI+tch8Vxn4Z6p/2y/8ARqUEYnWhP0Z0mjNv0Oxb1toz/wCOirhrP0A7vDemn1tIj/44KvyypDE8szrHGgLM7HAUDqSaDaPwozfD+hW3hzSV0+yaR4lkeQGQ5PzMWxx2GcVqCsqTxPoMcSySazp6o33WNymD+tMh8WeH57hIINbsJZpGCpGlypZiegAzzQRGVOKUU0bFYHjq3+1eA9aj/wCnN2/75G7+lb+aoa7D9o8PajDjPmWsi4+qmgKq5qcl5My/h/P9o+H+jSelqqf98/L/AEroxXHfCmTzPhppfOdokX/yI1djQThnejB+S/IKKKyNd8UaP4ajhbWrxbYTEiMbWYtjrwAfUUGspRirydkT3ejWt7rGn6lOGM+n+Z5ODwN6hTn8BWhXFH4teENwVdRkZicBVtpCT/47W/pHiGDWmP2Szvo4wuRLcWzRKfYbsE/lQZQrUZStBptmtRRRQbhRRRQAVx/xTH/FudQI/haJvylWuwrkvigM/DfVv9xD/wCPrQc+J/gT9GdXGcxqfYU6q+nyedpttL13xK35gVYoNou8UwooooKE4o4rg/G9oL3xl4etL29vbfT70TQstrO0YaUAFc49eRWHpcXhOTXHsLPSfE8txHN5TyebMFU5xliHGB35oOOeJcZuNlvbV/8AAZ6xSiobW2jtLVIId3lxjC73LnHuSST+NTUHWFFFFAwooooAKKKKACiiigDI8V2Lal4R1Szj+/NayKnGfm2nH61xPw91Hxhd+FdMjs9O05dOjj8pLm5nbewViudq+mMYOOlemMNykHuMVkeFtEPh3w3a6WZhMYN/7wLjO52bp+NByVKMpVlNO2j/ADX/AATXAOBnr3rk/igu/wCG2rD0RD+UimutrmviHH5nw91lfS2Lflg/0oNa/wDBl6M0fDR3eFdKPrZQ/wDoAq/c20V5ay211GssMyFJEcZDKRgg1neFefB+j/8AXjD/AOixWtQVT1gr9jyXxv4G8P8Ah9dGn0rTlje41WGGQSO0ishzlcMSMcCvTbLSNO05QNPsLa1A/wCeMKp/IVQ8T+H/APhIIdOUSBDZX8N3yPvBDyPyJrcFBjSoRp1JNRSWlgxUcyCSF0PRlINSUlB0vaxxPwkXyvh/BCesNxNH+Tmu3FcP8N7y1VNa0hJR9ps9TuGaLGCEZztPp2NdxQc+Fa9jFdkBqteadZaiqLf2dvdKhyoniV9p9RkcVZNJQdDSejOD8Q6fbaV8RPCdzp0EduJnnglSJAquNmRkD0zXegVQvNItr7UrC+n3GWwZ3hweMsu05/A1foMqdPklJ9G/0QUUUUGwUUUUAFcr8TP+Scav/wBcl/8AQ1rqq5X4ljPw41n/AK4j/wBCFBhif4M/R/kbehHPh7Tj62sX/oAq/Wb4dO7wvpZ9bOE/+OCtKg0p/AvQKKKKCzkfiKv2fQrTVwhY6TfwXRA6lQ21v0ausQhlDLyGGQaivLS31CzltL2JZoJlKyRuMhh6VKiqihUGFUYAHYUGUYWqOXew4UUUUGoUUUUAFFFFABRRRQAUUUUAI7KilmIUAZJJxiubufiF4UtZvKk1u3Z84xDul5/4ADW7f24vNPuLZuk0TRn8QRXkXw+8R/2D4fFs3hy6v75buS38yxtV3AKFOHbjnLHr6UHHXrunOMVpe+ur/I9b0/ULfVLNLqzMjQvnaZImjJ/BgD+lZnjZN/gXW1PP+hSn/wAcNaWmXF1dafFNf2f2KdxlrcyBynoCw4zim6xYHVNEvrAP5ZureSEORnbuUjOPxoN5Jzptd0YPw416DXfBlobaKWP7EiWj+YB8zIi5Ix25rq688+DURtvCl9bM24w6jKm7GM4Va9DoM8JKU6EZS3sMlljhjMkzrGi8lmOAPxrBm8eeF4JjE2uWbODgrG+/n8M1yvxnLnTtETymnga/HmQqMmQ44UfXkVu+D4xgta+D49BtccPKyrK//AQufzI/GgzdebrOlHp5N/l/mdYjiRVZTlWGQadSCloO0838OwxWXxz8RQQLsWW0WYqO7HyyT+bH869IrznTwU/aB1X/AG9MXH/kL/CvRqDjwnwyX96X5hVbUdQt9K02e+vZPLt7dC8jYJwB7CrNVNWsY9U0a8sJvuXMLxN/wIYoOqV+V8u5yVt4y8SawUl0LwjKbNxuSe+uVh3DsQuCf5112ny3k1mr6jbR21wfvRxy+YB/wLA/lXi3w9Txrqtld2eieIY7OKxlCvFcp5jAngYypwPlPGRXqGg6R4ktp1m1/wAR/bQv/LvDaxxo3Hdsbj68YoPPwladVKbTd/S3+Z0dFFFB6QUUUUAFcp8TDj4b6v7xKP8Ax9a6uuP+KUqx/DjUwzAGQIij1JdeKDnxP8CfozotEj8rQbCP+5bRr+Sir1RWieXZwp/djUfkKloNYfAgooooLOC1nxrrUvjeTwv4as7IXUSb3nv3IVvlDfKF54B/nxWrZQeOfMU399oYXPKx20rE/juFcF4/tJNO+MGlXlrdSWZ1GJYvtCDmNjmIsPoCprqbD4f6yj7tT8b6xOP7sDmL9SWoPJhOpOrNWbs+jSSXQ7wUVFbQC2to4UaR1RQoaRy7H6seSfc1LQesFFFFABRRRQAUUUUAFFFFAAawPDGgS6HPrLSPGyX+oyXcQQn5VYDg++Qa36KCXFOSk+gUUUUFHIfD7T5NNi163ljaMDV52TK4ypCkEe2K6+iigzpU1TgoLoYHizw43iODTUSVYjZ38V0SwJ3KpOR9cGt7tS0YoKUEpOS3YlLRiigo4KOHy/j1I+P9Zou7/wAiAf0rvaZ5Sed5pRfM27d+OcemfSn0GVOn7O/m2wooooNTz3wpo9xovxY8SoImWzu4VuY2x8rFmz1+pcV6DS4pMUGNKkqUeVd3+ItFFFBsFFFFABUN1Z297D5N5BHPFkNskQMMg5BwfQjNTUUCaTVmA4ooooGFFFFAHFfErwtdeIdP0+fS4RJfWN0roNwUlCfmGT9AfwrtB0GaWigyjSjGcprd2/ABRRRQahRRRQAUUUUAFFFFABRRRQAUUUUAFFFFABRRRQAUUUUAFFFFABRRRQAUUUUAFFFFABRRRQAUUUUAFFFFABRRRQAUUUUAFFFFABRRRQAUUUUAFFFFABRRRQB//9k=)"
      ]
    },
    {
      "cell_type": "markdown",
      "metadata": {
        "id": "c1xPZOwVgH5c"
      },
      "source": [
        "### Logical Expresesions"
      ]
    },
    {
      "cell_type": "code",
      "metadata": {
        "id": "ST20YayoUd2q",
        "colab": {
          "base_uri": "https://localhost:8080/"
        },
        "outputId": "7050ac15-c3df-4223-bbab-1dfe712653b3"
      },
      "source": [
        "# Boolean values are True and False\n",
        "value1 = True\n",
        "value2 = False\n",
        "print(value1, value2)\n",
        "\n",
        "print(\"\")\n",
        "\n",
        " #Logical NOT\n",
        "print(\"Logical NOT\")\n",
        "print(\"===========\")\n",
        "print(not value1)\n",
        "print(not value2)\n",
        "\n",
        "\n",
        "print(\"\")\n",
        "\n",
        "# Logical AND\n",
        "print(\"Logical AND\")\n",
        "print(\"===========\")\n",
        "print(value1 and value1)\n",
        "print(value1 and value2)\n",
        "print(value2 and value2)\n",
        "\n",
        "print(\"\")\n",
        "\n",
        "# Logical OR\n",
        "print(\"Logical OR\")\n",
        "print(\"==========\")\n",
        "print(value1 or value1)\n",
        "print(value1 or value2)\n",
        "print(value2 or value2)\n",
        "\n",
        "print(\"\")\n",
        "\n",
        "value3 = True\n",
        "value4 = True\n",
        "\n",
        "print(value2 or ((value1 and value4) or value3))\n"
      ],
      "execution_count": null,
      "outputs": [
        {
          "output_type": "stream",
          "text": [
            "True False\n",
            "\n",
            "Logical NOT\n",
            "===========\n",
            "False\n",
            "True\n",
            "\n",
            "Logical AND\n",
            "===========\n",
            "True\n",
            "False\n",
            "False\n",
            "\n",
            "Logical OR\n",
            "==========\n",
            "True\n",
            "True\n",
            "False\n",
            "\n",
            "True\n"
          ],
          "name": "stdout"
        }
      ]
    },
    {
      "cell_type": "markdown",
      "metadata": {
        "id": "YL-beCo7hqYv"
      },
      "source": [
        "### Camparisons\n",
        "\n",
        "*    How do I actually generate these boolean values?\n",
        "*    Where do they come from?"
      ]
    },
    {
      "cell_type": "code",
      "metadata": {
        "colab": {
          "base_uri": "https://localhost:8080/"
        },
        "id": "1vJHmeV9gpyC",
        "outputId": "0924f46a-107a-45f0-ad4a-d518d723c7aa"
      },
      "source": [
        "\"\"\"\n",
        "Demonstration of arithmetic comparisons\n",
        "\"\"\"\n",
        "\n",
        "# Six different arithmetic comparison operators\n",
        "print(\"Comparisons\")\n",
        "print(\"===========\")\n",
        "print(7 > 3)\n",
        "print(7 < 3)\n",
        "print(7 >= 3)\n",
        "print(7 <= 3)\n",
        "print(7 == 3)\n",
        "print(7 != 3)\n",
        "\n",
        "print(\"\")\n",
        "\n",
        "# Using comparisons to get a boolean value\n",
        "print(\"Comparing Variables\")\n",
        "print(\"===================\")\n",
        "num1 = 7.3\n",
        "num2 = 8.6\n",
        "\n",
        "greater = num1 > num2\n",
        "print(greater)\n",
        "\n",
        "print(\"\")\n",
        "\n",
        "# == and != are also useful for non-numeric types\n",
        "print(\"Comparing Strings\")\n",
        "print(\"=================\")\n",
        "name = 'Mihyeon'\n",
        "\n",
        "# Beware of = and == confusion!\n",
        "equal = name != \"Hayley\"\n",
        "print(equal)\n"
      ],
      "execution_count": null,
      "outputs": [
        {
          "output_type": "stream",
          "text": [
            "Comparisons\n",
            "===========\n",
            "True\n",
            "False\n",
            "True\n",
            "False\n",
            "False\n",
            "True\n",
            "\n",
            "Comparing Variables\n",
            "===================\n",
            "False\n",
            "\n",
            "Comparing Strings\n",
            "=================\n",
            "True\n"
          ],
          "name": "stdout"
        }
      ]
    },
    {
      "cell_type": "markdown",
      "metadata": {
        "id": "asSY9X1Jklf_"
      },
      "source": [
        "### Conditionals"
      ]
    },
    {
      "cell_type": "code",
      "metadata": {
        "colab": {
          "base_uri": "https://localhost:8080/"
        },
        "id": "IWlGkI4IiHDb",
        "outputId": "94b5911b-45da-494f-db9e-90f7057a5e1d"
      },
      "source": [
        "\"\"\"\n",
        "Demonstration of if statements.\n",
        "\"\"\"\n",
        "\n",
        "def greet(friend, money):\n",
        "    \"\"\"\n",
        "    Greet people.  Say hi if they are your friend and give them\n",
        "    $20 if you have enough money.\n",
        "    \"\"\"\n",
        "    if friend:\n",
        "        print(\"Hi!\")\n",
        "\n",
        "    if money > 20:\n",
        "        money = money - 20\n",
        "\n",
        "    return money\n",
        "\n",
        "\n",
        "money = 100\n",
        "\n",
        "money = greet(False, money)\n",
        "print(\"Money:\", money)\n",
        "print()\n",
        "\n",
        "money = greet(True, money)\n",
        "print(\"Money:\", money)\n",
        "print()\n",
        "\n",
        "money = greet(True, money)\n",
        "print(\"Money:\", money)\n",
        "print()\n"
      ],
      "execution_count": null,
      "outputs": [
        {
          "output_type": "stream",
          "text": [
            "Money: 80\n",
            "\n",
            "Hi!\n",
            "Money: 60\n",
            "\n",
            "Hi!\n",
            "Money: 40\n",
            "\n"
          ],
          "name": "stdout"
        }
      ]
    },
    {
      "cell_type": "markdown",
      "metadata": {
        "id": "0siobsQmIW8s"
      },
      "source": [
        "### More Conditionals"
      ]
    },
    {
      "cell_type": "code",
      "metadata": {
        "id": "JSwjDgcAma_b"
      },
      "source": [
        "def greet(friend, money):\n",
        "    if friend and (money>20):\n",
        "        print('Hi!')\n",
        "        money -= 20\n",
        "    elif friend:\n",
        "        print(\"Hello\")\n",
        "    else :\n",
        "        print(\"Ha ha! I'm kidding.\")\n",
        "        money += 10\n",
        "    return money\n",
        "    "
      ],
      "execution_count": null,
      "outputs": []
    },
    {
      "cell_type": "code",
      "metadata": {
        "colab": {
          "base_uri": "https://localhost:8080/"
        },
        "id": "4KXTNs30kOEW",
        "outputId": "4f21805e-de93-47eb-823b-2cb1826b1d8c"
      },
      "source": [
        "money = 15\n",
        "\n",
        "money = greet(True, money)\n",
        "print(\"Money:\", money)\n",
        "print()\n",
        "\n",
        "money = greet(False, money)\n",
        "print(\"Money:\", money)\n",
        "print()\n",
        "\n",
        "money = greet(True, money)\n",
        "print(\"Money:\", money)\n",
        "print()\n"
      ],
      "execution_count": null,
      "outputs": [
        {
          "output_type": "stream",
          "text": [
            "Hello\n",
            "Money: 15\n",
            "\n",
            "Ha ha! I'm kidding.\n",
            "Money: 25\n",
            "\n",
            "Hi!\n",
            "Money: 5\n",
            "\n"
          ],
          "name": "stdout"
        }
      ]
    },
    {
      "cell_type": "code",
      "metadata": {
        "colab": {
          "base_uri": "https://localhost:8080/"
        },
        "id": "I4h5fw0WkQDs",
        "outputId": "748e93ed-c793-4650-d423-e95b77d227ac"
      },
      "source": [
        "hungry = False\n",
        "\n",
        "if hungry:\n",
        "    print(\"Have a snack! Yammy :-)\")\n",
        "else:\n",
        "    print(\"Save your snack for later!\")"
      ],
      "execution_count": null,
      "outputs": [
        {
          "output_type": "stream",
          "text": [
            "Save your snack for later!\n"
          ],
          "name": "stdout"
        }
      ]
    },
    {
      "cell_type": "markdown",
      "metadata": {
        "id": "16Tkzja_ruij"
      },
      "source": [
        "\n",
        "\n",
        "---\n",
        "\n",
        "#### Using Python Documentation\n",
        "\n",
        "\n",
        "*   one of the key skills for Python is how to scour the web to find existing Python code that solves your particular problem.\n",
        "*   ex 1 : CodeSkupltor docs : https://py3.codeskulptor.org/docs.html#tabs-Python\n",
        "*   ex 2 : https://www.python.org/\n",
        "*   ex 3 : web searching\n",
        "\n"
      ]
    },
    {
      "cell_type": "markdown",
      "metadata": {
        "id": "af3BnDH72XRZ"
      },
      "source": [
        "#### Following Coding Standards\n",
        "\n",
        "*    It's something that helps others understand what your programs are doing.\n",
        "*    When working on a large project, you'are going to have to follow the coding standards whether you like it or not.\n",
        "1. Comments : starting with '#', not with multi-line string\n",
        "2. Global variables : Avoide use them but it's ok when you assume that it is a constant and you never change it.  Following the coding standards, global variables should only be used to store constant values. By convention, the names of these variables should be in all caps.  \n",
        "3. Names : Your variable's name should be lower case at least 3 letters long unless they are not global variables.\n",
        "4. Scope : You should not use names that knowingly duplicate other names in an outer scope.\n",
        "5. Arguments and local variables\n",
        "\n",
        "*    https://www.pylint.org/ : Pylint is a source code bug and quality checker for the Python programming language.\n",
        "\n",
        "\n",
        "\n",
        "---\n",
        "argument : 인수, 실제로 전달되는 값.\n",
        "parameter : 매개변수, 함수에 던지는 값\n",
        "\n",
        "ex : f(3,4) 에서 parameter 값으로 argumet 3,4를 대입한다 라는 의미\n",
        "\n"
      ]
    },
    {
      "cell_type": "markdown",
      "metadata": {
        "id": "WubDhf9dpJCi"
      },
      "source": [
        "\n",
        "\n",
        "---\n",
        "### Practice Exercises for Logic and Conditionals\n"
      ]
    },
    {
      "cell_type": "markdown",
      "metadata": {
        "id": "kK0ktwjnpaRU"
      },
      "source": [
        "### 1. Write a Python function is_even that takes as input the parameter number (an integer) and returns True if number is even and False if number is odd. Hint: Apply the remainder operator to n (i.e., number % 2) and compare to zero. "
      ]
    },
    {
      "cell_type": "code",
      "metadata": {
        "id": "RVOkExL5pu2B"
      },
      "source": [
        "def is_even(number):\n",
        "    if number%2 ==0:\n",
        "        return True\n",
        "    else :\n",
        "        return False\n",
        "\n"
      ],
      "execution_count": null,
      "outputs": []
    },
    {
      "cell_type": "code",
      "metadata": {
        "colab": {
          "base_uri": "https://localhost:8080/"
        },
        "id": "OgpuzZBQp_vQ",
        "outputId": "ce7a6f9f-209b-4a7c-9164-280cf5a97f6c"
      },
      "source": [
        "number = 8\n",
        "if is_even(number):\n",
        "    print(number, \"is even.\")\n",
        "else:\n",
        "    print(number, \"is odd.\")\n",
        "    \n",
        "number = 3\n",
        "if is_even(number):\n",
        "    print(number, \"is even.\")\n",
        "else:\n",
        "    print(number, \"is odd.\")\n",
        "    \n",
        "number = 12\n",
        "if is_even(number):\n",
        "    print(number, \"is even.\")\n",
        "else:\n",
        "    print(number, \"is odd.\")"
      ],
      "execution_count": null,
      "outputs": [
        {
          "output_type": "stream",
          "text": [
            "8 is even.\n",
            "3 is odd.\n",
            "12 is even.\n"
          ],
          "name": "stdout"
        }
      ]
    },
    {
      "cell_type": "markdown",
      "metadata": {
        "id": "sKrTnADopZ9x"
      },
      "source": [
        "### 2. Write a Python function is_cool that takes as input the string name and returns True if name is either \"Joe\", \"John\" or \"Stephen\" and returnsFalse otherwise. (Let's see if Scott manages to catch this. ☺ ) "
      ]
    },
    {
      "cell_type": "code",
      "metadata": {
        "id": "wARecdo3qWJK"
      },
      "source": [
        "def is_cool(name):\n",
        "    if name in ('Joe','John','Stephen'):\n",
        "        return True\n",
        "    else:\n",
        "        return False"
      ],
      "execution_count": null,
      "outputs": []
    },
    {
      "cell_type": "code",
      "metadata": {
        "colab": {
          "base_uri": "https://localhost:8080/"
        },
        "id": "vN_RdbzwqjtG",
        "outputId": "8c2159dc-eb37-41b7-f657-10c0e8bb78f0"
      },
      "source": [
        "name = \"Joe\"\n",
        "if is_cool(name):\n",
        "    print(name, \"is cool.\")\n",
        "else:\n",
        "    print(name, \"is not cool.\")\n",
        "\n",
        "name = \"John\"\n",
        "if is_cool(name):\n",
        "    print(name, \"is cool.\")\n",
        "else:\n",
        "    print(name, \"is not cool.\")\n",
        "    \n",
        "name = \"Stephen\"\n",
        "if is_cool(name):\n",
        "    print(name, \"is cool.\")\n",
        "else:\n",
        "    print(name, \"is not cool.\")\n",
        "    \n",
        "name = \"Scott\"\n",
        "if is_cool(name):\n",
        "    print(name, \"is cool.\")\n",
        "else:\n",
        "    print(name, \"is not cool.\")"
      ],
      "execution_count": null,
      "outputs": [
        {
          "output_type": "stream",
          "text": [
            "Joe is cool.\n",
            "John is cool.\n",
            "Stephen is cool.\n",
            "Scott is not cool.\n"
          ],
          "name": "stdout"
        }
      ]
    },
    {
      "cell_type": "markdown",
      "metadata": {
        "id": "cr4uATlrpZ3A"
      },
      "source": [
        "### 6. Write a Python function name_and_age that take as input the parameters name (a string) and age (a number) and returns a string of the form \"% is % years old.\" where the percents are the string forms of name and age. The function should include an error check for the case when age is less than zero. In this case, the function should return the string \"Error: Invalid age\"."
      ]
    },
    {
      "cell_type": "code",
      "metadata": {
        "id": "M2jr0grEq5jM"
      },
      "source": [
        "def name_and_age(name,age):\n",
        "    if age > 0 :\n",
        "        return name+' is '+str(age)+ ' years old.'\n",
        "    else :\n",
        "        return 'Error:Invalid age'\n"
      ],
      "execution_count": null,
      "outputs": []
    },
    {
      "cell_type": "code",
      "metadata": {
        "colab": {
          "base_uri": "https://localhost:8080/"
        },
        "id": "X32hU8VdrdTN",
        "outputId": "7ec47951-edf1-4574-c6cf-4584b7c0e4b3"
      },
      "source": [
        "name, age = \"Joe Warren\", 56\n",
        "print(name_and_age(name, age))\n",
        "\n",
        "name, age = \"Scott Rixner\", 40\n",
        "print(name_and_age(name, age))\n",
        "\n",
        "name, age = \"John Greiner\", -46\n",
        "print(name_and_age(name, age))\n"
      ],
      "execution_count": null,
      "outputs": [
        {
          "output_type": "stream",
          "text": [
            "Joe Warren is 56 years old.\n",
            "Scott Rixner is 40 years old.\n",
            "Error:Invalid age\n"
          ],
          "name": "stdout"
        }
      ]
    },
    {
      "cell_type": "markdown",
      "metadata": {
        "id": "r8e8TqXqpZr2"
      },
      "source": [
        "### 9. Pig Latin is a language game that involves altering words via a simple set of rules. Write a Python function pig_latin that takes a string word and applies the following rules to generate a new word in Pig Latin. If the first letter in word is a consonant, append the consonant plus \"ay\" to the end of the remainder of the word. For example, pig_latin(\"pig\") would return\"igpay\". If the first letter in word is a vowel, append \"way\" to the end of the word. For example, pig_latin(\"owl\") returns \"owlway\". You can assume that word is in lower case. The provided template includes code to extract the first letter and the rest of word in Python. Note that, in full Pig Latin, the leading consonant cluster is moved to the end of the word. However, we don't know enough Python to implement full Pig Latin just yet. "
      ]
    },
    {
      "cell_type": "code",
      "metadata": {
        "id": "HTm8fvJvrwwT"
      },
      "source": [
        "def pig_latin(word):\n",
        "\n",
        "    if word[0] in ('a','e','u','i','o'):\n",
        "        return word+'way'\n",
        "    else:\n",
        "        return word[1:]+word[0]+'ay'"
      ],
      "execution_count": null,
      "outputs": []
    },
    {
      "cell_type": "code",
      "metadata": {
        "colab": {
          "base_uri": "https://localhost:8080/"
        },
        "id": "06_jjXxbuq6F",
        "outputId": "96818f5f-09a2-4a7d-8e09-ffd495827acc"
      },
      "source": [
        "word = \"pig\"\n",
        "print(pig_latin(word))\n",
        "\n",
        "word = \"owl\"\n",
        "print(pig_latin(word))\n",
        "\n",
        "word = \"python\"\n",
        "print(pig_latin(word))"
      ],
      "execution_count": null,
      "outputs": [
        {
          "output_type": "stream",
          "text": [
            "igpay\n",
            "owlway\n",
            "ythonpay\n"
          ],
          "name": "stdout"
        }
      ]
    },
    {
      "cell_type": "code",
      "metadata": {
        "id": "uIhIINLBsNAv"
      },
      "source": [
        "def t_f(p,q):\n",
        "    return  not (p or not q)\n",
        "    "
      ],
      "execution_count": null,
      "outputs": []
    },
    {
      "cell_type": "code",
      "metadata": {
        "id": "VHYFvgD1raIY",
        "colab": {
          "base_uri": "https://localhost:8080/"
        },
        "outputId": "969f7327-69e1-49a4-be23-cdfe2ea55398"
      },
      "source": [
        "p,q = True, True\n",
        "print(t_f(p,q))\n",
        "\n",
        "p,q = True, False\n",
        "print(t_f(p,q))\n",
        "\n",
        "p,q = False, True\n",
        "print(t_f(p,q))\n",
        "\n",
        "p,q = False, False\n",
        "print(t_f(p,q))"
      ],
      "execution_count": null,
      "outputs": [
        {
          "output_type": "stream",
          "text": [
            "False\n",
            "False\n",
            "True\n",
            "False\n"
          ],
          "name": "stdout"
        }
      ]
    },
    {
      "cell_type": "code",
      "metadata": {
        "id": "-zfpxFxpvXey"
      },
      "source": [
        "# n이 짝수면 n / 2 \n",
        "# n이 홀수면 n*3 + 1\n",
        "# n 은 0보다 커야함\n",
        "\n",
        "def f(n):\n",
        "    if n%2 == 0 :\n",
        "        return n//2\n",
        "    else:\n",
        "        return n*3+1"
      ],
      "execution_count": null,
      "outputs": []
    },
    {
      "cell_type": "code",
      "metadata": {
        "colab": {
          "base_uri": "https://localhost:8080/"
        },
        "id": "XaWTjBjuyH_R",
        "outputId": "81d25b42-9d6c-47eb-b575-567ebb75667a"
      },
      "source": [
        "print(f(f(f(f(f(f(f(674))))))))"
      ],
      "execution_count": null,
      "outputs": [
        {
          "output_type": "stream",
          "text": [
            "190\n"
          ],
          "name": "stdout"
        }
      ]
    },
    {
      "cell_type": "code",
      "metadata": {
        "colab": {
          "base_uri": "https://localhost:8080/"
        },
        "id": "5hQQivPMyKWG",
        "outputId": "132bd958-d26d-4334-9cd8-37c2aabf5b81"
      },
      "source": [
        "print(f(f(f(f(f(f(f(f(f(f(f(f(f(f(1071)))))))))))))))"
      ],
      "execution_count": null,
      "outputs": [
        {
          "output_type": "stream",
          "text": [
            "3053\n"
          ],
          "name": "stdout"
        }
      ]
    },
    {
      "cell_type": "code",
      "metadata": {
        "id": "BYr_4FjDyQ8v"
      },
      "source": [
        ""
      ],
      "execution_count": null,
      "outputs": []
    }
  ]
}