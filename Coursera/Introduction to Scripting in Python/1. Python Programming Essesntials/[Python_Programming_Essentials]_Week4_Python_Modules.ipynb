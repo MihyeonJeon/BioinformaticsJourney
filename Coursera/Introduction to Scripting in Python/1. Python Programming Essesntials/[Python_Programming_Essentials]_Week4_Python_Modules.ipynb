{
  "nbformat": 4,
  "nbformat_minor": 0,
  "metadata": {
    "colab": {
      "name": "[Python Programming Essentials] Week4_Python Modules.ipynb",
      "provenance": []
    },
    "kernelspec": {
      "name": "python3",
      "display_name": "Python 3"
    },
    "language_info": {
      "name": "python"
    }
  },
  "cells": [
    {
      "cell_type": "markdown",
      "metadata": {
        "id": "89_g_sn7Fo4c"
      },
      "source": [
        "### 1.Python Modules\n",
        "\n",
        "*    Modules allow us to break our program into pieces and then use the other pieces as we'd like.\n",
        "*    dir() : it tells us all the things that are inside of that module."
      ]
    },
    {
      "cell_type": "code",
      "metadata": {
        "colab": {
          "base_uri": "https://localhost:8080/"
        },
        "id": "POc2nQAlG_id",
        "outputId": "c34fed21-6c88-4b81-d1dc-e0d5b1b86fa0"
      },
      "source": [
        "!pip install examples3_module"
      ],
      "execution_count": null,
      "outputs": [
        {
          "output_type": "stream",
          "text": [
            "\u001b[31mERROR: Could not find a version that satisfies the requirement examples3_module (from versions: none)\u001b[0m\n",
            "\u001b[31mERROR: No matching distribution found for examples3_module\u001b[0m\n"
          ],
          "name": "stdout"
        }
      ]
    },
    {
      "cell_type": "code",
      "metadata": {
        "colab": {
          "base_uri": "https://localhost:8080/"
        },
        "id": "enFxuQD_lqnX",
        "outputId": "8ca802a6-b8e6-4ae5-cc83-a14f912fd73c"
      },
      "source": [
        "# Import the math module (look in the Docs for help)\n",
        "import math\n",
        "\n",
        "# Import example module\n",
        "#import examples3_module as example\n",
        "\n",
        "# Constants\n",
        "print(\"Math constants\")\n",
        "print(\"==============\")\n",
        "print(math.pi)\n",
        "print(math.e)\n",
        "print(\"\")\n",
        "\n",
        "# Functions\n",
        "print(\"Math functions\")\n",
        "print(\"==============\")\n",
        "print(math.sqrt(25))\n",
        "print(math.trunc(14.83483))\n",
        "print(math.sin(math.pi / 2.0))\n",
        "print(\"\")\n",
        "\n",
        "# Dir\n",
        "print(\"Dir\")\n",
        "print(\"===\")\n",
        "print(dir(math))\n",
        "#print(dir(example))\n",
        "print(\"\")\n",
        "\n",
        "#print(example.message)\n",
        "print(math.__name__)\n",
        "#print(example.__name__)\n"
      ],
      "execution_count": null,
      "outputs": [
        {
          "output_type": "stream",
          "text": [
            "Math constants\n",
            "==============\n",
            "3.141592653589793\n",
            "2.718281828459045\n",
            "\n",
            "Math functions\n",
            "==============\n",
            "5.0\n",
            "14\n",
            "1.0\n",
            "\n",
            "Dir\n",
            "===\n",
            "['__doc__', '__loader__', '__name__', '__package__', '__spec__', 'acos', 'acosh', 'asin', 'asinh', 'atan', 'atan2', 'atanh', 'ceil', 'copysign', 'cos', 'cosh', 'degrees', 'e', 'erf', 'erfc', 'exp', 'expm1', 'fabs', 'factorial', 'floor', 'fmod', 'frexp', 'fsum', 'gamma', 'gcd', 'hypot', 'inf', 'isclose', 'isfinite', 'isinf', 'isnan', 'ldexp', 'lgamma', 'log', 'log10', 'log1p', 'log2', 'modf', 'nan', 'pi', 'pow', 'radians', 'remainder', 'sin', 'sinh', 'sqrt', 'tan', 'tanh', 'tau', 'trunc']\n",
            "\n",
            "math\n"
          ],
          "name": "stdout"
        }
      ]
    },
    {
      "cell_type": "markdown",
      "metadata": {
        "id": "MbU340qnIezn"
      },
      "source": [
        "### 2. The Datetime Module"
      ]
    },
    {
      "cell_type": "code",
      "metadata": {
        "id": "UX1YVtmAuINE",
        "colab": {
          "base_uri": "https://localhost:8080/"
        },
        "outputId": "ec877e31-3b26-4393-f1db-4e495fdcabd7"
      },
      "source": [
        "\"\"\"\n",
        "Demonstration of some of the features of the datetime module.\n",
        "\"\"\"\n",
        "\n",
        "import datetime\n",
        "\n",
        "# Create some dates\n",
        "print(\"Creating Dates\")\n",
        "print(\"==============\")\n",
        "\n",
        "date1 = datetime.date(1999, 12, 31)\n",
        "date2 = datetime.date(2000, 1, 1)\n",
        "date3 = datetime.date(2016, 4, 15)\n",
        "# date4 = datetime.date(2012, 8, 32)\n",
        "\n",
        "# Today's date\n",
        "today = datetime.date.today()\n",
        "\n",
        "print(date1)\n",
        "print(date2)\n",
        "print(date3)\n",
        "\n",
        "print(\"\")\n",
        "\n",
        "# Compare dates\n",
        "print(\"Comparing Dates\")\n",
        "print(\"===============\")\n",
        "\n",
        "print(date1 < date2)\n",
        "print(date3 <= date1)\n",
        "print(date2 == date3)\n",
        "\n",
        "print(\"\")\n",
        "\n",
        "# Subtracting dates\n",
        "print(\"Subtracting Dates\")\n",
        "print(\"=================\")\n",
        "\n",
        "diff = today - date1\n",
        "print(diff)\n",
        "print(diff.days)\n",
        "\n",
        "diff2 = date3 - date2\n",
        "print(diff2)\n",
        "print(diff2.days)\n",
        "\n",
        "print(\"\")\n"
      ],
      "execution_count": null,
      "outputs": [
        {
          "output_type": "stream",
          "text": [
            "Creating Dates\n",
            "==============\n",
            "1999-12-31\n",
            "2000-01-01\n",
            "2016-04-15\n",
            "\n",
            "Comparing Dates\n",
            "===============\n",
            "True\n",
            "False\n",
            "False\n",
            "\n",
            "Subtracting Dates\n",
            "=================\n",
            "7842 days, 0:00:00\n",
            "7842\n",
            "5949 days, 0:00:00\n",
            "5949\n",
            "\n"
          ],
          "name": "stdout"
        }
      ]
    },
    {
      "cell_type": "code",
      "metadata": {
        "colab": {
          "base_uri": "https://localhost:8080/"
        },
        "id": "Hryo-FK7JmMh",
        "outputId": "6097e82a-1a25-43e5-b67e-adbf843a78d6"
      },
      "source": [
        "print(datetime.date.today())"
      ],
      "execution_count": null,
      "outputs": [
        {
          "output_type": "stream",
          "text": [
            "2021-06-20\n"
          ],
          "name": "stdout"
        }
      ]
    },
    {
      "cell_type": "markdown",
      "metadata": {
        "id": "sIu3XjG3LMwp"
      },
      "source": [
        "#### * Arithmetic with Dates\n",
        "\n",
        "*   When you substract two dates, the result is a timedelta. A timedelta object has three attributes:days, seconds, and microseconds.\n",
        "*    You cannot add two dates but you can add a timedelta to a date."
      ]
    },
    {
      "cell_type": "code",
      "metadata": {
        "colab": {
          "base_uri": "https://localhost:8080/"
        },
        "id": "3NZuFvJ2KZPk",
        "outputId": "7b5636b2-33d8-4db1-a77a-3de467b024a8"
      },
      "source": [
        "print(diff)\n",
        "print(diff.days)\n",
        "\n",
        "date4 = date3 + diff\n",
        "print(date4)"
      ],
      "execution_count": null,
      "outputs": [
        {
          "output_type": "stream",
          "text": [
            "1 day, 0:00:00\n",
            "1\n",
            "2016-04-16\n"
          ],
          "name": "stdout"
        }
      ]
    },
    {
      "cell_type": "code",
      "metadata": {
        "colab": {
          "base_uri": "https://localhost:8080/"
        },
        "id": "-tVo0_jCi38z",
        "outputId": "203fb891-57a3-4c2a-8d23-8c95b958546d"
      },
      "source": [
        "print(today)"
      ],
      "execution_count": null,
      "outputs": [
        {
          "output_type": "stream",
          "text": [
            "2021-06-20\n"
          ],
          "name": "stdout"
        }
      ]
    },
    {
      "cell_type": "code",
      "metadata": {
        "colab": {
          "base_uri": "https://localhost:8080/"
        },
        "id": "_f3WWATImR3X",
        "outputId": "003b7b91-709f-4672-8a36-177ed2240f98"
      },
      "source": [
        "today.day"
      ],
      "execution_count": null,
      "outputs": [
        {
          "output_type": "execute_result",
          "data": {
            "text/plain": [
              "20"
            ]
          },
          "metadata": {
            "tags": []
          },
          "execution_count": 16
        }
      ]
    },
    {
      "cell_type": "code",
      "metadata": {
        "id": "XO2x5aROmT19"
      },
      "source": [
        ""
      ],
      "execution_count": null,
      "outputs": []
    }
  ]
}