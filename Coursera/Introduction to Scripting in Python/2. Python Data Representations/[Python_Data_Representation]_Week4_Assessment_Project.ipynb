{
  "nbformat": 4,
  "nbformat_minor": 0,
  "metadata": {
    "colab": {
      "name": "[Python Data Representation]Week4_Assessment Project.ipynb",
      "provenance": []
    },
    "kernelspec": {
      "name": "python3",
      "display_name": "Python 3"
    },
    "language_info": {
      "name": "python"
    }
  },
  "cells": [
    {
      "cell_type": "markdown",
      "metadata": {
        "id": "U5GTeEuRwWYK"
      },
      "source": [
        "## Project : File Differences"
      ]
    },
    {
      "cell_type": "code",
      "metadata": {
        "id": "PIQLi_TUv4Qx"
      },
      "source": [
        "\"\"\"\n",
        "Project for Week 4 of \"Python Data Representations\".\n",
        "Find differences in file contents.\n",
        "\n",
        "Be sure to read the project description page for further information\n",
        "about the expected behavior of the program.\n",
        "\"\"\"\n",
        "\n",
        "IDENTICAL = -1\n",
        "\n",
        "def singleline_diff(line1, line2):\n",
        "    \"\"\"\n",
        "    Inputs:\n",
        "      line1 - first single line string\n",
        "      line2 - second single line string\n",
        "    Output:\n",
        "      Returns the index where the first difference between\n",
        "      line1 and line2 occurs.\n",
        "\n",
        "      Returns IDENTICAL if the two lines are the same.\n",
        "    \"\"\"\n",
        "    short_length = min(len(line1), len(line2))\n",
        "    first_index = 0\n",
        "    if line1 == line2 :\n",
        "        return IDENTICAL\n",
        "    elif short_length == 0 :\n",
        "        return 0\n",
        "    else :\n",
        "        if line1[:short_length] == line2[:short_length] :\n",
        "            return short_length\n",
        "        else :\n",
        "            for dummy_i in range(short_length) :\n",
        "                if line1[dummy_i] == line2[dummy_i] :\n",
        "                    pass\n",
        "                else :\n",
        "                    first_index = dummy_i\n",
        "                    return first_index\n",
        "                    break\n",
        "                \n",
        "    \n",
        "\n",
        "\n",
        "def singleline_diff_format(line1, line2, idx):\n",
        "    \"\"\"\n",
        "    Inputs:\n",
        "      line1 - first single line string\n",
        "      line2 - second single line string\n",
        "      idx   - index at which to indicate difference\n",
        "    Output:\n",
        "      Returns a three line formatted string showing the location\n",
        "      of the first difference between line1 and line2.\n",
        "\n",
        "      If either input line contains a newline or carriage return,\n",
        "      then returns an empty string.\n",
        "\n",
        "      If idx is not a valid index, then returns an empty string.\n",
        "    \"\"\"\n",
        "    separator = '=' * idx + '^'\n",
        "    short_length = min(len(line1), len(line2))\n",
        "\n",
        "    if ((line1+line2).count('\\n')) > 0 or idx > short_length :\n",
        "        return \"\"\n",
        "    \n",
        "    else :\n",
        "        format = \"{0}\\n{1}\\n{2}\\n\".format(line1, separator, line2)\n",
        "\n",
        "    return format    \n",
        "\n",
        "\n",
        "def multiline_diff(lines1, lines2):\n",
        "    \"\"\"\n",
        "    Inputs:\n",
        "      lines1 - list of single line strings\n",
        "      lines2 - list of single line strings\n",
        "    Output:\n",
        "      Returns a tuple containing the line number (starting from 0) and\n",
        "      the index in that line where the first difference between lines1\n",
        "      and lines2 occurs.\n",
        "\n",
        "      Returns (IDENTICAL, IDENTICAL) if the two lists are the same.\n",
        "    \"\"\"\n",
        "\n",
        "    shorter_list = min(len(lines1), len(lines2))\n",
        "    line_index = 0\n",
        "    first_index = 0\n",
        "\n",
        "    if lines1 == lines2 :\n",
        "        return (IDENTICAL, IDENTICAL)\n",
        "    elif len(lines1) != len(lines2) and lines1[:shorter_list] == lines2[:shorter_list] :\n",
        "        return (shorter_list, 0)\n",
        "    else :\n",
        "        for line in range(shorter_list) :\n",
        "            if singleline_diff(lines1[line], lines2[line]) == IDENTICAL :\n",
        "                pass\n",
        "            else :\n",
        "                line_index = line\n",
        "                first_index = singleline_diff(lines1[line], lines2[line])\n",
        "                break\n",
        "        return (line_index, first_index)\n",
        "            \n",
        "\n",
        "\n",
        "def get_file_lines(filename):\n",
        "    \"\"\"\n",
        "    Inputs:\n",
        "      filename - name of file to read\n",
        "    Output:\n",
        "      Returns a list of lines from the file named filename.  Each\n",
        "      line will be a single line string with no newline ('\\n') or\n",
        "      return ('\\r') characters.\n",
        "\n",
        "      If the file does not exist or is not readable, then the\n",
        "      behavior of this function is undefined.\n",
        "    \"\"\"\n",
        "    with open(filename) as doc_file:\n",
        "        data = doc_file.read()\n",
        "   \n",
        "    return data.rstrip().split('\\n')\n",
        "\n",
        "\n",
        "def file_diff_format(filename1, filename2):\n",
        "    \"\"\"\n",
        "    Inputs:\n",
        "      filename1 - name of first file\n",
        "      filename2 - name of second file\n",
        "    Output:\n",
        "      Returns a four line string showing the location of the first\n",
        "      difference between the two files named by the inputs.\n",
        "\n",
        "      If the files are identical, the function instead returns the\n",
        "      string \"No differences\\n\".\n",
        "\n",
        "      If either file does not exist or is not readable, then the\n",
        "      behavior of this function is undefined.\n",
        "    \"\"\"\n",
        "    list1 = get_file_lines(filename1)\n",
        "    list2 = get_file_lines(filename2)\n",
        "    \n",
        "\n",
        "    if filename1 == filename2 :\n",
        "        return \"No differences\\n\"\n",
        "    else : \n",
        "        line_number=  multiline_diff(list1, list2)[0]\n",
        "        idx = multiline_diff(list1, list2)[1]\n",
        "        return \"Line {0}:\\n{1}\".format(line_number\n",
        "                                     , singleline_diff_format(list1[line_number]\n",
        "                                                             ,list2[line_number]\n",
        "                                                             , idx))\n",
        "        \n"
      ],
      "execution_count": null,
      "outputs": []
    },
    {
      "cell_type": "code",
      "metadata": {
        "colab": {
          "base_uri": "https://localhost:8080/"
        },
        "id": "6jMfaGQ65NDN",
        "outputId": "6ccb82c5-a009-4f1c-fbda-b554c548a12a"
      },
      "source": [
        "print(file_diff_format(\"/content/drive/MyDrive/etc/isp_diff_files/file4.txt\", \"/content/drive/MyDrive/etc/isp_diff_files/file4.txt\"))"
      ],
      "execution_count": null,
      "outputs": [
        {
          "output_type": "stream",
          "text": [
            "No differences\n",
            "\n"
          ],
          "name": "stdout"
        }
      ]
    },
    {
      "cell_type": "code",
      "metadata": {
        "id": "5lAs45bZImiJ"
      },
      "source": [
        "path = '/content/drive/MyDrive/etc/isp_diff_files/'"
      ],
      "execution_count": null,
      "outputs": []
    },
    {
      "cell_type": "code",
      "metadata": {
        "colab": {
          "base_uri": "https://localhost:8080/"
        },
        "id": "EB7WvDvylydS",
        "outputId": "44b197f2-9afb-445f-e630-586e6a4e2745"
      },
      "source": [
        "print(file_diff_format(path+'file8.txt', path+'file9.txt'))"
      ],
      "execution_count": null,
      "outputs": [
        {
          "output_type": "stream",
          "text": [
            "Line 0:\n",
            "abc\n",
            "^\n",
            "\n",
            "\n"
          ],
          "name": "stdout"
        }
      ]
    },
    {
      "cell_type": "code",
      "metadata": {
        "id": "pfhVE0I-m2uu"
      },
      "source": [
        ""
      ],
      "execution_count": null,
      "outputs": []
    }
  ]
}