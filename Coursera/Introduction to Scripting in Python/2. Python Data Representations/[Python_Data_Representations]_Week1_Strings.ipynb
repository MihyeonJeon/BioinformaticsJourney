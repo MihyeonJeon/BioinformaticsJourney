{
  "nbformat": 4,
  "nbformat_minor": 0,
  "metadata": {
    "colab": {
      "name": "[Python Data Representations] Week1_Strings.ipynb",
      "provenance": []
    },
    "kernelspec": {
      "name": "python3",
      "display_name": "Python 3"
    },
    "language_info": {
      "name": "python"
    }
  },
  "cells": [
    {
      "cell_type": "markdown",
      "metadata": {
        "id": "PALry2EfMeK8"
      },
      "source": [
        "### Python Strings\n",
        "\n",
        "* \\ with ' -> ' as a character,  not meaning a string is over."
      ]
    },
    {
      "cell_type": "code",
      "metadata": {
        "id": "6CLx45wuSbj8",
        "colab": {
          "base_uri": "https://localhost:8080/"
        },
        "outputId": "eb64a33b-e8b8-4142-fb71-a13863278f6d"
      },
      "source": [
        "\"\"\"\n",
        "Simple string literal examples.\n",
        "\"\"\"\n",
        "\n",
        "# Strings are enclosed in quotes\n",
        "name = 'Scott Rixner'\n",
        "university = \"Rice\"\n",
        "\n",
        "print(name)\n",
        "print(university)\n",
        "\n",
        "# Multiline strings use triple quotes\n",
        "address = '''Rice University\n",
        "Houston, TX\n",
        "'''\n",
        "\n",
        "# First Fig by Edna St. Vincent Millay\n",
        "poem = \"\"\"My candle burns at both ends;\n",
        "  It will not last the night;\n",
        "But ah, my foes, and oh, my friends---\n",
        "  It gives a lovely light!\n",
        "\"\"\"\n",
        "\n",
        "print(\"\")\n",
        "\n",
        "print(\"Address\")\n",
        "print(\"=======\")\n",
        "print(address)\n",
        "\n",
        "print(\"First Fig\")\n",
        "print(\"=========\")\n",
        "print(poem)\n"
      ],
      "execution_count": null,
      "outputs": [
        {
          "output_type": "stream",
          "text": [
            "Scott Rixner\n",
            "Rice\n",
            "\n",
            "Address\n",
            "=======\n",
            "Rice University\n",
            "Houston, TX\n",
            "\n",
            "First Fig\n",
            "=========\n",
            "My candle burns at both ends;\n",
            "  It will not last the night;\n",
            "But ah, my foes, and oh, my friends---\n",
            "  It gives a lovely light!\n",
            "\n"
          ],
          "name": "stdout"
        }
      ]
    },
    {
      "cell_type": "code",
      "metadata": {
        "colab": {
          "base_uri": "https://localhost:8080/"
        },
        "id": "QaqAAB-mNyR-",
        "outputId": "7cf9ae78-d1b0-48a3-8e5e-27e75635c389"
      },
      "source": [
        "\n",
        "# Characters\n",
        "chars = \"abc'DEF*&$\"\n",
        "print(chars)\n",
        "chars2 = '\\t\"abc\"\\ndef\\''\n",
        "print(chars2)\n",
        "\n",
        "# String \"arithmetic\"\n",
        "print(\"Concatenating strings\")\n",
        "name_and_uni = name + \" \" + university\n",
        "print(name_and_uni)\n",
        "\n",
        "print(\"\")\n",
        "print(\"\")\n",
        "print(\"Repeating strings\")\n",
        "lots_o_rice = university * 4\n",
        "print(lots_o_rice)\n",
        "\n",
        "# Using str\n",
        "num = 3.87\n",
        "strnum = str(num)\n",
        "print(\"number: \" + strnum)\n",
        "# print(\"number: \" + num)"
      ],
      "execution_count": null,
      "outputs": [
        {
          "output_type": "stream",
          "text": [
            "abc'DEF*&$\n",
            "\t\"abc\"\n",
            "def'\n",
            "Concatenating strings\n",
            "Scott Rixner Rice\n",
            "\n",
            "\n",
            "Repeating strings\n",
            "RiceRiceRiceRice\n",
            "number: 3.87\n"
          ],
          "name": "stdout"
        }
      ]
    },
    {
      "cell_type": "code",
      "metadata": {
        "colab": {
          "base_uri": "https://localhost:8080/"
        },
        "id": "rY0l9rbTP8YE",
        "outputId": "93491a88-56b6-4daf-ed76-8d0dffc14d26"
      },
      "source": [
        "test = '\\\"this is Mihyeon\\'s test\\\"'\n",
        "print(test)\n",
        "print(test*4)"
      ],
      "execution_count": null,
      "outputs": [
        {
          "output_type": "stream",
          "text": [
            "\"this is Mihyeon's test\"\n",
            "\"this is Mihyeon's test\"\"this is Mihyeon's test\"\"this is Mihyeon's test\"\"this is Mihyeon's test\"\n"
          ],
          "name": "stdout"
        }
      ]
    },
    {
      "cell_type": "markdown",
      "metadata": {
        "id": "-zpTwn9NRtOm"
      },
      "source": [
        "### Indexing Strings\n",
        "1. Indexing\n",
        "*    the first chracter of the string is at index 0.\n",
        "2. Subscripting"
      ]
    },
    {
      "cell_type": "code",
      "metadata": {
        "id": "oRcoWrZMP_sb",
        "colab": {
          "base_uri": "https://localhost:8080/",
          "height": 388
        },
        "outputId": "a101b211-ff4d-4fa9-b26a-8a1b958cae9b"
      },
      "source": [
        "\"\"\"\n",
        "String indexing examples.\n",
        "\"\"\"\n",
        "\n",
        "phrase = \"Python is great!\"\n",
        "\n",
        "# first character\n",
        "print(phrase[0])\n",
        "\n",
        "# fourth character\n",
        "fourth = phrase[3]\n",
        "print(fourth)\n",
        "print(type(phrase))\n",
        "print(type(fourth))\n",
        "\n",
        "# length of string\n",
        "phraselen = len(phrase)\n",
        "print(phraselen)\n",
        "\n",
        "# last character\n",
        "print(phrase[phraselen - 1])\n",
        "print(phrase[-1])\n",
        "\n",
        "# thirteenth from last (fourth) character\n",
        "print(phrase[-13])\n",
        "\n",
        "# Out of bounds\n",
        "#print(phrase[phraselen])\n",
        "print(phrase[-20])\n",
        "\n",
        "# Indices\n",
        "# string = \"abcde\"\n",
        "# character   a  b  c  d  e\n",
        "# pos index   0  1  2  3  4\n",
        "# neg index  -5 -4 -3 -2 -1"
      ],
      "execution_count": null,
      "outputs": [
        {
          "output_type": "stream",
          "text": [
            "P\n",
            "h\n",
            "<class 'str'>\n",
            "<class 'str'>\n",
            "16\n",
            "!\n",
            "!\n",
            "h\n"
          ],
          "name": "stdout"
        },
        {
          "output_type": "error",
          "ename": "IndexError",
          "evalue": "ignored",
          "traceback": [
            "\u001b[0;31m---------------------------------------------------------------------------\u001b[0m",
            "\u001b[0;31mIndexError\u001b[0m                                Traceback (most recent call last)",
            "\u001b[0;32m<ipython-input-5-a4645f98858f>\u001b[0m in \u001b[0;36m<module>\u001b[0;34m()\u001b[0m\n\u001b[1;32m     27\u001b[0m \u001b[0;31m# Out of bounds\u001b[0m\u001b[0;34m\u001b[0m\u001b[0;34m\u001b[0m\u001b[0;34m\u001b[0m\u001b[0m\n\u001b[1;32m     28\u001b[0m \u001b[0;31m#print(phrase[phraselen])\u001b[0m\u001b[0;34m\u001b[0m\u001b[0;34m\u001b[0m\u001b[0;34m\u001b[0m\u001b[0m\n\u001b[0;32m---> 29\u001b[0;31m \u001b[0mprint\u001b[0m\u001b[0;34m(\u001b[0m\u001b[0mphrase\u001b[0m\u001b[0;34m[\u001b[0m\u001b[0;34m-\u001b[0m\u001b[0;36m20\u001b[0m\u001b[0;34m]\u001b[0m\u001b[0;34m)\u001b[0m\u001b[0;34m\u001b[0m\u001b[0;34m\u001b[0m\u001b[0m\n\u001b[0m\u001b[1;32m     30\u001b[0m \u001b[0;34m\u001b[0m\u001b[0m\n\u001b[1;32m     31\u001b[0m \u001b[0;31m# Indices\u001b[0m\u001b[0;34m\u001b[0m\u001b[0;34m\u001b[0m\u001b[0;34m\u001b[0m\u001b[0m\n",
            "\u001b[0;31mIndexError\u001b[0m: string index out of range"
          ]
        }
      ]
    },
    {
      "cell_type": "markdown",
      "metadata": {
        "id": "kQDg5cqBVQhE"
      },
      "source": [
        "### Searching Strings\n",
        "1. using 'find' function\n",
        "* it finds the first string of the word you're looking for from the original string.\n",
        "* 'rfind' function finds it from the end.\n",
        "\n",
        "2. using 'index' function\n",
        "\n",
        "* What's the difference between 'find' and 'index'?\n",
        ": When the word you're looking for is not in the string, 'find' returns -1, which is not a valid index and 'index' returns an error.\n",
        "\n",
        "3. 'count' : counting the word in a string.\n",
        "\n",
        "4. 'startwith', 'endwith' : returns True or False"
      ]
    },
    {
      "cell_type": "code",
      "metadata": {
        "colab": {
          "base_uri": "https://localhost:8080/"
        },
        "id": "ztzhTLyRTyax",
        "outputId": "2b717fca-86ad-4581-f741-db4b9a54c81b"
      },
      "source": [
        "\"\"\"\n",
        "String searching examples.\n",
        "\"\"\"\n",
        "\n",
        "sentence = \"When I tell you pick up the \" + \\\n",
        "           \"left rock, it will be the \" + \\\n",
        "           \"right one, and then only \" + \\\n",
        "           \"the right rock will be left.\"\n",
        "\n",
        "# Finding strings within strings\n",
        "print(\"Finding lefts\")\n",
        "firstleft = sentence.find(\"left\")\n",
        "print(firstleft, sentence[firstleft])\n",
        "lastleft = sentence.rfind(\"left\")\n",
        "print(lastleft, sentence[lastleft])\n",
        "\n",
        "print(\"\")\n",
        "print(\"Finding rights\")\n",
        "firstleft_index = sentence.index(\"left\")\n",
        "firstright = sentence.index(\"right\")\n",
        "print(firstright, sentence[firstright])\n",
        "lastright = sentence.rindex(\"right\")\n",
        "print(lastright, sentence[lastright])\n",
        "\n",
        "print(\"\")\n",
        "print(\"Finding Rixner\")\n",
        "firstrixner1 = sentence.find(\"Rixner\")\n",
        "print(firstrixner1)\n",
        "# firstrixner2 = sentence.index(\"Rixner\")\n",
        "# print(firstrixner2)\n",
        "\n",
        "# Counting strings within strings\n",
        "print(\"\")\n",
        "print(\"Counting substrings\")\n",
        "print(\"Number of lefts:\", sentence.count(\"left\"))\n",
        "print(\"Number of apples:\", sentence.count(\"apple\"))\n",
        "\n",
        "# Checking start/ends\n",
        "print(\"\")\n",
        "print(sentence.startswith(\"When\"))\n",
        "print(sentence.endswith(\"The end.\"))"
      ],
      "execution_count": null,
      "outputs": [
        {
          "output_type": "stream",
          "text": [
            "Finding lefts\n",
            "28 l\n",
            "102 l\n",
            "\n",
            "Finding rights\n",
            "54 r\n",
            "83 r\n",
            "\n",
            "Finding Rixner\n",
            "-1\n",
            "\n",
            "Counting substrings\n",
            "Number of lefts: 2\n",
            "Number of apples: 0\n",
            "\n",
            "True\n",
            "False\n"
          ],
          "name": "stdout"
        }
      ]
    },
    {
      "cell_type": "markdown",
      "metadata": {
        "id": "uuSdCVX6c6Nq"
      },
      "source": [
        "### Slicing Strings\n",
        "* You can slice strings by indexing.\n",
        "* It's similar to the string indexing syntax.\n",
        "* The result includes the first index character but not the end index.\n",
        "* If you go over the index, it returns nothing."
      ]
    },
    {
      "cell_type": "code",
      "metadata": {
        "colab": {
          "base_uri": "https://localhost:8080/"
        },
        "id": "ovSTP-DBWQT5",
        "outputId": "45a9fe1d-981a-4034-bccf-de63382f2f8a"
      },
      "source": [
        "\"\"\"\n",
        "Slicing strings.\n",
        "\"\"\"\n",
        "\n",
        "word = \"everything\"\n",
        "\n",
        "# Selecting substrings\n",
        "print(word[1:5])\n",
        "print(word[5:9])\n",
        "\n",
        "# Open ended slices\n",
        "print(word[5:])\n",
        "print(word[:4])\n",
        "\n",
        "# # Using negative indices\n",
        "print(word[-3:])\n",
        "print(word[2:-3])\n",
        "\n",
        "# # Indexing past the end\n",
        "print(word[8:20])\n",
        "print(\"$\" + word[22:29] + \"^\")\n",
        "\n",
        "# # Empty slices\n",
        "print(word[6:6])\n",
        "print(word[4:2])"
      ],
      "execution_count": null,
      "outputs": [
        {
          "output_type": "stream",
          "text": [
            "very\n",
            "thin\n",
            "thing\n",
            "ever\n",
            "ing\n",
            "eryth\n",
            "ng\n",
            "$^\n",
            "\n",
            "\n"
          ],
          "name": "stdout"
        }
      ]
    },
    {
      "cell_type": "markdown",
      "metadata": {
        "id": "Ne8lCu0RlcLy"
      },
      "source": [
        "### Formatting Strings\n",
        "\n",
        "* format method"
      ]
    },
    {
      "cell_type": "code",
      "metadata": {
        "colab": {
          "base_uri": "https://localhost:8080/"
        },
        "id": "za4xO7AFi9Yj",
        "outputId": "05791436-3f79-45c1-9af9-458c618c6f03"
      },
      "source": [
        "country = \"France\"\n",
        "capital = \"Paris\"\n",
        "sentence = \"The capital of {} is {}.\".format(country, capital)\n",
        "print(sentence)"
      ],
      "execution_count": null,
      "outputs": [
        {
          "output_type": "stream",
          "text": [
            "The capital of France is Paris.\n"
          ],
          "name": "stdout"
        }
      ]
    },
    {
      "cell_type": "markdown",
      "metadata": {
        "id": "32dcsZDwmyok"
      },
      "source": [
        "* Curly braces indicate a replacement field.\n",
        "* If you would like to have a curly brace in the output, you need to use {{ or }}."
      ]
    },
    {
      "cell_type": "code",
      "metadata": {
        "colab": {
          "base_uri": "https://localhost:8080/"
        },
        "id": "2u9fUeaFmmva",
        "outputId": "4543ba19-149f-4498-9cd4-cbc3f08e0afb"
      },
      "source": [
        "mood1 = \"happy\"\n",
        "mood2 = \"sad\"\n",
        "sentence1 = \"I feel {0}, do you feel {0}?  Or are you {1}? I'm not sure if we should be {0}.\".format(mood1, mood2)\n",
        "print(sentence1)"
      ],
      "execution_count": null,
      "outputs": [
        {
          "output_type": "stream",
          "text": [
            "I feel happy, do you feel happy?  Or are you sad? I'm not sure if we should be happy.\n"
          ],
          "name": "stdout"
        }
      ]
    },
    {
      "cell_type": "markdown",
      "metadata": {
        "id": "GJ2WNgcloC1j"
      },
      "source": [
        "* In order to provide more control of the formatted output, you can also provide a number that indicates which argument should be used."
      ]
    },
    {
      "cell_type": "code",
      "metadata": {
        "colab": {
          "base_uri": "https://localhost:8080/"
        },
        "id": "xNUo0mXIn990",
        "outputId": "329ea7a7-9189-4fce-bb76-fc0ec13113ba"
      },
      "source": [
        "name1 = \"Pierre\"\n",
        "age1 = 7\n",
        "name2 = \"May\"\n",
        "age2 = 13\n",
        "\n",
        "line1 = \"{0:^7} {1:<3}\".format(name1, age1)\n",
        "line2 = \"{0:^7} {1:>3}\".format(name2, age2)\n",
        "print(line1)\n",
        "print(line2)"
      ],
      "execution_count": null,
      "outputs": [
        {
          "output_type": "stream",
          "text": [
            "Pierre  7  \n",
            "  May    13\n"
          ],
          "name": "stdout"
        }
      ]
    },
    {
      "cell_type": "markdown",
      "metadata": {
        "id": "t1G7-PaUoqwb"
      },
      "source": [
        "* The number after the colon means the width of the field in the output.\n",
        "* The output will contain exactly that many characters for that field(padded with spaces).\n",
        "* < for left aligned, > for right aligned, ^ for centered"
      ]
    },
    {
      "cell_type": "code",
      "metadata": {
        "colab": {
          "base_uri": "https://localhost:8080/"
        },
        "id": "s4vvLyK4ohSw",
        "outputId": "17dc299f-446c-4b45-a782-52bf81357e5f"
      },
      "source": [
        "words = \"123\"\n",
        "test = \"{0:<5}\".format(words)\n",
        "print(test)"
      ],
      "execution_count": null,
      "outputs": [
        {
          "output_type": "stream",
          "text": [
            "123  \n"
          ],
          "name": "stdout"
        }
      ]
    },
    {
      "cell_type": "code",
      "metadata": {
        "colab": {
          "base_uri": "https://localhost:8080/"
        },
        "id": "NEpbU5A0rcI4",
        "outputId": "846ff415-885f-4eae-e73c-37808c2a09a2"
      },
      "source": [
        "num = 3.283663293\n",
        "output = \"{0:>10.3f} {0:.2f}\".format(num)\n",
        "print(output)"
      ],
      "execution_count": null,
      "outputs": [
        {
          "output_type": "stream",
          "text": [
            "     3.284 3.28\n"
          ],
          "name": "stdout"
        }
      ]
    },
    {
      "cell_type": "markdown",
      "metadata": {
        "id": "uM4O5Y_6wRO0"
      },
      "source": [
        "* When formatting floating point numbers, the precision has different meanings depending on the specified type.\n",
        "* f (fixed point) type means the floating point number will be formatted such that there are n digits after the decimal point, where n is the specified precision."
      ]
    },
    {
      "cell_type": "markdown",
      "metadata": {
        "id": "vfjc5AxS-Bb1"
      },
      "source": [
        "### [Common Python Questions]\n",
        "\n",
        "1. How can I convert a string into uppercase in python?\n",
        ": .upper()"
      ]
    },
    {
      "cell_type": "code",
      "metadata": {
        "colab": {
          "base_uri": "https://localhost:8080/"
        },
        "id": "5LsbMkPawJAE",
        "outputId": "515a5a69-813d-4ddc-b19d-5568721166ab"
      },
      "source": [
        "my_string = 'Hello World'\n",
        "print(my_string.upper())"
      ],
      "execution_count": null,
      "outputs": [
        {
          "output_type": "stream",
          "text": [
            "HELLO WORLD\n"
          ],
          "name": "stdout"
        }
      ]
    },
    {
      "cell_type": "markdown",
      "metadata": {
        "id": "8JHTooSyBXUx"
      },
      "source": [
        "2. Why does Python 3 requires parentheses around print? : In Python2, print is a kind of statement, not a function. In Python 3, it is a function."
      ]
    },
    {
      "cell_type": "markdown",
      "metadata": {
        "id": "Rjy5UYfIgeWa"
      },
      "source": [
        "\n",
        "\n",
        "---\n",
        "## [Practice Exercises for Strings]\n"
      ]
    },
    {
      "cell_type": "markdown",
      "metadata": {
        "id": "nLZeu59TgklE"
      },
      "source": [
        "1.  The provided template gives four possible defintions for the string Its just a flesh wound in Python. Determine which definitions are incorrect and fix them."
      ]
    },
    {
      "cell_type": "code",
      "metadata": {
        "colab": {
          "base_uri": "https://localhost:8080/"
        },
        "id": "8YpH6LNUhIg_",
        "outputId": "bac01018-8d5e-4932-94c4-4d0cd3fb02c5"
      },
      "source": [
        "\"\"\"\n",
        "Template - String examples\n",
        "\"\"\"\n",
        "\n",
        "# Fix the four string definitions below.\n",
        "\n",
        "# Original Code\n",
        "# string1 = It's just a flesh wound\n",
        "# string2 = 'It's just a flesh wound'\t\n",
        "# string3 = \"\"It's just a flesh wound\"\"\t\n",
        "# string4 = \"\"\"It's just a flesh wound\"\n",
        "\n",
        "# Fixed Code\n",
        "string1 = \"It's just a flesh wound\"\n",
        "string2 = 'It\\'s just a flesh wound'\t\n",
        "string3 = \"It's just a flesh wound\"\n",
        "string4 = \"It's just a flesh wound\"\n",
        "\n",
        "# Answer\n",
        "# string1 = \"It's just a flesh wound\"\n",
        "# string2 = \"It's just a flesh wound\"\t\n",
        "# string3 = \"It's just a flesh wound\"\t\n",
        "# string4 = \"\"\"It's just a flesh wound\"\"\"\n",
        "\n",
        "print(string1)\n",
        "print(string2)\n",
        "print(string3)\n",
        "print(string4)"
      ],
      "execution_count": null,
      "outputs": [
        {
          "output_type": "stream",
          "text": [
            "It's just a flesh wound\n",
            "It's just a flesh wound\n",
            "It's just a flesh wound\n",
            "It's just a flesh wound\n"
          ],
          "name": "stdout"
        }
      ]
    },
    {
      "cell_type": "markdown",
      "metadata": {
        "id": "otGeuLY4gkfG"
      },
      "source": [
        "2. Given a non-empty string example_string, write a Python expression that produces the two-character string formed by selecting the first and last characters of example_string."
      ]
    },
    {
      "cell_type": "code",
      "metadata": {
        "colab": {
          "base_uri": "https://localhost:8080/"
        },
        "id": "L9u1zvN4h7rU",
        "outputId": "33311b48-427a-4305-afc1-4f6da70adaa8"
      },
      "source": [
        "\"\"\"\n",
        "Template - Item selection for lists\n",
        "\"\"\"\n",
        "\n",
        "# Create a string formed by selecting the first and last letters of example_string\n",
        "example_string = \"It's just a flesh wound\"\n",
        "print(example_string)\n",
        "\n",
        "solution_string = example_string[0]+example_string[-1]\n",
        "print(solution_string)\n",
        "\n",
        "# Output should be \n",
        "#It's just a flesh wound\n",
        "#Id"
      ],
      "execution_count": null,
      "outputs": [
        {
          "output_type": "stream",
          "text": [
            "It's just a flesh wound\n",
            "Id\n"
          ],
          "name": "stdout"
        }
      ]
    },
    {
      "cell_type": "markdown",
      "metadata": {
        "id": "wsSxJaybgkZe"
      },
      "source": [
        "3. Given a string example_string with at least two characters, write a Python expression using a string slice that selects all but the first and last characters in example_string. "
      ]
    },
    {
      "cell_type": "code",
      "metadata": {
        "colab": {
          "base_uri": "https://localhost:8080/"
        },
        "id": "wvJbeETEiUEE",
        "outputId": "5a60dcbf-941c-4bf8-9a8f-f3b6b49fba5c"
      },
      "source": [
        "\"\"\"\n",
        "Template - Slice selection for lists\n",
        "\"\"\"\n",
        "\n",
        "# Create a string formed by selecting all but the first and last letters of example_string\n",
        "example_string = \"It's just a flesh wound\"\n",
        "print(example_string)\n",
        "\n",
        "solution_string = example_string[1:-1]\n",
        "print(solution_string)\n",
        "\n",
        "# Output should be \n",
        "#It's just a flesh wound\n",
        "#t's just a flesh woun"
      ],
      "execution_count": null,
      "outputs": [
        {
          "output_type": "stream",
          "text": [
            "It's just a flesh wound\n",
            "t's just a flesh woun\n"
          ],
          "name": "stdout"
        }
      ]
    },
    {
      "cell_type": "markdown",
      "metadata": {
        "id": "wWDxixKogkSM"
      },
      "source": [
        "4. Given a string example_string with at least three characters, write a Python expression using two string slices that produces the string formed by selecting the first three characters and the last three characters in example_string. "
      ]
    },
    {
      "cell_type": "code",
      "metadata": {
        "colab": {
          "base_uri": "https://localhost:8080/"
        },
        "id": "0E5rBhjiiiET",
        "outputId": "9dbdcdd9-a6ff-49f8-fede-b025f528d07d"
      },
      "source": [
        "\"\"\"\n",
        "Template - Another example of slice selection for lists\n",
        "\"\"\"\n",
        "\n",
        "# Create a string formed by selecting the first three characters of example_string\n",
        "# plus the last three characters of example_string\n",
        "example_string = \"It's just a flesh wound\"\n",
        "print(example_string)\n",
        "\n",
        "solution_string = example_string[0:3]+example_string[-3:]\n",
        "print(solution_string)\n",
        "\n",
        "# Output should be \n",
        "#It's just a flesh wound\n",
        "#It'und"
      ],
      "execution_count": null,
      "outputs": [
        {
          "output_type": "stream",
          "text": [
            "It's just a flesh wound\n",
            "It'und\n"
          ],
          "name": "stdout"
        }
      ]
    },
    {
      "cell_type": "markdown",
      "metadata": {
        "id": "SpjOqCTUgkMo"
      },
      "source": [
        "5. Write a function echo(call, repeats)  that takes a  string call and an integer repeats  and prints repeats  copies of the string  call  to console, each on a separate line.  Do not not use a loop for this problem.  Instead, use string muplication and the new line character ’\\n’"
      ]
    },
    {
      "cell_type": "code",
      "metadata": {
        "id": "x1k7Ea1IA87h"
      },
      "source": [
        "def echo(call,repeats):\n",
        "    answer = call + ('\\n' + all) * (repeats - 1)\n",
        "    print(answer)\n"
      ],
      "execution_count": null,
      "outputs": []
    },
    {
      "cell_type": "code",
      "metadata": {
        "colab": {
          "base_uri": "https://localhost:8080/"
        },
        "id": "rNQ25_nIkGjQ",
        "outputId": "308d1019-6181-44b6-a162-ebf63972cbd4"
      },
      "source": [
        "# Tests\n",
        "echo(\"Hello\", 5)\n",
        "echo(\"Goodbye\", 3)"
      ],
      "execution_count": null,
      "outputs": [
        {
          "output_type": "stream",
          "text": [
            "Hello\n",
            "Hello\n",
            "Hello\n",
            "Hello\n",
            "Hello\n",
            "Goodbye\n",
            "Goodbye\n",
            "Goodbye\n"
          ],
          "name": "stdout"
        }
      ]
    },
    {
      "cell_type": "markdown",
      "metadata": {
        "id": "eCHEMEiIku_T"
      },
      "source": [
        "6. Write a function is_substring(example_string, test_string)  that takes the strings example_string and  test_string and returns True if there exists a slice of example_string that exactly equals  test_string and returns False otherwise. Note that the body of this function requires only one line of code and should not use any kind of slicing or iteration."
      ]
    },
    {
      "cell_type": "code",
      "metadata": {
        "colab": {
          "base_uri": "https://localhost:8080/"
        },
        "id": "5u724zJWkIvW",
        "outputId": "1b1ea410-2e3e-448c-9a49-b2ec79576913"
      },
      "source": [
        "\"\"\"\n",
        "Template - Function that tests for substring\n",
        "\"\"\"\n",
        "\n",
        "\n",
        "def is_substring(example_string, test_string):\n",
        "    \"\"\"\n",
        "    Function that returns True if test_string\n",
        "    is a substring of example_string and False otherwise\n",
        "    \"\"\"\n",
        "\n",
        "    # enter one line of code for substring test here\n",
        "    # if example_string.find(test_string):\n",
        "    #     return True\n",
        "    # else :\n",
        "    #     return False\n",
        "    return test_string in example_string\n",
        "    \n",
        "\n",
        "# Tests\n",
        "\n",
        "example_string = \"It's just a flesh wound.\"\n",
        "\n",
        "print(is_substring(example_string, \"just\"))\n",
        "print(is_substring(example_string, \"flesh wound\"))\n",
        "print(is_substring(example_string, \"piddog\"))\n",
        "print(is_substring(example_string, \"it's\"))\n",
        "print(is_substring(example_string, \"It's\"))\n",
        "\n",
        "# Output\n",
        "\n",
        "#True\n",
        "#True\n",
        "#False\n",
        "#False\n",
        "#True"
      ],
      "execution_count": null,
      "outputs": [
        {
          "output_type": "stream",
          "text": [
            "True\n",
            "True\n",
            "False\n",
            "False\n",
            "True\n"
          ],
          "name": "stdout"
        }
      ]
    },
    {
      "cell_type": "code",
      "metadata": {
        "colab": {
          "base_uri": "https://localhost:8080/"
        },
        "id": "J_kqT5PXlEri",
        "outputId": "0098dd8a-70f7-4120-9500-ea2ba6549f4b"
      },
      "source": [
        "print('test' in 'not testing')"
      ],
      "execution_count": null,
      "outputs": [
        {
          "output_type": "stream",
          "text": [
            "True\n"
          ],
          "name": "stdout"
        }
      ]
    },
    {
      "cell_type": "markdown",
      "metadata": {
        "id": "ly6_xStOlm9M"
      },
      "source": [
        "7. Write a function make_nametag(name, topic) that takes two strings  first_name and  topic and returns the string  \"Hi! My name is XXX.  This lecture covers YYY.\" where  XXX is replaced by first_name and YYY is replaced by topic.  "
      ]
    },
    {
      "cell_type": "code",
      "metadata": {
        "colab": {
          "base_uri": "https://localhost:8080/"
        },
        "id": "5J2-9mQvlgq-",
        "outputId": "528410e9-54f5-4b41-f698-51e7bd78acb6"
      },
      "source": [
        "\"\"\"\n",
        "Template - Function that uses format to create a nametag\n",
        "\"\"\"\n",
        "\n",
        "\n",
        "def make_nametag(first_name, topic):\n",
        "    \"\"\"\n",
        "    Given two strings first_name and topic,\n",
        "    return a string of the form \"\"Hi! My name \n",
        "    is XXX. This lecture covers YYY.\" where\n",
        "    XXX and YYY are first_name and topic.\n",
        "    \"\"\"\n",
        "    \n",
        "    # enter code here\n",
        "    return \"Hi! My name is {0}. This lecture covers {1}.\".format(first_name, topic)\n",
        "\n",
        "    \n",
        "# Tests\n",
        "\n",
        "print(make_nametag(\"Scott\", \"Python\"))\n",
        "print(make_nametag(\"Joe\", \"games\"))\n",
        "print(make_nametag(\"John\", \"programming tips\"))\n",
        "\n",
        "\n",
        "# Output\n",
        "\n",
        "#Hi! My name is Scott. This lecture covers Python.\n",
        "#Hi! My name is Joe. This lecture covers games.\n",
        "#Hi! My name is John. This lecture covers programming tips."
      ],
      "execution_count": null,
      "outputs": [
        {
          "output_type": "stream",
          "text": [
            "Hi! My name is Scott. This lecture covers Python.\n",
            "Hi! My name is Joe. This lecture covers games.\n",
            "Hi! My name is John. This lecture covers programming tips.\n"
          ],
          "name": "stdout"
        }
      ]
    },
    {
      "cell_type": "markdown",
      "metadata": {
        "id": "Ul5SHGM0nMlQ"
      },
      "source": [
        "8. Write a function make_int(int_string) that takes as input the string int_string and checks whether int_string can be converted to a non-negative integer.  If so, the function returns that integer.  Otherwise, the function returns the integer-1. For this question, be sure to use the Python docs to search for a string function that checks whether a string consists entirely of digits. "
      ]
    },
    {
      "cell_type": "code",
      "metadata": {
        "colab": {
          "base_uri": "https://localhost:8080/"
        },
        "id": "XDv0SdcIn5UQ",
        "outputId": "f95edec3-1c3c-42c5-b15c-0dd16a72ae11"
      },
      "source": [
        "# isdigit() function returns False when the string includes negative number or dot.\n",
        "\n",
        "'00123'.isdigit()"
      ],
      "execution_count": null,
      "outputs": [
        {
          "output_type": "execute_result",
          "data": {
            "text/plain": [
              "True"
            ]
          },
          "metadata": {
            "tags": []
          },
          "execution_count": 21
        }
      ]
    },
    {
      "cell_type": "code",
      "metadata": {
        "colab": {
          "base_uri": "https://localhost:8080/"
        },
        "id": "G8i95I9qnBGf",
        "outputId": "06f99b8f-d465-4750-e99f-d661e4742ffd"
      },
      "source": [
        "\"\"\"\n",
        "Template - Function that checks whether a string can be converted to an integer\n",
        "\"\"\"\n",
        "\n",
        "\n",
        "def make_int(int_string):\n",
        "    \"\"\"\n",
        "    Given the string int_string, return the associated integer if all \n",
        "    digits are decimal digits.  Other return -1.\n",
        "    \"\"\"\n",
        "    \n",
        "    # enter code here\n",
        "    if int_string.isdigit():\n",
        "        return int(int_string)\n",
        "    else:\n",
        "        return -1\n",
        "    \n",
        "# Tests\n",
        "\n",
        "print(make_int(\"123\"))\n",
        "print(make_int(\"00123\"))\n",
        "print(make_int(\"1.23\"))\n",
        "print(make_int(\"-123\"))\n",
        "\n",
        "\n",
        "# Output\n",
        "\n",
        "#123\n",
        "#123\n",
        "#-1\n",
        "#-1"
      ],
      "execution_count": null,
      "outputs": [
        {
          "output_type": "stream",
          "text": [
            "123\n",
            "123\n",
            "-1\n",
            "-1\n"
          ],
          "name": "stdout"
        }
      ]
    },
    {
      "cell_type": "markdown",
      "metadata": {
        "id": "YIifA0fHo6iR"
      },
      "source": [
        "10. Challenge: Write a function name_swap(name_string) that converts an input string name_string of the form \"first last\" into the form \"Last First\" and returns this converted string. For this problem, you may assume that name_string contains exactly one space."
      ]
    },
    {
      "cell_type": "code",
      "metadata": {
        "colab": {
          "base_uri": "https://localhost:8080/"
        },
        "id": "pbWnQ4dvoUyN",
        "outputId": "e323367f-8255-4599-d674-ffd3b2b27978"
      },
      "source": [
        "\"\"\"\n",
        "Template - Function that swaps and capitalizes first and last names\n",
        "\"\"\"\n",
        "\n",
        "\n",
        "def name_swap(name_string):\n",
        "    \"\"\"\n",
        "    Given the string name string of the form \"first last\", return \n",
        "    the string \"Last First\" where both names are now capitalized\n",
        "    \"\"\"\n",
        "    \n",
        "    # Enter code here\n",
        "    # ind_space = name_string.index(' ')\n",
        "    # first = name_string[ind_space+1].upper() + name_string[ind_space+2:]\n",
        "    # last = name_string[0].upper() + name_string[1:ind_space]\n",
        "    # return first + ' ' + last\n",
        "\n",
        "    # Answer\n",
        "    (first,last) = name_string.split(' ')\n",
        "    return last.capitalize() + \" \" + first.capitalize()\n",
        "    \n",
        "# Tests\n",
        "\n",
        "print(name_swap(\"joe warren\"))\n",
        "print(name_swap(\"scott rixner\"))\n",
        "print(name_swap(\"john greiner\"))\n",
        "\n",
        "\n",
        "# Output\n",
        "\n",
        "#Warren Joe\n",
        "#Rixner Scott\n",
        "#Greiner John"
      ],
      "execution_count": null,
      "outputs": [
        {
          "output_type": "stream",
          "text": [
            "Warren Joe\n",
            "Rixner Scott\n",
            "Greiner John\n"
          ],
          "name": "stdout"
        }
      ]
    },
    {
      "cell_type": "code",
      "metadata": {
        "colab": {
          "base_uri": "https://localhost:8080/"
        },
        "id": "gZIug1Ikplym",
        "outputId": "c560ea91-3662-45e3-d1bd-3be34fe88f03"
      },
      "source": [
        "\"joe warren\".index(' ')"
      ],
      "execution_count": null,
      "outputs": [
        {
          "output_type": "execute_result",
          "data": {
            "text/plain": [
              "3"
            ]
          },
          "metadata": {
            "tags": []
          },
          "execution_count": 22
        }
      ]
    },
    {
      "cell_type": "code",
      "metadata": {
        "colab": {
          "base_uri": "https://localhost:8080/",
          "height": 35
        },
        "id": "efyWcrdhpoq3",
        "outputId": "c7bbe6f3-a1e5-48fd-d522-9d409e327e22"
      },
      "source": [
        "\"shrubbery\"[len(\"shrubbery\")-1]"
      ],
      "execution_count": null,
      "outputs": [
        {
          "output_type": "execute_result",
          "data": {
            "application/vnd.google.colaboratory.intrinsic+json": {
              "type": "string"
            },
            "text/plain": [
              "'y'"
            ]
          },
          "metadata": {
            "tags": []
          },
          "execution_count": 27
        }
      ]
    },
    {
      "cell_type": "code",
      "metadata": {
        "colab": {
          "base_uri": "https://localhost:8080/"
        },
        "id": "pC8CcXrTq3hK",
        "outputId": "f195f5be-3776-470b-c425-cef2438607b0"
      },
      "source": [
        "\"Castle Anthrax\".index(\" \")"
      ],
      "execution_count": null,
      "outputs": [
        {
          "output_type": "execute_result",
          "data": {
            "text/plain": [
              "6"
            ]
          },
          "metadata": {
            "tags": []
          },
          "execution_count": 28
        }
      ]
    },
    {
      "cell_type": "code",
      "metadata": {
        "colab": {
          "base_uri": "https://localhost:8080/"
        },
        "id": "aFBlCfmOrA6_",
        "outputId": "46a0663e-c180-4731-e02f-c76c4c397366"
      },
      "source": [
        "len(\"Castle Anthrax\")"
      ],
      "execution_count": null,
      "outputs": [
        {
          "output_type": "execute_result",
          "data": {
            "text/plain": [
              "14"
            ]
          },
          "metadata": {
            "tags": []
          },
          "execution_count": 29
        }
      ]
    },
    {
      "cell_type": "code",
      "metadata": {
        "id": "zAb69bn3rDnm"
      },
      "source": [
        "def count_vowels(word):\n",
        "    cnt_a = word.count('a')\n",
        "    cnt_i = word.count('i')\n",
        "    cnt_e = word.count('e')\n",
        "    cnt_o = word.count('o')\n",
        "    cnt_u = word.count('u')\n",
        "\n",
        "    return cnt_a + cnt_i + cnt_e + cnt_o + cnt_u"
      ],
      "execution_count": null,
      "outputs": []
    },
    {
      "cell_type": "code",
      "metadata": {
        "colab": {
          "base_uri": "https://localhost:8080/"
        },
        "id": "K9bKSHqHsVas",
        "outputId": "a83066e8-3f65-4951-ce65-c468435a5192"
      },
      "source": [
        "print(count_vowels(\"aaassseefffgggiiijjjoOOkkkuuuu\"))\n",
        "print(count_vowels(\"aovvouOucvicIIOveeOIclOeuvvauouuvciOIsle\"))"
      ],
      "execution_count": null,
      "outputs": [
        {
          "output_type": "stream",
          "text": [
            "13\n",
            "17\n"
          ],
          "name": "stdout"
        }
      ]
    },
    {
      "cell_type": "code",
      "metadata": {
        "id": "IOQbTD1LsWx9"
      },
      "source": [
        "def demystify(l1_string):\n",
        "    return l1_string.replace('l','a').replace('1','b')"
      ],
      "execution_count": null,
      "outputs": []
    },
    {
      "cell_type": "code",
      "metadata": {
        "colab": {
          "base_uri": "https://localhost:8080/"
        },
        "id": "r7gyIi7auJ2f",
        "outputId": "03974e13-d6d9-4ddf-8439-37c403fddf68"
      },
      "source": [
        "print(demystify(\"lll111l1l1l1111lll\"))\n",
        "print(demystify(\"111l1l11l11lll1lll1lll11111ll11l1ll1l111\"))"
      ],
      "execution_count": null,
      "outputs": [
        {
          "output_type": "stream",
          "text": [
            "aaabbbabababbbbaaa\n",
            "bbbababbabbaaabaaabaaabbbbbaabbabaababbb\n"
          ],
          "name": "stdout"
        }
      ]
    },
    {
      "cell_type": "code",
      "metadata": {
        "id": "4wN05IwQuLqQ"
      },
      "source": [
        "aaabbbabababbbbaaa\n",
        "aaabbbabababbbbaaa"
      ],
      "execution_count": null,
      "outputs": []
    }
  ]
}