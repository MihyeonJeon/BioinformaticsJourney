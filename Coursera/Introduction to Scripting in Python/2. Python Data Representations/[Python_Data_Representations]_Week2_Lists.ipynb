{
  "nbformat": 4,
  "nbformat_minor": 0,
  "metadata": {
    "colab": {
      "name": "[Python Data Representations] Week2_Lists.ipynb",
      "provenance": [],
      "collapsed_sections": []
    },
    "kernelspec": {
      "name": "python3",
      "display_name": "Python 3"
    },
    "language_info": {
      "name": "python"
    }
  },
  "cells": [
    {
      "cell_type": "markdown",
      "metadata": {
        "id": "ML3USVS1vXaF"
      },
      "source": [
        "## Lists\n",
        "*  It's just a sequence of values. Lists are an important and valuable data structure."
      ]
    },
    {
      "cell_type": "code",
      "metadata": {
        "colab": {
          "base_uri": "https://localhost:8080/"
        },
        "id": "J_z7kDSUvdFK",
        "outputId": "b17c1d61-8687-43b8-a061-9f70c6ffc296"
      },
      "source": [
        "\"\"\"\n",
        "List creation.\n",
        "\"\"\"\n",
        "\n",
        "print(\"List Literals\")\n",
        "print(\"=============\")\n",
        "\n",
        "# List literals\n",
        "empty = []\n",
        "print(empty)\n",
        "\n",
        "numbers = [1, 5, 8, 3, 2]\n",
        "print(numbers)\n",
        "\n",
        "letters = [\"a\", \"z\", \"c\", \"q\", \"c\", \"a\"]\n",
        "print(letters)\n",
        "\n",
        "languages = [\"python\", \"java\", \"javascript\", \"lisp\", \"c++\", \"haskell\"]\n",
        "print(languages)\n",
        "\n",
        "# Don't mix types in a list!\n",
        "mixed = [\"a\", 1, True]\n",
        "print(mixed)\n",
        "\n",
        "print(\"\")\n",
        "print(\"Creating Lists\")\n",
        "print(\"==============\")\n",
        "\n",
        "mylist = list()\n",
        "print(mylist)\n",
        "\n",
        "seq = range(5)\n",
        "print(seq)\n",
        "\n",
        "seqlst = list(seq)\n",
        "print(seqlst)\n",
        "\n",
        "seq2 = range(7, 13)\n",
        "print(seq2, list(seq2))\n",
        "\n",
        "seq3 = range(4, 27, 5)\n",
        "print(seq3, list(seq3))\n",
        "\n",
        "seq4 = range(9, 2, -1)\n",
        "print(seq4, list(seq4))"
      ],
      "execution_count": null,
      "outputs": [
        {
          "output_type": "stream",
          "text": [
            "List Literals\n",
            "=============\n",
            "[]\n",
            "[1, 5, 8, 3, 2]\n",
            "['a', 'z', 'c', 'q', 'c', 'a']\n",
            "['python', 'java', 'javascript', 'lisp', 'c++', 'haskell']\n",
            "['a', 1, True]\n",
            "\n",
            "Creating Lists\n",
            "==============\n",
            "[]\n",
            "range(0, 5)\n",
            "[0, 1, 2, 3, 4]\n",
            "range(7, 13) [7, 8, 9, 10, 11, 12]\n",
            "range(4, 27, 5) [4, 9, 14, 19, 24]\n",
            "range(9, 2, -1) [9, 8, 7, 6, 5, 4, 3]\n"
          ],
          "name": "stdout"
        }
      ]
    },
    {
      "cell_type": "markdown",
      "metadata": {
        "id": "Bt7T9Fznxixj"
      },
      "source": [
        "## List Indexing and Slicing\n",
        "\n",
        "* How to access items in a list\n",
        "* Lists and strings are sequence types.\n",
        "* A string is a sequence of charagers and a list is a sequece of items."
      ]
    },
    {
      "cell_type": "code",
      "metadata": {
        "colab": {
          "base_uri": "https://localhost:8080/"
        },
        "id": "xXR_u_wXwflT",
        "outputId": "a33181a3-094f-46ae-e1d1-935f3b1815c3"
      },
      "source": [
        "\"\"\"\n",
        "List indexing and slicing.\n",
        "\"\"\"\n",
        "\n",
        "print(\"List Indexing\")\n",
        "print(\"=============\")\n",
        "\n",
        "groceries = [\"butter\", \"milk\", \"bacon\", \"spaghetti\", \"asparagus\"]\n",
        "print(groceries)\n",
        "\n",
        "# first item\n",
        "print(groceries[0])\n",
        "\n",
        "# third item\n",
        "print(groceries[2])\n",
        "\n",
        "# length of list\n",
        "numitems = len(groceries)\n",
        "print(numitems)\n",
        "\n",
        "# last item\n",
        "print(groceries[-1])\n",
        "print(groceries[numitems - 1])\n",
        "\n",
        "# third from last item\n",
        "print(groceries[-3])\n",
        "\n",
        "# Out of bounds\n",
        "#print(groceries[numitems])\n",
        "#print(groceries[-17])\n",
        "\n",
        "# Indices\n",
        "# list = [7, 8, 3, 2, 9, 4]\n",
        "# item        7  8  3  2  9  4\n",
        "# pos index   0  1  2  3  4  5\n",
        "# neg index  -6 -5 -4 -3 -2 -1\n",
        "\n",
        "print(\"\")\n",
        "print(\"List Slicing\")\n",
        "print(\"============\")\n",
        "\n",
        "numbers = list(range(72, 5, -12))\n",
        "print(numbers)\n",
        "\n",
        "# Sublists\n",
        "print(numbers[2:3])\n",
        "print(numbers[1:4])\n",
        "\n",
        "# Open ended slices\n",
        "print(numbers[1:])\n",
        "print(numbers[:3])\n",
        "\n",
        "# Using negative indices\n",
        "print(numbers[-2:])\n",
        "print(numbers[1:-4])\n",
        "\n",
        "# Empty slices\n",
        "print(numbers[3:2])\n",
        "print(numbers[10:12])"
      ],
      "execution_count": null,
      "outputs": [
        {
          "output_type": "stream",
          "text": [
            "List Indexing\n",
            "=============\n",
            "['butter', 'milk', 'bacon', 'spaghetti', 'asparagus']\n",
            "butter\n",
            "bacon\n",
            "5\n",
            "asparagus\n",
            "asparagus\n",
            "bacon\n",
            "\n",
            "List Slicing\n",
            "============\n",
            "[72, 60, 48, 36, 24, 12]\n",
            "[48]\n",
            "[60, 48, 36]\n",
            "[60, 48, 36, 24, 12]\n",
            "[72, 60, 48]\n",
            "[24, 12]\n",
            "[60]\n",
            "[]\n",
            "[]\n"
          ],
          "name": "stdout"
        }
      ]
    },
    {
      "cell_type": "markdown",
      "metadata": {
        "id": "HDl7Z1jO0vnc"
      },
      "source": [
        "## Defining and Accessing Lists\n",
        "\n",
        "### List Literals\n",
        "* Generally you need to only include elements of the same type as each other within a list."
      ]
    },
    {
      "cell_type": "code",
      "metadata": {
        "colab": {
          "base_uri": "https://localhost:8080/"
        },
        "id": "RvUbIDJRzSVi",
        "outputId": "e397b409-2483-4582-b1c8-891658db08cf"
      },
      "source": [
        "lst1 = [1, 5, 9, -32]\n",
        "print(lst1)\n",
        "\n",
        "lst2 = [\"dog\", \"cow\", \"horse\"]\n",
        "print(lst2)\n",
        "\n",
        "emptylst = []\n",
        "print(emptylst)"
      ],
      "execution_count": null,
      "outputs": [
        {
          "output_type": "stream",
          "text": [
            "[1, 5, 9, -32]\n",
            "['dog', 'cow', 'horse']\n",
            "[]\n"
          ],
          "name": "stdout"
        }
      ]
    },
    {
      "cell_type": "markdown",
      "metadata": {
        "id": "WugaGgsSMTCL"
      },
      "source": [
        "### Range\n",
        "* You can pass range() to the list function to convert the range object into a list. Range() takes from 1 to 3 arguments, meaning start, stop and step value.\n",
        "* If a single argument is passed to range, the start value will be 0, the stop value will be the argument, and the step value will be 1.\n",
        "\n"
      ]
    },
    {
      "cell_type": "markdown",
      "metadata": {
        "id": "mIlXZ2zWCmDn"
      },
      "source": [
        "## Splitting and Joining Strings\n",
        "* split() : If there is no argument, it breaks down strings into words based on white space and returns a list not including any white space. When you put an argument, it breaks down based on the argument.\n",
        "\n",
        "* join() : it returns a string joing each one in list\n"
      ]
    },
    {
      "cell_type": "code",
      "metadata": {
        "id": "goEfqPvH0_4o",
        "colab": {
          "base_uri": "https://localhost:8080/"
        },
        "outputId": "f9db9402-4a50-42c5-99b8-c0c8f9f67a0e"
      },
      "source": [
        "\"\"\"\n",
        "Splitting and Joining Strings\n",
        "\"\"\"\n",
        "\n",
        "print(\"Splitting\")\n",
        "print(\"=========\")\n",
        "\n",
        "# From \"A Girl I knew\" by J. D. Salinger\n",
        "sentence = \"She wasn't doing a thing that I could see, except standing there leaning on the balcony railing, holding the universe together.\"\n",
        "\n",
        "print(sentence)\n",
        "\n",
        "# String split\n",
        "words = sentence.split()\n",
        "print(words)\n",
        "\n",
        "# # Explicit separator\n",
        "words2 = sentence.split(\" \")\n",
        "print(words2)\n",
        "phrases = sentence.split(\",\")\n",
        "print(phrases)\n",
        "parts = sentence.split(\"the\")\n",
        "print(parts)\n",
        "\n",
        "print(\"\")\n",
        "print(\"Joining\")\n",
        "print(\"=======\")\n",
        "\n",
        "items = [\"flowers\", \"puddle\", \"mouse pad\", \"outlet\", \"bread\", \"house\"]\n",
        "\n",
        "print(items)\n",
        "\n",
        "# # Join together\n",
        "print(\"\".join(items))\n",
        "print(\" \".join(items))\n",
        "print(\",\".join(items))\n",
        "print(\", \".join(items))"
      ],
      "execution_count": null,
      "outputs": [
        {
          "output_type": "stream",
          "text": [
            "Splitting\n",
            "=========\n",
            "She wasn't doing a thing that I could see, except standing there leaning on the balcony railing, holding the universe together.\n",
            "['She', \"wasn't\", 'doing', 'a', 'thing', 'that', 'I', 'could', 'see,', 'except', 'standing', 'there', 'leaning', 'on', 'the', 'balcony', 'railing,', 'holding', 'the', 'universe', 'together.']\n",
            "['She', \"wasn't\", 'doing', 'a', 'thing', 'that', 'I', 'could', 'see,', 'except', 'standing', 'there', 'leaning', 'on', 'the', 'balcony', 'railing,', 'holding', 'the', 'universe', 'together.']\n",
            "[\"She wasn't doing a thing that I could see\", ' except standing there leaning on the balcony railing', ' holding the universe together.']\n",
            "[\"She wasn't doing a thing that I could see, except standing \", 're leaning on ', ' balcony railing, holding ', ' universe toge', 'r.']\n",
            "\n",
            "Joining\n",
            "=======\n",
            "['flowers', 'puddle', 'mouse pad', 'outlet', 'bread', 'house']\n",
            "flowerspuddlemouse padoutletbreadhouse\n",
            "flowers puddle mouse pad outlet bread house\n",
            "flowers,puddle,mouse pad,outlet,bread,house\n",
            "flowers, puddle, mouse pad, outlet, bread, house\n"
          ],
          "name": "stdout"
        }
      ]
    },
    {
      "cell_type": "markdown",
      "metadata": {
        "id": "hlpsLnn_Ejp4"
      },
      "source": [
        "## Line Searching\n",
        "\n",
        "* list_name.index(word) : it returns the first index of the word. List doesn't have rindex() function.\n",
        "* word in list_name : It returns True or False, not an index.\n",
        "* list_name.count(word) : it counts how many numbers of the word is in the list."
      ]
    },
    {
      "cell_type": "code",
      "metadata": {
        "colab": {
          "base_uri": "https://localhost:8080/"
        },
        "id": "5FZy7e5HC9fS",
        "outputId": "5ef01403-3df4-4b95-c5cf-eb87855660d2"
      },
      "source": [
        "\"\"\"\n",
        "Searching lists.\n",
        "\"\"\"\n",
        "\n",
        "toys = [\"blocks\", \"slinky\", \"fidget spinner\", \"cards\", \"doll house\", \"legos\", \"blocks\", \"teddy bear\"]\n",
        "\n",
        "# Finding items in a list\n",
        "print(toys.index(\"legos\"))\n",
        "print(toys.index(\"blocks\"))\n",
        "#print(toys.index(\"video game\"))\n",
        "\n",
        "print(\"\")\n",
        "\n",
        "# Checking if items are in a list\n",
        "print(\"legos\" in toys)\n",
        "print(\"blocks\" in toys)\n",
        "print(\"video game\" in toys)\n",
        "print(\"teddy bear\" not in toys)\n",
        "print(\"dice\" not in toys)\n",
        "\n",
        "print(\"\")\n",
        "\n",
        "# Counting items in list\n",
        "print(toys.count(\"slinky\"))\n",
        "print(toys.count(\"blocks\"))"
      ],
      "execution_count": null,
      "outputs": [
        {
          "output_type": "stream",
          "text": [
            "5\n",
            "0\n",
            "\n",
            "True\n",
            "True\n",
            "False\n",
            "False\n",
            "True\n",
            "\n",
            "1\n",
            "2\n"
          ],
          "name": "stdout"
        }
      ]
    },
    {
      "cell_type": "markdown",
      "metadata": {
        "id": "oiE3mWAIFyQV"
      },
      "source": [
        "## Iteration over Lists\n"
      ]
    },
    {
      "cell_type": "code",
      "metadata": {
        "colab": {
          "base_uri": "https://localhost:8080/"
        },
        "id": "PbskD5ngEsgZ",
        "outputId": "382c7319-97ec-4dc8-9a99-d9c8d7f2f2f0"
      },
      "source": [
        "\"\"\"\n",
        "Iterating over lists.\n",
        "\"\"\"\n",
        "\n",
        "def print_items(alist):\n",
        "    \"\"\"\n",
        "    Iterate over alist and print all items.\n",
        "    \"\"\"\n",
        "    for item in alist:\n",
        "        print(item)\n",
        "\n",
        "def print_items_bad(alist):\n",
        "    \"\"\"\n",
        "    Iterate over alist and print all items.\n",
        "    List indexing in this way is error prone and unnecessary.\n",
        "    \"\"\"\n",
        "    length = len(alist)\n",
        "    for index in range(length):\n",
        "        print(alist[index])\n",
        "\n",
        "def count_items(alist):\n",
        "    \"\"\"\n",
        "    Count number of items in alist.\n",
        "    \"\"\"\n",
        "    count = 0\n",
        "    for item in alist:\n",
        "        count = count + 1\n",
        "    return count\n",
        "\n",
        "def count_odd_items(numlist):\n",
        "    \"\"\"\n",
        "    Count number of odd numbers in numlist.\n",
        "    \"\"\"\n",
        "    count = 0\n",
        "    for num in numlist:\n",
        "        if num % 2 == 1:\n",
        "            count += 1\n",
        "    return count\n",
        "\n",
        "numbers = list(range(5, 82, 3))\n",
        "strings = [\"python\", \"is\", \"fun\", \"!\"]\n",
        "\n",
        "print(\"Iterate over lists and print items\")\n",
        "print(\"\")\n",
        "\n",
        "# print_items(numbers)\n",
        "# print_items(strings)\n",
        "# print_items_bad(numbers)\n",
        "\n",
        "# print(\"\")\n",
        "# print(\"Iterate over lists and process them\")\n",
        "# print(\"\")\n",
        "\n",
        "print(count_items(numbers))\n",
        "print(count_items(strings))\n",
        "print(count_odd_items(numbers))"
      ],
      "execution_count": null,
      "outputs": [
        {
          "output_type": "stream",
          "text": [
            "Iterate over lists and print items\n",
            "\n",
            "26\n",
            "4\n",
            "13\n"
          ],
          "name": "stdout"
        }
      ]
    },
    {
      "cell_type": "markdown",
      "metadata": {
        "id": "1U8qcJVXdLBo"
      },
      "source": [
        "\n",
        "\n",
        "---\n",
        "\n",
        "##Itertaion\n",
        "\n"
      ]
    },
    {
      "cell_type": "code",
      "metadata": {
        "id": "2x1XCJCmI-FE",
        "colab": {
          "base_uri": "https://localhost:8080/"
        },
        "outputId": "6555ea7b-1b10-4088-b10a-f1d6e764b6fd"
      },
      "source": [
        "pets = [\"cat\", \"dog\", \"ferret\"]\n",
        "\n",
        "for animal in pets:\n",
        "    print(animal)"
      ],
      "execution_count": 1,
      "outputs": [
        {
          "output_type": "stream",
          "text": [
            "cat\n",
            "dog\n",
            "ferret\n"
          ],
          "name": "stdout"
        }
      ]
    },
    {
      "cell_type": "code",
      "metadata": {
        "colab": {
          "base_uri": "https://localhost:8080/"
        },
        "id": "83dH0Y2JdUG4",
        "outputId": "2a5ecb44-5900-49a8-cfc7-e29347174af6"
      },
      "source": [
        "numbers = [3, 8, -2, 4, 13]\n",
        "sumsq = 0\n",
        "\n",
        "for num in numbers:\n",
        "    square = num * num\n",
        "    sumsq += square\n",
        "    \n",
        "print(sumsq)"
      ],
      "execution_count": 2,
      "outputs": [
        {
          "output_type": "stream",
          "text": [
            "262\n"
          ],
          "name": "stdout"
        }
      ]
    },
    {
      "cell_type": "markdown",
      "metadata": {
        "id": "_CylCVtQdk7e"
      },
      "source": [
        "## Thonny\n",
        "\n",
        "* Thonny is a Python IDE program"
      ]
    },
    {
      "cell_type": "markdown",
      "metadata": {
        "id": "UrZyHkMkjmfG"
      },
      "source": [
        "\n",
        "\n",
        "---\n",
        "## [Practice Exercises for Lists]\n"
      ]
    },
    {
      "cell_type": "markdown",
      "metadata": {
        "id": "TjLSL2JRj9As"
      },
      "source": [
        "1. Create a list that contains first 6 prime numbers in ascending order. (This list should be created manually.) Print out the 2nd, 4th, and 6th numbers in this list. "
      ]
    },
    {
      "cell_type": "code",
      "metadata": {
        "colab": {
          "base_uri": "https://localhost:8080/"
        },
        "id": "2dKGpf2zl7I_",
        "outputId": "f21ab077-2cca-4b3d-f3e4-b5bd2792f947"
      },
      "source": [
        "prime_list = [2,3,5,7,11,13]\n",
        "\n",
        "print(prime_list[1],prime_list[3],prime_list[5])"
      ],
      "execution_count": 3,
      "outputs": [
        {
          "output_type": "stream",
          "text": [
            "3 7 13\n"
          ],
          "name": "stdout"
        }
      ]
    },
    {
      "cell_type": "markdown",
      "metadata": {
        "id": "8cHsrRxlj84G"
      },
      "source": [
        "2. Given a non-empty list example_list, write a Python expression that produces the list formed by the first and last elemets in example_list."
      ]
    },
    {
      "cell_type": "code",
      "metadata": {
        "colab": {
          "base_uri": "https://localhost:8080/"
        },
        "id": "drOKrKpcmW-r",
        "outputId": "8904b70b-630c-48c9-8586-e9a4a1a76c9f"
      },
      "source": [
        "example_list = ['Hello','Today','is','Saturday','!']\n",
        "\n",
        "print(example_list[0],example_list[-1])"
      ],
      "execution_count": 4,
      "outputs": [
        {
          "output_type": "stream",
          "text": [
            "Hello !\n"
          ],
          "name": "stdout"
        }
      ]
    },
    {
      "cell_type": "markdown",
      "metadata": {
        "id": "yjMJR-Qjj8xd"
      },
      "source": [
        "3. Given a list example_list with at least two elemts, write a Python expression using a string slice that produces the string formed by excluding the first and last elements in example_list. "
      ]
    },
    {
      "cell_type": "code",
      "metadata": {
        "colab": {
          "base_uri": "https://localhost:8080/"
        },
        "id": "UsDIQ55Imkzt",
        "outputId": "a53ab895-f0bc-4872-fa53-65b0602e0143"
      },
      "source": [
        "print(example_list[1:-1])"
      ],
      "execution_count": 5,
      "outputs": [
        {
          "output_type": "stream",
          "text": [
            "['Today', 'is', 'Saturday']\n"
          ],
          "name": "stdout"
        }
      ]
    },
    {
      "cell_type": "markdown",
      "metadata": {
        "id": "i5bB9sYkj8nJ"
      },
      "source": [
        "4. Write a Python expression that creates a list of length 16 whose first 8 entries are True  and whose last 8 entries are False . Note that your answer should not include more than one instance of True and one instance of False in the expression used to create the list."
      ]
    },
    {
      "cell_type": "code",
      "metadata": {
        "colab": {
          "base_uri": "https://localhost:8080/"
        },
        "id": "p0IJyQfum3cQ",
        "outputId": "245693cd-d4d3-46eb-d000-25e009139fc6"
      },
      "source": [
        "truefalse_list = 8 * [True] + 8 * [False]\n",
        "print(truefalse_list)\n",
        "    "
      ],
      "execution_count": 6,
      "outputs": [
        {
          "output_type": "stream",
          "text": [
            "[True, True, True, True, True, True, True, True, False, False, False, False, False, False, False, False]\n"
          ],
          "name": "stdout"
        }
      ]
    },
    {
      "cell_type": "markdown",
      "metadata": {
        "id": "s8xva2O_j8hV"
      },
      "source": [
        "5. Write a Python expression that that takes a string text and split it into a list of words separated by spaces. For this problem, you may assume that the words in text are separated by spaces with no punctuation."
      ]
    },
    {
      "cell_type": "code",
      "metadata": {
        "colab": {
          "base_uri": "https://localhost:8080/"
        },
        "id": "67KWd6_NneZy",
        "outputId": "807ab0c8-5e94-40df-fe67-2ca9e742e676"
      },
      "source": [
        "text = 'Bring me a shrubbery'\n",
        "word_list = text.split(\" \")\n",
        "\n",
        "print(word_list)"
      ],
      "execution_count": 8,
      "outputs": [
        {
          "output_type": "stream",
          "text": [
            "['Bring', 'me', 'a', 'shrubbery']\n"
          ],
          "name": "stdout"
        }
      ]
    },
    {
      "cell_type": "markdown",
      "metadata": {
        "id": "POIMCYJMj8bX"
      },
      "source": [
        "6. Write a function word_count(text, word) that takes a string text and a string word as input. word_count should split the string of text into a list of words and count the number of times that word appears in the resulting list.  For this problem, you may assume that the words in text are separated by spaces with no punctuation and word includes no spaces."
      ]
    },
    {
      "cell_type": "code",
      "metadata": {
        "colab": {
          "base_uri": "https://localhost:8080/"
        },
        "id": "FSuXVeBvoYAL",
        "outputId": "bab8663f-e64b-4bdc-afc0-b65107ee9c29"
      },
      "source": [
        "def word_count(text,word):\n",
        "    result_list = text.split(\" \")\n",
        "    word_cnt = result_list.count(word)\n",
        "\n",
        "    return word_cnt\n",
        "\n",
        "\n",
        "\n",
        "print(word_count(\"this pigdog is a fine pigdog\", \"pigdog\"))\n",
        "print(word_count(\"this pigdog is not a dog\", \"dog\"))\n",
        "print(word_count(\"this pigdog is not a pig\", \"pigdog\"))"
      ],
      "execution_count": 9,
      "outputs": [
        {
          "output_type": "stream",
          "text": [
            "2\n",
            "1\n",
            "1\n"
          ],
          "name": "stdout"
        }
      ]
    },
    {
      "cell_type": "markdown",
      "metadata": {
        "id": "uYT-zutvj8Wt"
      },
      "source": [
        "9. Write a Python function list_max(num_list) that takes a non-empty list of numbers num_list  and returns maximum (largest) number in the list. Since there is a built-in function max in Python that performs this computation in a single step, instead implement this function using a loop that iterates over the input list. "
      ]
    },
    {
      "cell_type": "code",
      "metadata": {
        "id": "yynTfuWVo7Bx"
      },
      "source": [
        "def list_max(num_list):\n",
        "    max_number = num_list[0]\n",
        "\n",
        "    for i in num_list[1:]:\n",
        "        if max_number < i:\n",
        "          max_number = i\n",
        "\n",
        "    return max_number"
      ],
      "execution_count": 12,
      "outputs": []
    },
    {
      "cell_type": "code",
      "metadata": {
        "colab": {
          "base_uri": "https://localhost:8080/"
        },
        "id": "k-z_ISisph4V",
        "outputId": "b56bc077-9bc5-4781-839b-5b4a91e77b0f"
      },
      "source": [
        "print(list_max([4]))\n",
        "print(list_max([-3, 4]))\n",
        "print(list_max([5, 3, 1, 7, -3, -4]))\n",
        "print(list_max([1, 2, 3, 4, 5]))\n"
      ],
      "execution_count": 11,
      "outputs": [
        {
          "output_type": "stream",
          "text": [
            "4\n",
            "4\n",
            "7\n",
            "5\n"
          ],
          "name": "stdout"
        }
      ]
    },
    {
      "cell_type": "markdown",
      "metadata": {
        "id": "pgx9Y6wzkcy0"
      },
      "source": [
        "10. Challenge:  Write a Python function concatenate_ints(int_list) that takes a list of non-negative integers int_list and returns a single integer formed by concatenating the digits of the integer in the list. For example, list_to_int([11, 33, 50]) should return the integer 113350. "
      ]
    },
    {
      "cell_type": "code",
      "metadata": {
        "colab": {
          "base_uri": "https://localhost:8080/"
        },
        "id": "8mUT0NoKdh7z",
        "outputId": "6ef08bfc-0573-4b64-f0f8-c9746996232f"
      },
      "source": [
        "def concatenate_ints(int_list):\n",
        "    result = \"\"\n",
        "\n",
        "    for i in int_list:\n",
        "        result += str(i)\n",
        "    \n",
        "    return int(result)\n",
        "\n",
        "\n",
        "# Tests\n",
        "print(concatenate_ints([4]))\n",
        "print(concatenate_ints([4, 0, 4]))\n",
        "print(concatenate_ints([123, 456, 789]))\n",
        "print(concatenate_ints([32, 796, 1000]))\n"
      ],
      "execution_count": 19,
      "outputs": [
        {
          "output_type": "stream",
          "text": [
            "4\n",
            "404\n",
            "123456789\n",
            "327961000\n"
          ],
          "name": "stdout"
        }
      ]
    },
    {
      "cell_type": "code",
      "metadata": {
        "colab": {
          "base_uri": "https://localhost:8080/"
        },
        "id": "SAM38Tyyq95f",
        "outputId": "f184281e-1af8-46cd-f2ce-67eb2dfae75d"
      },
      "source": [
        "print(list(range(0,5)))\n",
        "print(list(range(0,5,1)))"
      ],
      "execution_count": 20,
      "outputs": [
        {
          "output_type": "stream",
          "text": [
            "[0, 1, 2, 3, 4]\n",
            "[0, 1, 2, 3, 4]\n"
          ],
          "name": "stdout"
        }
      ]
    },
    {
      "cell_type": "code",
      "metadata": {
        "colab": {
          "base_uri": "https://localhost:8080/"
        },
        "id": "U9t94GAcrzKG",
        "outputId": "932d4595-6aec-4845-9665-c06c73e67dfa"
      },
      "source": [
        "my_list = [0,1,2,3,4,5] #6개\n",
        "\n",
        "print(my_list[:len(my_list)//2 ] , my_list[len(my_list)//2: len(my_list)])"
      ],
      "execution_count": 25,
      "outputs": [
        {
          "output_type": "stream",
          "text": [
            "[0, 1, 2] [3, 4, 5]\n"
          ],
          "name": "stdout"
        }
      ]
    },
    {
      "cell_type": "code",
      "metadata": {
        "colab": {
          "base_uri": "https://localhost:8080/"
        },
        "id": "ZGlb6pvAsUAk",
        "outputId": "ae2e2668-c25d-4e00-c344-7785ab4f0e7e"
      },
      "source": [
        "init_list = list(range(1, 5))\n",
        "final_list = init_list * 6\n",
        "\n",
        "print(init_list)\n",
        "print(final_list)"
      ],
      "execution_count": 26,
      "outputs": [
        {
          "output_type": "stream",
          "text": [
            "[1, 2, 3, 4]\n",
            "[1, 2, 3, 4, 1, 2, 3, 4, 1, 2, 3, 4, 1, 2, 3, 4, 1, 2, 3, 4, 1, 2, 3, 4]\n"
          ],
          "name": "stdout"
        }
      ]
    },
    {
      "cell_type": "code",
      "metadata": {
        "colab": {
          "base_uri": "https://localhost:8080/"
        },
        "id": "JlKMLMTls570",
        "outputId": "fed3f2d0-afb4-4c57-bed2-7129aa430385"
      },
      "source": [
        "test_string = \"xxx\" + \" \" * 3 + \"xxx\"\n",
        "split_list = test_string.split(\" \")\n",
        "\n",
        "print(split_list)\n",
        "print(test_string)\n",
        "\n",
        "2 + n-1 = n+1"
      ],
      "execution_count": 30,
      "outputs": [
        {
          "output_type": "stream",
          "text": [
            "['xxx', '', '', 'xxx']\n",
            "xxx   xxx\n"
          ],
          "name": "stdout"
        }
      ]
    },
    {
      "cell_type": "code",
      "metadata": {
        "colab": {
          "base_uri": "https://localhost:8080/"
        },
        "id": "6Aal-ZcctmqU",
        "outputId": "387e30e7-45ff-4f4d-a555-4a7a7e44f14b"
      },
      "source": [
        "list1 = list(range(1, 10))\n",
        "list2 = [] + list1\n",
        "\n",
        "print(list2[0])"
      ],
      "execution_count": 35,
      "outputs": [
        {
          "output_type": "stream",
          "text": [
            "1\n"
          ],
          "name": "stdout"
        }
      ]
    },
    {
      "cell_type": "code",
      "metadata": {
        "id": "sewh4OQEuMqS"
      },
      "source": [
        "def strange_sum(numbers):\n",
        "    #3으로 나눠지지 않는 아이템의 합\n",
        "    sum = 0\n",
        "    for num in numbers:\n",
        "        if num % 3 != 0 :\n",
        "            sum += num\n",
        "    \n",
        "    return sum"
      ],
      "execution_count": 38,
      "outputs": []
    },
    {
      "cell_type": "code",
      "metadata": {
        "colab": {
          "base_uri": "https://localhost:8080/"
        },
        "id": "lNTUGd3ou6pA",
        "outputId": "379a6df5-c294-4c86-e855-b8a0d143dd53"
      },
      "source": [
        "print(strange_sum([1, 2, 3, 4, 5, 1, 2, 3, 4, 5]))\n",
        "print(strange_sum(list(range(123)) + list(range(77))))"
      ],
      "execution_count": 39,
      "outputs": [
        {
          "output_type": "stream",
          "text": [
            "24\n",
            "6994\n"
          ],
          "name": "stdout"
        }
      ]
    },
    {
      "cell_type": "code",
      "metadata": {
        "id": "w3bHmMFMu7Pw"
      },
      "source": [
        ""
      ],
      "execution_count": null,
      "outputs": []
    }
  ]
}