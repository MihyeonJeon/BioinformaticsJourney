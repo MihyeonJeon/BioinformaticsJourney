{
  "nbformat": 4,
  "nbformat_minor": 0,
  "metadata": {
    "colab": {
      "name": "[Python Data Representations] Week3_List Mutation.ipynb",
      "provenance": []
    },
    "kernelspec": {
      "name": "python3",
      "display_name": "Python 3"
    },
    "language_info": {
      "name": "python"
    }
  },
  "cells": [
    {
      "cell_type": "markdown",
      "metadata": {
        "id": "Rvre4_uvxuk0"
      },
      "source": [
        "### List Mutation\n",
        "\n",
        "* Lists are mutatble\n",
        "* append() -> adding the item at the end of the list\n",
        "* insert(index, value) -> insert an value in the index\n",
        "* extend(list) -> merge the list with argument list\n",
        "* pop() -> remove the last item\n",
        "* pop(index) -> remove the item of the argument index"
      ]
    },
    {
      "cell_type": "code",
      "metadata": {
        "colab": {
          "base_uri": "https://localhost:8080/"
        },
        "id": "lHvXdr9OxmMG",
        "outputId": "8b74197c-ae8a-4cf1-fe99-43f00a08c3b9"
      },
      "source": [
        "\"\"\"\n",
        "Mutating Lists.\n",
        "\"\"\"\n",
        "\n",
        "print(\"Updating Items\")\n",
        "print(\"==============\")\n",
        "\n",
        "lst = list(range(5))\n",
        "print(lst)\n",
        "\n",
        "lst[1] = -7\n",
        "lst[3] = 17\n",
        "print(lst)\n",
        "\n",
        "print(\"\")\n",
        "print(\"Adding Items\")\n",
        "print(\"============\")\n",
        "\n",
        "lst.append(42)\n",
        "print(lst)\n",
        "\n",
        "lst.insert(2, 75)\n",
        "print(lst)\n",
        "\n",
        "lst2 = [-56, 27, 8]\n",
        "lst.extend(lst2)\n",
        "print(lst)\n",
        "lst.append(lst2)\n",
        "print(lst)\n",
        "\n",
        "print(\"\")\n",
        "print(\"Removing Items\")\n",
        "print(\"==============\")\n",
        "\n",
        "lst.pop()\n",
        "print(lst)\n",
        "lst.pop(3)\n",
        "print(lst)"
      ],
      "execution_count": null,
      "outputs": [
        {
          "output_type": "stream",
          "text": [
            "Updating Items\n",
            "==============\n",
            "[0, 1, 2, 3, 4]\n",
            "[0, -7, 2, 17, 4]\n",
            "\n",
            "Adding Items\n",
            "============\n",
            "[0, -7, 2, 17, 4, 42]\n",
            "[0, -7, 75, 2, 17, 4, 42]\n",
            "[0, -7, 75, 2, 17, 4, 42, -56, 27, 8]\n",
            "[0, -7, 75, 2, 17, 4, 42, -56, 27, 8, [-56, 27, 8]]\n",
            "\n",
            "Removing Items\n",
            "==============\n",
            "[0, -7, 75, 2, 17, 4, 42, -56, 27, 8]\n",
            "[0, -7, 75, 17, 4, 42, -56, 27, 8]\n"
          ],
          "name": "stdout"
        }
      ]
    },
    {
      "cell_type": "code",
      "metadata": {
        "colab": {
          "base_uri": "https://localhost:8080/"
        },
        "id": "BcTsI90Dx56D",
        "outputId": "d6a763c5-cd4e-415b-f65f-f0bc606283a6"
      },
      "source": [
        "\"\"\"\n",
        "Simple task list.\n",
        "\"\"\"\n",
        "\n",
        "def new(tasklist, task):\n",
        "    \"\"\"Add new task\"\"\"\n",
        "    tasklist.append(task)\n",
        "    \n",
        "def remove_by_num(tasklist, tasknum):\n",
        "    \"\"\"Remove by number\"\"\"\n",
        "    if tasknum > 0 and tasknum <= len(tasklist):\n",
        "        tasklist.pop(tasknum - 1)\n",
        "\n",
        "def remove_by_name(tasklist, taskname):\n",
        "    \"\"\"Remove by name\"\"\"\n",
        "    if taskname in tasklist:\n",
        "        tasklist.remove(taskname)\n",
        "    \n",
        "def printlist(tasklist):\n",
        "    \"\"\"Print task list\"\"\"\n",
        "    print(\"========================\")\n",
        "    num = 1\n",
        "    for task in tasklist:\n",
        "        print(num, task)\n",
        "        num += 1\n",
        "    print(\"========================\")\n",
        "        \n",
        "def run():\n",
        "    \"\"\"Manipulate task list\"\"\"\n",
        "    tasks = []\n",
        "    new(tasks, 'Teach Class')\n",
        "    printlist(tasks)\n",
        "    \n",
        "    new(tasks, 'Buy some ties')\n",
        "    new(tasks, 'Learn Python')\n",
        "    printlist(tasks)\n",
        "    \n",
        "    new(tasks, 'Build new task list')\n",
        "    printlist(tasks)\n",
        "    \n",
        "    remove_by_num(tasks, 1)\n",
        "    printlist(tasks)\n",
        "    remove_by_num(tasks, 2)\n",
        "    printlist(tasks)\n",
        "    \n",
        "    remove_by_name(tasks, 'Buy some ties')\n",
        "    printlist(tasks)\n",
        "\n",
        "run()"
      ],
      "execution_count": null,
      "outputs": [
        {
          "output_type": "stream",
          "text": [
            "========================\n",
            "1 Teach Class\n",
            "========================\n",
            "========================\n",
            "1 Teach Class\n",
            "2 Buy some ties\n",
            "3 Learn Python\n",
            "========================\n",
            "========================\n",
            "1 Teach Class\n",
            "2 Buy some ties\n",
            "3 Learn Python\n",
            "4 Build new task list\n",
            "========================\n",
            "========================\n",
            "1 Buy some ties\n",
            "2 Learn Python\n",
            "3 Build new task list\n",
            "========================\n",
            "========================\n",
            "1 Buy some ties\n",
            "2 Build new task list\n",
            "========================\n",
            "========================\n",
            "1 Build new task list\n",
            "========================\n"
          ],
          "name": "stdout"
        }
      ]
    },
    {
      "cell_type": "markdown",
      "metadata": {
        "id": "mCZT4XTM0-Kt"
      },
      "source": [
        "## Tuples\n",
        "\n",
        "* Tuples are immutable.\n",
        "* Lists and Tuples are both sequence types.\n",
        "* index(value) : find the index of a value\n",
        "* count(value) : count how many times a value appears\n",
        "* tuple(argument) : take a sequence and create a new Tuple with the same elements that are in the original sequences.\n",
        "* list(argument) : convert to a list"
      ]
    },
    {
      "cell_type": "code",
      "metadata": {
        "colab": {
          "base_uri": "https://localhost:8080/"
        },
        "id": "GXdA4xKA0sl1",
        "outputId": "b0e8f363-6985-4ba0-8ba6-04e7dc3e412e"
      },
      "source": [
        "\"\"\"\n",
        "Tuple examples.\n",
        "\"\"\"\n",
        "\n",
        "# Lists and tuples are both sequences\n",
        "print(\"Sequences\")\n",
        "print(\"=========\")\n",
        "lst = [1, 5, 7, 3]\n",
        "tup = (1, 5, 7, 3)\n",
        "\n",
        "print(lst, tup)\n",
        "print(lst[2])\n",
        "print(tup[2])\n",
        "print(tup[:2])\n",
        "print(tup[2:3])\n",
        "\n",
        "# Tuples are immutable\n",
        "lst[0] = 9\n",
        "print(lst)\n",
        "# tup[0] = 9\n",
        "print(tup)\n",
        "\n",
        "print(\"\")\n",
        "print(\"Tuple Methods\")\n",
        "print(\"=============\")\n",
        "\n",
        "print(tup.index(7))\n",
        "print(tup.count(4))\n",
        "\n",
        "print(\"\")\n",
        "print(\"Iteration\")\n",
        "print(\"=========\")\n",
        "\n",
        "for item in tup:\n",
        "    print(item)\n",
        "\n",
        "print(\"\")\n",
        "print(\"Conversion\")\n",
        "print(\"==========\")\n",
        "\n",
        "lst2 = [8, 6, 4, 8, 2]\n",
        "print(lst2)\n",
        "tup2 = tuple(lst2)\n",
        "print(tup2)\n",
        "# tup2[3] = 7\n",
        "lst3 = list(tup2)\n",
        "print(lst3)\n",
        "lst3[2] = 7\n",
        "print(lst2, tup2, lst3)"
      ],
      "execution_count": null,
      "outputs": [
        {
          "output_type": "stream",
          "text": [
            "Sequences\n",
            "=========\n",
            "[1, 5, 7, 3] (1, 5, 7, 3)\n",
            "7\n",
            "7\n",
            "(1, 5)\n",
            "(7,)\n",
            "[9, 5, 7, 3]\n",
            "(1, 5, 7, 3)\n",
            "\n",
            "Tuple Methods\n",
            "=============\n",
            "2\n",
            "0\n",
            "\n",
            "Iteration\n",
            "=========\n",
            "1\n",
            "5\n",
            "7\n",
            "3\n",
            "\n",
            "Conversion\n",
            "==========\n",
            "[8, 6, 4, 8, 2]\n",
            "(8, 6, 4, 8, 2)\n",
            "[8, 6, 4, 8, 2]\n",
            "[8, 6, 4, 8, 2] (8, 6, 4, 8, 2) [8, 6, 7, 8, 2]\n"
          ],
          "name": "stdout"
        }
      ]
    },
    {
      "cell_type": "markdown",
      "metadata": {
        "id": "fQ95i2wR25_b"
      },
      "source": [
        "* You have to add a comma after the single element to differentiate it from just using parentheses for grouping your expressions."
      ]
    },
    {
      "cell_type": "code",
      "metadata": {
        "colab": {
          "base_uri": "https://localhost:8080/"
        },
        "id": "KAyAzL2o1VkQ",
        "outputId": "1755a800-eb82-49b1-8248-3f28073c1f44"
      },
      "source": [
        "test_1 = (1)\n",
        "test_2 = (1,)\n",
        "\n",
        "print(type(test_1), type(test_2))"
      ],
      "execution_count": null,
      "outputs": [
        {
          "output_type": "stream",
          "text": [
            "<class 'int'> <class 'tuple'>\n"
          ],
          "name": "stdout"
        }
      ]
    },
    {
      "cell_type": "markdown",
      "metadata": {
        "id": "VlRTQoXO8sKr"
      },
      "source": [
        "### Obejcts and References"
      ]
    },
    {
      "cell_type": "markdown",
      "metadata": {
        "id": "xnoA-Zr7LO2l"
      },
      "source": [
        "![objects_references.JPG](data:image/jpeg;base64,/9j/4AAQSkZJRgABAQEAYABgAAD/4RDcRXhpZgAATU0AKgAAAAgABAE7AAIAAAAGAAAISodpAAQAAAABAAAIUJydAAEAAAAMAAAQyOocAAcAAAgMAAAAPgAAAAAc6gAAAAgAAAAAAAAAAAAAAAAAAAAAAAAAAAAAAAAAAAAAAAAAAAAAAAAAAAAAAAAAAAAAAAAAAAAAAAAAAAAAAAAAAAAAAAAAAAAAAAAAAAAAAAAAAAAAAAAAAAAAAAAAAAAAAAAAAAAAAAAAAAAAAAAAAAAAAAAAAAAAAAAAAAAAAAAAAAAAAAAAAAAAAAAAAAAAAAAAAAAAAAAAAAAAAAAAAAAAAAAAAAAAAAAAAAAAAAAAAAAAAAAAAAAAAAAAAAAAAAAAAAAAAAAAAAAAAAAAAAAAAAAAAAAAAAAAAAAAAAAAAAAAAAAAAAAAAAAAAAAAAAAAAAAAAAAAAAAAAAAAAAAAAAAAAAAAAAAAAAAAAAAAAAAAAAAAAAAAAAAAAAAAAAAAAAAAAAAAAAAAAAAAAAAAAAAAAAAAAAAAAAAAAAAAAAAAAAAAAAAAAAAAAAAAAAAAAAAAAAAAAAAAAAAAAAAAAAAAAAAAAAAAAAAAAAAAAAAAAAAAAAAAAAAAAAAAAAAAAAAAAAAAAAAAAAAAAAAAAAAAAAAAAAAAAAAAAAAAAAAAAAAAAAAAAAAAAAAAAAAAAAAAAAAAAAAAAAAAAAAAAAAAAAAAAAAAAAAAAAAAAAAAAAAAAAAAAAAAAAAAAAAAAAAAAAAAAAAAAAAAAAAAAAAAAAAAAAAAAAAAAAAAAAAAAAAAAAAAAAAAAAAAAAAAAAAAAAAAAAAAAAAAAAAAAAAAAAAAAAAAAAAAAAAAAAAAAAAAAAAAAAAAAAAAAAAAAAAAAAAAAAAAAAAAAAAAAAAAAAAAAAAAAAAAAAAAAAAAAAAAAAAAAAAAAAAAAAAAAAAAAAAAAAAAAAAAAAAAAAAAAAAAAAAAAAAAAAAAAAAAAAAAAAAAAAAAAAAAAAAAAAAAAAAAAAAAAAAAAAAAAAAAAAAAAAAAAAAAAAAAAAAAAAAAAAAAAAAAAAAAAAAAAAAAAAAAAAAAAAAAAAAAAAAAAAAAAAAAAAAAAAAAAAAAAAAAAAAAAAAAAAAAAAAAAAAAAAAAAAAAAAAAAAAAAAAAAAAAAAAAAAAAAAAAAAAAAAAAAAAAAAAAAAAAAAAAAAAAAAAAAAAAAAAAAAAAAAAAAAAAAAAAAAAAAAAAAAAAAAAAAAAAAAAAAAAAAAAAAAAAAAAAAAAAAAAAAAAAAAAAAAAAAAAAAAAAAAAAAAAAAAAAAAAAAAAAAAAAAAAAAAAAAAAAAAAAAAAAAAAAAAAAAAAAAAAAAAAAAAAAAAAAAAAAAAAAAAAAAAAAAAAAAAAAAAAAAAAAAAAAAAAAAAAAAAAAAAAAAAAAAAAAAAAAAAAAAAAAAAAAAAAAAAAAAAAAAAAAAAAAAAAAAAAAAAAAAAAAAAAAAAAAAAAAAAAAAAAAAAAAAAAAAAAAAAAAAAAAAAAAAAAAAAAAAAAAAAAAAAAAAAAAAAAAAAAAAAAAAAAAAAAAAAAAAAAAAAAAAAAAAAAAAAAAAAAAAAAAAAAAAAAAAAAAAAAAAAAAAAAAAAAAAAAAAAAAAAAAAAAAAAAAAAAAAAAAAAAAAAAAAAAAAAAAAAAAAAAAAAAAAAAAAAAAAAAAAAAAAAAAAAAAAAAAAAAAAAAAAAAAAAAAAAAAAAAAAAAAAAAAAAAAAAAAAAAAAAAAAAAAAAAAAAAAAAAAAAAAAAAAAAAAAAAAAAAAAAAAAAAAAAAAAAAAAAAAAAAAAAAAAAAAAAAAAAAAAAAAAAAAAAAAAAAAAAAAAAAAAAAAAAAAAAAAAAAAAAAAAAAAAAAAAAAAAAAAAAAAAAAAAAAAAAAAAAAAAAAAAAAAAAAAAAAAAAAAAAAAAAAAAAAAAAAAAAAAAAAAAAAAAAAAAAAAAAAAAAAAAAAAAAAAAAAAAAAAAAAAAAAAAAAAAAAAAAAAAAAAAAAAAAAAAAAAAAAAAAAAAAAAAAAAAAAAAAAAAAAAAAAAAAAAAAAAAAAAAAAAAAAAAAAAAAAAAAAAAAAAAAAAAAAAAAAAAAAAAAAAAAAAAAAAAAAAAAAAAAAAAAAAAAAAAAAAAAAAAAAAAAAAAAAAAAAAAAAAAAAAAAAAAAAAAAAAAAAAAAAAAAAAAAAAAAAAAAAAAAAAAAAAAAAAAAAAAAAAAAAAAAAAAAAAAAAAAAAAAAAAAAAAAAAAAAAAAAAAAAAAAAAAAAAAAAAAAAAAAAAAAAAAAAAAAAAAAAAAAAAAAAAAAAAAAAAAAAAAAAAAAAAAAAAAAAAAAAAAAAAAAAAAAAAAAAAAAAAAAAAAAAAAAAAAAAAAAAAAAAAAAAAAAAAAAAAAAAAAAAAAAAAAAAAAAAAAAAAAAAAAAAAAAAAAAAAAAAAAAAAAAAAAAAAAAAAAAAAAAAAAAAAAAAAAAAAAAAAAAAAAAAAAAAAAAAAAAAAAAAAAAAAAAAAAAAAAAAAAAAAAAAAAAAAAAAAAAAAAAAAAAAAAAAAAAAAAAAAAAAAAAAAAAAAAAAAAAAAAAAAAAAAAAAAAAAAAAAAAAAAAAAAAAAAAAAAAAAAAAAAAAAAAAAAAAAAAAAAAAAAAAAAAAAAAAAAAAAAAAAAAAAAAAAAAAAAAAAAAAAAAAAAAAAAAAAAAAAAAAAAAAAAAAAAAAAAAAAAAAAAAAAAAAAAAAAAAAAAAAAAAAAAAAAAAAAAAAAAAAAAAAAAAAAAAAAAAAAAAAAAAAAAAAAAAAAAAAAAAAAAAAAAAAAAAAAAAAAAAAAAAAAAAAENCMjUzAAAFkAMAAgAAABQAABCekAQAAgAAABQAABCykpEAAgAAAAM3NgAAkpIAAgAAAAM3NgAA6hwABwAACAwAAAiSAAAAABzqAAAACAAAAAAAAAAAAAAAAAAAAAAAAAAAAAAAAAAAAAAAAAAAAAAAAAAAAAAAAAAAAAAAAAAAAAAAAAAAAAAAAAAAAAAAAAAAAAAAAAAAAAAAAAAAAAAAAAAAAAAAAAAAAAAAAAAAAAAAAAAAAAAAAAAAAAAAAAAAAAAAAAAAAAAAAAAAAAAAAAAAAAAAAAAAAAAAAAAAAAAAAAAAAAAAAAAAAAAAAAAAAAAAAAAAAAAAAAAAAAAAAAAAAAAAAAAAAAAAAAAAAAAAAAAAAAAAAAAAAAAAAAAAAAAAAAAAAAAAAAAAAAAAAAAAAAAAAAAAAAAAAAAAAAAAAAAAAAAAAAAAAAAAAAAAAAAAAAAAAAAAAAAAAAAAAAAAAAAAAAAAAAAAAAAAAAAAAAAAAAAAAAAAAAAAAAAAAAAAAAAAAAAAAAAAAAAAAAAAAAAAAAAAAAAAAAAAAAAAAAAAAAAAAAAAAAAAAAAAAAAAAAAAAAAAAAAAAAAAAAAAAAAAAAAAAAAAAAAAAAAAAAAAAAAAAAAAAAAAAAAAAAAAAAAAAAAAAAAAAAAAAAAAAAAAAAAAAAAAAAAAAAAAAAAAAAAAAAAAAAAAAAAAAAAAAAAAAAAAAAAAAAAAAAAAAAAAAAAAAAAAAAAAAAAAAAAAAAAAAAAAAAAAAAAAAAAAAAAAAAAAAAAAAAAAAAAAAAAAAAAAAAAAAAAAAAAAAAAAAAAAAAAAAAAAAAAAAAAAAAAAAAAAAAAAAAAAAAAAAAAAAAAAAAAAAAAAAAAAAAAAAAAAAAAAAAAAAAAAAAAAAAAAAAAAAAAAAAAAAAAAAAAAAAAAAAAAAAAAAAAAAAAAAAAAAAAAAAAAAAAAAAAAAAAAAAAAAAAAAAAAAAAAAAAAAAAAAAAAAAAAAAAAAAAAAAAAAAAAAAAAAAAAAAAAAAAAAAAAAAAAAAAAAAAAAAAAAAAAAAAAAAAAAAAAAAAAAAAAAAAAAAAAAAAAAAAAAAAAAAAAAAAAAAAAAAAAAAAAAAAAAAAAAAAAAAAAAAAAAAAAAAAAAAAAAAAAAAAAAAAAAAAAAAAAAAAAAAAAAAAAAAAAAAAAAAAAAAAAAAAAAAAAAAAAAAAAAAAAAAAAAAAAAAAAAAAAAAAAAAAAAAAAAAAAAAAAAAAAAAAAAAAAAAAAAAAAAAAAAAAAAAAAAAAAAAAAAAAAAAAAAAAAAAAAAAAAAAAAAAAAAAAAAAAAAAAAAAAAAAAAAAAAAAAAAAAAAAAAAAAAAAAAAAAAAAAAAAAAAAAAAAAAAAAAAAAAAAAAAAAAAAAAAAAAAAAAAAAAAAAAAAAAAAAAAAAAAAAAAAAAAAAAAAAAAAAAAAAAAAAAAAAAAAAAAAAAAAAAAAAAAAAAAAAAAAAAAAAAAAAAAAAAAAAAAAAAAAAAAAAAAAAAAAAAAAAAAAAAAAAAAAAAAAAAAAAAAAAAAAAAAAAAAAAAAAAAAAAAAAAAAAAAAAAAAAAAAAAAAAAAAAAAAAAAAAAAAAAAAAAAAAAAAAAAAAAAAAAAAAAAAAAAAAAAAAAAAAAAAAAAAAAAAAAAAAAAAAAAAAAAAAAAAAAAAAAAAAAAAAAAAAAAAAAAAAAAAAAAAAAAAAAAAAAAAAAAAAAAAAAAAAAAAAAAAAAAAAAAAAAAAAAAAAAAAAAAAAAAAAAAAAAAAAAAAAAAAAAAAAAAAAAAAAAAAAAAAAAAAAAAAAAAAAAAAAAAAAAAAAAAAAAAAAAAAAAAAAAAAAAAAAAAAAAAAAAAAAAAAAAAAAAAAAAAAAAAAAAAAAAAAAAAAAAAAAAAAAAAAAAAAAAAAAAAAAAAAAAAAAAAAAAAAAAAAAAAAAAAAAAAAAAAAAAAAAAAAAAAAAAAAAAAAAAAAAAAAAAAAAAAAAAAAAAAAAAAAAAAAAAAAAAAAAAAAAAAAAAAAAAAAAAAAAAAAAAAAAAAAAAAAAAAAAAAAAAAAAAAAAAAAAAAAAAAAAAAAAAAAAAAAAAAAAAAAAAAAAAAAAAAAAAAAAAAAAAAAAAAAAAAAAAAAAAAAAAAAAAAAAAAAAAAAAAAAAAAAAAAAAAAAAAAAAAAAAAAAAAAAAAAAAAAAAAAAAAAAAAAAAAAAAAAAAAAAAAAAAAAAAAAAAAAAAAAAAAAAAAAAAAAAAAAAAAAAAAAAAAAAAAAAAAAAAAAAAAAAAAAAAAAAAAAAAAAAAAAAAAAAAAAAAAAAAAAAAAAAAAAAAAAAAAAAAAAAAAAAAAAAAAAAAAAAAAAAAAAAAAAAAAAAAAAAAAAAAAAAAAAAAAAAAAAAAAAAAAAAAAAAAAAAAAAAAAAAAAAAAAAAAAAAAAAAAAAAAAAAAAAAAAAAAAAAAAAAAAAAAAAAAAAAAAAAAAAAAAAAAAAAAAAAAAAAAAAAAAAAAAAAAAAAAAAAAAAAAAAAAAAAAAAAAAAAAAAAAAAAAAAAAAAAAAAAAAAAAAAAAAAAAAAAAAAAAAAAAAAAAAAAAAAAAAAAAAAAAAAAAAAAAAAAAAAAAAAAAAAAAAAAAAAAAAAAAAAAAAAAAAAAAAAAAAAAAAAAAAAAAAAAAAAAAAAAAAAAAAAAAAAAAAAAAAAAAAAAAAAAAAAAAAAAAAAAAAAAAAAAAAAAAAAAAAAAAAAAAAAAAAAAAAAAAAAAAAAAAAAAAAAAAAAAAAAAAAAAAAAAAAAAAAAAAAAAAAAAAAAAAAAAAAAAAAAAAAAAAAAAAAAAAAAMjAyMTowNzowMSAxNzoyNjowMwAyMDIxOjA3OjAxIDE3OjI2OjAzAAAAQwBCADIANQAzAAAA/+ELGGh0dHA6Ly9ucy5hZG9iZS5jb20veGFwLzEuMC8APD94cGFja2V0IGJlZ2luPSfvu78nIGlkPSdXNU0wTXBDZWhpSHpyZVN6TlRjemtjOWQnPz4NCjx4OnhtcG1ldGEgeG1sbnM6eD0iYWRvYmU6bnM6bWV0YS8iPjxyZGY6UkRGIHhtbG5zOnJkZj0iaHR0cDovL3d3dy53My5vcmcvMTk5OS8wMi8yMi1yZGYtc3ludGF4LW5zIyI+PHJkZjpEZXNjcmlwdGlvbiByZGY6YWJvdXQ9InV1aWQ6ZmFmNWJkZDUtYmEzZC0xMWRhLWFkMzEtZDMzZDc1MTgyZjFiIiB4bWxuczpkYz0iaHR0cDovL3B1cmwub3JnL2RjL2VsZW1lbnRzLzEuMS8iLz48cmRmOkRlc2NyaXB0aW9uIHJkZjphYm91dD0idXVpZDpmYWY1YmRkNS1iYTNkLTExZGEtYWQzMS1kMzNkNzUxODJmMWIiIHhtbG5zOnhtcD0iaHR0cDovL25zLmFkb2JlLmNvbS94YXAvMS4wLyI+PHhtcDpDcmVhdGVEYXRlPjIwMjEtMDctMDFUMTc6MjY6MDMuNzU2PC94bXA6Q3JlYXRlRGF0ZT48L3JkZjpEZXNjcmlwdGlvbj48cmRmOkRlc2NyaXB0aW9uIHJkZjphYm91dD0idXVpZDpmYWY1YmRkNS1iYTNkLTExZGEtYWQzMS1kMzNkNzUxODJmMWIiIHhtbG5zOmRjPSJodHRwOi8vcHVybC5vcmcvZGMvZWxlbWVudHMvMS4xLyI+PGRjOmNyZWF0b3I+PHJkZjpTZXEgeG1sbnM6cmRmPSJodHRwOi8vd3d3LnczLm9yZy8xOTk5LzAyLzIyLXJkZi1zeW50YXgtbnMjIj48cmRmOmxpPkNCMjUzPC9yZGY6bGk+PC9yZGY6U2VxPg0KCQkJPC9kYzpjcmVhdG9yPjwvcmRmOkRlc2NyaXB0aW9uPjwvcmRmOlJERj48L3g6eG1wbWV0YT4NCiAgICAgICAgICAgICAgICAgICAgICAgICAgICAgICAgICAgICAgICAgICAgICAgICAgICAgICAgICAgICAgICAgICAgICAgICAgICAgICAgICAgICAgICAgICAgICAgICAgICAKICAgICAgICAgICAgICAgICAgICAgICAgICAgICAgICAgICAgICAgICAgICAgICAgICAgICAgICAgICAgICAgICAgICAgICAgICAgICAgICAgICAgICAgICAgICAgICAgICAgIAogICAgICAgICAgICAgICAgICAgICAgICAgICAgICAgICAgICAgICAgICAgICAgICAgICAgICAgICAgICAgICAgICAgICAgICAgICAgICAgICAgICAgICAgICAgICAgICAgICAgCiAgICAgICAgICAgICAgICAgICAgICAgICAgICAgICAgICAgICAgICAgICAgICAgICAgICAgICAgICAgICAgICAgICAgICAgICAgICAgICAgICAgICAgICAgICAgICAgICAgICAKICAgICAgICAgICAgICAgICAgICAgICAgICAgICAgICAgICAgICAgICAgICAgICAgICAgICAgICAgICAgICAgICAgICAgICAgICAgICAgICAgICAgICAgICAgICAgICAgICAgIAogICAgICAgICAgICAgICAgICAgICAgICAgICAgICAgICAgICAgICAgICAgICAgICAgICAgICAgICAgICAgICAgICAgICAgICAgICAgICAgICAgICAgICAgICAgICAgICAgICAgCiAgICAgICAgICAgICAgICAgICAgICAgICAgICAgICAgICAgICAgICAgICAgICAgICAgICAgICAgICAgICAgICAgICAgICAgICAgICAgICAgICAgICAgICAgICAgICAgICAgICAKICAgICAgICAgICAgICAgICAgICAgICAgICAgICAgICAgICAgICAgICAgICAgICAgICAgICAgICAgICAgICAgICAgICAgICAgICAgICAgICAgICAgICAgICAgICAgICAgICAgIAogICAgICAgICAgICAgICAgICAgICAgICAgICAgICAgICAgICAgICAgICAgICAgICAgICAgICAgICAgICAgICAgICAgICAgICAgICAgICAgICAgICAgICAgICAgICAgICAgICAgCiAgICAgICAgICAgICAgICAgICAgICAgICAgICAgICAgICAgICAgICAgICAgICAgICAgICAgICAgICAgICAgICAgICAgICAgICAgICAgICAgICAgICAgICAgICAgICAgICAgICAKICAgICAgICAgICAgICAgICAgICAgICAgICAgICAgICAgICAgICAgICAgICAgICAgICAgICAgICAgICAgICAgICAgICAgICAgICAgICAgICAgICAgICAgICAgICAgICAgICAgIAogICAgICAgICAgICAgICAgICAgICAgICAgICAgICAgICAgICAgICAgICAgICAgICAgICAgICAgICAgICAgICAgICAgICAgICAgICAgICAgICAgICAgICAgICAgICAgICAgICAgCiAgICAgICAgICAgICAgICAgICAgICAgICAgICAgICAgICAgICAgICAgICAgICAgICAgICAgICAgICAgICAgICAgICAgICAgICAgICAgICAgICAgICAgICAgICAgICAgICAgICAKICAgICAgICAgICAgICAgICAgICAgICAgICAgICAgICAgICAgICAgICAgICAgICAgICAgICAgICAgICAgICAgICAgICAgICAgICAgICAgICAgICAgICAgICAgICAgICAgICAgIAogICAgICAgICAgICAgICAgICAgICAgICAgICAgICAgICAgICAgICAgICAgICAgICAgICAgICAgICAgICAgICAgICAgICAgICAgICAgICAgICAgICAgICAgICAgICAgICAgICAgCiAgICAgICAgICAgICAgICAgICAgICAgICAgICAgICAgICAgICAgICAgICAgICAgICAgICAgICAgICAgICAgICAgICAgICAgICAgICAgICAgICAgICAgICAgICAgICAgICAgICAKICAgICAgICAgICAgICAgICAgICAgICAgICAgICAgICAgICAgICAgICAgICAgICAgICAgICAgICAgICAgICAgICAgICAgICAgICAgICAgICAgICAgICAgICAgICAgICAgICAgIAogICAgICAgICAgICAgICAgICAgICAgICAgICAgICAgICAgICAgICAgICAgICAgICAgICAgICAgICAgICAgICAgICAgICAgICAgICAgICAgICAgICAgICAgICAgICAgICAgICAgCiAgICAgICAgICAgICAgICAgICAgICAgICAgICAgICAgICAgICAgICAgICAgICAgICAgICAgICAgICAgICAgICAgICAgICAgICAgICAgICAgICAgICAgICAgICAgICAgICAgICAKICAgICAgICAgICAgICAgICAgICAgICAgICAgICAgICAgICAgICAgICAgICAgICAgICAgICAgICAgICAgICAgICAgICAgICAgICAgICAgICAgICAgICAgICAgICAgICAgICAgIAogICAgICAgICAgICAgICAgICAgICAgICAgICAgPD94cGFja2V0IGVuZD0ndyc/Pv/bAEMABwUFBgUEBwYFBggHBwgKEQsKCQkKFQ8QDBEYFRoZGBUYFxseJyEbHSUdFxgiLiIlKCkrLCsaIC8zLyoyJyorKv/bAEMBBwgICgkKFAsLFCocGBwqKioqKioqKioqKioqKioqKioqKioqKioqKioqKioqKioqKioqKioqKioqKioqKioqKv/AABEIAJkBuAMBIgACEQEDEQH/xAAfAAABBQEBAQEBAQAAAAAAAAAAAQIDBAUGBwgJCgv/xAC1EAACAQMDAgQDBQUEBAAAAX0BAgMABBEFEiExQQYTUWEHInEUMoGRoQgjQrHBFVLR8CQzYnKCCQoWFxgZGiUmJygpKjQ1Njc4OTpDREVGR0hJSlNUVVZXWFlaY2RlZmdoaWpzdHV2d3h5eoOEhYaHiImKkpOUlZaXmJmaoqOkpaanqKmqsrO0tba3uLm6wsPExcbHyMnK0tPU1dbX2Nna4eLj5OXm5+jp6vHy8/T19vf4+fr/xAAfAQADAQEBAQEBAQEBAAAAAAAAAQIDBAUGBwgJCgv/xAC1EQACAQIEBAMEBwUEBAABAncAAQIDEQQFITEGEkFRB2FxEyIygQgUQpGhscEJIzNS8BVictEKFiQ04SXxFxgZGiYnKCkqNTY3ODk6Q0RFRkdISUpTVFVWV1hZWmNkZWZnaGlqc3R1dnd4eXqCg4SFhoeIiYqSk5SVlpeYmZqio6Slpqeoqaqys7S1tre4ubrCw8TFxsfIycrS09TV1tfY2dri4+Tl5ufo6ery8/T19vf4+fr/2gAMAwEAAhEDEQA/APpGiiigAooooAKKKKACiiigAooooAKKKKACiiigAooooAKKKKACiiigAooooAKKKKACiiigAorLS/vL2SQadBEsEbvGZ52PLqxU4QdQCCMkisK78SX9hqM0CywXjwNsmBjMMasVDhVADu7bSDgDHPXtS5kZupFK7Ok1bVrXRdNkvr9nEMZUHYhdiWIUAAckkkCmaZqw1NWK2V7agDI+1QGPd9M1y/iLUbu9i8Mx3GlzmW4l+23FjEylx5SbwmWKg4YqfwqknxB1W5uniuLK18OqDiNtXWX94fTIVVX/AL6P41PMrmTrpTs2ei0UyKRZY1eNldGGVZTkEeop9WdIUUVCby3W9SzaZBcuhkWLd8xUEAnHpkigVyaiiigYUUUUAFFISAMk4FGcjNAC5ozWTZ60b7xHf6dBbkw2KoJbnd/y1YbtgHspBz74q4J7n+02gNoRbCIOtz5gwXzgpt69MHPSglSTV0WqKTNRx3UEshjjmjd16qrAkfhQUS0UVz3jnVLzR/B95e6ZIsV0hiSORlDBS0irnB4PDUm7K5MpKMXJ9DoaKjQmO3UzupZVG98bQTjk+1Q2up2F9I6WV7b3Dp95YpVcr9cGmO6LVFFFAwooooAKKKKACiiigAooooACQASTgDqTQCCMg5BrlPiDcSNolvpFszLNrF1HZBlPKoxy5+m0EfjT7XxbpMd9Douh213f/Z2W3ka0hLR2wHyje5wOMds9KnmV7GTqxUuVnUZormfHc8yaDb29tNLBJeX9vb+bE5RlDSDOCOegI/GtDxLqw0Lwvf6l1NtAzICerYwo/MijmG5pN+RqhgwypBHqDS1ieD9KOi+EdOspOZUiDyn1dvmb9Sata3r+m+HbEXesXK20DOI1YqWyxBIAABPY076XGpe7zS0NGiud0zxcNYvI4rHRtVNu5/4+5oBFGB6/MQT+AroaE09gjOM1eItGc1w2t6VD4p+I0em35laxsNO86SOOZkDSO+FBwR2Umut0zTLTR9PjstOh8mCPO1Mk9TknJ5NJNtkxnKUnpoi5RWH4Q1ufxD4Zt9Su444pZWkBSPO0bXKjr9K3Kad1c0jJSSaCiuQ8QfECHw3PMt/omqeRG4jW5WJRHISM/KSwz/8AWNdNp92b7T4Lprea2MqBzDOu10z2YdjQpJuxEakZScU9UWaM1leINIuNa09bW11S50z94rSS2pw7KOqg9s+vt3rgvD63fhHxhNLr66nZ6fMn2W3knuGuYZHL8PI+cIxwABgDk0nKzJnVcJJNaPqejatqI0rTZb1ra5uhEAfKtY/MkbJA4Xv1rmB8UvD0Unl3/wBvsJAQCl1ZupXPrgHFdlXGfFNiPBLQjpcXcEbfTzAf6USuldBVc4xcovY7NTuUEdDS0i8KBS1RsFFFFABRRQaAMzTLK7sbm8jkkjks5JWmgxkOhdizqexG45B98dslmpaBp2oS/aZ1kguFHNxbzNC+B2LIQSPY5FSa3rEejWSymJ555XEVvbx/emkPRR/MnsATWbD4ak1Ii68Vzm9lJ3CyRiLWH22/8tPq2fYCp8jJ2+FK5m6jqelS65o9xpupNfyaX5qSRWsb3Ujh49vJXODkKckis6XW/FF8jQagjWdu4IZ49ClmOPTBYj9DXoMEEEEQjtoo4o14CxqAB+AqXFLlZDpSfUwvCLaVb6Mmm6Tfm6+yZEiyfLIhYk4ZMAryTgYAA4HSt6sbX/DsetRIYbmXT7pDxeW3yzKvdQ3offP0zisr4fanqWoaGYtUljuJbKaS0mlyRJvjbHzDvlcHPH0PWi9nYqMuRqm0dVcTx21tJPO4jiiQu7t0UAZJrm/CMEuoNceJr5cT6lj7MjDmC2Gdi/U/ePu3tR8RZHXwJfxxHDXBjt/qJJFQ/oTXSQxJBbxwxAKkahVA7ADAp7sH71S3YkooFFUbBQaKKAMfxXBcXXha/hs7KG+neP8Ad28yhlc5HYkA46gZ6ivMJfDOktpC2uzxXBdRnIZ7F3jB9PLX5QPTBz717KSO9IHRjhSD9DUSimc9WhGo7s8eTwxrVzpsd3q2r2Wk2l9L5j6dfNJEHdUEfzHcGPyoG2k8Z5roZrnTtO+HEujHxbYzXsUJ8ub7Wq8g7lQfNnHG3k5xXe3Frb3cXl3cEc8ec7ZEDD8jXI6vqegaTqP9naNoVtqetHlbW1gQGP8A2pGxhByOvrU8qjqYuiqSbT8tRuo6bf8Ajjw3BqOj6vPpyX9mu+0kUmNud2OCCpJ+UkdV7Vl+D/DGqaR4hW81jRI0liRoon01YI4FVsZY/MHY8d+nPFbMeieL9RHn3/iRNLZvu2lhaq6xj03vyT+lSf2B4tt8m08YCb0S609CPzUg0Wu72D2d5Kbi7r0/K5m+I0DeLJn8RLrA0xIo/sMuneZ5cbc7y/l87s4xkYxS+MPCth4z0KTUtFtEk1PC+XJLG0TSgFSVO7HYYBP9a0WvvG9iubnR9M1RR1+xXLQuR/uuCM/jU9l4402a9isdShutIvJTiOHUIvL8w5xhW5Vvzp6PRlNU5XjPr3X6mP4i+Gdhd6bGuiMmnvG+945nkeKf0VxuyBn0pfA9xp8OvXWlPommafq1vbhmn00q8cseQOo5HOPlPPQ12OpaXZaxYtZ6nbJc27kExyDjI6VHpmhaXosZTSdPt7MMMN5MYUt9T1P40ctndF+wSqc8dDQFFFFaHSFFFFABRRRQAUUUUAFFFFAHKeMYL2PVNE1e0spr+HTZpHmt7cZlbcm1So74yc81kpb6lqniyx1PSPDdxojJKPtd1cyJH58X8SGNclj6E9DXoOKTGKlxu7mEqKlK9zg/G/hfStV8SaEZ7ISXF5ebJ5N7DdEkbMV4PHQc1Y8W2NsLXw/4XsoRHb3d8gaFenkRZd/5D867MqCQSOR0NQS2FtPfW95LErXFsGWKQ9UDY3Y+uBScVqDor3mupYHTis3XNKudWtEgttUuNNw+55LZVLMMHjLA49cj0rTFFWbNKSsyho+ljSLAWou7q7+YsZruYyOxPue3sKv0UUAkkrI4nUk1/RvGl9qek6H/AGtDf20UQK3KxeUyFuu7sd1dRpLak+nRtrSW8d2SS6WxJRRngZPU461eozUpWIjT5W3cyvDuip4e0KDTYpTKsRc72GM7mLdPxpLHW1vfEOqaSYCj6eIm37siQSKT07YIIrVyKzrHRobLWdR1JXd578pv3YwiouFUe3U/jT22HZqyjsUfE3hSLxHJYz/bbiyurB2kglh2nBIA5VgQegqbSdI1LT7e4W91y51OSRcRmaNEEZ56bQD+Z7Vs0UrK9xezjzc3Ux/CdnqFh4T0+11qRpb+OLE7PJ5hLZJ5bvWefh5oMt61zdpd3RL7xHPdyOgOc9CeefXNdRxS0cqD2ceVJq9jL1261Wy04S6Fpqajc7wDC84i+XnJye/TiuD8V6vr3iHw1Npdx4M1O3vGZHikjZZY0dWBB3D6Y/GvTyy9yBTGmiUEtKgA6ksKUo36kVKbndc1k/QbaNK9nC1wnlytGpdM52tjkfnU1IpBUFSCDyCKWrNwooooAKDRWH4vv57Lw9LHYuEvrxltLU56SSHaD+GS34Um7Eykoq7KehKdd1u58QT/ADW8TPa6aOwjBw8n1ZgRn+6B61u6nfxaXpN1fTnEdtE0rfQDNLptjFpul21jbjEdvEsS/QDFYvjUrPpdnphyf7Sv4bcgd1Db3/8AHUYfjS2RnrCm31/UteE7CWw8OW/2wf6Zcbrm6PrLIdzfkTj8K2ScDNU9S1Ww0WzNzqd1HbQjgFz94+gHUn2HNQPrcB8OzasY5oYY4nl2XEZifCg9VPIzindIpOMFy32QkXiGzn8MHXYd5tBbtcYZdrbVBJGD34rl/DV4tp47uVWFobbxHZxanbK2BtcKBIp/2uQTWJ9uh1HwToHg3T7uOa91ARi8WFwTBD/rJM46HHGK0/iFejTNc8LLpVpJLqUF0Ft1HyRGNhsMZfoCePwBrNyvr2OSVXmSn2t973/A2/H3z6NYW45NxqlrHj/tqD/SupFeZeIbbxLqviTw/peqajaWrT3DXKR6fESYPKUneXfqcsAOMZrcu/CAtbWa71Dxfr6pEheST7YI1QAZJwFAppu7djSM5Ocmo9jsQaWue8FXN5N4JsbnV5XeZ0Z/Mm4Yx7jsLe+3bW+ZFEZcsAoGSSeAKtO6OmMlKKZR1zWbXw/o1xqd+WEFuuW2jJJJwAB6kkCuS0vXNb8brKdK1XTtJtkwWS3Zbq5UHpu52LnB9auXGtX3i2WWw8LMsVgpKXGryJuQ+qwg8Of9o8D34rc0Dw7YeHLE2+nRYLndLK5y8zf3mPc/pUayemxg+apP3X7plJ8P9JlO/WZr7WJc5L3tyzD8EBCgfhWF4s0bw14ZfS7jS7BINUW+ikhgtFJmuEDDeqgdflJ68V317HdSW+yxmjglJ+/JGXAHsMjmqGk+HLTS7iS8Z5bzUJhiW8uSGkYf3RjAVfYACm49gnRi1aKXqYRvvF3iZWhsrD/hHLNsB7q7Ia4I77EHCn3P4V0GgeHdP8O2P2bTosFjulmc7pJm7szdzWpilpqPU0jTSfM3dhRRRVGoVzXj3StQ1rwlc2Gk21rcTz/KRcHG1cHlT/ezjGa6Wik1dWJnFTi4vqcrofi62aW30jWLa50nUdgVIr0ACfAxlHHyt0+tdUDmqGr6NYa5p72eqWyTwt2YcqfUHqD7iuasdUvfB1/DpHiOd7nTZm2WOqSdVPaKY+vo3f8AlOq3MuaVPSW3f/M7SikByKWrNwooooAKKKKACiiigAooooA5q/8AGMllfTW0fhrXbryn2iWC1BR/cEsOKgbxZrki5tPBepMe3nTRR/8AsxrqzgdaKmz7mThNv4vyOQ/tPx1d/wDHvoGm2APe7vTJj8EFI1n8QbnCvqmiWanq8Fs8jL9Axwa3W1uM6y+nQWl1cPEVE80aDy4SwyAxJHOCDwDgEZrTpWv1IVO/2m/mVdMhu7bTYYtSu1vLpRiSdYhGHOeu0E4q3SVH9pg+0fZ/Oj87bv8AL3Ddt9cdce9WbrREtFIWAUknAHUmmQ3ENzGJLeVJUPRkYMPzFAxt3b/arOWDzZYfMQr5kLbXXI6g9jXMN4Ed+JPFfiN17r9tAz+S11tJSaT3IlCMtzjT8M9LOM6nrXv/AMTBuaRPhlp0BzbaxrkDf3o78g/yrX8TeJ4/DMMEs+n3l4kz7AbZFbDEgBeSMkk8AZ6GsHVfFX9tfDnVbyz8/Tr+1X9/bsxSa2IYHnoRlefxqHyI55exi2raouf8IC6/c8W+JQPe/wA/zWk/4QKb/obvEn/gcP8A4mrOmeLn1PWbS2i051sLyOR7a8eTDShAMsI8ZCndwSefTmrunX4i0/Ub+71aK9tIp5XWWOMDyI16ocfeKkHnqaEosajSeyMg/D+Q9fF3iX/wPx/7LUMnwxsrjP2zXtfuP+ul9n+laWi+PtA8QaoLDSrmWebaW/1DquB3yRx+NVvEXxC0/wAPa0umSW09xcbFkk2siKik4ByxGT7Cj3LXE1h+Xn0sZ4+D/h3nfPqUhPUtddfyFMtvhV4Jup5RAkly1u5ilUXbHY/Bw2DkHB6e9a19qHiTUL1/+ESu9Ans1VTumkd3B752cfSuc8NWHjddS11EutMsZHv/ADJ2e1kcOzIvMZJA24x15zSajfYiUaSkkqd/kejWNlBp1jBZ2ieXBbxrHGmSdqgYAyfarFV7JLmOziS+mSe4VcSSJHsVj6hcnH51YrU7VsFFFFAwrl9UJvviLo9jIf3FpazX23+9JlY1P4B2/OuornvEGjX8mpW2taFJGNRtEaIwznEdxExBKE9VOQCD69amWxlVTcToK5zXopJ/FnhsIhdYZbid8dsQlR+rioB44+xnZrug6tp7jq625uIvwePP8hUkPxE8KTNtOsQwt6XCtER/30BSck+pMqlOSs3YxPEl5quqG0uLfwxq9tqNhKZLWcCGVATwQw38qRxxyOxqTxD4em8aeE7a7vtGe31glIzDJN/qV80b2HO0/KCQSM4PrXWW/iHRbsgWurWMxPaO4Rv5GrF5qNpYWEt7d3EcVvCu55GbgClZPqR7OMuZyldP0OR0fRbaw+JWoSw2kdpaWOmxR24RAkY3sxdvTOU5NRyXn/Cb+MtPXS9z6Lo05uJ7vGEnnAwioe+Mkk9P0y2K31L4iN59952neGs5itVJSa+H95z/AAoew7/ka6HW7228IeDbq6tII4orKDEMKjC7uijj3IpLbyIjFcrtpHf1/wCAZWjH+3PiLq2rBt1vpcY023wOC/3pT9QcCrfjqyvb/QoIbO1kvIftcTXttGwDTQA5ZRkjqQvccZqx4L0d9E8K2ttcHdcyAz3DY6yOdzfqcfhW9VJXjqbQg5U7S3f6nH3Wu6vqdnJZweCrt4pkMci380UUZUjBBwWyPbFcj4aa98RXz+D71xBp1jNLNcR285dXhDKEt1fqUDFgfYYr0XxBpF7rXkW0GqSWNjk/a1gXEsw7KH/hHXOBmuc13TLfw3rvhuXw2otrmSdbA2sYysttks5I/wBnlt3qec1Ek93sc9WE1Lmb0W+2p3FvbQ2tvHBbRLFDGoVI0GFUDoAKk6UorE8Zak2keDNUvY2KSR27CNlOCHb5V/Uitdkdsmoxv2NrNFcZpngOb7HC2r+I9auJ9q5WO7aJFwMAYHP1OeTzWtqd3PYLa6LogL31xGxjkuHZxCi4BkcnJbBIAHcn0zSTdtTOM5WvJWN7NFedXK6tpH2W4uPGM2oyTajFAixpFHEADmYOADjCq56jHGa6K68S38tt9o8P6FPqcI6SPKtuHHqgYZb64APYmhS7ijWT3Vvx/I6OisrSNeh1WSa3eCayvrfBmtLgAOgPRgQSGU4OCCRxWqaadzaMlJXQE4rE1Pxn4d0Ztmo6vaxP3QPvYf8AAVyaqf29Y67q934durKY2s8TpHcZ/dXIAAkCsORjcB+fpWT4x8H6Zp/ga9Og6TbRSwFJ2WOMb5FRwzAt1PANJt2ujGdSXK5Q6HdRyJNEskZDI4DKR3BqG+sbbUrOW0voEnt5l2vG4yGFJp99b6lp0F7ZyCSCeMSIw7girHenua6NHF2kl34H1az0y7uXu9CvZBBZzSnMlpJ/DGx7oeinqOldrmuT+JaN/wAILdTxrua1lhuOnQLIpJ/LNdRDKk8KSxtuR1DKR3B5FKOjsZU/dm4dNySiiiqNwooooAKKKKACiiigDh/FCLq/xE0TQr8O+nPbTXDxLIyCRxwM4IzjH60ujXGtC+gtvDNlbjw7HcyRvPfTvJLhWw2znIGQwUHPTsK6O+0SO98QaZqxlZJdPWVQoAxIJAAQfpgGqSeGLi0lcaTrl7Y2zytKbZY4pFVmJZtpdSQCSTjOKzs7nL7Oak5ef4aHM6l4i1zTPEmr2OmQacJbu8CxTXNwVCN9nixkEYyVHAz1z2FVNQ8T+L7WZ9PgKXd3pkCS3lxbw71keUjaCiqTtVSSdoycA8V3K+GLE6nqd3dILpdTEXnQTorx5jXaCAR3GPyq5Y6Rp+mPK2nWcNqZdu/yUChtowOB6Clyy7k+xqO/vW1PPf8AhPNV07wlPcXrT3eqefG0aHS5oo1jLqChdkUZIzzxyRjNHiPRr3w7ZaXrVvPGuqSTmPUNRlP3DMAm7J6IhPA6Dg+temlQeozSSRRzRtHMiyIwwysMgj6VXK+5ToNqzl6f5nmWt2iS+Hzpvgy6m11IpxcalEbppftC4xtMgOMkgEopBI7Vs/Dmazjtbu2jRoLyaY3M1stjJbRQZCqFUMMH7vXOScmuygtobaIR28SQxjokahQPwFSUKNnccaPLPnuLRRRVnSZHiDQjrkFqIrySzntLhbmGZEV9rgEcq3B4Y/jis8eC45NH1S1vNSup7rVgourz5VYhRgKFA2hccYx0Jrp6KVkzN04t3aOZ0jRbbRdSE2oayby9S3EMKzeXGIYc9FRQMZI6+wHameDSk8Wv2x2ywJq1wqjgqVbDke4yxrX1XQNJ1tUGrafb3mz7pljBK/Q9RU+naZZaTai20y1htYQc7IUCjPrx396lRsyFTtJW2RiR+A9Jtboz6VLfaXubc0VldNHGx/3OR+lbV7pGnajt/tCwtrvbwPPiV8fmKuUVXKjRU4JWSKllpdhpwYadZW9qG+95MSpn8hVqloplJJKyAUUUUDCiiigAooooAQiop7O2uVxc28UoxjEiBv51FqOq2OkWjXWp3UVrApwXkbHPoPU+1YLfEPREQytHqQgA3ed/Z02zHrnb0qW0tzOU4LSTRdufBXhq6BE+hWB3dSLdVP5gVmj4YeFEnR49PZERw/ki4k8tiDkZXODVG9+LGii6W00iOS9uXAKeawtY/wAXlx/I1Jf6347sbGa/k0PSjbwKZZIUuneUoOSBxjOKm8GYOVB3aV7dlc7YAKAAMAdAK4/4pjzPAstuPv3FzBEg9SZF4/Sul0nU7fWNJttQs23QXMYkQ56Z7H3HSuY+JF7b2cGgG7lWKIazBLI79AibmYn9Kcn7ppWa9k30aOyQYUD2p1eea/4n1290przR4n0ywkYRWkkkYNzeyMcKqIeEU9dzc4GcVvWuo2ng7wvaQ+I9X825SP55JXLyTOTkhRyzcnAx2xQpIFWi3boup0bsEVmY4CjJNch4RjOv6lceLrzkXGYdOib/AJY24P3sdmc8n2xWVeeO5tXs7y1t7qx8OzxXQif+1XxL5BTdvEZ/iORwc15nF4dvo9XtbbSWvdQ0u8lzDt/cNdpEAzlVJ6AEgE/hWcp6q2py1sSlKLirr9T6SFct8Srea5+HmqJboZHVUkKgc7VkVm/QGoU8dTDVdPsLrw1qtpJfTeUjTCMAcZY8MeAOT7V1/Uc1rpJWOxuNWLijkJviZ4dEC/2fcyancuuY7WzhaSRvbAHH41dlsH1bTrfVtVE+iahBE7Fra4BaJDyVYkFWHAJBBGRW5Ha28DFoII42bqUQDP5VyfjzWFn06XwxpZNxrGpJ5Swx8+VGxAZ3P8K7c0notTOV4xbm7+RheB/BSan4WhvNWvJZob2GdooNir5RlbDSBu7FQOSOASOla+q3Piiy1jTNHtNas5Zr12O42HzxRIMs7fPg9l6DOe1amsaLqFxpunaPpLQW1jGYvPmZ2DosTKyqgHUnbgknp61U8KD+1fEuva7KS4W4On2pPRYovvY+rkn8Km1rIzUFG0Fo+/5mxpmiPaag+o39697fyRCEyFAiIgJO1VHTk55JPvV6R4b2ynSO4Gwh42kicZQjIPI6Efoar6w+rLbKmhxWrzOcM91IVWIf3sAEt9Mj61mrpP8AYPgS9tFmaaVbaeWWcjBkkYMzNjtkk1ex0fDdJaGV4Lh1HWItN1i9e2jsrOKaGyjiiKvJGSFV25wPlToB3qeTx+Q7IPCfiZwCRuXTjg+4+atjwgB/whWi4/58If8A0AVsYpJO25nCEvZqzOO+HcV5b2eowyWF5Y6d9qMlhDeIEkRG5ZdueAGzj612QooqkrKxtThyRUSC9tIr6xntLhd0U8bRuvqpGD/OuP8AD2qz+Fr6Dwt4jbCD5NM1AjEdwnaNj0DgDGO/HtntzWH4ytLG78H6mNSRXijt3lBb+BlUlWB7EGlLuiKkX8cd0bdLWR4Te4k8IaS96zNcNZxGRmOSTtHX3rXqlsaxd0mFFFFAwooooAKKKKACiiigAooooAKKKKACiiigAooqnp+qWeqRzPYTrMsEzQSFQRtdfvLz6UCuti5RRVW81K009rdby4SE3MohhDH77noo9+KAbS3LWKKhu7u3sbcz3k8cEIIBkkYKoJOByfUkCphQAUUUUDCiiigAooooAKKKKACqWsarbaHpFxqN8SIbdNzBRlm7AAdyTgD61drlPGBFxrPhiwk5im1LzHHr5cbOB+ePyqZOyM6knGN0Lofh6W9uE13xSi3GpSDdDbMMx2KnkIo6bvVuua6Ca+tILu3tJ5o0nut3kxMeZNoy2B3wKsgcVymvEyfEbwtGORGl3M3/AH7VR/6FRsiWlTjp5fmdFfadaalZy2t7As0MqFHVh1BGDz2qG51O1tNUstLlVvNvUkMQC5XEYBbJ7cEVy9x42uz40XRwlrpdvHMI2k1JXV7sZ58nGF+hJ5yOKyfENxqkvxGuWmvrTSbTTNMMi3LgykRO4DMF4w52478e5qXJdDOdaKV497FjTtVs/AXiq80a5uoholy5mt2VwfscpGTE4HKg4JX/APXWbeXGoeLfHvhp9Qt1i06SWW4trN1yxhQZEsmehY4wOwpNB8E2WpaHqV5eQjTrfUoUisFnk/ekqSyzuSfvs2Dj04q38LJrnxDqmoa/q2HuraGLT4mznAUZc/Vjg/nWertE5U5ScYPZu6Xkv609Tv8AVdG0/W7L7JqtqlxAGDhWJGCOhBHINU9L8H+H9Gm87TdKt4pe0hBdx9GbJFbVFb2V7nouEG+ZrUqz6Xp91MJbqxtppQMB5IlZvzIrMuvD8lx4007WlnVYLK2lh8jbyWbHI9OP5Vu1HcXENrbvPcypDFGpZ5HbAUDqSaGl1CUIvc5jxcJrDXND1/7NNc2mnNOtysC7nRZECh9vcDHOOcGr6+NPDjab9vGtWX2fON5mA564x1z7YzWBJ4j1vxlM1v4MUWWmq22XWLhPvYPIiQjn6n9Kcnwl8Om1b7Ubq5vnbe1+85Eu71GPl/Q1F3f3Tm5puTdJXT7/AKf18x0nirWPE58jwTYtHbPw2r3qFY1GesaHlz19q3PDfhey8OWz+UXubyc7rm9nO6SdvUnsPQdqyDceKPCgH2tP+Ei0tOPMgQJdRLjug+VwPbBrTsvHPhi/gWSDXLIbhnbLMI2H1VsEUK19dx03G96j97z0+40dc1SHRdDu9SuSRHbRFzgck9h+JwKzfAumTaT4L0+3u1K3LIZpgw5DuSxB9+cfhXOeOfEWk6tJpGh22q2jwXd4kl64nXYsCfMQzZwMkDH0rt7DVtO1Pf8A2bfW135fD+RKr7frg0005FxnGdV2exdFV7+1F7ptzaltnnxNHuxnG4EZ/WrFFWb2urM5TwRqwWwj8O6kgtdW0uFYpICf9ZGo2rKnqpAH0NdXmuO8ewxWz6Lq6L5dza6lDH568FYnba6n1B9K7AnHWpj2MqbavB9BaK5H/hZWgF2EX26ZVYr5kNlI6Ng4JDAYI460n/CwYbjK6VoGt379BssiiZ92bGB70c0e4/bU+512a4XWbj/hOtXXQNOJfRrWUPql0oykhUgiBT3OcFsdP5zPpnirxUgTXZY9C01h89nZyb55R/deToo/3fWuq03TLPSLCKy023S3t4hhY0H6+596WsvQh3q6WsvzLKgKoVQFAGAB2p1GKKs6AooooAKKKKACiiigDC8a6ncaP4M1K+sm2XMcWImxnazEKDz6E1q2vmRWEIupd8qxr5khAXcccnHbmub+JPzeDZIevnXVtHj1zMtQfEaXTJ9Ki07UNSFpKzieOFo5HjuAp+44QZKk+nIIB7VDdmznlNxlJ9kv1NzXtWk0u3sXt1jka6vYbYBskFXbBIx3xk03XfFOmeHPK/tSSZPNBYeXA8gCjG5iVBAAyOtcNcJL4qHhgJcXumabJcGD7BHH5bRtFE/zrIRuIIAA6ce/Ta8TWsEOl2ngrSC6yankSPI7SGG3BzJISxJz2Ge5pczd7GftZNSa8rHbqwdQynIYZB9aWo4dixLHGwYIAvXNSVodgE4GTVP+19O/tBLD7db/AGuQErB5o3sAM/d69KlvYTcWM8KpG5kjZAsudrZGMNjt61zPhfw/e6NdnzdH0GyiKndJYBzIx7csOn4mk2zOUpKSSR1ua5X4fj/iQ3jd21O6J/7+tXU1kadpZ0Cy1H7KGuUknlu4oBgEFvmKA+7Zx9fahrVMJRvNS7XOYT4hX2s+LjofhjToXELuJ7i8lKgBGAbCrkj0BPXPSuY1rxvqmpePdKjfQrwWdrdtLa2/2dknuCqkZ+Y4ODk8dBVy5sNe8UtHcx+E5NJ1vP8AyFTP9nWH5sj5QSz8cc9a3rvwz4hm8a6FqF9qC6jZ2k8zlVhWL7OCnGTnLZOBWHvNHny9tUVrvddP62+Zm+LtT1HXtP0iz1PRJtMhu9Zt4gk8ys0yfMWyq9Og616aKxPEWgHXLnR5RMIxp1+l2QVzvCgjb7dRW2K2Sd3c7acJRk29dhaKKKo3CiiigAooooAKKKKACuc8Z6Xd3mm29/pCB9S0ucXVuh/5a4GGj/4EpI+uK6Og0mromcVOPKzM0LXLPxBpMV9YvlW4kjb70TjqjDsRVK40y6l+INlqXl/6JBp0sW/I4kZ1OMdegNV9U8GiTUJNU8PX8ujalIP3jxKGinOf+WkZ4b68Gq39p+ONM+W80Oy1hB/y1sbnym/FX7/Q1N7fEYOTWk180V9Q8AalqUNxZ3fiu6l06eRnNvJaxuy5OcBzyMdsdK2NY8FaTrltLHeifzZYI4HuElIcojbl9uvPSqLeN7+E4ufB2vA9/KhSQfmGpreONQnGzT/BuuvNjIFzCsCfixNL3URehZ/8EguvBXhrw/p9xq+qi41GS0QyibUblpSMDgAE469OKyfgr5sOmata3SeXOJ452U9dskYKn8QK2F8Ma14muobnxrcQpZRMJI9ItcmMt28xj97Hp0ojU6T8YmSLAg1jTg7JjpJEcDH/AAGptZqSRnyJVIzUbLb7ztaKBS1segJmvPr8Dx/41OlgyN4f0jJuyhIW5uM8Rk9wv+PsaXxhrknhvxReXLySeVdaHIIYw3BmR+OOnR60/BZstBtbHwqImTUI7Bb24Kr8pZmw2T67v0FZt8zsck5KpP2b+f6L5nVQwRW0KQ28aRRRgKiIoCqB2AHSn0UVodaDFZtz4c0W8lMl3pFjNIeryW6MT+JFadQS3dvDcQ28s0aTT58qNmAZ8cnA74pO3UlpPc8/0rw5o6/FXXbK60myeF7SCe1iaBSqLja2FxgZatnVfBv2S8g1bwbHa6bqNuCrRBNkN1GeqOF/Q/5Fe5Ek3xqsPsjhPI0l2u/9tC+FX/vrBrsYbmCdpVgmjkaJ9kgRgdjdcH0PI4qIxWqOWnTg1JNdX/mcovja+tFC6z4T1iCUD52tYhcR59ipz+lOX4jaUQN1jrCnpg6bLx+lddiinZ9zbkqdJfgeZ+L/ABQPEWhi00XRtZnuUuYZ03WDqhKOGwWPTp6VMuv6j4+v7jQbdG0C3hwL4TOBdup6qi/wg9C3v+FejYrnPFng+08TWyyKwtNShIa3vkX54yDnHGMj2pOL3uYzo1NZc1+62ubVjY22nWMNnZRLDbwqEjjXooFWMV5lq/inxp4KvIjrdvZatp8zY+1RK0IQnsx5C/iDn1rsL/xPDbeDT4htI/tUAjSUqrY+QsAx6dgSenampJ6Gsa0HdbW6G7RSIwdQynIIyDTqs3CiiigAooooAKKKKACiiigDO1vSINatIoLp2RIriK4+XuUYMAfY4qrf+L/DumMVvtZs43HVPNDMP+AjJo1bwpp+uXfm6o93PFtANr9qdYTjuUBAP41Hc2/h7wdpUl7FptvapHhQLe3G+RicKowMkk8VLvuYy5k21ZFI/EjwpkY1Bmx0K20p/wDZaQ6d4R+IEn9oGFb97ceQZD5kZUfe2449c0t/42g0TSUute06WzuZSzRWSMskhRcEsSMBevOT7c1nX3iAL8RdNkm1VNO02LTPtUsNxKIw5ckAMCcbh8px7HFTzdGYyqJ6Tae3T/NnTaL4X0fw80jaPZJbNKAJGDMxbHTkk+ta9VNO1Sz1a1+06dOJ4c7RIoOCfbPWrdWklsdUVFK0dgoooplBTHljiQtK6oo6ljgVBqNn/aFhNamee2Eq7fNt5Nki+6t2NcvceAfC9pBJf659p1BbdDI82oXUku1QMk4zj9KTv0M5uS+FGlqHjrwzphIudZtS4OPLhbzW/Jcms/8A4T9bt9mh+H9Y1E9nFt5Uf/fT4qXQNQ8LxRyy6Tpy6daxrk3ctkbaMj/fYDNWR4u0zUba+i0G8iuL63tnmRCjAHHAPQZGcdD3qLvuY80nq5L5f8EdpuqeI728jF54di0+1J+d5b4O4HsqqR+tdAK4DwtetqLaZe6j42ea+vEWUadEYUXkbimzBbgZGcg8V34qou6NaUuaN/8AL9AoooqjUKKKKACiiigAooooAKKKKACiiigApMUtFACdq43Vzn4ueHVXllsrksB2BAx+tdma4rRkGo/FrxBeykk6bbQWkIzwA43sfzFRLojCt9mPdr8NTtOlcvq/i6RNUfRvDVl/amqKP3o3bYbbPQyP/wCyjmtHxH4gg8PaaJpUeeeZ/KtraIZeeQ9FH+Pasv4e+G73w14eaHVJo5Lm4mM7hVGUJA4Zhy59z9O1DbvZBOUnJQj832/4c4vxovjVNV0t7zTrXVJLcmWBrK0Z03Hh4mBOSpUZzgdq3fh/qNtqOsahqGr3ir4iutqS2TxtEbeNeiKrcn1JGe349Pq0q6Os2s6pqdxHZWzhxDCg2hSoTDAKWb5iT19PSl8QeGNP8SWqi6Qx3EfzW93F8ssLdQVbr17VPLZ3Rh7Fxm5Rd/Jm1RXMeENavbmS90TXiDq2lsFkkAwLiM8pIPqOvofrXT1ondXOuE1OPMgrB8X6LPrGjBtOYR6lZyC5s5CcYkXsfYjIP1reqpqeq2OjWL3mqXMdtboOXc4z7D1PsOaHa2oTScWpbHBt4r0yO2n8TW6Sf8JDPCum/wBmMfmWcMTt24z1Oc9MD1rqvCOgN4f0FLe4fzb2ZjPeTZz5kzcsc9/T8K5TydQ8QeKk1fw7oMWnLMu0azfQKXwAfmWIkH5sgbjzgV2OteJ9I8OGAa1eC3M/CExsQcdckA4696zj3Zy0bXc5dOv6/M2BRUVtcw3cCT2sqTQyDKSRsGVh6gjrUtaHaFJS0UAZuvyXUeiXH2DTU1OdgFFpI4VZASAck8YwSa8n1nw34gSyuk0Lw3f6ObxSk9rbXsc9tKCMH5D9047jpXq+t+INN8P2yzapcrEHO2NACzyH0VRyT9KpeG/Fdv4la7jjtLqyltnwYrtQkjKf4tucgZ4571Ekm7XOStCFSXI5amN/bGv6td/2F4cMFpJYQxpqGoTJvWOUqP3aL0LDvkkVOPC/ipV3L44uDJ1+awi2Z+npWxpunaf4T027lnvSEmuHurm6u3Vcu55JPAHYAVBYeOfDmqawml6dqaXN3JnasSMynAJPzY29B60WX2h8kdPaPX1sUIfEmq+H7yKz8aRQ+RMwSHVbUEQlj0WRT9wn16V16kMoI5FQXtlb6jZS2l7Cs1vMu2SNxkMK5HSbi+8HaxbeHtTd7rS7tymmXjHLRHBPkyfh0P8AkP4d9i7um7Sd0dtRQKKs3CiiigAooooAK4XxmdQg8UaAZHEulT6lBkEY8iVdwHPcNnv0K+9d1Va7sLW/WJbyBJlilWaMOM7XXow9xUyV0Z1IOcbI57XPCtxfeIo9Zsv7PmlWFYvJ1G3MqrtYkMhByp+bng54rL0vw1qLfE+61PX7KyuIXsR5dxFAAgk3LxzklgAfmPbH0rvRS0cqIlRi5X87iAADA4FLRRVG4UUUUAFZXiayvNQ8M39pprolzLCVTeoZW9VOfUZGe2c1q0UnqhNXVjipPDU3i34daTZao0ljeQxRORJHuw6oVw6nqCCeMg1Dpfw6WG3uLPWF027s51Ak8u3lWVyuCuZDISACOnSu7xRU8i3Zj7CDab3OS8DeDE8LWDxXcdjPdLK3lXUMG2QxnoGJ5znPc8YrraKKpJLRGkIRhHljsFFFFMsKKKKACiiigAooooAKKKKACiiigAooooAD0rjfDP8AyUnxht+7m0z9fLNdia4j4fM13rXi3UG6S6q0K/SMYH6EVEt0c9TWpBeb/IseLrC+tdb07xPp9oNRGmxyJNZ4+co2MvH/ALQx07itnTPE+j6rpyXtpqFuYWGTvkCsnswPIIrXIrDu/Bnhy+vGurzRbKWdjlnaEZY+p9aGne6G4zjJuHXucx408Uadr+g6roehNLqN0kKyyNaxmSNQJEyNw6nGemehr0AMFjBYgADnPauc1DwHpF5cJcWRuNIuI4xGsumTGA7QScEDg8n0qp/wruGceXqmv65qFuRhrea8IR/Y4AJ/Ol7ydyIqqpOTV2VNONvr/wAVZdY0lFe00+zNrPeKTtnlY5Cqeh2jqff6V3dQWVjbadaR2tjbx28EYwkca4AFWKqKsbU4OK13YV5z8Q4LxPE2kXelSw3eolDFaabPb+YpbOWlzuAXAIGT6fl6NXHeKnfQvE+meJ3XzLGGJrO9wMmFHYESD2DDB9jSnsZ4hXp/caej/wBvWGiXFz4kmjv7sKZVgsYcbQF+4uT8xJHf1rO8O+K7nxTquoadeeH3s7e1QCV55Vky5xiMqBjOCSRk4xg10019awWBvJrmGO2Cb/OZwE29jnpiuN0jwZNFZGbQvGF+tpdu1wGjjibeWOS24ryfeh3VrClzxcVHVddv1Ffw5rPhG5kuvBrLd6c7GSXRp2wFPcxP/D9DXR+HfEdn4ksnmtBJFNC3l3FtMu2SB+6sKn82HQtED6rqBeO2j/e3dyQC2O5wAM1h+CoJrq41bxFPE0A1iZHghYYIhRdqMR6sOfypbOyCK5JqMdn07HWUGjNFWdJxGiC1uviVr8mpsH1G2MaWSS9Y4Cmcxg+rE5IrrbmeysmFzeSwQM2IxLKwUnJ+7k+/aqOueF9M8QiNtQhYTw8w3MLmOWL/AHXHP4dK898WeEWsNW0251/UdY1XQLcNvckSPbNkEFsDJUgYLdR61DbickpToxel9fz7npesTy2+lyyW+nNqcnAFqpUb+fVuOOtcfo+m66PHMerRaAui2twhS/U3qSiYBfkIRR8rA46dq6vTvEmi6qF/s3VLS4LDhUmUt+XWpdR1vTNIi8zU7+2tF7ebKFz9B3qnZ6mkoxnaXNovQvVxviO4/tnxromh2Y3tY3A1G8cdIVUEIp92LdPSnS+KNV8QDyfBunSCJuuqX8ZjhUf3kU8ycZ9B0rY8O+HYPD9nIqSyXV1cP5t1dy/fnf1PoPQdqTfNsKT9r7sdu5siiiirOgKKKKACiiigAoNFFACUtFFABRRRQAUUUUAFFFFABRRRQAUUUUAFFFFABRRRQAUUUUAFFFFABRRRQAUUUUAFFFFABXE/DBSdH1a47XOr3MoHpyB/Su1Ncb8LP+RPf/r+uP8A0M1D+JGEv4sfR/odnRRRVm4UUUUAFFFFABTJoY54XinjWSNwVZHGQwPYin0UAcvD8OPCsE4kGko+05WOWR3jX6ISR+lMHw50CMYtlvrZOyQ38yKPoN1dXRU8sexl7Gn/ACo5u38A6BBcRzy28148Zyn2y5knVT67XJH6V0YGOlLRTSS2LjCMdkJilooplBQRnrRRQBi3/g/w9qTFr3RbKRz1fyQG/Mc02w8GeHdMlEtlo1pHIOjmMMw+hOcVt0tTZdiPZwveyEAA6UUClqmWFFFFABRQaKAP/9k=)"
      ]
    },
    {
      "cell_type": "markdown",
      "metadata": {
        "id": "UBtUhTTlLVCb"
      },
      "source": [
        "### Understanding List References"
      ]
    },
    {
      "cell_type": "code",
      "metadata": {
        "id": "cC7HdX812mW4",
        "colab": {
          "base_uri": "https://localhost:8080/"
        },
        "outputId": "f641c33d-fe2b-411a-e835-89229d69a8f0"
      },
      "source": [
        "\"\"\"\n",
        "List Objects and References.\n",
        "\"\"\"\n",
        "\n",
        "print(\"Look Alikes\")\n",
        "print(\"===========\")\n",
        "\n",
        "lst1 = [7, 3, 2]\n",
        "lst2 = [7, 3, 2]\n",
        "print(lst1, lst2)\n",
        "\n",
        "lst1[1] = -8\n",
        "print(lst1, lst2)\n",
        "\n",
        "print(\"\")\n",
        "print(\"Aliases\")\n",
        "print(\"=======\")\n",
        "\n",
        "lst3 = [1, 5, 9]\n",
        "lst4 = lst3\n",
        "print(lst3, lst4)\n",
        "\n",
        "lst3[1] = 17\n",
        "print(lst3, lst4)\n",
        "\n",
        "print(\"\")\n",
        "print(\"Copies\")\n",
        "print(\"======\")\n",
        "\n",
        "lst5 = [8, 9, 4]\n",
        "# This makes a shallow copy\n",
        "lst6 = list(lst5)\n",
        "print(lst5, lst6)\n",
        "\n",
        "lst5[1] = -2\n",
        "print(lst5, lst6)\n",
        "\n",
        "print(\"\")\n",
        "print(\"Function Arguments\")\n",
        "print(\"==================\")\n",
        "\n",
        "def mutate_list(alist):\n",
        "    \"\"\"\n",
        "    Add an element to the input.\n",
        "    \"\"\"\n",
        "    alist.append(42)\n",
        "\n",
        "lst7 = [1, 2, 3]\n",
        "print(lst7)\n",
        "mutate_list(lst7)\n",
        "print(lst7)"
      ],
      "execution_count": null,
      "outputs": [
        {
          "output_type": "stream",
          "text": [
            "Look Alikes\n",
            "===========\n",
            "[7, 3, 2] [7, 3, 2]\n",
            "[7, -8, 2] [7, 3, 2]\n",
            "\n",
            "Aliases\n",
            "=======\n",
            "[1, 5, 9] [1, 5, 9]\n",
            "[1, 17, 9] [1, 17, 9]\n",
            "\n",
            "Copies\n",
            "======\n",
            "[8, 9, 4] [8, 9, 4]\n",
            "[8, -2, 4] [8, 9, 4]\n",
            "\n",
            "Function Arguments\n",
            "==================\n",
            "[1, 2, 3]\n",
            "[1, 2, 3, 42]\n"
          ],
          "name": "stdout"
        }
      ]
    },
    {
      "cell_type": "markdown",
      "metadata": {
        "id": "vlYr7sCoRRqf"
      },
      "source": [
        "### Diagnosing List References Issues\n",
        "\n",
        "* There are two  kinds of objects\n",
        "1. Atomic objects that correspond to a single piece of data like integer\n",
        "2. Container objects  that correspond to something like list\n",
        "\n",
        "* Python refers to an object by its physical location in memory."
      ]
    },
    {
      "cell_type": "code",
      "metadata": {
        "id": "3YhDX6HJLn49",
        "colab": {
          "base_uri": "https://localhost:8080/"
        },
        "outputId": "23ecc221-88f2-440e-febd-b19cc9990b01"
      },
      "source": [
        "\"\"\"\n",
        "Some simple examples of reference issues for lists\n",
        "\"\"\"\n",
        "\n",
        "# Part 1 - references to two distinct objects\n",
        "iipp1_instructors = [\"Joe\", \"Scott\", \"John\", \"Stephen\"]\n",
        "iipp2_instructors = [\"Joe\", \"Scott\", \"John\", \"Stephen\"]\n",
        "print(iipp1_instructors)\n",
        "print(iipp2_instructors)\n",
        "\n",
        "# Mutate one of the two objects\n",
        "iipp2_instructors.pop()\n",
        "print(iipp1_instructors)\n",
        "print(iipp2_instructors)\n",
        "print()\n",
        "\n",
        "\n",
        "# # Part 2 - two references to the same object\n",
        "\n",
        "iipp1_instructors = [\"Joe\", \"Scott\", \"John\", \"Stephen\"]\n",
        "iipp2_instructors = iipp1_instructors\n",
        "print(iipp1_instructors)\n",
        "print(iipp2_instructors)\n",
        "\n",
        "# Mutate the object\n",
        "iipp2_instructors.pop()\n",
        "print(iipp1_instructors)\n",
        "print(iipp2_instructors)\n",
        "print()\n",
        "\n",
        "\n",
        "# Part 3 - two references to an object and a copy of the object\n",
        "\n",
        "iipp1_instructors = [\"Joe\", \"Scott\", \"John\", \"Stephen\"]\n",
        "iipp2_instructors = list(iipp1_instructors)\n",
        "print(iipp1_instructors)\n",
        "print(iipp2_instructors)\n",
        "\n",
        "\n",
        "# Mutate the one of the objects\n",
        "iipp2_instructors.pop()\n",
        "print(iipp1_instructors)\n",
        "print(iipp2_instructors)\n",
        "\n",
        "\n"
      ],
      "execution_count": null,
      "outputs": [
        {
          "output_type": "stream",
          "text": [
            "['Joe', 'Scott', 'John', 'Stephen']\n",
            "['Joe', 'Scott', 'John', 'Stephen']\n",
            "['Joe', 'Scott', 'John', 'Stephen']\n",
            "['Joe', 'Scott', 'John']\n",
            "\n",
            "['Joe', 'Scott', 'John', 'Stephen']\n",
            "['Joe', 'Scott', 'John', 'Stephen']\n",
            "['Joe', 'Scott', 'John']\n",
            "['Joe', 'Scott', 'John']\n",
            "\n",
            "['Joe', 'Scott', 'John', 'Stephen']\n",
            "['Joe', 'Scott', 'John', 'Stephen']\n",
            "['Joe', 'Scott', 'John', 'Stephen']\n",
            "['Joe', 'Scott', 'John']\n"
          ],
          "name": "stdout"
        }
      ]
    },
    {
      "cell_type": "markdown",
      "metadata": {
        "id": "pREq9UHZHQFF"
      },
      "source": [
        "\n",
        "\n",
        "---\n",
        "\n",
        "## [Practice Exercises for List Manipulation]\n"
      ]
    },
    {
      "cell_type": "markdown",
      "metadata": {
        "id": "ImJJvxjVHXBe"
      },
      "source": [
        "1. Given a list example_list containing at least 4 elements, write an expression that assigns the value 0 to the third element of the list."
      ]
    },
    {
      "cell_type": "code",
      "metadata": {
        "colab": {
          "base_uri": "https://localhost:8080/"
        },
        "id": "f5k23zONIZqN",
        "outputId": "1415b720-2d3c-41b3-8801-0885c589eb49"
      },
      "source": [
        "example_list = list(range(0,4))\n",
        "print(example_list)"
      ],
      "execution_count": null,
      "outputs": [
        {
          "output_type": "stream",
          "text": [
            "[0, 1, 2, 3]\n"
          ],
          "name": "stdout"
        }
      ]
    },
    {
      "cell_type": "markdown",
      "metadata": {
        "id": "gstS_frEHW9x"
      },
      "source": [
        "2. Given a list example_list containing at least 4 elements, write an expression that replaces the second and third elements of the list by the list [0, 0, 0]"
      ]
    },
    {
      "cell_type": "code",
      "metadata": {
        "colab": {
          "base_uri": "https://localhost:8080/"
        },
        "id": "wt5yXXChIZ8O",
        "outputId": "cc147871-4146-4be0-e6f1-a7c5e298c46a"
      },
      "source": [
        "example_list2 = list(range(0,4))\n",
        "example_list2[1:3] = [0,0,0]\n",
        "print(example_list2)"
      ],
      "execution_count": null,
      "outputs": [
        {
          "output_type": "stream",
          "text": [
            "[0, 0, 0, 0, 3]\n"
          ],
          "name": "stdout"
        }
      ]
    },
    {
      "cell_type": "markdown",
      "metadata": {
        "id": "KxAUPebrHW35"
      },
      "source": [
        "3. Given a list example_list, write an expression that mutates example_list such that the number 0 is appended (i.e. added to the end) to the list."
      ]
    },
    {
      "cell_type": "code",
      "metadata": {
        "colab": {
          "base_uri": "https://localhost:8080/"
        },
        "id": "RHfwjSGcIaTs",
        "outputId": "12e4cd54-039e-4058-fed2-394aa85df8fb"
      },
      "source": [
        "example_list2.append(0)\n",
        "print(example_list2)"
      ],
      "execution_count": null,
      "outputs": [
        {
          "output_type": "stream",
          "text": [
            "[0, 0, 0, 0, 3, 0]\n"
          ],
          "name": "stdout"
        }
      ]
    },
    {
      "cell_type": "markdown",
      "metadata": {
        "id": "gkg9qsPXHWw6"
      },
      "source": [
        "4. Given a list example_list, write an expression that mutates example_list such that the numbers in the list [0, 0, 0] are appended to the list. You should not use a loop here. "
      ]
    },
    {
      "cell_type": "code",
      "metadata": {
        "colab": {
          "base_uri": "https://localhost:8080/"
        },
        "id": "AxD021HGIaxc",
        "outputId": "9b28734d-9177-430c-c993-c329e809a352"
      },
      "source": [
        "example_list2.extend([0,0,0])\n",
        "print(example_list2)"
      ],
      "execution_count": null,
      "outputs": [
        {
          "output_type": "stream",
          "text": [
            "[0, 0, 0, 0, 3, 0, 0, 0, 0]\n"
          ],
          "name": "stdout"
        }
      ]
    },
    {
      "cell_type": "markdown",
      "metadata": {
        "id": "5lwusQ_NM02b"
      },
      "source": [
        "5. Given a list example_list, write an expression that appends the numbers in the list [0, 0, 0] to example_list . Note that this expression should not mutate example_list. (Again, you should not use a loop here.)"
      ]
    },
    {
      "cell_type": "code",
      "metadata": {
        "colab": {
          "base_uri": "https://localhost:8080/"
        },
        "id": "wdG89R_EM4I9",
        "outputId": "609773e4-40ba-4c2d-d212-00261d844601"
      },
      "source": [
        "example_list3 = [3,5,7,2,6,9]\n",
        "new_list = example_list3 + [0,0,0]\n",
        "print(new_list)"
      ],
      "execution_count": null,
      "outputs": [
        {
          "output_type": "stream",
          "text": [
            "[3, 5, 7, 2, 6, 9, 0, 0, 0]\n"
          ],
          "name": "stdout"
        }
      ]
    },
    {
      "cell_type": "markdown",
      "metadata": {
        "id": "HdqMkAAhNN9b"
      },
      "source": [
        "6. Given a list example_list, write a loop that mutates example_list such that the numbers in the list [0, 0, 0] are appended to the list."
      ]
    },
    {
      "cell_type": "code",
      "metadata": {
        "colab": {
          "base_uri": "https://localhost:8080/"
        },
        "id": "RH4yizqYNivY",
        "outputId": "7f0785f9-29c2-440d-f31a-0c10a419e661"
      },
      "source": [
        "example_list4 = [6,23,795,323,7]\n",
        "\n",
        "add_list = [0,0,0]\n",
        "\n",
        "for num in add_list:\n",
        "    example_list4.append(num)\n",
        "\n",
        "print(example_list4)"
      ],
      "execution_count": null,
      "outputs": [
        {
          "output_type": "stream",
          "text": [
            "[6, 23, 795, 323, 7, 0, 0, 0]\n"
          ],
          "name": "stdout"
        }
      ]
    },
    {
      "cell_type": "markdown",
      "metadata": {
        "id": "D7A-YeDgN2Po"
      },
      "source": [
        "7. Given a list example_list, write an expression that constructs a tuple whose items correspond to those in example_list."
      ]
    },
    {
      "cell_type": "code",
      "metadata": {
        "colab": {
          "base_uri": "https://localhost:8080/"
        },
        "id": "CamtQ6nKN4C4",
        "outputId": "db8f23a3-66f2-469e-c0c7-c5589f69e64e"
      },
      "source": [
        "example_list5 = [34,6,1.5,68,4]\n",
        "\n",
        "example_tuple = tuple(example_list5)\n",
        "print(example_tuple)"
      ],
      "execution_count": null,
      "outputs": [
        {
          "output_type": "stream",
          "text": [
            "(34, 6, 1.5, 68, 4)\n"
          ],
          "name": "stdout"
        }
      ]
    },
    {
      "cell_type": "markdown",
      "metadata": {
        "id": "tKl8e3SfHWtp"
      },
      "source": [
        "8. Given a list example_list, write an expression that mutates example_list by shuffling (i.e. randomly reordering) the items in this list. Hint: investigate the various methods in the random module. "
      ]
    },
    {
      "cell_type": "code",
      "metadata": {
        "id": "E7qW3ELvIbSj"
      },
      "source": [
        "import random"
      ],
      "execution_count": null,
      "outputs": []
    },
    {
      "cell_type": "code",
      "metadata": {
        "colab": {
          "base_uri": "https://localhost:8080/"
        },
        "id": "_Rp8H2h7OJur",
        "outputId": "5609d7ff-793a-45e6-c958-0ecd310b024d"
      },
      "source": [
        "print(example_list5)\n",
        "\n",
        "random.shuffle(example_list5)\n",
        "print(example_list5)"
      ],
      "execution_count": null,
      "outputs": [
        {
          "output_type": "stream",
          "text": [
            "[34, 6, 1.5, 68, 4]\n",
            "[34, 1.5, 6, 4, 68]\n"
          ],
          "name": "stdout"
        }
      ]
    },
    {
      "cell_type": "markdown",
      "metadata": {
        "id": "29mBKPpVHWqF"
      },
      "source": [
        "9. Challenge: The items in a list can themselves be lists. These nested lists can be used to represent a wide range of 2D data such as spreadsheet information. Write a function flatten(nested_list) that takes as input the list of lists nested_list. The function flaten() should return a list consisting of the items in the sublists of nested_list all appended together. (See the provided template for example input and output.)"
      ]
    },
    {
      "cell_type": "code",
      "metadata": {
        "id": "haIEuPu6Iboc"
      },
      "source": [
        "def flatten(nested_list):\n",
        "    appended_list = []\n",
        "\n",
        "    for sub_list in nested_list:\n",
        "        appended_list.extend(sub_list)\n",
        "\n",
        "    return appended_list"
      ],
      "execution_count": null,
      "outputs": []
    },
    {
      "cell_type": "code",
      "metadata": {
        "colab": {
          "base_uri": "https://localhost:8080/"
        },
        "id": "tEpHQPkYOkTR",
        "outputId": "cc04c96c-677a-4061-98ea-b2ca7f1e8ed9"
      },
      "source": [
        "print(flatten([]))\n",
        "print(flatten([[]]))\n",
        "print(flatten([[1, 2, 3]]))\n",
        "print(flatten([[\"cat\", \"dog\"], [\"pig\", \"cow\"]]))\n",
        "print(flatten([[9, 8, 7], [6, 5], [4, 3, 2], [1]]))\n"
      ],
      "execution_count": null,
      "outputs": [
        {
          "output_type": "stream",
          "text": [
            "[]\n",
            "[]\n",
            "[1, 2, 3]\n",
            "['cat', 'dog', 'pig', 'cow']\n",
            "[9, 8, 7, 6, 5, 4, 3, 2, 1]\n"
          ],
          "name": "stdout"
        }
      ]
    },
    {
      "cell_type": "markdown",
      "metadata": {
        "id": "KBEfdrsjHWJx"
      },
      "source": [
        "10. Challenge: Write a function remove_duplicates(items) that takes a list items and returns a new list that consists of all unique items in items. The items in the returned list should be in the same order as those in items."
      ]
    },
    {
      "cell_type": "code",
      "metadata": {
        "colab": {
          "base_uri": "https://localhost:8080/"
        },
        "id": "zK2W2J1GS05R",
        "outputId": "4333b8ca-a723-44c2-a7fe-fba497b5a9c6"
      },
      "source": [
        "print(len(example_list5))"
      ],
      "execution_count": null,
      "outputs": [
        {
          "output_type": "stream",
          "text": [
            "5\n"
          ],
          "name": "stdout"
        }
      ]
    },
    {
      "cell_type": "markdown",
      "metadata": {
        "id": "p54F3Kc39S2b"
      },
      "source": [
        "\n",
        "\n",
        "---\n",
        "\n",
        "\n",
        "\n",
        "---\n",
        "\n"
      ]
    },
    {
      "cell_type": "code",
      "metadata": {
        "id": "tMsZt_e4Fp5y"
      },
      "source": [
        "def remove_duplicates(items):\n",
        "    new_list =[]\n",
        "\n",
        "    for item in items:\n",
        "        if item not in new_list:\n",
        "          new_list.append(item)\n",
        "\n",
        "    return new_list"
      ],
      "execution_count": null,
      "outputs": []
    },
    {
      "cell_type": "code",
      "metadata": {
        "colab": {
          "base_uri": "https://localhost:8080/"
        },
        "id": "d_TSLAOxTSuZ",
        "outputId": "fea1925d-d306-46c2-f85d-983a22ae878b"
      },
      "source": [
        "# Test code\n",
        "print(remove_duplicates([]))\n",
        "print(remove_duplicates([1, 2, 3, 4]))\n",
        "print(remove_duplicates([1, 2, 2, 3, 3, 3, 4, 5, 6, 6]))\n",
        "print(remove_duplicates([\"cat\", \"dog\", \"cat\", \"pig\", \"cow\", \"cat\", \"pig\", \"pug\"]))\n",
        "\n"
      ],
      "execution_count": null,
      "outputs": [
        {
          "output_type": "stream",
          "text": [
            "[]\n",
            "[1, 2, 3, 4]\n",
            "[1, 2, 3, 4, 5, 6]\n",
            "['cat', 'dog', 'pig', 'cow', 'pug']\n"
          ],
          "name": "stdout"
        }
      ]
    },
    {
      "cell_type": "code",
      "metadata": {
        "colab": {
          "base_uri": "https://localhost:8080/"
        },
        "id": "5MPWqTZ6TUAp",
        "outputId": "4773c119-0497-48db-9bdb-0c7e1f54e993"
      },
      "source": [
        "my_list = [1, 3, 5, 7, 9]\n",
        "print(my_list[1:4])"
      ],
      "execution_count": null,
      "outputs": [
        {
          "output_type": "stream",
          "text": [
            "[3, 5, 7]\n"
          ],
          "name": "stdout"
        }
      ]
    },
    {
      "cell_type": "code",
      "metadata": {
        "colab": {
          "base_uri": "https://localhost:8080/"
        },
        "id": "eNR1sSFETxpg",
        "outputId": "055d4bb2-e1d0-43ba-dc65-4d5f9d21e1dc"
      },
      "source": [
        "my_list = [1, 3, 5, 7, 9]\n",
        "reversed_list = my_list.reverse()\n",
        "print(my_list.reverse(), my_list)"
      ],
      "execution_count": null,
      "outputs": [
        {
          "output_type": "stream",
          "text": [
            "None [1, 3, 5, 7, 9]\n"
          ],
          "name": "stdout"
        }
      ]
    },
    {
      "cell_type": "code",
      "metadata": {
        "colab": {
          "base_uri": "https://localhost:8080/"
        },
        "id": "9gnzzvqBUjL4",
        "outputId": "8607cfb6-dea2-4799-f480-12ef7a303fc8"
      },
      "source": [
        "print(my_list, reversed_list)"
      ],
      "execution_count": null,
      "outputs": [
        {
          "output_type": "stream",
          "text": [
            "[1, 3, 5, 7, 9] None\n"
          ],
          "name": "stdout"
        }
      ]
    },
    {
      "cell_type": "code",
      "metadata": {
        "colab": {
          "base_uri": "https://localhost:8080/"
        },
        "id": "W_4X6dUbVGdd",
        "outputId": "1ffeec1c-10d3-4e5d-f0aa-3f2a31270023"
      },
      "source": [
        "fib = [0,1]\n",
        "\n",
        "for i in range(20):\n",
        "    fib.append(fib[-1]+fib[-2])\n",
        "\n",
        "print(fib[-1])\n",
        "    "
      ],
      "execution_count": null,
      "outputs": [
        {
          "output_type": "stream",
          "text": [
            "10946\n"
          ],
          "name": "stdout"
        }
      ]
    },
    {
      "cell_type": "code",
      "metadata": {
        "id": "EfqF5Faxbt52"
      },
      "source": [
        "def  prime_list(n):\n",
        "    sieve = [True]* n\n",
        "\n",
        "    m = int(n**0.5)\n",
        "    for i in range(2, m+1):\n",
        "      if sieve[i] == True:\n",
        "        for j in range(i+i, n, i):\n",
        "          sieve[j] = False\n",
        "\n",
        "    return [i for i in range(2,n) if sieve[i]==True]\n",
        "\n",
        "    "
      ],
      "execution_count": null,
      "outputs": []
    },
    {
      "cell_type": "code",
      "metadata": {
        "colab": {
          "base_uri": "https://localhost:8080/"
        },
        "id": "wcBeoLA8cobZ",
        "outputId": "3b2624c1-9d4e-4f3a-a45d-5cda2389d05b"
      },
      "source": [
        "print(len(prime_list(2000)))"
      ],
      "execution_count": null,
      "outputs": [
        {
          "output_type": "stream",
          "text": [
            "303\n"
          ],
          "name": "stdout"
        }
      ]
    },
    {
      "cell_type": "code",
      "metadata": {
        "id": "COa3pafSc5gO"
      },
      "source": [
        ""
      ],
      "execution_count": null,
      "outputs": []
    }
  ]
}