{
  "nbformat": 4,
  "nbformat_minor": 0,
  "metadata": {
    "colab": {
      "name": "[Python Data Representations] Week4_Files.ipynb",
      "provenance": []
    },
    "kernelspec": {
      "name": "python3",
      "display_name": "Python 3"
    },
    "language_info": {
      "name": "python"
    }
  },
  "cells": [
    {
      "cell_type": "markdown",
      "metadata": {
        "id": "G705dNc7bSwx"
      },
      "source": [
        "## Indroduction to Files\n",
        "\n",
        "* Regardless of whether a file is specific to a particular program or not, all files are created, read, written, and deleted by computer programs.\n",
        "\n",
        "### What is a file?\n",
        "\n",
        "* A file is just a sequence of data. \n",
        "* Files can either be stored in text or binary form.\n",
        "\n",
        "### File Operations\n",
        "* Conceptually, computer programs can do four operations on files : Open, Read, Write, and Close.\n",
        "\n",
        "1. Open : The program must have the proper permissions to access the file.\n",
        "\n",
        "2. Read : For text files, this involves getting a certain number of characters as a string.\n",
        "\n",
        "3. Write : For text files, this involves passing a string to the file object. As with reading files, in almost all cases, each write to a file places the new text right after the text that was written by the previous write operation. It is also possible to specify where to write into the file (instead of writing the file sequentially), but the program must explicitly do that. \n",
        "\n",
        "4. Close :  After the program is done reading or writing the file, it must close the open file object. Operating systems typically limit the number of files that can be open at any given time, since open files consume resources in memory.\n"
      ]
    },
    {
      "cell_type": "markdown",
      "metadata": {
        "id": "mwravCjJeJ9O"
      },
      "source": [
        "#### Open"
      ]
    },
    {
      "cell_type": "code",
      "metadata": {
        "id": "bMahEXqONueV"
      },
      "source": [
        "# The name of the file to open\n",
        "filename = \"starwars.txt\"\n",
        "\n",
        "# The mode in which to open it (read, text)\n",
        "mode = \"rt\"\n",
        "\n",
        "# Actually open the file\n",
        "openfile = open(filename, mode)"
      ],
      "execution_count": null,
      "outputs": []
    },
    {
      "cell_type": "markdown",
      "metadata": {
        "id": "YRFd-m7eeLy_"
      },
      "source": [
        "#### Read"
      ]
    },
    {
      "cell_type": "code",
      "metadata": {
        "id": "oduutG8zeC-0"
      },
      "source": [
        "\n",
        "openfile = open(\"gonewiththewind.txt\", \"rt\")\n",
        "\n",
        "filedata = openfile.read()\n",
        "print(filedata)"
      ],
      "execution_count": null,
      "outputs": []
    },
    {
      "cell_type": "markdown",
      "metadata": {
        "id": "BJiwucwceNUv"
      },
      "source": [
        "#### Write"
      ]
    },
    {
      "cell_type": "code",
      "metadata": {
        "id": "dnArj2pGeIxX"
      },
      "source": [
        "openfile = open(\"mymoviescript.txt\", \"wt\")\n",
        "\n",
        "openfile.write('I wish I had an idea for a movie...\\n')"
      ],
      "execution_count": null,
      "outputs": []
    },
    {
      "cell_type": "markdown",
      "metadata": {
        "id": "KElLoQh9ePRS"
      },
      "source": [
        "#### Close"
      ]
    },
    {
      "cell_type": "code",
      "metadata": {
        "id": "JASBCeedeQIX"
      },
      "source": [
        "openfile = open(\"emptyfile.txt\")\n",
        "\n",
        "openfile.close()"
      ],
      "execution_count": null,
      "outputs": []
    },
    {
      "cell_type": "markdown",
      "metadata": {
        "id": "uGOShRMO6qe9"
      },
      "source": [
        "* open() takes two arguments, filname and a mode.\n",
        "* r = read, t = text, b = binary\n",
        "* Make sure you close the file after reading it.\n",
        "* open() object type is TextIOWrapper.\n"
      ]
    },
    {
      "cell_type": "code",
      "metadata": {
        "id": "OPuE5h3c6CYy"
      },
      "source": [
        "\"\"\"\n",
        "Reading files.\n",
        "\"\"\"\n",
        "\n",
        "print(\"Opening Files\")\n",
        "print(\"=============\")\n",
        "\n",
        "# Open takes a filename and a mode\n",
        "openfile = open(\"the_idiot.txt\", \"rt\")\n",
        "\n",
        "# Modes for reading:\n",
        "#  r - read (default)\n",
        "#  t - text (default)\n",
        "#  b - binary\n",
        "\n",
        "print(type(openfile))\n",
        "print(openfile)\n",
        "\n",
        "# Must close file after opening it\n",
        "openfile.close()\n",
        "\n",
        "print(\"\")\n",
        "print(\"Errors\")\n",
        "print(\"======\")\n",
        "\n",
        "# nofile = open(\"nosuchfile.txt\")\n",
        "\n",
        "print(\"\")\n",
        "print(\"Reading\")\n",
        "print(\"=======\")\n",
        "\n",
        "datafile = open(\"the_idiot.txt\", \"rt\")\n",
        "\n",
        "data = datafile.read()\n",
        "\n",
        "print(\"type:\", type(data))\n",
        "print(\"length:\", len(data))\n",
        "print(\"\")\n",
        "print(data)\n",
        "\n",
        "datafile.close()"
      ],
      "execution_count": null,
      "outputs": []
    },
    {
      "cell_type": "markdown",
      "metadata": {
        "id": "tczQKyqV789C"
      },
      "source": [
        "### Reading Files using Iteration\n",
        "\n",
        "* file objects has function called 'readline' which allows us to break the contents of the file into lines.\n",
        "* It returns a list of strings.\n",
        "* There are two equivalent ways of iterating over the lines of the file, readlines() and the file object itself. But the second way is more efficient as it doesn't create big giant list."
      ]
    },
    {
      "cell_type": "code",
      "metadata": {
        "id": "r0TwpOuP7_Dd"
      },
      "source": [
        "\"\"\"\n",
        "Iterating over files.\n",
        "\"\"\"\n",
        "\n",
        "# Using readlines()\n",
        "#  readlines creates a list of strings\n",
        "#  that you can iterate over\n",
        "\n",
        "datafile1 = open(\"the_idiot.txt\", \"rt\")\n",
        "\n",
        "for line in datafile1.readlines():\n",
        "    print(line)\n",
        "\n",
        "datafile1.close()\n",
        "\n",
        "print(\"\")\n",
        "print(\"================================\")\n",
        "print(\"\")\n",
        "\n",
        "# Direct iteration\n",
        "#  This is faster for large files,\n",
        "#  as no list is created\n",
        "\n",
        "datafile2 = open(\"the_idiot.txt\", \"rt\")\n",
        "\n",
        "for line in datafile2:\n",
        "    print(line)\n",
        "\n",
        "datafile2.close()\n",
        "\n"
      ],
      "execution_count": null,
      "outputs": []
    },
    {
      "cell_type": "markdown",
      "metadata": {
        "id": "XjHBIHYDv3Uw"
      },
      "source": [
        "### Writing Files\n",
        "\n",
        "* Be aware of the difference when a mode is 'w' or 'a'.\n",
        "* You can write strings through writelines() or write()."
      ]
    },
    {
      "cell_type": "code",
      "metadata": {
        "id": "OkI92L_3v7lJ"
      },
      "source": [
        "\"\"\"\n",
        "Writing Files.\n",
        "\"\"\"\n",
        "\n",
        "print(\"Opening Files\")\n",
        "print(\"=============\")\n",
        "\n",
        "openfile = open(\"output.txt\", \"wt\")\n",
        "\n",
        "# Modes for writing:\n",
        "#  w - write (erases the file first)\n",
        "#  a - write (appends to the end of the file)\n",
        "#  t - text (default)\n",
        "#  b - binary\n",
        "#  + - open for read and write\n",
        "\n",
        "print(type(openfile))\n",
        "print(openfile)\n",
        "\n",
        "# Always close files\n",
        "openfile.close()\n",
        "\n",
        "print(\"\")\n",
        "print(\"Writing\")\n",
        "print(\"=======\")\n",
        "\n",
        "def checkfile(filename):\n",
        "    \"\"\"\n",
        "    Read and print the contents of the file named filename.\n",
        "    \"\"\"\n",
        "    datafile = open(filename, \"rt\")\n",
        "    data = datafile.read()\n",
        "    datafile.close()\n",
        "    print(data)\n",
        "\n",
        "# Write\n",
        "outputfile = open(\"output.txt\", \"wt\")\n",
        "outputfile.writelines([\"first line\\n\", \"second line\\n\"])\n",
        "outputfile.write(\"third line\\nfourth line\\n\")\n",
        "outputfile.close()\n",
        "\n",
        "print(\"Initial file contents:\")\n",
        "checkfile(\"output.txt\")\n",
        "\n",
        "\n",
        "# Overwrite\n",
        "outputfile2 = open(\"output.txt\", \"wt\")\n",
        "outputfile2.write(\"overwriting contents\\n\")\n",
        "outputfile2.close()\n",
        "\n",
        "print(\"Overwritten file contents:\")\n",
        "checkfile(\"output.txt\")\n",
        "\n",
        "\n",
        "# Append\n",
        "outputfile2 = open(\"output.txt\", \"at\")\n",
        "outputfile2.write(\"appending to contents\\n\")\n",
        "outputfile2.close()\n",
        "\n",
        "print(\"Appended file contents:\")\n",
        "checkfile(\"output.txt\")"
      ],
      "execution_count": null,
      "outputs": []
    },
    {
      "cell_type": "markdown",
      "metadata": {
        "id": "JZaU_1HX28L_"
      },
      "source": [
        "## Understanding File Systems and Paths\n",
        "* When working with directories, there are several common terms that we will use.\n",
        "* The parent of a directory C is simply the directory that direcly contains C.\n",
        "*  If P is the parent directory of another directory C, the C is referred to as a sub-directory of P.  (C is also sometimes referred to as a child directory of P.)\n",
        "\n",
        "### Absolute paths\n",
        "* In Python, the location of files is specified as string known as a path.\n",
        "* This path consist of a string whose first two characters \"C:\" denote which drive contains the directory.  The  rest of the path consists of directory names separated by backslashes \"\\\\\".\n",
        "\n",
        "### Relative paths\n",
        "*  By default, Python maintains a working directory that it uses as the base location for all relative paths.  In a GUI-based IDEs such as Thonny, IDLE or Atom,  the working directory is usually the directory that contains the Python source code being run.\n",
        "\n",
        "### Using the OS module to manipulate paths\n",
        "\n",
        "* For many applications, your Python code should work reliably independent of the particular OS for the file systems.  In this case, you may wish to considering use the methods from the os module described below to create truly OS-independent Python code for manipulating paths. (Remember to 'import os' before using these methods.)\n",
        "* os.getcwd() = return the path to the current working directory for your python code.\n",
        "* os.path.abspath(file_name) = return to the absolute path the specified file.\n",
        "* os.path.join(path, dir1, dir2, ..., filename) = return the absolue path to the file file_name that lies in the sequence of nested directories dir1,dir2,... lacted at path.\n",
        "* os.pardir = return the relative path to the parent directory of the current working directory. For most systems, this path is \"..\""
      ]
    },
    {
      "cell_type": "markdown",
      "metadata": {
        "id": "x9K_hIoG42at"
      },
      "source": [
        "## Working with File Paths\n",
        "\n"
      ]
    },
    {
      "cell_type": "code",
      "metadata": {
        "id": "SUICvKii35yv"
      },
      "source": [
        "\"\"\"\n",
        "Examples of paths used in Python\n",
        "Expects current_file.txt in same directory as this code\n",
        "Expects parent_file.txt in parent directory of this code\n",
        "Expects child_file.txt in sub-directory child\n",
        "\"\"\"\n",
        "\n",
        "def echo_file(file_name):\n",
        "    \"\"\"\n",
        "    Open a file, read its contents, and echo to console\n",
        "    \"\"\"\n",
        "    my_file = open(file_name, 'r')\n",
        "    my_file_text = my_file.read()\n",
        "    print(my_file_text)\n",
        "    my_file.close()                         # close the file, Joe!\n",
        "\n",
        "\n",
        "\n",
        "def run_absolute_path_examples():\n",
        "    \"\"\"\n",
        "    Some simple examples of absolute and relative paths\n",
        "    \"\"\"\n",
        "\n",
        "    # Examples using absolute paths on Windows - Use raw strings to handle backslash\n",
        "    current_abs_path = r\"C:\\Users\\jwarren\\Dropbox\\Python Scripting\\course 2\\week4\\paths\\current_file.txt\"\n",
        "    child_abs_path = r\"C:\\Users\\jwarren\\Dropbox\\Python Scripting\\course 2\\week4\\paths\\child\\child_file.txt\"\n",
        "    parent_abs_path = r\"C:\\Users\\jwarren\\Dropbox\\Python Scripting\\course 2\\week4\\parent_file.txt\"\n",
        "    echo_file(current_abs_path)\n",
        "    echo_file(child_abs_path)\n",
        "    echo_file(parent_abs_path)\n",
        "    print()\n",
        "\n",
        "run_absolute_path_examples()\n",
        "\n",
        "def run_relative_path_examples():\n",
        "    \"\"\"\n",
        "    Some simple examples of relative paths\n",
        "    \"\"\"\n",
        "\n",
        "    # Examples using relative paths - current_file.txt in same directory as this code\n",
        "    echo_file(\"current_file.txt\")\n",
        "    echo_file(\"child/child_file.txt\")           # Note that slash works on Windows\n",
        "    echo_file(\"../parent_file.txt\")\n",
        "    print()\n",
        "\n",
        "\n",
        "#run_relative_path_examples()\n",
        "\n",
        "\n",
        "import os\n",
        "\n",
        "def run_os_path_examples():\n",
        "    \"\"\"\n",
        "    Examples of computing/manipulating paths reliably using the os module\n",
        "    \"\"\"\n",
        "\n",
        "    # Get absolute path using os.path - note path uses backslashes on Windows\n",
        "    current_abs_path = os.path.abspath(\"current_file.txt\")\n",
        "    print(current_abs_path)\n",
        "\n",
        "    # Get absolute path to child_file.text using os.path\n",
        "    child_abs_path = os.path.abspath(\"child/child_file.txt\")\n",
        "    print(child_abs_path)\n",
        "\n",
        "    # Get current working directory\n",
        "    working_dir = os.getcwd()\n",
        "    print(working_dir)\n",
        "\n",
        "    # Construct paths using os.path.join\n",
        "    child_rel_path = os.path.join(working_dir, \"child\", \"child_file.txt\")\n",
        "    print(child_rel_path)\n",
        "\n",
        "    parent_rel_path = os.path.join(working_dir, os.pardir, \"parent_file.txt\")\n",
        "    print(parent_rel_path)\n",
        "\n",
        "#run_os_path_examples()"
      ],
      "execution_count": null,
      "outputs": []
    },
    {
      "cell_type": "markdown",
      "metadata": {
        "id": "DsAARLxgHW3T"
      },
      "source": [
        "\n",
        "\n",
        "---\n",
        "\n",
        "## Practice Project : Updating the CodeSkulptor Docs"
      ]
    },
    {
      "cell_type": "code",
      "metadata": {
        "id": "ffLOd-1HHWfs",
        "colab": {
          "base_uri": "https://localhost:8080/"
        },
        "outputId": "89561fcc-ce8d-4ed6-86e8-adcf8aa1e02c"
      },
      "source": [
        "\"\"\"\n",
        "Week 4 practice project template for Python Data Representation\n",
        "Update syntax for print in CodeSkulptor Docs\n",
        "from \"print ...\" syntax in Python 2 to \"print(...)\" syntax for Python 3\n",
        "\"\"\"\n",
        "\n",
        "# HTML tags that bounds example code\n",
        "PREFIX = \"<pre class='cm'>\"\n",
        "POSTFIX = \"</pre>\"\n",
        "PRINT = \"print\"\n",
        "\n",
        "\n",
        "def update_line(line):\n",
        "    \"\"\"\n",
        "    Takes a string line representing a single line of code\n",
        "    and returns a string with print updated\n",
        "    \"\"\"\n",
        "\n",
        "    # Strip left white space using built-in string method lstrip()\n",
        "    print_index = line.find('print')\n",
        "    front_print = line[:print_index+5]\n",
        "    back_print  = line[print_index+5:].lstrip()\n",
        "\n",
        "    # If line is print statement,  use the format() method to add insert parentheses\n",
        "    if print_index != -1:\n",
        "        format_print = \"{0}({1})\".format(front_print, back_print)\n",
        "    else:\n",
        "        format_print = line\n",
        "    # Note that solution does not handle white space/comments after print statememt\n",
        "\n",
        "    return format_print\n",
        "\n",
        "# Some simple tests\n",
        "print(update_line(\"\"))\n",
        "print(update_line(\"foobar()\"))  \n",
        "print(update_line(\"print 1 + 1\"))      \n",
        "print(update_line(\"    print 2, 3, 4\"))\n",
        "\n",
        "# Expect output\n",
        "##\n",
        "##foobar()\n",
        "##print(1 + 1)\n",
        "##    print(2, 3, 4)\n",
        "\n",
        "\n",
        "def update_pre_block(pre_block):\n",
        "    \"\"\"\n",
        "    Take a string that correspond to a <pre> block in html and parses it into lines.  \n",
        "    Returns string corresponding to updated <pre> block with each line\n",
        "    updated via process_line()\n",
        "    \"\"\"\n",
        "    line = pre_block.split('\\n')\n",
        "    updated_block = update_line(line[0])\n",
        "    for i in line[1:]:\n",
        "        updated_block += \"\\n\"\n",
        "        updated_block += update_line(i)\n",
        "\n",
        "    return updated_block\n",
        "\n",
        "# Some simple tests\n",
        "print(update_pre_block(\"\"))\n",
        "print(update_pre_block(\"foobar()\"))\n",
        "print(update_pre_block(\"if foo():\\n    bar()\"))\n",
        "print(update_pre_block(\"print\\nprint 1+1\\nprint 2, 3, 4\"))\n",
        "print(update_pre_block(\"    print a + b\\n    print 23 * 34\\n        print 1234\"))\n",
        "\n",
        "# Expected output\n",
        "##\n",
        "##foobar()\n",
        "##if foo():\n",
        "##    bar()\n",
        "##print()\n",
        "##print(1+1)\n",
        "##print(2, 3, 4)\n",
        "##    print(a + b)\n",
        "##    print(23 * 34)\n",
        "##        print(1234)\n",
        "\n",
        "def update_file(input_file_name, output_file_name):\n",
        "    \"\"\"\n",
        "    Open and read the file specified by the string input_file_name\n",
        "    Proces the <pre> blocks in the loaded text to update print syntax)\n",
        "    Write the update text to the file specified by the string output_file_name\n",
        "    \"\"\"\n",
        "    \n",
        "    # open file and read text in file as a string\n",
        "    file_path = \"/content/drive/MyDrive/etc/\" + input_file_name\n",
        "\n",
        "    with open(file_path) as doc_file:\n",
        "        doc_text = doc_file.read()\n",
        "\n",
        "    # split text in <pre> blocks and update using update_pre_block()\n",
        "    pre_blocks = doc_text.split(PREFIX)\n",
        "    updated_text = pre_blocks[0]\n",
        "\n",
        "    for block in pre_blocks[1:]:\n",
        "        updated_text += PREFIX\n",
        "        [preblock, filler] = block.split(POSTFIX, 1)\n",
        "        updated_text += update_pre_block(preblock)\n",
        "        updated_text += POSTFIX\n",
        "        updated_text += filler\n",
        "        \n",
        "    # Write the answer in the specified output file\n",
        "    with open(output_file_name,\"w\") as processed_file:\n",
        "        processed_file.write(updated_text)\n",
        "\n",
        "# A couple of test files\n",
        "update_file(\"table.html\", \"table_updated.html\")\n",
        "update_file(\"docs.html\", \"docs_updated.html\")\n",
        "\n",
        "# Import some code to check whether the computed files are correct\n",
        "##import examples3_file_diff as file_diff\n",
        "file_diff.compare_files(\"table_updated.html\", \"table_updated_solution.html\")\n",
        "file_diff.compare_files(\"docs_updated.html\", \"docs_updated_solution.html\")\n",
        "\n",
        "# Expected output\n",
        "##table_updated.html and table_updated_solution.html are the same\n",
        "##docs_updated.html and docs_updated_solution.html are the same\n"
      ],
      "execution_count": null,
      "outputs": [
        {
          "output_type": "stream",
          "text": [
            "\n",
            "foobar()\n",
            "print(1 + 1)\n",
            "    print(2, 3, 4)\n",
            "\n",
            "foobar()\n",
            "if foo():\n",
            "    bar()\n",
            "print()\n",
            "print(1+1)\n",
            "print(2, 3, 4)\n",
            "    print(a + b)\n",
            "    print(23 * 34)\n",
            "        print(1234)\n"
          ],
          "name": "stdout"
        }
      ]
    },
    {
      "cell_type": "code",
      "metadata": {
        "id": "pvs_fw1Jtgco"
      },
      "source": [
        "WINDOW_SIZE = 10\n",
        "\n",
        "\n",
        "def compare_files(file1_name, file2_name):\n",
        "    \"\"\"\n",
        "    Given two files (whose paths are specified as strings),\n",
        "    find the first location in the files that differ and\n",
        "    print a small portion of both files around this location\n",
        "    \"\"\"\n",
        "\n",
        "    # open and read both files\n",
        "    file1 = open(file1_name)\n",
        "    file2 = open(file2_name)\n",
        "    file1_text = file1.read()\n",
        "    file2_text = file2.read()\n",
        "\n",
        "    smaller_length = min(len(file1_text), len(file2_text))\n",
        "\n",
        "    for idx in range(smaller_length):\n",
        "        if file1_text[idx] != file2_text[idx]:\n",
        "            start_window = max(0, idx - WINDOW_SIZE)\n",
        "            end_window = min(smaller_length, idx + WINDOW_SIZE)\n",
        "            print(\"Found difference at position\", idx)\n",
        "            print(file1_name, \"has the characters\", file1_text[start_window : end_window])\n",
        "            print(file2_name, \"has the characters\", file2_text[start_window : end_window])\n",
        "            return\n",
        "        \n",
        "    if len(file1_text) < len(file2_text):\n",
        "        print(file1_name, \"is a prefix of\", file2_name)\n",
        "    elif len(file2_text) < len(file1_text):\n",
        "        print(file2_name, \"is a prefix of\", file1_name)\n",
        "    else:\n",
        "        print(file1_name, \"and\", file2_name, \"are the same\")"
      ],
      "execution_count": null,
      "outputs": []
    },
    {
      "cell_type": "code",
      "metadata": {
        "colab": {
          "base_uri": "https://localhost:8080/"
        },
        "id": "ssWE-uYsO2r0",
        "outputId": "0595cd32-f9fb-4390-dd0d-4299acf6a2bb"
      },
      "source": [
        "compare_files(\"/content/table_updated.html\", \"/content/drive/MyDrive/etc/table_updated_solution.html\")\n",
        "compare_files(\"/content/docs_updated.html\", \"/content/drive/MyDrive/etc/docs_updated_solution.html\")"
      ],
      "execution_count": null,
      "outputs": [
        {
          "output_type": "stream",
          "text": [
            "Found difference at position 24\n",
            "/content/table_updated.html has the characters om url=(0066)https:/\n",
            "/content/drive/MyDrive/etc/table_updated_solution.html has the characters om url=(0083)https:/\n",
            "Found difference at position 39\n",
            "/content/docs_updated.html has the characters om url=(0065)https:/\n",
            "/content/drive/MyDrive/etc/docs_updated_solution.html has the characters om url=(0082)https:/\n"
          ],
          "name": "stdout"
        }
      ]
    },
    {
      "cell_type": "markdown",
      "metadata": {
        "id": "a4pPWLl9Sivp"
      },
      "source": [
        "\n",
        "\n",
        "---\n",
        "\n",
        "## Assessment Project"
      ]
    },
    {
      "cell_type": "code",
      "metadata": {
        "id": "nxnL3N4VO_oP"
      },
      "source": [
        ""
      ],
      "execution_count": null,
      "outputs": []
    }
  ]
}