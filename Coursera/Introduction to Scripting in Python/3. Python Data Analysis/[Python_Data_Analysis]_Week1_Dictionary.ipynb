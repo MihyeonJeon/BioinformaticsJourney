{
  "nbformat": 4,
  "nbformat_minor": 0,
  "metadata": {
    "colab": {
      "name": "[Python Data Analysis] Week1_Dictionary.ipynb",
      "provenance": []
    },
    "kernelspec": {
      "name": "python3",
      "display_name": "Python 3"
    },
    "language_info": {
      "name": "python"
    }
  },
  "cells": [
    {
      "cell_type": "markdown",
      "metadata": {
        "id": "oXaRU7K_rE7E"
      },
      "source": [
        "### Python dictionaries\n",
        "\n",
        "* It consists of key and mapping value.\n",
        "* All keys must map to only one value inside one dictionary.\n",
        "* Values can be repeated inside the dictionary.\n",
        "\n"
      ]
    },
    {
      "cell_type": "markdown",
      "metadata": {
        "id": "IsyZg8ZeHgaJ"
      },
      "source": [
        "### [Defining a Dictionary]"
      ]
    },
    {
      "cell_type": "code",
      "metadata": {
        "colab": {
          "base_uri": "https://localhost:8080/"
        },
        "id": "k7psbWoJpUF8",
        "outputId": "4cb80c50-8ac2-4d85-f818-95f7e47f60bf"
      },
      "source": [
        "\"\"\"\n",
        "Dictionary creation.\n",
        "\"\"\"\n",
        "\n",
        "print(\"Dictionary Literals\")\n",
        "print(\"===================\")\n",
        "\n",
        "# Dictionary literals\n",
        "empty = {}\n",
        "print(empty)\n",
        "\n",
        "simple = {1:2}\n",
        "print(simple)\n",
        "\n",
        "squares = {1:1, 2:4, 3:9, 4:16}\n",
        "print(squares)\n",
        "\n",
        "cipher = {'p': 'o', 'y': 'h', 't': 'n',\n",
        "          'h': 't', 'o': 'y', 'n': 'p'} \n",
        "print(cipher)\n",
        "\n",
        "goodinstructors = {'Rixner': True, 'Warren': False}\n",
        "print(goodinstructors)\n",
        "\n",
        "cities = {'China': ['Shanghai', 'Beijing'],\n",
        "          'USA': ['New York', 'Los Angeles'],\n",
        "          'Spain': ['Madrid', 'Barcelona'],\n",
        "          'Australia': ['Sydney', 'Melbourne'],\n",
        "          'Texas': ['Houston', 'San Antonio']}\n",
        "print(cities)"
      ],
      "execution_count": 7,
      "outputs": [
        {
          "output_type": "stream",
          "text": [
            "Dictionary Literals\n",
            "===================\n",
            "{}\n",
            "{1: 2}\n",
            "{1: 1, 2: 4, 3: 9, 4: 16}\n",
            "{'p': 'o', 'y': 'h', 't': 'n', 'h': 't', 'o': 'y', 'n': 'p'}\n",
            "{'Rixner': True, 'Warren': False}\n",
            "{'China': ['Shanghai', 'Beijing'], 'USA': ['New York', 'Los Angeles'], 'Spain': ['Madrid', 'Barcelona'], 'Australia': ['Sydney', 'Melbourne'], 'Texas': ['Houston', 'San Antonio']}\n"
          ],
          "name": "stdout"
        }
      ]
    },
    {
      "cell_type": "code",
      "metadata": {
        "id": "akEq0VnTyo5L",
        "colab": {
          "base_uri": "https://localhost:8080/"
        },
        "outputId": "ebe4756f-62f6-4434-aad5-3ac54a8b2670"
      },
      "source": [
        "print(\"\")\n",
        "print(\"Creating Dictionaries\")\n",
        "print(\"=====================\")\n",
        "\n",
        "empty2 = dict()\n",
        "print(empty2)\n",
        "\n",
        "data = [(1,'one'),(2,'two'),(3,'three')]\n",
        "names = dict(data)\n",
        "print(names)\n",
        "\n",
        "cipher2 = dict(cipher)\n",
        "print(cipher2)"
      ],
      "execution_count": 10,
      "outputs": [
        {
          "output_type": "stream",
          "text": [
            "\n",
            "Creating Dictionaries\n",
            "=====================\n",
            "{}\n",
            "{1: 'one', 2: 'two', 3: 'three'}\n",
            "{'p': 'o', 'y': 'h', 't': 'n', 'h': 't', 'o': 'y', 'n': 'p'}\n"
          ],
          "name": "stdout"
        }
      ]
    },
    {
      "cell_type": "code",
      "metadata": {
        "colab": {
          "base_uri": "https://localhost:8080/"
        },
        "id": "M9WKEoRnN5Gw",
        "outputId": "6d92277c-d6df-4437-ede1-069f16bfb21e"
      },
      "source": [
        "data2 = [[1,'one'],[2,'two'],[3,'three']]\n",
        "names2 = dict(data2)\n",
        "print(names2)"
      ],
      "execution_count": 40,
      "outputs": [
        {
          "output_type": "stream",
          "text": [
            "{1: 'one', 2: 'two', 3: 'three'}\n"
          ],
          "name": "stdout"
        }
      ]
    },
    {
      "cell_type": "markdown",
      "metadata": {
        "id": "MhTjvjSIHlib"
      },
      "source": [
        "### [Dictionary Lookup and Update]"
      ]
    },
    {
      "cell_type": "code",
      "metadata": {
        "colab": {
          "base_uri": "https://localhost:8080/"
        },
        "id": "xSP2FWZT_sld",
        "outputId": "d559b176-e8a6-4916-9078-a51aa7e80206"
      },
      "source": [
        "\"\"\"\n",
        "Dictionary lookup and update.\n",
        "\"\"\"\n",
        "\n",
        "\n",
        "print(\"Dictionary Lookup\")\n",
        "print(\"=================\")\n",
        "print(cipher)"
      ],
      "execution_count": 11,
      "outputs": [
        {
          "output_type": "stream",
          "text": [
            "Dictionary Lookup\n",
            "=================\n",
            "{'p': 'o', 'y': 'h', 't': 'n', 'h': 't', 'o': 'y', 'n': 'p'}\n"
          ],
          "name": "stdout"
        }
      ]
    },
    {
      "cell_type": "code",
      "metadata": {
        "colab": {
          "base_uri": "https://localhost:8080/"
        },
        "id": "L6dR0ykGAhJs",
        "outputId": "e28f37d6-6690-4c2c-d02d-b04bce6b8a29"
      },
      "source": [
        "# Use indexing with keys to access values\n",
        "print(cipher['t'])\n",
        "print(cipher['n'])\n",
        "\n",
        "def encrypt(cipher, word):\n",
        "    \"\"\"encrypt word using cipher\"\"\"\n",
        "    encrypted = \"\"\n",
        "    for char in word:\n",
        "        encrypted += cipher[char]\n",
        "    return encrypted\n",
        "\n",
        "python = \"python\"\n",
        "enc = encrypt(cipher, python)\n",
        "print(python, enc)"
      ],
      "execution_count": 13,
      "outputs": [
        {
          "output_type": "stream",
          "text": [
            "n\n",
            "p\n",
            "python ohntyp\n"
          ],
          "name": "stdout"
        }
      ]
    },
    {
      "cell_type": "code",
      "metadata": {
        "colab": {
          "base_uri": "https://localhost:8080/",
          "height": 136
        },
        "id": "JZvXJedUA3ZQ",
        "outputId": "4c45616e-74f9-4483-da39-f778f0242d1f"
      },
      "source": [
        "# It is an error to use a non-existent key\n",
        " print(cipher[1])"
      ],
      "execution_count": 14,
      "outputs": [
        {
          "output_type": "error",
          "ename": "IndentationError",
          "evalue": "ignored",
          "traceback": [
            "\u001b[0;36m  File \u001b[0;32m\"<ipython-input-14-83558069a6b2>\"\u001b[0;36m, line \u001b[0;32m2\u001b[0m\n\u001b[0;31m    print(cipher[1])\u001b[0m\n\u001b[0m    ^\u001b[0m\n\u001b[0;31mIndentationError\u001b[0m\u001b[0;31m:\u001b[0m unexpected indent\n"
          ]
        }
      ]
    },
    {
      "cell_type": "code",
      "metadata": {
        "colab": {
          "base_uri": "https://localhost:8080/"
        },
        "id": "c4hSCjMABaBn",
        "outputId": "aeb2e5d4-a590-4f72-9bd3-7f8ae36e5fc5"
      },
      "source": [
        "# Use .get when you are unsure if the key exists\n",
        "print(cipher.get('t'))\n",
        "print(cipher.get(1))\n",
        "print(cipher.get(2,'z'))"
      ],
      "execution_count": 18,
      "outputs": [
        {
          "output_type": "stream",
          "text": [
            "n\n",
            "None\n",
            "z\n"
          ],
          "name": "stdout"
        }
      ]
    },
    {
      "cell_type": "code",
      "metadata": {
        "colab": {
          "base_uri": "https://localhost:8080/"
        },
        "id": "pfcJtTeZGnuL",
        "outputId": "bc7aa0ab-212e-40cf-c077-1169a5c33569"
      },
      "source": [
        "print(\"\")\n",
        "print(\"Dictionary Update\")\n",
        "print(\"=================\")\n",
        "\n",
        "print(cipher)"
      ],
      "execution_count": 19,
      "outputs": [
        {
          "output_type": "stream",
          "text": [
            "\n",
            "Dictionary Update\n",
            "=================\n",
            "{'p': 'o', 'y': 'h', 't': 'n', 'h': 't', 'o': 'y', 'n': 'p'}\n"
          ],
          "name": "stdout"
        }
      ]
    },
    {
      "cell_type": "code",
      "metadata": {
        "colab": {
          "base_uri": "https://localhost:8080/"
        },
        "id": "uluMEduOHIvu",
        "outputId": "77417bf6-9d34-4f19-8b05-ec467f9e6380"
      },
      "source": [
        "# Modify an existing key->value mapping\n",
        "cipher['p'] = 'q'\n",
        "print(cipher)"
      ],
      "execution_count": 20,
      "outputs": [
        {
          "output_type": "stream",
          "text": [
            "{'p': 'q', 'y': 'h', 't': 'n', 'h': 't', 'o': 'y', 'n': 'p'}\n"
          ],
          "name": "stdout"
        }
      ]
    },
    {
      "cell_type": "code",
      "metadata": {
        "colab": {
          "base_uri": "https://localhost:8080/"
        },
        "id": "QrM7zVQWHMf1",
        "outputId": "4b83f4b7-1b13-4fc2-9ac9-76275aea2e62"
      },
      "source": [
        "# Create a new key->value mapping\n",
        "cipher['r'] = 'z'\n",
        "print(cipher)"
      ],
      "execution_count": 21,
      "outputs": [
        {
          "output_type": "stream",
          "text": [
            "{'p': 'q', 'y': 'h', 't': 'n', 'h': 't', 'o': 'y', 'n': 'p', 'r': 'z'}\n"
          ],
          "name": "stdout"
        }
      ]
    },
    {
      "cell_type": "code",
      "metadata": {
        "colab": {
          "base_uri": "https://localhost:8080/"
        },
        "id": "Kvc4JwU4HTAD",
        "outputId": "d218f691-798d-4324-c75a-bbf9b7affebe"
      },
      "source": [
        "enc2 = encrypt(cipher, python)\n",
        "print(python, enc, enc2)"
      ],
      "execution_count": 22,
      "outputs": [
        {
          "output_type": "stream",
          "text": [
            "python ohntyp qhntyp\n"
          ],
          "name": "stdout"
        }
      ]
    },
    {
      "cell_type": "markdown",
      "metadata": {
        "id": "Nj-I4En1HrMK"
      },
      "source": [
        "### [Cheking Keys]"
      ]
    },
    {
      "cell_type": "code",
      "metadata": {
        "colab": {
          "base_uri": "https://localhost:8080/"
        },
        "id": "N_SQkSWYHY_0",
        "outputId": "bfcf9443-b557-4806-8eb8-00beacd7a333"
      },
      "source": [
        "\"\"\"\n",
        "Checking for keys in a dictionary.\n",
        "\"\"\"\n",
        "\n",
        "print(\"Using 'in'\")\n",
        "print(\"==========\")\n",
        "\n",
        "mapping = {1: 5, 8: -3, 7: 22, 4: 13, 22: 17}\n",
        "\n",
        "# Keys\n",
        "print(1 in mapping)\n",
        "print(8 in mapping)\n",
        "\n",
        "# Values\n",
        "print(5 in mapping)\n",
        "print(-3 in mapping)\n",
        "\n",
        "# Both\n",
        "print(22 in mapping)\n",
        "\n",
        "# Neither\n",
        "print(82 in mapping)"
      ],
      "execution_count": 24,
      "outputs": [
        {
          "output_type": "stream",
          "text": [
            "Using 'in'\n",
            "==========\n",
            "True\n",
            "True\n",
            "False\n",
            "False\n",
            "True\n",
            "False\n"
          ],
          "name": "stdout"
        }
      ]
    },
    {
      "cell_type": "code",
      "metadata": {
        "colab": {
          "base_uri": "https://localhost:8080/"
        },
        "id": "JHyO4avhH7bY",
        "outputId": "d36aba73-6d60-4529-9b57-20f3ab0c3dcd"
      },
      "source": [
        "print(\"Protecting from Errors\")\n",
        "print(\"======================\")\n",
        "\n",
        "keys = [8, 14, 22, 25]\n",
        "\n",
        "# for key in keys:\n",
        "#    print(key, mapping[key])\n",
        "\n",
        "for key in keys:\n",
        "    if key in mapping:\n",
        "        print(key, mapping[key])\n",
        "    else:\n",
        "        print(\"{} not in mapping\".format(key))"
      ],
      "execution_count": 26,
      "outputs": [
        {
          "output_type": "stream",
          "text": [
            "Protecting from Errors\n",
            "======================\n",
            "8 -3\n",
            "14 not in mapping\n",
            "22 17\n",
            "25 not in mapping\n"
          ],
          "name": "stdout"
        }
      ]
    },
    {
      "cell_type": "code",
      "metadata": {
        "colab": {
          "base_uri": "https://localhost:8080/"
        },
        "id": "sylabSGFIj8m",
        "outputId": "3bcba58a-9f1a-41c7-9af0-5a223bef080e"
      },
      "source": [
        "print(\"Issues with Keys\")\n",
        "print(\"================\")\n",
        "        \n",
        "# Be careful with what you use as keys!\n",
        "# If all keys are of the same type, you won't run\n",
        "#  into these issues\n",
        "mapping = {4.0: 2, 'a': 3, True: 'true', False: 9}\n",
        "print(mapping)\n",
        "\n",
        "mapping[1] = 7\n",
        "print(mapping)\n",
        "\n",
        "mapping[0] = 'false'\n",
        "print(mapping)\n",
        "\n",
        "mapping[4] = 7\n",
        "print(mapping)\n",
        "\n",
        "mapping['A'] = 'abc'\n",
        "print(mapping)"
      ],
      "execution_count": 31,
      "outputs": [
        {
          "output_type": "stream",
          "text": [
            "Issues with Keys\n",
            "================\n",
            "{4.0: 2, 'a': 3, True: 'true', False: 9}\n",
            "{4.0: 2, 'a': 3, True: 7, False: 9}\n",
            "{4.0: 2, 'a': 3, True: 7, False: 'false'}\n",
            "{4.0: 7, 'a': 3, True: 7, False: 'false'}\n",
            "{4.0: 7, 'a': 3, True: 7, False: 'false', 'A': 'abc'}\n"
          ],
          "name": "stdout"
        }
      ]
    },
    {
      "cell_type": "markdown",
      "metadata": {
        "id": "eL4Cm6CIJD8V"
      },
      "source": [
        "* Python recognizes 1 is same as True and 0 as False!\n",
        "* 4.0 == 4"
      ]
    },
    {
      "cell_type": "markdown",
      "metadata": {
        "id": "lpB9nUFxLYv7"
      },
      "source": [
        "### [Dictionaries - example]"
      ]
    },
    {
      "cell_type": "code",
      "metadata": {
        "id": "pSkRjMC3I5ca"
      },
      "source": [
        "contacts = {'Scott Rixner': '1-101-555-1234',\n",
        "            'Joe Warren': '1-102-555-5678',\n",
        "            'Jane Doe': '1-103-555-9012'}"
      ],
      "execution_count": 32,
      "outputs": []
    },
    {
      "cell_type": "markdown",
      "metadata": {
        "id": "K0O_qDPvNSju"
      },
      "source": [
        "#### 1. Value Lookup"
      ]
    },
    {
      "cell_type": "code",
      "metadata": {
        "id": "BxzUNFKxLcJx"
      },
      "source": [
        "def lookup(contacts, name): \n",
        "    \"\"\"\n",
        "    Lookup name in contacts and return phone number.\n",
        "    If name is not in conctacts, return an empty string.\n",
        "    \"\"\"\n",
        "    if name in contacts:\n",
        "        return contacts[name]\n",
        "    else: \n",
        "        return \"\"\n"
      ],
      "execution_count": 33,
      "outputs": []
    },
    {
      "cell_type": "code",
      "metadata": {
        "id": "M0W1HnVOLvxv"
      },
      "source": [
        "def lookup2(contacts, name):\n",
        "    \"\"\"\n",
        "    Lookup name in contacts and return phone number.\n",
        "    If name is not in contacts, return an empty string.\n",
        "    \"\"\"\n",
        "    return contacts.get(name, \"\")"
      ],
      "execution_count": 34,
      "outputs": []
    },
    {
      "cell_type": "code",
      "metadata": {
        "colab": {
          "base_uri": "https://localhost:8080/"
        },
        "id": "RQimT1MdOQFl",
        "outputId": "36dd0d93-a87d-42c0-f1f2-03224a74d696"
      },
      "source": [
        "print(lookup2(contacts,'Jane Doe'))"
      ],
      "execution_count": 41,
      "outputs": [
        {
          "output_type": "stream",
          "text": [
            "1-103-555-9012\n"
          ],
          "name": "stdout"
        }
      ]
    },
    {
      "cell_type": "markdown",
      "metadata": {
        "id": "-7tiLWuRL_JU"
      },
      "source": [
        "* function lookup2 is easier to read and shorter."
      ]
    },
    {
      "cell_type": "markdown",
      "metadata": {
        "id": "9hMuZxfSNPcx"
      },
      "source": [
        "#### 2. Iteration"
      ]
    },
    {
      "cell_type": "code",
      "metadata": {
        "id": "ArZXS8yUL7c7"
      },
      "source": [
        "def print_contacts(contacts):\n",
        "    \"\"\"\n",
        "    Print the names of the contacts in our contacts list.\n",
        "    \"\"\"\n",
        "    for name in contacts:\n",
        "        print(name)"
      ],
      "execution_count": 37,
      "outputs": []
    },
    {
      "cell_type": "markdown",
      "metadata": {
        "id": "fYMrj0K6MkzV"
      },
      "source": [
        "* If we want to print out both the keys and values, we can use the items method to iterate over key-value pairs."
      ]
    },
    {
      "cell_type": "code",
      "metadata": {
        "id": "O6LDUQ4xM03m"
      },
      "source": [
        "def print_contact_list(contacts):\n",
        "    \"\"\"\n",
        "    Print the names and phone numbers of the contacts in\n",
        "    our contacts list.\n",
        "    \"\"\"\n",
        "    for name, number in contacts.items():\n",
        "        print(name, \":\", number)"
      ],
      "execution_count": 35,
      "outputs": []
    },
    {
      "cell_type": "code",
      "metadata": {
        "colab": {
          "base_uri": "https://localhost:8080/"
        },
        "id": "XVj0TCTaM4q2",
        "outputId": "f3de3adb-1af2-41b5-9365-8583a5c1ffc8"
      },
      "source": [
        "print(print_contacts(contacts))"
      ],
      "execution_count": 38,
      "outputs": [
        {
          "output_type": "stream",
          "text": [
            "Scott Rixner\n",
            "Joe Warren\n",
            "Jane Doe\n",
            "None\n"
          ],
          "name": "stdout"
        }
      ]
    },
    {
      "cell_type": "code",
      "metadata": {
        "colab": {
          "base_uri": "https://localhost:8080/"
        },
        "id": "xSOElizHM-BT",
        "outputId": "9fef0c30-1642-4343-e754-b807912db93a"
      },
      "source": [
        "print(print_contact_list(contacts))"
      ],
      "execution_count": 39,
      "outputs": [
        {
          "output_type": "stream",
          "text": [
            "Scott Rixner : 1-101-555-1234\n",
            "Joe Warren : 1-102-555-5678\n",
            "Jane Doe : 1-103-555-9012\n",
            "None\n"
          ],
          "name": "stdout"
        }
      ]
    },
    {
      "cell_type": "markdown",
      "metadata": {
        "id": "6VLhLSSVNZUE"
      },
      "source": [
        "#### 3. Order\n",
        "* Python dictionaries are not ordered.\n",
        "* So when you print out your contact list, it will not necessarily be in alphabetical order.\n",
        "* sorted function returns a sorted list."
      ]
    },
    {
      "cell_type": "code",
      "metadata": {
        "id": "rcd2OZEONDuN"
      },
      "source": [
        "def print_ordered(contacts):\n",
        "    \"\"\"\n",
        "    Print the names and phone numbers of the contacts\n",
        "    in our contacts list in alphabetical order.\n",
        "    \"\"\"\n",
        "    keys = contacts.keys()\n",
        "    names = sorted(keys)\n",
        "    for name in names:\n",
        "        print(name, \":\", contacts[name])"
      ],
      "execution_count": null,
      "outputs": []
    },
    {
      "cell_type": "markdown",
      "metadata": {
        "id": "LL2t6mvPOjCe"
      },
      "source": [
        "#### 4. Update\n",
        "* Python dictionaries also allow you to add new key-value pairs and update the values associated with exisiting keys."
      ]
    },
    {
      "cell_type": "code",
      "metadata": {
        "id": "qfeCjTT5OrsT"
      },
      "source": [
        "def add_contact(contacts, name, number):\n",
        "    \"\"\"\n",
        "    Add a new contact (name, number) to the contacts list.\n",
        "    \"\"\"\n",
        "    if name in contacts:\n",
        "        print(name, \"is already in contacts list!\")\n",
        "    else:\n",
        "        contacts[name] = number"
      ],
      "execution_count": null,
      "outputs": []
    },
    {
      "cell_type": "code",
      "metadata": {
        "id": "dOLOg_KROvLE"
      },
      "source": [
        "def update_contact(contacts, name, newnumber):\n",
        "    \"\"\"\n",
        "    Update an existing contact's number in the contacts list.\n",
        "    \"\"\"\n",
        "    if name in contacts:\n",
        "        contacts[name] = newnumber\n",
        "    else:\n",
        "        print(name, \"is not in contacts list!\")"
      ],
      "execution_count": null,
      "outputs": []
    },
    {
      "cell_type": "markdown",
      "metadata": {
        "id": "P32yRP0NPSrk"
      },
      "source": [
        "* In order to add a new key-value pair to the dictionary, you index the dictionary with the key on the left of the equlas sign and value will be the result of evaluating the espression on the right of the equals sign."
      ]
    },
    {
      "cell_type": "code",
      "metadata": {
        "id": "qMaMhVrnPnhi"
      },
      "source": [
        "def add_or_update_contact(contacts, name, number):\n",
        "    \"\"\"\n",
        "    Add contact or update it if it is already in the contacts list.\n",
        "    \"\"\"\n",
        "    contacts[name] = number"
      ],
      "execution_count": null,
      "outputs": []
    },
    {
      "cell_type": "markdown",
      "metadata": {
        "id": "198_9RClPsCW"
      },
      "source": [
        "* The syntax for update and add is the same, we could these two functions if we are willing to update the contact if it is already in the dictionary or add it if it is not."
      ]
    },
    {
      "cell_type": "markdown",
      "metadata": {
        "id": "PtSo5AblP8pa"
      },
      "source": [
        "### [Handling Dictionary Errors]\n",
        "\n",
        "* Python dictionary uses a technique called hashing, which is extremely fast.\n",
        "* The importtant thing is that the keys in a dictionary have to IMMUTABLE.\n",
        "* If it is mutable, Python doesn't know hot to hash it."
      ]
    },
    {
      "cell_type": "code",
      "metadata": {
        "colab": {
          "base_uri": "https://localhost:8080/",
          "height": 244
        },
        "id": "C3GphQ63P5w1",
        "outputId": "7fbf8c72-ea95-44af-8284-c6930e8a7d97"
      },
      "source": [
        "\"\"\"\n",
        "Example code for working with dictionary keys\n",
        "\"\"\"\n",
        "\n",
        "# Three example of dictionaries - note that dictionary keys in Python must be immutable\n",
        "simple_dict = {\"Joe\" : 1, \"Scott\" : 2, \"John\" : 3}\n",
        "print(simple_dict)\n",
        "\n",
        "bad_dict = {[\"Joe\", \"Warren\"] : 1, [\"Scott\", \"Rixner\"] : 2, [\"John\", \"Greiner\"] : 3}\n",
        "print(bad_dict)"
      ],
      "execution_count": 42,
      "outputs": [
        {
          "output_type": "stream",
          "text": [
            "{'Joe': 1, 'Scott': 2, 'John': 3}\n"
          ],
          "name": "stdout"
        },
        {
          "output_type": "error",
          "ename": "TypeError",
          "evalue": "ignored",
          "traceback": [
            "\u001b[0;31m---------------------------------------------------------------------------\u001b[0m",
            "\u001b[0;31mTypeError\u001b[0m                                 Traceback (most recent call last)",
            "\u001b[0;32m<ipython-input-42-c74e5a31b6ba>\u001b[0m in \u001b[0;36m<module>\u001b[0;34m()\u001b[0m\n\u001b[1;32m      7\u001b[0m \u001b[0mprint\u001b[0m\u001b[0;34m(\u001b[0m\u001b[0msimple_dict\u001b[0m\u001b[0;34m)\u001b[0m\u001b[0;34m\u001b[0m\u001b[0;34m\u001b[0m\u001b[0m\n\u001b[1;32m      8\u001b[0m \u001b[0;34m\u001b[0m\u001b[0m\n\u001b[0;32m----> 9\u001b[0;31m \u001b[0mbad_dict\u001b[0m \u001b[0;34m=\u001b[0m \u001b[0;34m{\u001b[0m\u001b[0;34m[\u001b[0m\u001b[0;34m\"Joe\"\u001b[0m\u001b[0;34m,\u001b[0m \u001b[0;34m\"Warren\"\u001b[0m\u001b[0;34m]\u001b[0m \u001b[0;34m:\u001b[0m \u001b[0;36m1\u001b[0m\u001b[0;34m,\u001b[0m \u001b[0;34m[\u001b[0m\u001b[0;34m\"Scott\"\u001b[0m\u001b[0;34m,\u001b[0m \u001b[0;34m\"Rixner\"\u001b[0m\u001b[0;34m]\u001b[0m \u001b[0;34m:\u001b[0m \u001b[0;36m2\u001b[0m\u001b[0;34m,\u001b[0m \u001b[0;34m[\u001b[0m\u001b[0;34m\"John\"\u001b[0m\u001b[0;34m,\u001b[0m \u001b[0;34m\"Greiner\"\u001b[0m\u001b[0;34m]\u001b[0m \u001b[0;34m:\u001b[0m \u001b[0;36m3\u001b[0m\u001b[0;34m}\u001b[0m\u001b[0;34m\u001b[0m\u001b[0;34m\u001b[0m\u001b[0m\n\u001b[0m\u001b[1;32m     10\u001b[0m \u001b[0mprint\u001b[0m\u001b[0;34m(\u001b[0m\u001b[0mbad_dict\u001b[0m\u001b[0;34m)\u001b[0m\u001b[0;34m\u001b[0m\u001b[0;34m\u001b[0m\u001b[0m\n",
            "\u001b[0;31mTypeError\u001b[0m: unhashable type: 'list'"
          ]
        }
      ]
    },
    {
      "cell_type": "code",
      "metadata": {
        "colab": {
          "base_uri": "https://localhost:8080/"
        },
        "id": "VBhr39eWQsqr",
        "outputId": "37f5d4ea-98d2-4d3c-d192-6662c5adc015"
      },
      "source": [
        "good_dict = {(\"Joe\", \"Warren\") : 1, (\"Scott\", \"Rixner\") : 2, (\"John\", \"Greiner\") : 3}\n",
        "print(good_dict)"
      ],
      "execution_count": 43,
      "outputs": [
        {
          "output_type": "stream",
          "text": [
            "{('Joe', 'Warren'): 1, ('Scott', 'Rixner'): 2, ('John', 'Greiner'): 3}\n"
          ],
          "name": "stdout"
        }
      ]
    },
    {
      "cell_type": "code",
      "metadata": {
        "colab": {
          "base_uri": "https://localhost:8080/"
        },
        "id": "0YfDC9XaRJ9V",
        "outputId": "10408658-57dd-4b1a-d77f-df42d4772dfb"
      },
      "source": [
        "# Examples of dictionary lookup\n",
        "print(simple_dict[\"Joe\"])\n",
        "print(simple_dict[\"Scott\"])\n",
        "#print(simple_dict[\"Stephen\"])\n",
        "print(good_dict[(\"Joe\", \"Warren\")])\n",
        "print(good_dict[(\"John\", \"Greiner\")])"
      ],
      "execution_count": 46,
      "outputs": [
        {
          "output_type": "stream",
          "text": [
            "1\n",
            "2\n",
            "1\n",
            "3\n"
          ],
          "name": "stdout"
        }
      ]
    },
    {
      "cell_type": "code",
      "metadata": {
        "colab": {
          "base_uri": "https://localhost:8080/"
        },
        "id": "_2KaBIUKTNxB",
        "outputId": "ba2befb7-dce1-42f5-abdf-0064a956d1e5"
      },
      "source": [
        "# Custom code for looking up keys that may not always be present\n",
        "\n",
        "def lookup(my_dict, my_key, default_value=None):\n",
        "    \"\"\"\n",
        "    Given dictionary my_dict and key my_key, \n",
        "    return my_dict[my_key] if my_key is in my_dict\n",
        "    otherwise return default_value\n",
        "    \"\"\"\n",
        "    if my_key in my_dict:\n",
        "        return my_dict[my_key]\n",
        "    else:\n",
        "        return default_value\n",
        "\n",
        "simple_dict = {\"Joe\" : 1, \"Scott\" : 2, \"John\" : 3}\n",
        "\n",
        "print(lookup(simple_dict, \"Joe\", -1))\n",
        "print(lookup(simple_dict, \"Stephen\", -1))\n",
        "print(lookup(simple_dict, \"Stephen\"))"
      ],
      "execution_count": 47,
      "outputs": [
        {
          "output_type": "stream",
          "text": [
            "1\n",
            "-1\n",
            "None\n"
          ],
          "name": "stdout"
        }
      ]
    },
    {
      "cell_type": "code",
      "metadata": {
        "colab": {
          "base_uri": "https://localhost:8080/"
        },
        "id": "0eBI-8ePT9EN",
        "outputId": "0540fef3-19ab-4bc0-d4a9-832617710e06"
      },
      "source": [
        "# Built-in Python dictionary method get() in place of lookup()\n",
        "simple_dict = {\"Joe\" : 1, \"Scott\" : 2, \"John\" : 3}\n",
        "\n",
        "print(simple_dict.get(\"Joe\", -1))\n",
        "print(simple_dict.get(\"Stephen\", -1))\n",
        "print(simple_dict.get(\"Stephen\"))\t\t# default value if parameter is omitted is None"
      ],
      "execution_count": 48,
      "outputs": [
        {
          "output_type": "stream",
          "text": [
            "1\n",
            "-1\n",
            "None\n"
          ],
          "name": "stdout"
        }
      ]
    },
    {
      "cell_type": "markdown",
      "metadata": {
        "id": "jrizngEfVTtV"
      },
      "source": [
        "* Using default values for parameters can be saddle. In particular be very careful about using mutable default parameters.\n",
        "* Some of the pitfalls of using mutable default argument, look at [here](https://pythonconquerstheuniverse.wordpress.com/2012/02/15/mutable-default-arguments/)"
      ]
    },
    {
      "cell_type": "markdown",
      "metadata": {
        "id": "NEP0EknOV_au"
      },
      "source": [
        "## [Practice Exercises for Dictionaries]"
      ]
    },
    {
      "cell_type": "markdown",
      "metadata": {
        "id": "LTT28S9QWIRJ"
      },
      "source": [
        "1. Write an expression that initializes the dictionary my_dict to be the empty dictionary."
      ]
    },
    {
      "cell_type": "code",
      "metadata": {
        "colab": {
          "base_uri": "https://localhost:8080/"
        },
        "id": "MOf73kq7UsAv",
        "outputId": "254b371f-5ce7-4d4e-c3ce-8cc2650e5f89"
      },
      "source": [
        "my_dict = {}\n",
        "\n",
        "print(type(my_dict))\n",
        "print(my_dict)"
      ],
      "execution_count": 49,
      "outputs": [
        {
          "output_type": "stream",
          "text": [
            "<class 'dict'>\n",
            "{}\n"
          ],
          "name": "stdout"
        }
      ]
    },
    {
      "cell_type": "markdown",
      "metadata": {
        "id": "plH6KTdoWS7v"
      },
      "source": [
        "2. Write an expression that initializes the dictionary my_dict to contain two key/value pairs:  \"Joe\" : 1 and \"Scott\" : 2."
      ]
    },
    {
      "cell_type": "code",
      "metadata": {
        "colab": {
          "base_uri": "https://localhost:8080/"
        },
        "id": "qoSZ8ZWiWRW6",
        "outputId": "e980e8be-d575-40bf-c0c2-83e1088a57b1"
      },
      "source": [
        "my_dict['Joe'] = 1\n",
        "my_dict['Scott'] = 2\n",
        "\n",
        "print(type(my_dict))\n",
        "print(my_dict[\"Joe\"])\n",
        "print(my_dict[\"Scott\"])\n",
        "print(my_dict)"
      ],
      "execution_count": 50,
      "outputs": [
        {
          "output_type": "stream",
          "text": [
            "<class 'dict'>\n",
            "1\n",
            "2\n",
            "{'Joe': 1, 'Scott': 2}\n"
          ],
          "name": "stdout"
        }
      ]
    },
    {
      "cell_type": "markdown",
      "metadata": {
        "id": "-qNmaP5dW3PO"
      },
      "source": [
        "3. Given the dictionary my_dict from the previous question, write a Python statement that adds the key/value pair \"John\" : 3 to this dictionary."
      ]
    },
    {
      "cell_type": "code",
      "metadata": {
        "colab": {
          "base_uri": "https://localhost:8080/"
        },
        "id": "m5vk5V39W23L",
        "outputId": "5b297822-b05f-4f83-f1b5-fcb703431396"
      },
      "source": [
        "# Initialize dictionary\n",
        "my_dict = {\"Joe\" : 1, \"Scott\" : 2}\n",
        "\n",
        "# Add key/value pair \"John\" : 3\n",
        "my_dict['John'] = 3\n",
        "\n",
        "# Tests\n",
        "print(type(my_dict))\n",
        "print(my_dict[\"Joe\"])\n",
        "print(my_dict[\"Scott\"])\n",
        "print(my_dict[\"John\"])\n",
        "print(my_dict)\n"
      ],
      "execution_count": 51,
      "outputs": [
        {
          "output_type": "stream",
          "text": [
            "<class 'dict'>\n",
            "1\n",
            "2\n",
            "3\n",
            "{'Joe': 1, 'Scott': 2, 'John': 3}\n"
          ],
          "name": "stdout"
        }
      ]
    },
    {
      "cell_type": "markdown",
      "metadata": {
        "id": "EVm0nCWlXOT9"
      },
      "source": [
        "6. Write a function value_sum(my_dict) that returns the sum of the values in the dictionary my_dict.  (You may assume that the values in the dictionary are numbers)."
      ]
    },
    {
      "cell_type": "code",
      "metadata": {
        "id": "NQOkYAYCWv-A"
      },
      "source": [
        "def value_sum(my_dict): \n",
        "    sum = 0\n",
        "\n",
        "    for key in my_dict:\n",
        "        sum += my_dict[key]\n",
        "    \n",
        "    return sum"
      ],
      "execution_count": 52,
      "outputs": []
    },
    {
      "cell_type": "code",
      "metadata": {
        "colab": {
          "base_uri": "https://localhost:8080/"
        },
        "id": "VyxuOGj_XgI6",
        "outputId": "943f72d8-2ab3-43ae-bffb-8160a169b4ca"
      },
      "source": [
        "print(value_sum({}))\n",
        "print(value_sum({0 : 1}))\n",
        "print(value_sum({\"Joe\" : 1, \"Scott\" : 2, \"John\" : 4}))"
      ],
      "execution_count": 53,
      "outputs": [
        {
          "output_type": "stream",
          "text": [
            "0\n",
            "1\n",
            "7\n"
          ],
          "name": "stdout"
        }
      ]
    },
    {
      "cell_type": "markdown",
      "metadata": {
        "id": "3jwyLbfEYB91"
      },
      "source": [
        "8. A simple substitution cipher is an encryption scheme where each letter in an alphabet to replaced by a different letter in the same alphabet with the restriction that each letter's replacement is unique. The template for this question contains an example of a substitution cipher represented a dictionary CIPHER_DICTIONARY.  Your task is to write a function encrypt(phrase, cipher_dict)  that takes a string phrase and a dictionary cipher_dict and returns the results of replacing each character in phrase  by its corresponding value in cipher_dict."
      ]
    },
    {
      "cell_type": "code",
      "metadata": {
        "colab": {
          "base_uri": "https://localhost:8080/"
        },
        "id": "M7O4O8gWYS6u",
        "outputId": "a67d4ce1-cc9c-42fe-c8b6-6a19ea6c0470"
      },
      "source": [
        "\"\"\"\n",
        "Template for part 1\n",
        "Using substitution ciphers to encrypt and decrypt plain text\n",
        "\"\"\"\n",
        "\n",
        "\n",
        "# Part 1 - Use a dictionary that represents a substition cipher to \n",
        "# encrypt a phrase\n",
        "\n",
        "# Example of a cipher dictionary 26 lower case letters plus the blank\n",
        "CIPHER_DICT = {'e': 'u', 'b': 's', 'k': 'x', 'u': 'q', 'y': 'c', 'm': 'w', 'o': 'y', 'g': 'f', 'a': 'm', 'x': 'j', 'l': 'n', 's': 'o', 'r': 'g', 'i': 'i', 'j': 'z', 'c': 'k', 'f': 'p', ' ': 'b', 'q': 'r', 'z': 'e', 'p': 'v', 'v': 'l', 'h': 'h', 'd': 'd', 'n': 'a', 't': ' ', 'w': 't'}\n",
        "\n",
        "def encrypt(phrase, cipher_dict):\n",
        "    \"\"\"\n",
        "    Take a string phrase (lower case plus blank) \n",
        "    and encypt it using the dictionary cipher_dict\n",
        "    \"\"\"\n",
        "    encrypted_phrase = \"\"\n",
        "\n",
        "    for char in phrase:\n",
        "        encrypted_phrase += cipher_dict[char]\n",
        "    return encrypted_phrase\n",
        "\n",
        "# Tests\n",
        "print(\"Output for part 1\")\n",
        "print(encrypt(\"pig\", CIPHER_DICT))\n",
        "print(encrypt(\"hello world\", CIPHER_DICT))\n",
        "print()\n",
        "\n",
        "# Output for part 1\n",
        "#vif\n",
        "#hunnybtygnd"
      ],
      "execution_count": 54,
      "outputs": [
        {
          "output_type": "stream",
          "text": [
            "Output for part 1\n",
            "vif\n",
            "hunnybtygnd\n",
            "\n"
          ],
          "name": "stdout"
        }
      ]
    },
    {
      "cell_type": "markdown",
      "metadata": {
        "id": "KdUH82LaXq4i"
      },
      "source": [
        "9. Write a function make_decipher_dict(cipher_dict) that takes a cipher dictionary cipher_dict and returns a new dictionary decipher_dict with the property that applying decipher_dict to a phrase encrypted using cipher_dict returns the original phrase. "
      ]
    },
    {
      "cell_type": "code",
      "metadata": {
        "colab": {
          "base_uri": "https://localhost:8080/"
        },
        "id": "MuNNYN2UXjqv",
        "outputId": "69e15cef-7deb-489d-f4fd-cad68c90693b"
      },
      "source": [
        "\"\"\"\n",
        "Solution for part 1, template for part 2\n",
        "Using substitution ciphers to encrypt and decrypt plain text\n",
        "\"\"\"\n",
        "\n",
        "\n",
        "# Part 1 - Use a dictionary that represents a substition cipher to \n",
        "# encrypt a phrase\n",
        "\n",
        "# Example of a cipher dictionary 26 lower case letters plus the blank\n",
        "CIPHER_DICT = {'e': 'u', 'b': 's', 'k': 'x', 'u': 'q', 'y': 'c', 'm': 'w', 'o': 'y', 'g': 'f', 'a': 'm', 'x': 'j', 'l': 'n', 's': 'o', 'r': 'g', 'i': 'i', 'j': 'z', 'c': 'k', 'f': 'p', ' ': 'b', 'q': 'r', 'z': 'e', 'p': 'v', 'v': 'l', 'h': 'h', 'd': 'd', 'n': 'a', 't': ' ', 'w': 't'}\n",
        "\n",
        "def encrypt(phrase, cipher_dict):\n",
        "    \"\"\"\n",
        "    Take a string phrase (lower case plus blank) \n",
        "    and encypt it using the dictionary cipher_dict\n",
        "    \"\"\"\n",
        "    answer = \"\"\n",
        "    for letter in phrase:\n",
        "        answer += cipher_dict[letter]\n",
        "    return answer\n",
        "\n",
        "# Tests\n",
        "print(\"Output for part 1\")\n",
        "print(encrypt(\"pig\", CIPHER_DICT))\n",
        "print(encrypt(\"hello world\", CIPHER_DICT))\n",
        "print()\n",
        "\n",
        "# Output for part 1\n",
        "#vif\n",
        "#hunnybtygnd\n",
        "\n",
        "\n",
        "# Part 2 - Compute an inverse substitution cipher that decrypts\n",
        "# an encrypted phrase\n",
        "\n",
        "def make_decipher_dict(cipher_dict):\n",
        "    \"\"\"\n",
        "    Take a cipher dictionary and return the cipher\n",
        "    dictionary that undoes the cipher\n",
        "    \"\"\"    \n",
        "    decipher_dict = {}\n",
        "\n",
        "    for letter in cipher_dict:\n",
        "        decipher_dict[cipher_dict[letter]] = letter\n",
        "    return decipher_dict\n",
        "\n",
        "DECIPHER_DICT = make_decipher_dict(CIPHER_DICT)\n",
        "\n",
        "# Tests - note that applying encrypting with the cipher and decipher dicts\n",
        "# should return the original results\n",
        "print(\"Output for part 2\")\n",
        "print(DECIPHER_DICT)\n",
        "print(encrypt(encrypt(\"pig\", CIPHER_DICT), DECIPHER_DICT))\t\t\t      # Uncomment when testing\n",
        "print(encrypt(encrypt(\"hello world\", CIPHER_DICT), DECIPHER_DICT))\t# Uncomment when testing\n",
        "print()\n",
        "\n",
        "# Output for part 2 - note order of items in dictionary is not important\n",
        "#{'p': 'f', 'n': 'l', 'm': 'a', 'i': 'i', 'd': 'd', 'x': 'k', 'b': ' ', 'l': 'v', 'f': 'g', 'o': 's', 'u': 'e', 'a': 'n', 'c': 'y', 'r': 'q', 'e': 'z', 'k': 'c', 'w': 'm', 'g': 'r', 'y': 'o', ' ': 't', 'h': 'h', 'v': 'p', 'j': 'x', 'q': 'u', 't': 'w', 's': 'b', 'z': 'j'}\n",
        "#pig\n",
        "#hello world\n",
        "\n",
        "\n"
      ],
      "execution_count": 55,
      "outputs": [
        {
          "output_type": "stream",
          "text": [
            "Output for part 1\n",
            "vif\n",
            "hunnybtygnd\n",
            "\n",
            "Output for part 2\n",
            "{'u': 'e', 's': 'b', 'x': 'k', 'q': 'u', 'c': 'y', 'w': 'm', 'y': 'o', 'f': 'g', 'm': 'a', 'j': 'x', 'n': 'l', 'o': 's', 'g': 'r', 'i': 'i', 'z': 'j', 'k': 'c', 'p': 'f', 'b': ' ', 'r': 'q', 'e': 'z', 'v': 'p', 'l': 'v', 'h': 'h', 'd': 'd', 'a': 'n', ' ': 't', 't': 'w'}\n",
            "pig\n",
            "hello world\n",
            "\n"
          ],
          "name": "stdout"
        }
      ]
    },
    {
      "cell_type": "markdown",
      "metadata": {
        "id": "yKyO4qh2aeJz"
      },
      "source": [
        "10. Write a function make_cipher_dict(alphabet) that takes a string of unique characters and returns a randomly-generated cipher dictionary for the characters in alphabet .  You should use the shuffle() method  in the random module to ensure that your returned cipher dictionary is random. "
      ]
    },
    {
      "cell_type": "code",
      "metadata": {
        "colab": {
          "base_uri": "https://localhost:8080/"
        },
        "id": "z7saM8qjaXmQ",
        "outputId": "d5b906e7-07a3-4cd6-fef0-eec21d102caa"
      },
      "source": [
        "\"\"\"\n",
        "Solution for parts 1-2, Template for part 3\n",
        "Using substitution ciphers to encrypt and decrypt plain text\n",
        "\"\"\"\n",
        "\n",
        "\n",
        "# Part 3 - Create a random cipher dictionary\n",
        "\n",
        "import random\n",
        "\n",
        "def make_cipher_dict(alphabet):\n",
        "    \"\"\"\n",
        "    Given a string of unique characters, compute a random \n",
        "    cipher dictionary for these characters\n",
        "    \"\"\"\n",
        "    letter_list = list(alphabet)\n",
        "    shuffled_list = list(alphabet)\n",
        "    random.shuffle(shuffled_list)\n",
        "    \n",
        "    answer_dict = {}\n",
        "    for idx in range(len(alphabet)):\n",
        "        answer_dict[letter_list[idx]] = shuffled_list[idx]\n",
        "\n",
        "    return answer_dict\n",
        "\n",
        "# Tests\n",
        "print(\"Output for part 3\")\n",
        "print(make_cipher_dict(\"\"))\n",
        "print(make_cipher_dict(\"cat\"))\n",
        "print(make_cipher_dict(\"abcdefghijklmnopqrstuvwxyz \"))\n",
        "\n",
        "# Output for part 3 -  note that answers are randomized\n",
        "#{}\n",
        "#{'a': 'a', 't': 'c', 'c': 't'}\n",
        "#{'a': 'h', 'l': 'u', 'u': 'q', 'b': 'v', 'y': 'a', 'm': 'r', 'p': 'j', 'k': 'e', 'n': 'p', 't': 'x', 'd': 'o', 'c': 'c', 'w': ' ', 'f': 'd', 'r': 'z', 'v': 'l', 's': 'y', 'e': 'b', 'o': 'i', 'x': 'm', 'h': 's', 'i': 'w', 'q': 'g', 'g': 'n', 'j': 'f', 'z': 'k', ' ': 't'}\n"
      ],
      "execution_count": 73,
      "outputs": [
        {
          "output_type": "stream",
          "text": [
            "Output for part 3\n",
            "{}\n",
            "{'c': 'a', 'a': 't', 't': 'c'}\n",
            "{'a': 'u', 'b': 'l', 'c': 'z', 'd': 'h', 'e': 'a', 'f': 'w', 'g': 'b', 'h': 'n', 'i': 'i', 'j': 'o', 'k': 'v', 'l': ' ', 'm': 'p', 'n': 'k', 'o': 'q', 'p': 'y', 'q': 't', 'r': 'g', 's': 'x', 't': 'd', 'u': 's', 'v': 'm', 'w': 'e', 'x': 'f', 'y': 'c', 'z': 'j', ' ': 'r'}\n"
          ],
          "name": "stdout"
        }
      ]
    },
    {
      "cell_type": "code",
      "metadata": {
        "id": "8Ow-dko7fQRj"
      },
      "source": [
        "my_dictionary = {'my_key' : 1}"
      ],
      "execution_count": 80,
      "outputs": []
    },
    {
      "cell_type": "code",
      "metadata": {
        "id": "4Y8POQnSgRo-"
      },
      "source": [
        "def count_letters(word_list):\n",
        "    \"\"\" See question description \"\"\"\n",
        "    \n",
        "    ALPHABET = \"abcdefghijklmnopqrstuvwxyz\"\n",
        "\n",
        "    letter_count = {}\n",
        "    for letter in ALPHABET:\n",
        "        letter_count[letter] = 0\n",
        "        \n",
        "    # enter code here\n",
        "    for word in word_list:\n",
        "        for idx in range(len(word)):\n",
        "            letter_count[word[idx]] += 1\n",
        "    \n",
        "    sorted_dict = sorted(letter_count.items(), key = lambda item : item[1], reverse= True)\n",
        "\n",
        "    return sorted_dict[0][0]\n",
        "    \n",
        "\n",
        "            \n"
      ],
      "execution_count": 93,
      "outputs": []
    },
    {
      "cell_type": "code",
      "metadata": {
        "colab": {
          "base_uri": "https://localhost:8080/"
        },
        "id": "az_Qs1OqgVdw",
        "outputId": "146ccfa1-c1bd-4b76-ba23-14f4bddec4c0"
      },
      "source": [
        "print(count_letters([\"hello\", \"world\"]) )"
      ],
      "execution_count": 94,
      "outputs": [
        {
          "output_type": "stream",
          "text": [
            "l\n"
          ],
          "name": "stdout"
        }
      ]
    },
    {
      "cell_type": "code",
      "metadata": {
        "colab": {
          "base_uri": "https://localhost:8080/"
        },
        "id": "2P7e5ViNkWwf",
        "outputId": "4d57d3d1-f726-4700-a6f0-72e02b9b132f"
      },
      "source": [
        "monty_quote = \"listen strange women lying in ponds distributing swords is no basis for a system of government supreme executive power derives from a mandate from the masses not from some farcical aquatic ceremony\"\n",
        "\n",
        "monty_words = monty_quote.split(\" \")\n",
        "print(count_letters(monty_words))"
      ],
      "execution_count": 96,
      "outputs": [
        {
          "output_type": "stream",
          "text": [
            "e\n"
          ],
          "name": "stdout"
        }
      ]
    },
    {
      "cell_type": "code",
      "metadata": {
        "id": "KGCLzoiykzH6"
      },
      "source": [
        ""
      ],
      "execution_count": null,
      "outputs": []
    }
  ]
}