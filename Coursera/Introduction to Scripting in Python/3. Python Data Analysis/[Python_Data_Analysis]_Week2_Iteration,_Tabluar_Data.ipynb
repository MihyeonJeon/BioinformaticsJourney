{
  "nbformat": 4,
  "nbformat_minor": 0,
  "metadata": {
    "colab": {
      "name": "[Python Data Analysis] Week2_Iteration, Tabluar Data.ipynb",
      "provenance": []
    },
    "kernelspec": {
      "name": "python3",
      "display_name": "Python 3"
    },
    "language_info": {
      "name": "python"
    }
  },
  "cells": [
    {
      "cell_type": "markdown",
      "metadata": {
        "id": "OBjT8l77NqKn"
      },
      "source": [
        "### [Iteration over Dictionaries]\n",
        "\n",
        "* dictionary.keys()\n",
        "* dictionary.values()\n",
        "* dictionary.items() : It returns the  sequence of tuples."
      ]
    },
    {
      "cell_type": "code",
      "metadata": {
        "id": "6Ef33zJXqBQv",
        "colab": {
          "base_uri": "https://localhost:8080/"
        },
        "outputId": "0acf2f74-0df3-43d8-f970-7c816b756815"
      },
      "source": [
        "\"\"\"\n",
        "Iterating over dictionaries.\n",
        "\"\"\"\n",
        "\n",
        "# Mapping from various cities to their country\n",
        "capitals = {'USA': 'Washington, D.C.',\n",
        "            'China': 'Beijing',\n",
        "            'France': 'Paris',\n",
        "            'England': 'London',\n",
        "            'Italy': 'Rome',\n",
        "            'Russia': 'Moscow',\n",
        "            'Australia': 'Canberra',\n",
        "            'Peru': 'Lima',\n",
        "            'Japan': 'Tokyo'}\n",
        "\n",
        "print(\"Direct Iteration\")\n",
        "print(\"================\")\n",
        "\n",
        "for country in capitals:\n",
        "    print(\"{}, {}\".format(capitals[country], country))\n",
        "\n",
        "print(\"\")\n",
        "\n",
        "print(\"Iteration over Keys\")\n",
        "print(\"===================\")\n",
        "\n",
        "for country in capitals.keys():\n",
        "    print(\"{}, {}\".format(capitals[country], country))\n",
        "\n",
        "print(\"\")\n",
        "\n",
        "print(\"Iteration over Values\")\n",
        "print(\"=====================\")\n",
        "\n",
        "for city in capitals.values():\n",
        "    print(\"Capital city: {}\".format(city))\n",
        "\n",
        "print(\"\")\n",
        "\n"
      ],
      "execution_count": null,
      "outputs": [
        {
          "output_type": "stream",
          "text": [
            "Direct Iteration\n",
            "================\n",
            "Washington, D.C., USA\n",
            "Beijing, China\n",
            "Paris, France\n",
            "London, England\n",
            "Rome, Italy\n",
            "Moscow, Russia\n",
            "Canberra, Australia\n",
            "Lima, Peru\n",
            "Tokyo, Japan\n",
            "\n",
            "Iteration over Keys\n",
            "===================\n",
            "Washington, D.C., USA\n",
            "Beijing, China\n",
            "Paris, France\n",
            "London, England\n",
            "Rome, Italy\n",
            "Moscow, Russia\n",
            "Canberra, Australia\n",
            "Lima, Peru\n",
            "Tokyo, Japan\n",
            "\n",
            "Iteration over Values\n",
            "=====================\n",
            "Capital city: Washington, D.C.\n",
            "Capital city: Beijing\n",
            "Capital city: Paris\n",
            "Capital city: London\n",
            "Capital city: Rome\n",
            "Capital city: Moscow\n",
            "Capital city: Canberra\n",
            "Capital city: Lima\n",
            "Capital city: Tokyo\n",
            "\n"
          ],
          "name": "stdout"
        }
      ]
    },
    {
      "cell_type": "code",
      "metadata": {
        "colab": {
          "base_uri": "https://localhost:8080/"
        },
        "id": "S26fNPTaObcP",
        "outputId": "3d24d778-9904-4c93-a0da-3bb445cb58e0"
      },
      "source": [
        "type(capitals.keys())"
      ],
      "execution_count": null,
      "outputs": [
        {
          "output_type": "execute_result",
          "data": {
            "text/plain": [
              "dict_keys"
            ]
          },
          "metadata": {
            "tags": []
          },
          "execution_count": 9
        }
      ]
    },
    {
      "cell_type": "code",
      "metadata": {
        "colab": {
          "base_uri": "https://localhost:8080/"
        },
        "id": "QeXgxXRXO-8Q",
        "outputId": "61aabe30-2b77-4629-c761-a372839167b1"
      },
      "source": [
        "print(\"Iteration over Items\")\n",
        "print(\"===================\")\n",
        "\n",
        "for country, city in capitals.items():\n",
        "    print(\"{}, {}\".format(city, country))\n",
        "\n",
        "print(\"\")\n",
        "\n",
        "print(\"Checking Membership\")\n",
        "print(\"===================\")\n",
        "\n",
        "print('England' in capitals)\n",
        "print('Lima' in capitals)\n",
        "\n",
        "print('Moscow' in capitals.keys())\n",
        "print('Italy' in capitals.keys())\n",
        "\n",
        "print('Houston' in capitals.values())\n",
        "print('Beijing' in capitals.values())"
      ],
      "execution_count": null,
      "outputs": [
        {
          "output_type": "stream",
          "text": [
            "Iteration over Items\n",
            "===================\n",
            "Washington, D.C., USA\n",
            "Beijing, China\n",
            "Paris, France\n",
            "London, England\n",
            "Rome, Italy\n",
            "Moscow, Russia\n",
            "Canberra, Australia\n",
            "Lima, Peru\n",
            "Tokyo, Japan\n",
            "\n",
            "Checking Membership\n",
            "===================\n",
            "True\n",
            "False\n",
            "False\n",
            "True\n",
            "False\n",
            "True\n"
          ],
          "name": "stdout"
        }
      ]
    },
    {
      "cell_type": "markdown",
      "metadata": {
        "id": "IdaxJOnoR_xP"
      },
      "source": [
        "### [Tabular Data as a Nested List]\n",
        "\n",
        "* Python has a lot of different ways that we can store tabular data.\n",
        "* In this chapter, we're going to look at nested lists.\n",
        "* It means lists inside of lists.\n"
      ]
    },
    {
      "cell_type": "code",
      "metadata": {
        "id": "kK9eK1_6PUEl"
      },
      "source": [
        "\"\"\"\n",
        "Tabular data as a nested list.\n",
        "\"\"\"\n",
        "\n",
        "# Programming language popularity, from www.tiobe.com/tiobe-index\n",
        "popularity = [[\"Language\", 2017, 2012, 2007, 2002, 1997, 1992, 1987],\n",
        "              [\"Java\", 1, 2, 1, 1, 15, 0, 0],\n",
        "              [\"C\", 2, 1, 2, 2, 1, 1, 1],\n",
        "              [\"C++\", 3, 3, 3, 3, 2, 2, 5],\n",
        "              [\"C#\", 4, 4, 7, 13, 0, 0, 0],\n",
        "              [\"Python\", 5, 7, 6, 11, 27, 0, 0],\n",
        "              [\"Visual Basic .NET\", 6, 17, 0, 0, 0, 0, 0],\n",
        "              [\"PHP\", 7, 6, 4, 5, 0, 0, 0],\n",
        "              [\"JavaScript\", 8, 9, 8, 7, 23, 0, 0],\n",
        "              [\"Perl\", 9, 8, 5, 4, 4, 10, 0]]\n",
        "\n",
        "format_string = \"{:<20}  {:>4}  {:>4}  {:>4}  {:>4}  {:>4}  {:>4}  {:>4}\""
      ],
      "execution_count": null,
      "outputs": []
    },
    {
      "cell_type": "markdown",
      "metadata": {
        "id": "60xlOBhFXTvW"
      },
      "source": [
        "* In formatting strings, * means it takes a lot of arguments and each argument goes into one of the fields in the format string.\n",
        "* The header is actually a list. If you have a sequence and use star in front of it in Python, what it does is expand it out into its constituent elements.\n",
        "* \\***header -> to use a list where I actually needed individual arguments.**"
      ]
    },
    {
      "cell_type": "code",
      "metadata": {
        "colab": {
          "base_uri": "https://localhost:8080/"
        },
        "id": "3L_Mr1B5WK6q",
        "outputId": "d8a33929-ec95-4126-e2f8-1685b7395566"
      },
      "source": [
        "# Display langauges table\n",
        "headers = popularity[0]\n",
        "header_row = format_string.format(*headers)\n",
        "print(header_row)\n",
        "print(\"-\" * len(header_row))\n",
        "\n",
        "for language in popularity[1:]:\n",
        "    print(format_string.format(*language))\n",
        "\n",
        "print(\"\")"
      ],
      "execution_count": null,
      "outputs": [
        {
          "output_type": "stream",
          "text": [
            "Language              2017  2012  2007  2002  1997  1992  1987\n",
            "--------------------------------------------------------------\n",
            "Java                     1     2     1     1    15     0     0\n",
            "C                        2     1     2     2     1     1     1\n",
            "C++                      3     3     3     3     2     2     5\n",
            "C#                       4     4     7    13     0     0     0\n",
            "Python                   5     7     6    11    27     0     0\n",
            "Visual Basic .NET        6    17     0     0     0     0     0\n",
            "PHP                      7     6     4     5     0     0     0\n",
            "JavaScript               8     9     8     7    23     0     0\n",
            "Perl                     9     8     5     4     4    10     0\n",
            "\n"
          ],
          "name": "stdout"
        }
      ]
    },
    {
      "cell_type": "code",
      "metadata": {
        "colab": {
          "base_uri": "https://localhost:8080/"
        },
        "id": "4SzGAYTQWH1Q",
        "outputId": "97991edd-b030-45ac-ccaf-60fa6925ec87"
      },
      "source": [
        "# Finding/selecting items\n",
        "\n",
        "# What was Python's popularity in 1997?\n",
        "print(\"Python's popularity in 1997:\", popularity[5][5])\n",
        "\n",
        "def find_col(table, col):\n",
        "    \"\"\"\n",
        "    Return column index with col header in table\n",
        "    or -1 if col is not in table\n",
        "    \"\"\"\n",
        "    return table[0].index(col)\n",
        "\n",
        "def find_row(table, row):\n",
        "    \"\"\"\n",
        "    Return row index with row header in table\n",
        "    or -1 if row is not in table\n",
        "    \"\"\"\n",
        "    for idx in range(len(table)):\n",
        "        if table[idx][0] == row:\n",
        "            return idx\n",
        "    return -1\n",
        "    \n",
        "idx1997 = find_col(popularity, 1997)\n",
        "idxpython = find_row(popularity, \"Python\")\n",
        "print(\"Python's popularity in 1997:\", popularity[idxpython][idx1997])\n"
      ],
      "execution_count": null,
      "outputs": [
        {
          "output_type": "stream",
          "text": [
            "Python's popularity in 1997: 27\n",
            "Python's popularity in 1997: 27\n"
          ],
          "name": "stdout"
        }
      ]
    },
    {
      "cell_type": "markdown",
      "metadata": {
        "id": "i9yUL4w7b_qP"
      },
      "source": [
        "### [Tabluar Data as a Nested Dictionary]"
      ]
    },
    {
      "cell_type": "code",
      "metadata": {
        "colab": {
          "base_uri": "https://localhost:8080/"
        },
        "id": "KbTRkV8VbYw6",
        "outputId": "6a1b8641-3980-4cd3-94f0-064499dbbb1b"
      },
      "source": [
        "\"\"\"\n",
        "Tabular data as nested dictionaries.\n",
        "\"\"\"\n",
        "\n",
        "# Top 10 software products with the most vulnerabilities in 2017\n",
        "# (through August).  From www.cvedetails.com.\n",
        "vulnerabilities2017 = {\n",
        "    'Android': {'vendor': 'Google',\n",
        "                'type': 'Operating System',\n",
        "                'number': 564},\n",
        "    'Linux Kernel': {'vendor': 'Linux',\n",
        "                     'type': 'Operating System',\n",
        "                     'number': 367},\n",
        "    'Imagemagick': {'vendor': 'Imagemagick',\n",
        "                    'type': 'Application',\n",
        "                    'number': 307},\n",
        "    'IPhone OS': {'vendor': 'Apple',\n",
        "                  'type': 'Operating System',\n",
        "                  'number': 290},\n",
        "    'Mac OS X': {'vendor': 'Apple',\n",
        "                 'type': 'Operating System',\n",
        "                 'number': 210},\n",
        "    'Windows 10': {'vendor': 'Microsoft',\n",
        "                   'type': 'Operating System',\n",
        "                   'number': 195},\n",
        "    'Windows Server 2008': {'vendor': 'Microsoft',\n",
        "                            'type': 'Operating System',\n",
        "                            'number': 187},\n",
        "    'Windows Server 2016': {'vendor': 'Microsoft',\n",
        "                            'type': 'Operating System',\n",
        "                            'number': 183},\n",
        "    'Windows Server 2012': {'vendor': 'Microsoft',\n",
        "                            'type': 'Operating System',\n",
        "                            'number': 176},\n",
        "    'Windows 7': {'vendor': 'Microsoft',\n",
        "                  'type': 'Operating System',\n",
        "                  'number': 174}\n",
        "}\n",
        "\n",
        "# Display vulnerabilities table\n",
        "print(\"Product               Vendor        Type               Vulnerabilities\")\n",
        "print(\"----------------------------------------------------------------------\")\n",
        "\n",
        "for product, values in vulnerabilities2017.items():\n",
        "    row = \"{:21} {:13} {:18} {:8}\".format(product, values['vendor'], values['type'], values['number'])\n",
        "    print(row)\n",
        "\n",
        "print(\"\")"
      ],
      "execution_count": null,
      "outputs": [
        {
          "output_type": "stream",
          "text": [
            "Product               Vendor        Type               Vulnerabilities\n",
            "----------------------------------------------------------------------\n",
            "Android               Google        Operating System        564\n",
            "Linux Kernel          Linux         Operating System        367\n",
            "Imagemagick           Imagemagick   Application             307\n",
            "IPhone OS             Apple         Operating System        290\n",
            "Mac OS X              Apple         Operating System        210\n",
            "Windows 10            Microsoft     Operating System        195\n",
            "Windows Server 2008   Microsoft     Operating System        187\n",
            "Windows Server 2016   Microsoft     Operating System        183\n",
            "Windows Server 2012   Microsoft     Operating System        176\n",
            "Windows 7             Microsoft     Operating System        174\n",
            "\n"
          ],
          "name": "stdout"
        }
      ]
    },
    {
      "cell_type": "code",
      "metadata": {
        "colab": {
          "base_uri": "https://localhost:8080/"
        },
        "id": "vHHAtk0ejnLb",
        "outputId": "e46236c5-6848-4775-e85d-08d7586db200"
      },
      "source": [
        "# Finding/selecting items\n",
        "\n",
        "# How many vulnerabilites does Windows 7 have?\n",
        "print(vulnerabilities2017['Windows 7']['number'])\n",
        "\n",
        "# What product had the most vulnerabilities?\n",
        "maxproduct = None\n",
        "maxnumber = -1\n",
        "\n",
        "for product, values in vulnerabilities2017.items():\n",
        "    if values['number'] > maxnumber:\n",
        "        maxproduct = product\n",
        "        maxnumber = values['number']\n",
        "\n",
        "print(maxproduct, maxnumber)"
      ],
      "execution_count": null,
      "outputs": [
        {
          "output_type": "stream",
          "text": [
            "174\n",
            "Android 564\n"
          ],
          "name": "stdout"
        }
      ]
    },
    {
      "cell_type": "markdown",
      "metadata": {
        "id": "YNSE6QNymTHf"
      },
      "source": [
        "\n",
        "* You have to know the names of the rows and those of the columns.\n",
        "* You have to make sure that you're using the same column names in each inner dictionary.\n",
        "* Dictionaries do not have an order so this is really only useful when you're not really concerened about the order of the rows."
      ]
    },
    {
      "cell_type": "markdown",
      "metadata": {
        "id": "5scTu3x9m3WR"
      },
      "source": [
        "### [Displaying Dictionaries]"
      ]
    },
    {
      "cell_type": "code",
      "metadata": {
        "colab": {
          "base_uri": "https://localhost:8080/"
        },
        "id": "1a5x5HeKkV5M",
        "outputId": "19ed71f3-2888-4041-9a90-01ed5a78275f"
      },
      "source": [
        "\"\"\"\n",
        "Example code for printing the contents of a dictionary to the console\n",
        "\"\"\"\n",
        "\n",
        "\n",
        "NAME_DICT = {\"Warren\" : \"Joe\", \"Rixner\" : \"Scott\", \"Greiner\" : \"John\"}\n",
        "\n",
        "def run_dict_methods():\n",
        "    \"\"\"\n",
        "    Run some simple examples of calls to dictionary methods\n",
        "    \"\"\"\n",
        "    \n",
        "    # Note that these methods return an iterable object (similar to range())\n",
        "    print(NAME_DICT.keys())\n",
        "    print(NAME_DICT.values())\n",
        "    print(NAME_DICT.items())\n",
        "    print()\n",
        "    \n",
        "    # These objects can be converted to lists\n",
        "    print(list(NAME_DICT.keys()))\n",
        "    print(list(NAME_DICT.values()))\n",
        "    print(list(NAME_DICT.items()))\n",
        "\n",
        "run_dict_methods()"
      ],
      "execution_count": null,
      "outputs": [
        {
          "output_type": "stream",
          "text": [
            "dict_keys(['Warren', 'Rixner', 'Greiner'])\n",
            "dict_values(['Joe', 'Scott', 'John'])\n",
            "dict_items([('Warren', 'Joe'), ('Rixner', 'Scott'), ('Greiner', 'John')])\n",
            "\n",
            "['Warren', 'Rixner', 'Greiner']\n",
            "['Joe', 'Scott', 'John']\n",
            "[('Warren', 'Joe'), ('Rixner', 'Scott'), ('Greiner', 'John')]\n"
          ],
          "name": "stdout"
        }
      ]
    },
    {
      "cell_type": "code",
      "metadata": {
        "colab": {
          "base_uri": "https://localhost:8080/"
        },
        "id": "ndocr5wRn0-R",
        "outputId": "5c6d6ca9-91cc-419f-c437-d169ff16d593"
      },
      "source": [
        "def print_dict_keys(my_dict):\n",
        "    \"\"\"\n",
        "    Print the contents of a dictionary to the console\n",
        "    in a readable form using the keys() method\n",
        "    \"\"\"\n",
        "    print(\"Printing dictionary\", my_dict, \"in readable form\")\n",
        "    for key in my_dict:                                # note my_dict.keys() works here too\n",
        "        print(\"Key =\", key, \"has value =\", my_dict[key])\n",
        "        \n",
        "        \n",
        "def print_dict_items(my_dict):\n",
        "    \"\"\"\n",
        "    Print the contents of a dictionary to the console\n",
        "    in a readable form using the items() method\n",
        "    \"\"\"\n",
        "    print(\"Printing dictionary\", my_dict, \"in readable form\")\n",
        "    for (key, value) in my_dict.items():\n",
        "        print(\"Key =\", key, \"has value =\", value)\n",
        "\n",
        "\n",
        "def run_print_dict_examples():\n",
        "    \"\"\"\n",
        "    Run some examples of printing dictionaries to the console\n",
        "    \"\"\"\n",
        "    print()\n",
        "    print_dict_keys(NAME_DICT)\n",
        "    print()\n",
        "    print_dict_items(NAME_DICT)\n",
        "    \n",
        "run_print_dict_examples()"
      ],
      "execution_count": null,
      "outputs": [
        {
          "output_type": "stream",
          "text": [
            "\n",
            "Printing dictionary {'Warren': 'Joe', 'Rixner': 'Scott', 'Greiner': 'John'} in readable form\n",
            "Key = Warren has value = Joe\n",
            "Key = Rixner has value = Scott\n",
            "Key = Greiner has value = John\n",
            "\n",
            "Printing dictionary {'Warren': 'Joe', 'Rixner': 'Scott', 'Greiner': 'John'} in readable form\n",
            "Key = Warren has value = Joe\n",
            "Key = Rixner has value = Scott\n",
            "Key = Greiner has value = John\n"
          ],
          "name": "stdout"
        }
      ]
    },
    {
      "cell_type": "code",
      "metadata": {
        "id": "HHP01cc5KHLM"
      },
      "source": [
        "matrix = [\n",
        "     [1, 2, 3, 4],\n",
        "     [5, 6, 7, 8],\n",
        "     [9, 10, 11, 12],\n",
        " ]"
      ],
      "execution_count": null,
      "outputs": []
    },
    {
      "cell_type": "code",
      "metadata": {
        "colab": {
          "base_uri": "https://localhost:8080/"
        },
        "id": "6a9xcS2kKPDs",
        "outputId": "d054f83f-0a1c-4a87-dd47-b9a81b42cfa4"
      },
      "source": [
        "[[row[i] for row in matrix] for i in range(4)]"
      ],
      "execution_count": null,
      "outputs": [
        {
          "output_type": "execute_result",
          "data": {
            "text/plain": [
              "[[1, 5, 9], [2, 6, 10], [3, 7, 11], [4, 8, 12]]"
            ]
          },
          "metadata": {
            "tags": []
          },
          "execution_count": 26
        }
      ]
    },
    {
      "cell_type": "markdown",
      "metadata": {
        "id": "2_tXVaCAtmLy"
      },
      "source": [
        "##[Practice Exercies for Nested Data Structures]"
      ]
    },
    {
      "cell_type": "markdown",
      "metadata": {
        "id": "ZzXwzLPKtqqk"
      },
      "source": [
        "1. Write an expression that defines a list nested_list  consisting of five empty lists."
      ]
    },
    {
      "cell_type": "code",
      "metadata": {
        "colab": {
          "base_uri": "https://localhost:8080/"
        },
        "id": "ogljHrvjs7gL",
        "outputId": "fadc14bf-cb5c-45fe-95c9-a3ffc612e208"
      },
      "source": [
        "\"\"\"\n",
        "Template - Create a list nested_list consisting of five empty lists\n",
        "\"\"\"\n",
        "\n",
        "# Add code here\n",
        "nested_list = [[],[],[],[],[]]\n",
        "\n",
        "# Tests\n",
        "print(nested_list)"
      ],
      "execution_count": null,
      "outputs": [
        {
          "output_type": "stream",
          "text": [
            "[[], [], [], [], []]\n"
          ],
          "name": "stdout"
        }
      ]
    },
    {
      "cell_type": "markdown",
      "metadata": {
        "id": "QAO5RpO0twKl"
      },
      "source": [
        "2. Write an expression that defines a list nested_list  of length five whose items themselves are lists consisting of three zeros."
      ]
    },
    {
      "cell_type": "code",
      "metadata": {
        "colab": {
          "base_uri": "https://localhost:8080/"
        },
        "id": "yAbr0F6RtyIB",
        "outputId": "903447c1-4e5a-47cd-a959-529597e4481e"
      },
      "source": [
        "\"\"\"\n",
        "Template - Create a list nested_list of length 5 whose items \n",
        "are themselves lists consisting of 3 zeros\n",
        "\"\"\"\n",
        "\n",
        "# Add code here\n",
        "nested_list = [[[0,0,0]]*5]\n",
        "\n",
        "# Tests\n",
        "print(nested_list)"
      ],
      "execution_count": null,
      "outputs": [
        {
          "output_type": "stream",
          "text": [
            "[[[0, 0, 0], [0, 0, 0], [0, 0, 0], [0, 0, 0], [0, 0, 0]]]\n"
          ],
          "name": "stdout"
        }
      ]
    },
    {
      "cell_type": "markdown",
      "metadata": {
        "id": "Irlozqqyt0Qn"
      },
      "source": [
        "3. In Python, a [list comprehension](https://docs.python.org/3/tutorial/datastructures.html#list-comprehensions) is one line statement that can be used to define simple, but interesting lists succintly.  Create a list zero_list consisting of 3 zeroes using a list comprehension.  As an extra challenge, create the list nested_list   from the previous question using a [nested list comprehension](https://docs.python.org/3/tutorial/datastructures.html#list-comprehensions) ."
      ]
    },
    {
      "cell_type": "code",
      "metadata": {
        "colab": {
          "base_uri": "https://localhost:8080/"
        },
        "id": "ynY8PPuHuIYs",
        "outputId": "a587c3d5-3465-4d6a-b762-371aa0549c33"
      },
      "source": [
        "\"\"\"\n",
        "Template- Create a list zero_list consisting of 3 zeroes using a list comprehension\n",
        "https://docs.python.org/3/tutorial/datastructures.html#list-comprehensions\n",
        "\n",
        "As a challenge, redo the previous problem using a nested list comprehension\n",
        "https://docs.python.org/3/tutorial/datastructures.html#nested-list-comprehensions\n",
        "\"\"\"\n",
        "\n",
        "# Add code here for a list comprehension\n",
        "zero_list = [0 for dummy_x in range(3)]\n",
        "\n",
        "# Add code here for nested list comprehension\n",
        "nested_list = [[0 for dummy_x in range(3)] for dummy_i in range(5)]\n",
        "\n",
        "\n",
        "# Tests\n",
        "print(zero_list)\n",
        "print(nested_list)\n",
        "\n",
        "# Output\n",
        "#[0, 0, 0]\n",
        "#[[0, 0, 0], [0, 0, 0], [0, 0, 0], [0, 0, 0], [0, 0, 0]]"
      ],
      "execution_count": null,
      "outputs": [
        {
          "output_type": "stream",
          "text": [
            "[0, 0, 0]\n",
            "[[0, 0, 0], [0, 0, 0], [0, 0, 0], [0, 0, 0], [0, 0, 0]]\n"
          ],
          "name": "stdout"
        }
      ]
    },
    {
      "cell_type": "markdown",
      "metadata": {
        "id": "hxITFMuBuKtz"
      },
      "source": [
        "4. Given the list nested_list  as defined in the provided template, write an expression that returns the item in nested_list that has value 7."
      ]
    },
    {
      "cell_type": "code",
      "metadata": {
        "colab": {
          "base_uri": "https://localhost:8080/"
        },
        "id": "evjl8mwVuOkQ",
        "outputId": "85ee2536-96d4-4c57-c4f6-f0155cb05e71"
      },
      "source": [
        "\"\"\"\n",
        "Template - Select a specific item in a nested list\n",
        "\"\"\"\n",
        "\n",
        "# Define a nested list of lists\n",
        "nested_list = [[col + 3 * row for col in range(3)] for row in range(5)]\n",
        "print(nested_list)\n",
        "\n",
        "# Add code to print out the item in this nested list with value 7\n",
        "print(nested_list[2][1])\n",
        "\n",
        "# Output\n",
        "#[[0, 1, 2], [3, 4, 5], [6, 7, 8], [9, 10, 11], [12, 13, 14]]\n",
        "#7"
      ],
      "execution_count": null,
      "outputs": [
        {
          "output_type": "stream",
          "text": [
            "[[0, 1, 2], [3, 4, 5], [6, 7, 8], [9, 10, 11], [12, 13, 14]]\n",
            "7\n"
          ],
          "name": "stdout"
        }
      ]
    },
    {
      "cell_type": "markdown",
      "metadata": {
        "id": "NeRhZxm_uSxL"
      },
      "source": [
        "5. Consider the list nested_list  as defined in the provided template.  Attempting to modify one item in nested_list  has the unexpected effect of modifying several items.  Examine this example and enter an explanation for this behavior."
      ]
    },
    {
      "cell_type": "code",
      "metadata": {
        "colab": {
          "base_uri": "https://localhost:8080/"
        },
        "id": "RpCWizvbuV99",
        "outputId": "a7192b60-5536-477c-9dec-0350827150e7"
      },
      "source": [
        "\"\"\"\n",
        "Solution - Analyze a reference issue involving a nested list\n",
        "\"\"\"\n",
        "\n",
        "# Create a nested list\n",
        "zero_list = [0, 2, 0]\n",
        "nested_list = []\n",
        "for dummy_idx in range(5):\n",
        "    nested_list.append(zero_list)\n",
        "print(nested_list)\n",
        "    \n",
        "# Update an entry to be non-zero\n",
        "nested_list[2][1] = 7\n",
        "print(nested_list)\n",
        "\n",
        "\n",
        "# Erroneous output\n",
        "#[[0, 0, 0], [0, 0, 0], [0, 0, 0], [0, 0, 0], [0, 0, 0]]\n",
        "#[[0, 7, 0], [0, 7, 0], [0, 7, 0], [0, 7, 0], [0, 7, 0]]\n",
        "\n",
        "# Desired output\n",
        "# [[0, 2, 0], [0, 2, 0], [0, 2, 0], [0, 2, 0], [0, 2, 0]]\n",
        "# [[0, 2, 0], [0, 2, 0], [0, 7, 0], [0, 2, 0], [0, 2, 0]]\n",
        "\n",
        "\n",
        "# Explanation\n",
        "# nested_list[2][1] is updating all 5 entries in nested_list because of a referencing issue.\n",
        "# The items in nested_list are refrencing zero_list, which are all same objects.\n",
        "# Thus, updating one reference to zero_list means updating the other four references simultanesouly.\n",
        "\n",
        "# The solution is to make a new copy of zero_list each time append() is executed."
      ],
      "execution_count": null,
      "outputs": [
        {
          "output_type": "stream",
          "text": [
            "[[0, 2, 0], [0, 2, 0], [0, 2, 0], [0, 2, 0], [0, 2, 0]]\n",
            "[[0, 7, 0], [0, 7, 0], [0, 7, 0], [0, 7, 0], [0, 7, 0]]\n"
          ],
          "name": "stdout"
        }
      ]
    },
    {
      "cell_type": "markdown",
      "metadata": {
        "id": "c5JHCshGuXdR"
      },
      "source": [
        "6. Write an expression list_dicts that defines a list consisting of five empty dictionaries. "
      ]
    },
    {
      "cell_type": "code",
      "metadata": {
        "colab": {
          "base_uri": "https://localhost:8080/"
        },
        "id": "knWsoOwxuZUs",
        "outputId": "2f4acf1b-0772-4836-84bf-4977f3f14a21"
      },
      "source": [
        "\"\"\"\n",
        "Template - Create a list list_dicts of 5 empty dictionaries\n",
        "\"\"\"\n",
        "\n",
        "# Add code here\n",
        "list_dicts = [dict() for dummy_i in range(5)]\n",
        "\n",
        "# Tests\n",
        "print(list_dicts)\n"
      ],
      "execution_count": null,
      "outputs": [
        {
          "output_type": "stream",
          "text": [
            "[{}, {}, {}, {}, {}]\n"
          ],
          "name": "stdout"
        }
      ]
    },
    {
      "cell_type": "markdown",
      "metadata": {
        "id": "8N42auBCuaqv"
      },
      "source": [
        "7. Write a function dict_copies(my_dict, num_copies) that takes a dictionary 'my_dict' and an integer 'num_copies' and returns a list consisting of 'num_copies' copies of \n",
        "'my_dict'. "
      ]
    },
    {
      "cell_type": "code",
      "metadata": {
        "colab": {
          "base_uri": "https://localhost:8080/"
        },
        "id": "8jsrLOEXunFO",
        "outputId": "681bc15d-7e8d-44c4-a81c-4b8d1cc94b54"
      },
      "source": [
        "\"\"\"\n",
        "Template - Write a function dict_copies(my_dict, num_copies) that \n",
        "returns a list consisting of num_copies copies of my_dict\n",
        "\"\"\"\n",
        "\n",
        "\n",
        "# Add code here\n",
        "def dict_copies(my_dict, num_copies):\n",
        "    \"\"\"\n",
        "    Given a dictionary my_dict and an integer num_copies, \n",
        "    returns a list consisting of num_copies copies of my_dict.\n",
        "    \"\"\"\n",
        "    return_list = []\n",
        "\n",
        "    for dummy_i in range(num_copies):\n",
        "        return_list.append(dict(my_dict))\n",
        "    \n",
        "    return return_list\n",
        "\n",
        "\n",
        "# Tests\n",
        "print(dict_copies({}, 0))\n",
        "print(dict_copies({}, 1))\n",
        "print(dict_copies({}, 2))\n",
        "\n",
        "test_dict = dict_copies({'a' : 1, 'b' : 2}, 2)\n",
        "print(test_dict)\n",
        "\n",
        "# Check for reference problem\n",
        "test_dict[1][\"a\"] = 3\n",
        "print(test_dict)\n",
        "\n",
        "\n",
        "\n",
        "# Output\n",
        "#[]\n",
        "#[{}]\n",
        "#[{}, {}]\n",
        "#[{'a': 1, 'b': 2}, {'b': 2, 'a': 1}]\n",
        "#[{'b': 2, 'a': 1}, {'b': 2, 'a': 3}]\n",
        "\n",
        "# Note that you have a reference issue if the last line of output is\n",
        "#[{'a': 3, 'b': 2}, {'b': 2, 'a': 3}]\n",
        "\n",
        "\n"
      ],
      "execution_count": null,
      "outputs": [
        {
          "output_type": "stream",
          "text": [
            "[]\n",
            "[{}]\n",
            "[{}, {}]\n",
            "[{'a': 1, 'b': 2}, {'a': 1, 'b': 2}]\n",
            "[{'a': 1, 'b': 2}, {'a': 3, 'b': 2}]\n"
          ],
          "name": "stdout"
        }
      ]
    },
    {
      "cell_type": "markdown",
      "metadata": {
        "id": "IIHWdxgeuqYd"
      },
      "source": [
        "8. Write a function make_dict_lists(length)  that takes an integer length  returns a dictionary whose keys are in range(length) and whose corresponding values are lists of zeros whose length match the key. "
      ]
    },
    {
      "cell_type": "code",
      "metadata": {
        "colab": {
          "base_uri": "https://localhost:8080/"
        },
        "id": "gVCzptewupx9",
        "outputId": "02703af0-ac6c-4ab8-8eee-3a1e74bc3f4c"
      },
      "source": [
        "\"\"\"\n",
        "Solution - Write a function make_dict_lists(length) that returns a dictionary whose keys are in range(length) and whose\n",
        "corresponding values are lists of zeros with length matching the key\n",
        "\"\"\"\n",
        "\n",
        "\n",
        "# Add code here\n",
        "def make_dict_lists(length):\n",
        "    \"\"\"\n",
        "    Given an integer length, return a dictionary whose keys\n",
        "    lie in range(length) and whose corresponding values are \n",
        "    lists of zeros with length matching the key\n",
        "    \"\"\"\n",
        "    return_dict = {}\n",
        "    for dummy_i in range(length):\n",
        "        return_dict[dummy_i] = [0 for dummy_inx in range(dummy_i)]\n",
        "\n",
        "    return return_dict\n",
        "\n",
        "\n",
        "\n",
        "# Tests\n",
        "print(make_dict_lists(0))\n",
        "print(make_dict_lists(1))\n",
        "print(make_dict_lists(5))\n",
        "\n",
        "\n",
        "# Output\n",
        "#{}\n",
        "#{0: []}\n",
        "#{3: [0, 0, 0], 0: [], 4: [0, 0, 0, 0], 1: [0], 2: [0, 0]}\n"
      ],
      "execution_count": null,
      "outputs": [
        {
          "output_type": "stream",
          "text": [
            "{}\n",
            "{0: []}\n",
            "{0: [], 1: [0], 2: [0, 0], 3: [0, 0, 0], 4: [0, 0, 0, 0]}\n"
          ],
          "name": "stdout"
        }
      ]
    },
    {
      "cell_type": "markdown",
      "metadata": {
        "id": "CJdJ7viBux0K"
      },
      "source": [
        "9. Challenge: Define a dictionary 'grade_table'  whose keys corresponds to names in the first column of the table below and whose corresponding values are a list of the grades in the name's row. \n",
        "![capture.JPG](data:image/jpeg;base64,/9j/4AAQSkZJRgABAQEAYABgAAD/4RDcRXhpZgAATU0AKgAAAAgABAE7AAIAAAAGAAAISodpAAQAAAABAAAIUJydAAEAAAAMAAAQyOocAAcAAAgMAAAAPgAAAAAc6gAAAAgAAAAAAAAAAAAAAAAAAAAAAAAAAAAAAAAAAAAAAAAAAAAAAAAAAAAAAAAAAAAAAAAAAAAAAAAAAAAAAAAAAAAAAAAAAAAAAAAAAAAAAAAAAAAAAAAAAAAAAAAAAAAAAAAAAAAAAAAAAAAAAAAAAAAAAAAAAAAAAAAAAAAAAAAAAAAAAAAAAAAAAAAAAAAAAAAAAAAAAAAAAAAAAAAAAAAAAAAAAAAAAAAAAAAAAAAAAAAAAAAAAAAAAAAAAAAAAAAAAAAAAAAAAAAAAAAAAAAAAAAAAAAAAAAAAAAAAAAAAAAAAAAAAAAAAAAAAAAAAAAAAAAAAAAAAAAAAAAAAAAAAAAAAAAAAAAAAAAAAAAAAAAAAAAAAAAAAAAAAAAAAAAAAAAAAAAAAAAAAAAAAAAAAAAAAAAAAAAAAAAAAAAAAAAAAAAAAAAAAAAAAAAAAAAAAAAAAAAAAAAAAAAAAAAAAAAAAAAAAAAAAAAAAAAAAAAAAAAAAAAAAAAAAAAAAAAAAAAAAAAAAAAAAAAAAAAAAAAAAAAAAAAAAAAAAAAAAAAAAAAAAAAAAAAAAAAAAAAAAAAAAAAAAAAAAAAAAAAAAAAAAAAAAAAAAAAAAAAAAAAAAAAAAAAAAAAAAAAAAAAAAAAAAAAAAAAAAAAAAAAAAAAAAAAAAAAAAAAAAAAAAAAAAAAAAAAAAAAAAAAAAAAAAAAAAAAAAAAAAAAAAAAAAAAAAAAAAAAAAAAAAAAAAAAAAAAAAAAAAAAAAAAAAAAAAAAAAAAAAAAAAAAAAAAAAAAAAAAAAAAAAAAAAAAAAAAAAAAAAAAAAAAAAAAAAAAAAAAAAAAAAAAAAAAAAAAAAAAAAAAAAAAAAAAAAAAAAAAAAAAAAAAAAAAAAAAAAAAAAAAAAAAAAAAAAAAAAAAAAAAAAAAAAAAAAAAAAAAAAAAAAAAAAAAAAAAAAAAAAAAAAAAAAAAAAAAAAAAAAAAAAAAAAAAAAAAAAAAAAAAAAAAAAAAAAAAAAAAAAAAAAAAAAAAAAAAAAAAAAAAAAAAAAAAAAAAAAAAAAAAAAAAAAAAAAAAAAAAAAAAAAAAAAAAAAAAAAAAAAAAAAAAAAAAAAAAAAAAAAAAAAAAAAAAAAAAAAAAAAAAAAAAAAAAAAAAAAAAAAAAAAAAAAAAAAAAAAAAAAAAAAAAAAAAAAAAAAAAAAAAAAAAAAAAAAAAAAAAAAAAAAAAAAAAAAAAAAAAAAAAAAAAAAAAAAAAAAAAAAAAAAAAAAAAAAAAAAAAAAAAAAAAAAAAAAAAAAAAAAAAAAAAAAAAAAAAAAAAAAAAAAAAAAAAAAAAAAAAAAAAAAAAAAAAAAAAAAAAAAAAAAAAAAAAAAAAAAAAAAAAAAAAAAAAAAAAAAAAAAAAAAAAAAAAAAAAAAAAAAAAAAAAAAAAAAAAAAAAAAAAAAAAAAAAAAAAAAAAAAAAAAAAAAAAAAAAAAAAAAAAAAAAAAAAAAAAAAAAAAAAAAAAAAAAAAAAAAAAAAAAAAAAAAAAAAAAAAAAAAAAAAAAAAAAAAAAAAAAAAAAAAAAAAAAAAAAAAAAAAAAAAAAAAAAAAAAAAAAAAAAAAAAAAAAAAAAAAAAAAAAAAAAAAAAAAAAAAAAAAAAAAAAAAAAAAAAAAAAAAAAAAAAAAAAAAAAAAAAAAAAAAAAAAAAAAAAAAAAAAAAAAAAAAAAAAAAAAAAAAAAAAAAAAAAAAAAAAAAAAAAAAAAAAAAAAAAAAAAAAAAAAAAAAAAAAAAAAAAAAAAAAAAAAAAAAAAAAAAAAAAAAAAAAAAAAAAAAAAAAAAAAAAAAAAAAAAAAAAAAAAAAAAAAAAAAAAAAAAAAAAAAAAAAAAAAAAAAAAAAAAAAAAAAAAAAAAAAAAAAAAAAAAAAAAAAAAAAAAAAAAAAAAAAAAAAAAAAAAAAAAAAAAAAAAAAAAAAAAAAAAAAAAAAAAAAAAAAAAAAAAAAAAAAAAAAAAAAAAAAAAAAAAAAAAAAAAAAAAAAAAAAAAAAAAAAAAAAAAAAAAAAAAAAAAAAAAAAAAAAAAAAAAAAAAAAAAAAAAAAAAAAAAAAAAAAAAAAAAAAAAAAAAAAAAAAAAAAAAAAAAAAAAAAAAAAAAAAAAAAAAAAAAAAAAAAAAAAAAAAAAAAAAAAAAAAAAAAAAAAAAAAAAAAAAAAAAAAAAAAAAAAAAAAAAAAAAAAAAAAAAAAAAAAAAAAAAAAAAAAAAAAAAAAAAAAAAAAAAAAAAAAAAAAAAAAAAAAAAAAAAAAAAAAAAAAAAAAAAAAAAAAAAAAAAAAAAAAAAAAAAAAAAAAAAAAAAAAAAAAAAAAAAAAAAAAAAAAAAAAAAAAAAAAAAAAAAAAAAAAAAAAAAAAAAAAAAAAAAAAAAAAAAAAAAAAAAAAAAAAAAAAAAAAAAAAAAAAAAAAAAAAAAAAAAAAAAAAAAAAAAAAAAAAAAAAAAAAAAAAAAAAAAAAAAAAAAAAAAAAAAAAAAAAAAAAAAAAAAAAAAAAAAAAAAAAAAAAAAAAAAAAAAAAAAAAAAAAAAAAAAAAAAAAAAAAAAAAAAAAAAAAAAAAAAAAAAAAAAAAAAAAAAAAAAAAAAAAAAAAAAAAAAAAAAAAAAAAAAAAAAAAAAAAAAAAAAAAAAAAAAAAAAAAAAAAAAAAAAAAAAAAAAAAAAAAAAAAAAAAAAAAAAAAAAAAAAAAAAAAAAAAAAAAAAAAAAAAAAAAGNiMjUzAAAFkAMAAgAAABQAABCekAQAAgAAABQAABCykpEAAgAAAAMyOQAAkpIAAgAAAAMyOQAA6hwABwAACAwAAAiSAAAAABzqAAAACAAAAAAAAAAAAAAAAAAAAAAAAAAAAAAAAAAAAAAAAAAAAAAAAAAAAAAAAAAAAAAAAAAAAAAAAAAAAAAAAAAAAAAAAAAAAAAAAAAAAAAAAAAAAAAAAAAAAAAAAAAAAAAAAAAAAAAAAAAAAAAAAAAAAAAAAAAAAAAAAAAAAAAAAAAAAAAAAAAAAAAAAAAAAAAAAAAAAAAAAAAAAAAAAAAAAAAAAAAAAAAAAAAAAAAAAAAAAAAAAAAAAAAAAAAAAAAAAAAAAAAAAAAAAAAAAAAAAAAAAAAAAAAAAAAAAAAAAAAAAAAAAAAAAAAAAAAAAAAAAAAAAAAAAAAAAAAAAAAAAAAAAAAAAAAAAAAAAAAAAAAAAAAAAAAAAAAAAAAAAAAAAAAAAAAAAAAAAAAAAAAAAAAAAAAAAAAAAAAAAAAAAAAAAAAAAAAAAAAAAAAAAAAAAAAAAAAAAAAAAAAAAAAAAAAAAAAAAAAAAAAAAAAAAAAAAAAAAAAAAAAAAAAAAAAAAAAAAAAAAAAAAAAAAAAAAAAAAAAAAAAAAAAAAAAAAAAAAAAAAAAAAAAAAAAAAAAAAAAAAAAAAAAAAAAAAAAAAAAAAAAAAAAAAAAAAAAAAAAAAAAAAAAAAAAAAAAAAAAAAAAAAAAAAAAAAAAAAAAAAAAAAAAAAAAAAAAAAAAAAAAAAAAAAAAAAAAAAAAAAAAAAAAAAAAAAAAAAAAAAAAAAAAAAAAAAAAAAAAAAAAAAAAAAAAAAAAAAAAAAAAAAAAAAAAAAAAAAAAAAAAAAAAAAAAAAAAAAAAAAAAAAAAAAAAAAAAAAAAAAAAAAAAAAAAAAAAAAAAAAAAAAAAAAAAAAAAAAAAAAAAAAAAAAAAAAAAAAAAAAAAAAAAAAAAAAAAAAAAAAAAAAAAAAAAAAAAAAAAAAAAAAAAAAAAAAAAAAAAAAAAAAAAAAAAAAAAAAAAAAAAAAAAAAAAAAAAAAAAAAAAAAAAAAAAAAAAAAAAAAAAAAAAAAAAAAAAAAAAAAAAAAAAAAAAAAAAAAAAAAAAAAAAAAAAAAAAAAAAAAAAAAAAAAAAAAAAAAAAAAAAAAAAAAAAAAAAAAAAAAAAAAAAAAAAAAAAAAAAAAAAAAAAAAAAAAAAAAAAAAAAAAAAAAAAAAAAAAAAAAAAAAAAAAAAAAAAAAAAAAAAAAAAAAAAAAAAAAAAAAAAAAAAAAAAAAAAAAAAAAAAAAAAAAAAAAAAAAAAAAAAAAAAAAAAAAAAAAAAAAAAAAAAAAAAAAAAAAAAAAAAAAAAAAAAAAAAAAAAAAAAAAAAAAAAAAAAAAAAAAAAAAAAAAAAAAAAAAAAAAAAAAAAAAAAAAAAAAAAAAAAAAAAAAAAAAAAAAAAAAAAAAAAAAAAAAAAAAAAAAAAAAAAAAAAAAAAAAAAAAAAAAAAAAAAAAAAAAAAAAAAAAAAAAAAAAAAAAAAAAAAAAAAAAAAAAAAAAAAAAAAAAAAAAAAAAAAAAAAAAAAAAAAAAAAAAAAAAAAAAAAAAAAAAAAAAAAAAAAAAAAAAAAAAAAAAAAAAAAAAAAAAAAAAAAAAAAAAAAAAAAAAAAAAAAAAAAAAAAAAAAAAAAAAAAAAAAAAAAAAAAAAAAAAAAAAAAAAAAAAAAAAAAAAAAAAAAAAAAAAAAAAAAAAAAAAAAAAAAAAAAAAAAAAAAAAAAAAAAAAAAAAAAAAAAAAAAAAAAAAAAAAAAAAAAAAAAAAAAAAAAAAAAAAAAAAAAAAAAAAAAAAAAAAAAAAAAAAAAAAAAAAAAAAAAAAAAAAAAAAAAAAAAAAAAAAAAAAAAAAAAAAAAAAAAAAAAAAAAAAAAAAAAAAAAAAAAAAAAAAAAAAAAAAAAAAAAAAAAAAAAAAAAAAAAAAAAAAAAAAAAAAAAAAAAAAAAAAAAAAAAAAAAAAAAAAAAAAAAAAAAAAAAAAAAAAAAAAAAAAAAAAAAAAAAAAAAAAAAAAAAAAAAAAAAAAAAAAAAAAAAAAAAAAAAAAAAAAAAAAAAAAAAAAAAAAAAAAAAAAAAAAAAAAAAAAAAAAAAAAAAAAAAAAAAAAAAAAAAAAAAAAAAAAAAAAAAAAAAAAAAAAAAAAAAAAAAAAAAAAAAAAAAAAAAAAAAAAAAAAAAAAAAAAAAAAAAAAAAAAAAAAAAAAAAAAAAAAAAAAAAAAAAAAAAAAAAAAAAAAAAAAAAAAAAAAAAAAAAAAAAAAAAAAAAAAAAAAAAAAAAAAAAAAAAAAAAAAAAAAAAAAAAAAAAAAAAAAAAAAAAAAAAAAAAAAAAAAAAAAAAAAAAAAAAAAAAAAAAAAAAAAAAAAAAAAAAAAAAAAAAAAAAAAAAAAAAAAAAAAAAAAAAAAAAAAAAAAAAAAAAAAAAAAAAAAAAAAAAAAAAAAAAAAAAAAAAAAAAAAAAAAAAAAAAAAAAAAAAAAAAAAAAAAAAAAAAAAAAAAAAAAAAAAAAAAAAAAAAAAAAAAAAAAAAAAAAAAAAAAAAAAAAAAAAAAAAAAAAAAAAAAAAAAAAAAAAAAAAAAAAAAAAAAAAAAAAAAAAAAAAAAAAAAAAAAAAAAAAAAAAAAAAAAAAAAAAAAAAAAAAAAAAAAAAAAAAAAAAAAAAAAAAAAAAAAAAAAAAAAAAAAAAAAAAAAAAAAAAAAAAAAAAAAAAAAAAAAAAAAAAAAAAAAAAAAAAAAAAAAAAAAAAAAAAAAAAAAAAAAAAAAAAAAAAAAAAAAAAAMjAyMTowNzoxOSAxNToxNjo0NgAyMDIxOjA3OjE5IDE1OjE2OjQ2AAAAYwBiADIANQAzAAAA/+ELGGh0dHA6Ly9ucy5hZG9iZS5jb20veGFwLzEuMC8APD94cGFja2V0IGJlZ2luPSfvu78nIGlkPSdXNU0wTXBDZWhpSHpyZVN6TlRjemtjOWQnPz4NCjx4OnhtcG1ldGEgeG1sbnM6eD0iYWRvYmU6bnM6bWV0YS8iPjxyZGY6UkRGIHhtbG5zOnJkZj0iaHR0cDovL3d3dy53My5vcmcvMTk5OS8wMi8yMi1yZGYtc3ludGF4LW5zIyI+PHJkZjpEZXNjcmlwdGlvbiByZGY6YWJvdXQ9InV1aWQ6ZmFmNWJkZDUtYmEzZC0xMWRhLWFkMzEtZDMzZDc1MTgyZjFiIiB4bWxuczpkYz0iaHR0cDovL3B1cmwub3JnL2RjL2VsZW1lbnRzLzEuMS8iLz48cmRmOkRlc2NyaXB0aW9uIHJkZjphYm91dD0idXVpZDpmYWY1YmRkNS1iYTNkLTExZGEtYWQzMS1kMzNkNzUxODJmMWIiIHhtbG5zOnhtcD0iaHR0cDovL25zLmFkb2JlLmNvbS94YXAvMS4wLyI+PHhtcDpDcmVhdGVEYXRlPjIwMjEtMDctMTlUMTU6MTY6NDYuMjg5PC94bXA6Q3JlYXRlRGF0ZT48L3JkZjpEZXNjcmlwdGlvbj48cmRmOkRlc2NyaXB0aW9uIHJkZjphYm91dD0idXVpZDpmYWY1YmRkNS1iYTNkLTExZGEtYWQzMS1kMzNkNzUxODJmMWIiIHhtbG5zOmRjPSJodHRwOi8vcHVybC5vcmcvZGMvZWxlbWVudHMvMS4xLyI+PGRjOmNyZWF0b3I+PHJkZjpTZXEgeG1sbnM6cmRmPSJodHRwOi8vd3d3LnczLm9yZy8xOTk5LzAyLzIyLXJkZi1zeW50YXgtbnMjIj48cmRmOmxpPmNiMjUzPC9yZGY6bGk+PC9yZGY6U2VxPg0KCQkJPC9kYzpjcmVhdG9yPjwvcmRmOkRlc2NyaXB0aW9uPjwvcmRmOlJERj48L3g6eG1wbWV0YT4NCiAgICAgICAgICAgICAgICAgICAgICAgICAgICAgICAgICAgICAgICAgICAgICAgICAgICAgICAgICAgICAgICAgICAgICAgICAgICAgICAgICAgICAgICAgICAgICAgICAgICAKICAgICAgICAgICAgICAgICAgICAgICAgICAgICAgICAgICAgICAgICAgICAgICAgICAgICAgICAgICAgICAgICAgICAgICAgICAgICAgICAgICAgICAgICAgICAgICAgICAgIAogICAgICAgICAgICAgICAgICAgICAgICAgICAgICAgICAgICAgICAgICAgICAgICAgICAgICAgICAgICAgICAgICAgICAgICAgICAgICAgICAgICAgICAgICAgICAgICAgICAgCiAgICAgICAgICAgICAgICAgICAgICAgICAgICAgICAgICAgICAgICAgICAgICAgICAgICAgICAgICAgICAgICAgICAgICAgICAgICAgICAgICAgICAgICAgICAgICAgICAgICAKICAgICAgICAgICAgICAgICAgICAgICAgICAgICAgICAgICAgICAgICAgICAgICAgICAgICAgICAgICAgICAgICAgICAgICAgICAgICAgICAgICAgICAgICAgICAgICAgICAgIAogICAgICAgICAgICAgICAgICAgICAgICAgICAgICAgICAgICAgICAgICAgICAgICAgICAgICAgICAgICAgICAgICAgICAgICAgICAgICAgICAgICAgICAgICAgICAgICAgICAgCiAgICAgICAgICAgICAgICAgICAgICAgICAgICAgICAgICAgICAgICAgICAgICAgICAgICAgICAgICAgICAgICAgICAgICAgICAgICAgICAgICAgICAgICAgICAgICAgICAgICAKICAgICAgICAgICAgICAgICAgICAgICAgICAgICAgICAgICAgICAgICAgICAgICAgICAgICAgICAgICAgICAgICAgICAgICAgICAgICAgICAgICAgICAgICAgICAgICAgICAgIAogICAgICAgICAgICAgICAgICAgICAgICAgICAgICAgICAgICAgICAgICAgICAgICAgICAgICAgICAgICAgICAgICAgICAgICAgICAgICAgICAgICAgICAgICAgICAgICAgICAgCiAgICAgICAgICAgICAgICAgICAgICAgICAgICAgICAgICAgICAgICAgICAgICAgICAgICAgICAgICAgICAgICAgICAgICAgICAgICAgICAgICAgICAgICAgICAgICAgICAgICAKICAgICAgICAgICAgICAgICAgICAgICAgICAgICAgICAgICAgICAgICAgICAgICAgICAgICAgICAgICAgICAgICAgICAgICAgICAgICAgICAgICAgICAgICAgICAgICAgICAgIAogICAgICAgICAgICAgICAgICAgICAgICAgICAgICAgICAgICAgICAgICAgICAgICAgICAgICAgICAgICAgICAgICAgICAgICAgICAgICAgICAgICAgICAgICAgICAgICAgICAgCiAgICAgICAgICAgICAgICAgICAgICAgICAgICAgICAgICAgICAgICAgICAgICAgICAgICAgICAgICAgICAgICAgICAgICAgICAgICAgICAgICAgICAgICAgICAgICAgICAgICAKICAgICAgICAgICAgICAgICAgICAgICAgICAgICAgICAgICAgICAgICAgICAgICAgICAgICAgICAgICAgICAgICAgICAgICAgICAgICAgICAgICAgICAgICAgICAgICAgICAgIAogICAgICAgICAgICAgICAgICAgICAgICAgICAgICAgICAgICAgICAgICAgICAgICAgICAgICAgICAgICAgICAgICAgICAgICAgICAgICAgICAgICAgICAgICAgICAgICAgICAgCiAgICAgICAgICAgICAgICAgICAgICAgICAgICAgICAgICAgICAgICAgICAgICAgICAgICAgICAgICAgICAgICAgICAgICAgICAgICAgICAgICAgICAgICAgICAgICAgICAgICAKICAgICAgICAgICAgICAgICAgICAgICAgICAgICAgICAgICAgICAgICAgICAgICAgICAgICAgICAgICAgICAgICAgICAgICAgICAgICAgICAgICAgICAgICAgICAgICAgICAgIAogICAgICAgICAgICAgICAgICAgICAgICAgICAgICAgICAgICAgICAgICAgICAgICAgICAgICAgICAgICAgICAgICAgICAgICAgICAgICAgICAgICAgICAgICAgICAgICAgICAgCiAgICAgICAgICAgICAgICAgICAgICAgICAgICAgICAgICAgICAgICAgICAgICAgICAgICAgICAgICAgICAgICAgICAgICAgICAgICAgICAgICAgICAgICAgICAgICAgICAgICAKICAgICAgICAgICAgICAgICAgICAgICAgICAgICAgICAgICAgICAgICAgICAgICAgICAgICAgICAgICAgICAgICAgICAgICAgICAgICAgICAgICAgICAgICAgICAgICAgICAgIAogICAgICAgICAgICAgICAgICAgICAgICAgICAgPD94cGFja2V0IGVuZD0ndyc/Pv/bAEMABwUFBgUEBwYFBggHBwgKEQsKCQkKFQ8QDBEYFRoZGBUYFxseJyEbHSUdFxgiLiIlKCkrLCsaIC8zLyoyJyorKv/bAEMBBwgICgkKFAsLFCocGBwqKioqKioqKioqKioqKioqKioqKioqKioqKioqKioqKioqKioqKioqKioqKioqKioqKv/AABEIAJMC+QMBIgACEQEDEQH/xAAfAAABBQEBAQEBAQAAAAAAAAAAAQIDBAUGBwgJCgv/xAC1EAACAQMDAgQDBQUEBAAAAX0BAgMABBEFEiExQQYTUWEHInEUMoGRoQgjQrHBFVLR8CQzYnKCCQoWFxgZGiUmJygpKjQ1Njc4OTpDREVGR0hJSlNUVVZXWFlaY2RlZmdoaWpzdHV2d3h5eoOEhYaHiImKkpOUlZaXmJmaoqOkpaanqKmqsrO0tba3uLm6wsPExcbHyMnK0tPU1dbX2Nna4eLj5OXm5+jp6vHy8/T19vf4+fr/xAAfAQADAQEBAQEBAQEBAAAAAAAAAQIDBAUGBwgJCgv/xAC1EQACAQIEBAMEBwUEBAABAncAAQIDEQQFITEGEkFRB2FxEyIygQgUQpGhscEJIzNS8BVictEKFiQ04SXxFxgZGiYnKCkqNTY3ODk6Q0RFRkdISUpTVFVWV1hZWmNkZWZnaGlqc3R1dnd4eXqCg4SFhoeIiYqSk5SVlpeYmZqio6Slpqeoqaqys7S1tre4ubrCw8TFxsfIycrS09TV1tfY2dri4+Tl5ufo6ery8/T19vf4+fr/2gAMAwEAAhEDEQA/APpGiiom3vcMokZAqg4UDuT6j2oAloqPyn/57yfkv+FHlP8A895PyX/CgCSio/Kf/nvJ+S/4UeU//PeT8l/woAkoqPyn/wCe8n5L/hR5T/8APeT8l/woAkoqPyn/AOe8n5L/AIUeU/8Az3k/Jf8ACgCSio/Kf/nvJ+S/4UeU/wDz3k/Jf8KAJKKj8p/+e8n5L/hR5T/895PyX/CgCSio/Kf/AJ7yfkv+FHlP/wA95PyX/CgCSio/Kf8A57yfkv8AhTIlkdSTO/3mHAXsSPSgCeio/Kf/AJ7yfkv+FHlP/wA95PyX/CgCSio/Kf8A57yfkv8AhR5T/wDPeT8l/wAKAJKKj8p/+e8n5L/hR5T/APPeT8l/woAkoqPyn/57yfkv+FHlP/z3k/Jf8KAJKKj8p/8AnvJ+S/4UeU//AD3k/Jf8KAJKKj8p/wDnvJ+S/wCFHlP/AM95PyX/AAoAkoqPyn/57yfkv+FHlP8A895PyX/CgCSio/Kf/nvJ+S/4UeU//PeT8l/woAkoqPyn/wCe8n5L/hTJVkjhdxO+VUkZC/4UAT0VH5T/APPeT8l/wo8p/wDnvJ+S/wCFAElFR+U//PeT8l/wo8p/+e8n5L/hQBJRUflP/wA95PyX/Cjyn/57yfkv+FAElFR+U/8Az3k/Jf8ACjyn/wCe8n5L/hQBJRUflP8A895PyX/Cjyn/AOe8n5L/AIUASUVH5T/895PyX/Cjyn/57yfkv+FAElFR+U//AD3k/Jf8KPKf/nvJ+S/4UASUVH5T/wDPeT8l/wAKPKf/AJ7yfkv+FAElFR+U/wDz3k/Jf8KPKf8A57yfkv8AhQBJRUflP/z3k/Jf8KYFkMzJ574Cg9F759vagCeio/Kf/nvJ+S/4UeU//PeT8l/woAkoqPyn/wCe8n5L/hR5T/8APeT8l/woAkoqPyn/AOe8n5L/AIUeU/8Az3k/Jf8ACgCSio/Kf/nvJ+S/4UeU/wDz3k/Jf8KAJKKj8p/+e8n5L/hR5T/895PyX/CgCSio/Kf/AJ7yfkv+FHlP/wA95PyX/CgCSio/Kf8A57yfkv8AhR5T/wDPeT8l/wAKAJKKj8p/+e8n5L/hR5T/APPeT8l/woAkoqPyn/57yfkv+FHlP/z3k/Jf8KAJKKgRZGaQGd/lbA4X0B9Pen+U/wDz3k/Jf8KAJKKj8p/+e8n5L/hR5T/895PyX/CgCSio/Kf/AJ7yfkv+FHlP/wA95PyX/CgCSio/Kf8A57yfkv8AhR5T/wDPeT8l/wAKAJKKj8p/+e8n5L/hR5T/APPeT8l/woAkoqPyn/57yfkv+FHlP/z3k/Jf8KAJKKj8p/8AnvJ+S/4UeU//AD3k/Jf8KAJKKj8p/wDnvJ+S/wCFHlP/AM95PyX/AAoAkoqPyn/57yfkv+FHlP8A895PyX/CgCSio/Kf/nvJ+S/4UQlsyKzFtrYBIHoD2+tAElFFFABUa/8AH0/+4v8ANqkqNf8Aj6f/AHF/m1AElFFFAFKx1ew1K4vILK4WWWxl8m4TBBjfGccjn6jjr6VPaXcN9ZxXVq/mQzKHRsEZB6HB5rjIYZrGbUdfsUaSW01GdLqFBkz22QWAHdlOWX/gQ/iqg1/pt14V8NWOpDSFtLqxE8VxrFv50TuNoWNULLlyGyOc8cA9pi24p9Wl+Kv/AF9wdX8/zsekUV5vpNhb63J4Rg1qBbyIaZe74biM7XxJCoDo2cgejZwQO4o0zS7K00rT9Rt7aNL2PX5LVLnGZFhF28YiDdQmwAbenHSrSvbz/wA7BLSHP/XV/oekUV5jc2n2nxhc/wBpa5ouman/AGiPsgurJjetEGUqsMpnXKMBghUIyWBBOa1LU6RZ/EBhbvo+r6hcXLiR0Km/sQVJIYjJMYxtwdu0EDmlHVJ9wel/I7qiiigAooooAKKKKACo4P8AVn/ff/0I1JUcH+rP++//AKEaAJKKKp6vqK6To91fOhk8iMssa9Xb+FR7k4A+tJ6INxbTVLO/uru3tJ1llspBFOoBGxiAcc9eD1HGcjqDVuvPtEttb8O6tp0muWlhbQXsTWl3cWt68rSXDM0quwaJAg3NKOrcyKO1RaFHoiJqWl2F7pEqSWMgudf0x0WVMYH+kMCf3mDu3FudrHC0/wCv6/MOp6Dc3C2sPmOkjjcq4ijLtywGcDnHOSewyalrzKKfTT4bu7bR7fR2gjv9OY3+iqq29yxukzkLkBxjkbm4ZeecU3VYdNvfFV1Dq1jBLFHqcUw1eaylm8tV2ExeYImiVcgocyLjLZXPV21S/rp/n+APSPMen0V5vrGl2UmkeONUlt45b6ynlltLh1DPbOtrEQ0ZP3DnnIxmuu8UyzxeErya2i82SOEybRdvbE4GeHQE5yOnGehNJpqKf9aoFq/m19xftNTs74oLWbzC8QmX5SMoSQDyO5BpNP1ew1VrkadcrcfZZfJlKA4V8AkA9D1HTPp2rkfBOh3FjrF4Z7by47OOKxBGr3FwDsjDY2OoUj94f90jgd66DRI0h1jW4oUWONLiJVRRgKBBHgAdqdrf1/XQFqbVFFFIAooooAKKKKACo7n/AI9Zf9w/yqSo7n/j1l/3D/KgCSiiigBskiRRNJKwVEUszHoAOpqDT9QtdV06C+sJfOtrhA8b4IyD7HkfQ81i+NJLu40uHR9MhinutTl8oxzSmNPJHzS7mCsQCo252nlxxWDtkh07W9G8Tz6docTSLfwN9o862EbOC6OzrHuUyBty8cSgZo/r+v66MZ6DUT3CpdRQFJC0iswYRkoNuOC3QE54B64PpXnzHQbzweqyyeHtI061v8Ju2HTdQ+TspKgg7vfDp/FjmzZ3MFxfaHLDBDpEC6XqKqICPKiVZIR5iHAGw43KcDgih6f15XCKu7He0V5j4Ug06bU4bybSodLv49NkhXNjNG92xALSGSSFAWAVuFZ872O4jk29D0yz02z8CXtlbxxXl4qRXVyFHm3CfY5G2u3VhuVSAemBirUb/wBev+RF3+f4W/zO+urqGztzNcvsjDKucE8kgAYHqSBVefWLK3tJbl5HaOKQxMI4ndi4OCqqoLMc+gNc/wCN7W5vZtKtobcSxyXILH+05rXGwGXkRqcj92PmPIPQd6p6Jqlr4Q8Cx6rrrJafbXEkay6m8wkeXLhd0uAh+Y57cZJ61n0b/r+ty+tjrdN1W01e2aexkZlRtjpJE0TxtgHayOAynBBwQOCKuVz3hG6069t727stWsNTurmcTXj2FwsscblQqoCD0CooycE4J4ziuhqmStQooopDCiiigAooooAKjX/j6f8A3F/m1SVGv/H0/wDuL/NqAJKKKKAKkmqWcWrQaZJOq3lxG0scWDllUgE56d+nU846Grdeb3p168ubzxPYabZTW0F0k1tM144nNvBuVlWIRFW3hpiPnGfMHpVq5uNEj8aw30M2ja1e3c0DR27lGvrRWCrviPJ8sDDlcLgFjk9KI62/r0/ryYPQ76orW4W6tY50SSNZFDBZYyjjPYqeQfY1xGlnSLLxw8Vk+j6ve3E83m3MBRr6zBDNtlIySgI2AnbjKjB61hhoD4Z8MR3elx6zC+jBXtZbaa4WAkLiTbFFIQT8wBKgcHDDoTpf+uv+RVtz1iiuA07Q9Hu9S8O6c0cGo6dDok6bJIQIpmEkILPERjOcnBHBz3rd8Glx4XeKMbhBeXkMKFiAqJcSKi55wAAB7AVTjZX/AK3a/QhO/wCH4q5rtqdmty1uZv3qyrCV2n77LuA6f3eaqy+JdLg1EWU0syOZBF5ptZfJ3k4C+dt8vcSQMbs54rhNK0i9u/Elq0lmVWS6uLp2HiC7YgREW+eV5ODkdyOCQOK2vEuo2F3qSQ2evreXkNzCP7AV4nDMsoO5lUCUEYzktsG0EgipXS/X+v8AMb6nbUUUUAFFFFABRRRQAUUUUARxf6yb/fH/AKCKkqOL/WTf74/9BFSUAFVI9Us5dWm0yOdWvIIllkiwcqrEgHPTt07cZ6irE00dvbyTTsEjjUu7HooAyTXnVodesbmz8T3+m2UFtPdtNdTC8dpxbz7VVWiMQC7AsJPznHln1oWrt/XkD0V/6/r/ADPSKjuJhbW0s7JI6xoXKxoXZsDOAo5J9hXD6YdHsvG8kNpLpGq3lxNN513blDfWQIZsSkZJQfcBO3HyDB61jq2k2vhzxHY6QdH1Nv7GuTNq2m7TKxVcbbgrnLnOd275trHAo3KjG8kvM9TVtyhgCMjOCMGlrzDxZDaX2pXVlf2CXsU9jCgvHsprk6ccHJURxOoONr/MU7ckdNpdE0fWPFWqLdWdte2kemWZt43RXiQZmwyL0BxjBHIHSh6JvsZp7X6na1Ui1OzmnWGKbdIzyIBtPJQ4ft2JxWR4fmubz4baXM58+4m0yFmaS4aIuTGMkyKCyn3AzXMeDdKu31yzuZ7RokisxdOf7buZCDcOz/cK4JygyCcHOTk1Tjabj2/r9Cvs3O0t/Eul3OorZRyzLLISsTS2ssccpAJISRlCOcAnCk8A1q1xMuo2GpeLdOl0vX11t0u8tpyvFItkvlsDJ+7AZSM4zIW+8QMEiu2qelwe9gooooAKKKKACiiigAqOL/WTf74/9BFSVHF/rJv98f8AoIoAkooooAKjX/j6f/cX+bVJUJUtdPtdk+Rfu455b1FAE1FR+U//AD3k/Jf8KPKf/nvJ+S/4UASUVH5T/wDPeT8l/wAKPKf/AJ7yfkv+FAElFR+U/wDz3k/Jf8KPKf8A57yfkv8AhQBJRUflP/z3k/Jf8KPKf/nvJ+S/4UASUVH5T/8APeT8l/wo8p/+e8n5L/hQBJRUflP/AM95PyX/AAo8p/8AnvJ+S/4UASUVH5T/APPeT8l/wo8p/wDnvJ+S/wCFAElRwf6s/wC+/wD6EaPKf/nvJ+S/4VHDGxjP75x87dAv94+1AFiio/Kf/nvJ+S/4UeU//PeT8l/woAkoqPyn/wCe8n5L/hR5T/8APeT8l/woAkrDbwtC5liOo3wsJpWlksA0flMWbcw3bPMwWJON+OcdOK2PKf8A57yfkv8AhR5T/wDPeT8l/wAKA6WJKKj8p/8AnvJ+S/4UeU//AD3k/Jf8KAJKKj8p/wDnvJ+S/wCFHlP/AM95PyX/AAoAkoqPyn/57yfkv+FHlP8A895PyX/CgCSio/Kf/nvJ+S/4UeU//PeT8l/woAkoqPyn/wCe8n5L/hR5T/8APeT8l/woAkqO5/49Zf8AcP8AKjyn/wCe8n5L/hUdxGwtpSZnPyHgheePpQBYoqPyn/57yfkv+FHlP/z3k/Jf8KAJKKj8p/8AnvJ+S/4UeU//AD3k/Jf8KAJKgvbOHULCezulLQ3EbRyAMQSpGDyORT/Kf/nvJ+S/4UeU/wDz3k/Jf8KAM600LyL2K5vNTvdReAHyBc+WBFkYJAjRcnHGWz39TWrUflP/AM95PyX/AAo8p/8AnvJ+S/4UASUVH5T/APPeT8l/wo8p/wDnvJ+S/wCFAElFR+U//PeT8l/wo8p/+e8n5L/hQBJRUflP/wA95PyX/Cjyn/57yfkv+FAElFR+U/8Az3k/Jf8ACjyn/wCe8n5L/hQBJRUflP8A895PyX/Cjyn/AOe8n5L/AIUASVGv/H0/+4v82o8p/wDnvJ+S/wCFRiNvtLjzn+4vOF9T7UAWKKj8p/8AnvJ+S/4UeU//AD3k/Jf8KAJKKj8p/wDnvJ+S/wCFHlP/AM95PyX/AAoAkrLvtEN1qBvbTUrzTp3jWKVrbyyJFUkqCJEYDG5uRg8/StDyn/57yfkv+FHlP/z3k/Jf8KAI7Cxh06xjtbUMI4843MWJJOSST1JJJP1qxUflP/z3k/Jf8KPKf/nvJ+S/4UASUVH5T/8APeT8l/wo8p/+e8n5L/hQBJRUflP/AM95PyX/AAo8p/8AnvJ+S/4UASUVH5T/APPeT8l/wo8p/wDnvJ+S/wCFAElFR+U//PeT8l/wo8p/+e8n5L/hQBJRUflP/wA95PyX/Cjyn/57yfkv+FABF/rJv98f+gipKrxxt5kv75x8/ovPyj2qTyn/AOe8n5L/AIUASUVH5T/895PyX/Cjyn/57yfkv+FAElFR+U//AD3k/Jf8KPKf/nvJ+S/4UAZVz4dE13czW+qX9nHdsGuYIGj2ynaFzlkLLlVA+Vh0z15rVggjtbaOC3QJFEgRFHRVAwB+VHlP/wA95PyX/Cjyn/57yfkv+FAElFR+U/8Az3k/Jf8ACjyn/wCe8n5L/hQBJRUflP8A895PyX/Cjyn/AOe8n5L/AIUASUVH5T/895PyX/Cjyn/57yfkv+FAElFR+U//AD3k/Jf8KPKf/nvJ+S/4UASUVH5T/wDPeT8l/wAKPKf/AJ7yfkv+FAElRxf6yb/fH/oIo8p/+e8n5L/hSQAq0wLFjv6n/dFAEtFFFABUa/8AH0/+4v8ANqkqNf8Aj6f/AHF/m1AElFFFAEFrewXnnfZpN/kytDJ8pG116jmp64C58ny5P7T2f2P/AG9P/aHm48ry/Lbb5meNm/ZnPHTPFV7zDeHdRHht4I9B+324idYWltlhwvmlURl3Q5xkKQv3+2amMrxi+6X42+7cOrXr+F/8j0eiuU8CW1tBZ3jadrGkajZySr5cejQeVbW5C4IVRLIATwSARz25rq6tiQUUUUhhRRRQAUUUUAFFFFABUcH+rP8Avv8A+hGpKjg/1Z/33/8AQjQBJRRSMqupVwGVhggjIIoAp6drGn6tFPLp10k8dvKYpHXO0MACcE8EYI5HFQ6b4i0zVp2hsp3ZwnmL5kEkQlTj50LqBIvI+Zcjkc81kC0luNL8X2en4jmkkeKAKMbWNrEFwPyrPuLy38RyWFr4euEe4tbC4WcRnLWpaIIsbj+BtxB2nB+Q8UpO0W1ron96Hbb1/wAjp9O8RaZqtyYLGd2faXTfBJGsqjGWjZlAkXkfMpI5HPNadcbYajZ6vqnhyDSZkeXT43a8iQ/Nar5Ozy5B/A25l+U4Pyn0rsqpqzITb3CiiikUFFFFABRRRQAUUUUAFFFFABUdz/x6y/7h/lUlR3P/AB6y/wC4f5UASUUUUAVdR1K10q18+9dlQsFVUjaR3Y9FVFBZjweACeKrf8JDpn9lHUPtDCAP5ZUwuJA+cbPLxv35P3cZ9qr+KEgjsrbUJtWtdIexn82K6vQDCGZWTDgsuQQ56MDnHNctJ576TfXt9dBbe+1eJ11NYjCtuiQovnqM/Ku+MqpYsMMCSy8E/r8UM7jTNWs9XgeWxeQ+W2yRJYXikjbAOGRwGU4IPIHBBq5XMeDJUl/tIwXq6rA06umqqQftWUHUr8hK4AygC9sAg109MkKKKKQwooooAKKKKACiiigAooooAKKKKACo1/4+n/3F/m1SVGv/AB9P/uL/ADagCSiiigCmur2D6y2lJcq18kXnNCoJKrkDJPQfeHB55zVeXxHpcOqf2fJcOJ94jLeQ5iVzjCNLt2KxyMKWBORxzUEkUcXjey8tFTfY3LNtGNx8yDk+9c5eXUMWk6poEtwn9s3WpO9vbk4lkV5g6SKvUqqkZYcDYcnihdPn+dgeib/rY6qfxHpdtqn2Ca4cTblRmEDmNHbG1GkC7FY5GFJBORgcitSuB1O6gi0jXdBknRdYvbyQ2tuxxJNvZSkir1ZVBGWHA2HOMV31C1imD+JoKKKKACiiigAooooAKKKKACiiigAooooAji/1k3++P/QRUlRxf6yb/fH/AKCKkoAKp2mr2F/f3dnZ3KzT2ZUTqgJCE5wM9CflPA6Y5q5WJYRRweMNTSFFjQWVthUGAPnnPSgCa38S6Xc6itlHLMsshKxNLayxxykAkhJGUI5wCcKTwDWrXEy6jYal4t06XS9fXW3S7y2nK8Ui2S+WwMn7sBlIzjMhb7xAwSK7ajpcHvYKKKKACiiigAooooAKKKKACiiigAooooAKji/1k3++P/QRUlRxf6yb/fH/AKCKAJKKKKACo1/4+n/3F/m1SVCVLXT7XZPkX7uOeW9RQBNUc8bTW8kcczwM6lRLGFLIfUbgRke4I9qPKf8A57yfkv8AhR5T/wDPeT8l/wAKAK2laZHpNkbeOWWdmkaWWaYgvK7HLMcAD8AAB2FXaj8p/wDnvJ+S/wCFHlP/AM95PyX/AAoAkoqPyn/57yfkv+FHlP8A895PyX/CgCSio/Kf/nvJ+S/4UeU//PeT8l/woAkoqPyn/wCe8n5L/hR5T/8APeT8l/woAkoqPyn/AOe8n5L/AIUeU/8Az3k/Jf8ACgCSio/Kf/nvJ+S/4UeU/wDz3k/Jf8KAJKjg/wBWf99//QjR5T/895PyX/Co4Y2MZ/fOPnboF/vH2oAsUVH5T/8APeT8l/wo8p/+e8n5L/hQBJRUflP/AM95PyX/AAo8p/8AnvJ+S/4UASUVH5T/APPeT8l/wo8p/wDnvJ+S/wCFAElFR+U//PeT8l/wo8p/+e8n5L/hQBJRUflP/wA95PyX/Cjyn/57yfkv+FAElFR+U/8Az3k/Jf8ACjyn/wCe8n5L/hQBJRUflP8A895PyX/Cjyn/AOe8n5L/AIUASUVH5T/895PyX/Cjyn/57yfkv+FAElR3P/HrL/uH+VHlP/z3k/Jf8KjuI2FtKTM5+Q8ELzx9KALFFR+U/wDz3k/Jf8KPKf8A57yfkv8AhQBJRUflP/z3k/Jf8KPKf/nvJ+S/4UASUVH5T/8APeT8l/wo8p/+e8n5L/hQBJRUflP/AM95PyX/AAo8p/8AnvJ+S/4UASUVH5T/APPeT8l/wo8p/wDnvJ+S/wCFAElFR+U//PeT8l/wo8p/+e8n5L/hQBJRUflP/wA95PyX/Cjyn/57yfkv+FAElFR+U/8Az3k/Jf8ACjyn/wCe8n5L/hQBJRUflP8A895PyX/Cjyn/AOe8n5L/AIUASVGv/H0/+4v82o8p/wDnvJ+S/wCFRiNvtLjzn+4vOF9T7UAWKKj8p/8AnvJ+S/4UeU//AD3k/Jf8KAJKKj8p/wDnvJ+S/wCFHlP/AM95PyX/AAoAkoqPyn/57yfkv+FHlP8A895PyX/CgCSio/Kf/nvJ+S/4UeU//PeT8l/woAkoqPyn/wCe8n5L/hR5T/8APeT8l/woAkoqPyn/AOe8n5L/AIUeU/8Az3k/Jf8ACgCSio/Kf/nvJ+S/4UeU/wDz3k/Jf8KAJKKj8p/+e8n5L/hR5T/895PyX/CgCSio/Kf/AJ7yfkv+FHlP/wA95PyX/CgAi/1k3++P/QRUlV4428yX984+f0Xn5R7VJ5T/APPeT8l/woAkoqPyn/57yfkv+FHlP/z3k/Jf8KAJKKj8p/8AnvJ+S/4UeU//AD3k/Jf8KAJKKj8p/wDnvJ+S/wCFHlP/AM95PyX/AAoAkoqPyn/57yfkv+FHlP8A895PyX/CgCSio/Kf/nvJ+S/4UeU//PeT8l/woAkoqPyn/wCe8n5L/hR5T/8APeT8l/woAkoqPyn/AOe8n5L/AIUeU/8Az3k/Jf8ACgCSio/Kf/nvJ+S/4UeU/wDz3k/Jf8KAJKji/wBZN/vj/wBBFHlP/wA95PyX/CkgBVpgWLHf1P8AuigCWiiigAqNf+Pp/wDcX+bVJUa/8fT/AO4v82oAkooooAyl8Saa+qHT4nuJZg5jLx2czwq46qZQuwEdwWyK1a4lNVs9L1z7L4b1q2vmnv8AF1ooZZJIDI/7yRdpDIASznfkdQMZFLon9j/21df2r9hHiv7Xc+R9p2/afK3N5fl5+by/L2/d46980fZuNrX+vM7WqX9sWH2P7V9pXyPtH2bfg/63zPK2/wDffFcPoY0syaENOEB8SF0GsBAPtGPLbzftOOcbum7jO3FZx03w9H4PvbdrLTVuLLXllvYjDHvgh+3khpBjKp5RJBPG3PaqSV7Pv/T9PMFqv68/x0PVqKr2Bs20+A6YYDZmMGA2+PLKY4244xjpirFSIKKKKACiiigAooooAKjg/wBWf99//QjUlRwf6s/77/8AoRoAkqK5uEtLWW4lEjJEpZhFE0jED0VQWY+wBNS0UAYtj4s0vUNQFlEL+G4aJplW7025tgyKQGIMkag43Dv3qXR/Emn66f8AiXLfFTGJFkn064gjdT0KvIiq3XsT61S0spqcmqa3cOy20ytbWzf3YI8guP8Aebcc9wErO8M30UWq2mmaH4jPiHTkt3WViYZBabAoQb4UUDPI2tljjPY0L+vx/wCB+IP+v6+87OiiigAooooAKKKKACiiigAooooAKKKKACo7n/j1l/3D/KpKjuf+PWX/AHD/ACoAkooooAp6pq1po1mLm+MojZ1jVYYHmdmPQBEBY/gKhHiCw/sn+0ZDcwwbtgWezmilZs4AETKHJJ6ALz2qt4pGnjToJNU1o6IkM4kjvBJEm1wCACZVZOhPUViJdm+0O4vL3XoIbbS79XsNavFQRTjywNzgFFZd0jplSoOBjmkru/8AXYf9fmdXp2qWmrWxmsnZlVtjpJE0bxtjO1kYBlOCDggHBFW65rwl9pubrVdRuLlbqK5ljWKeOHyo5QkYBeNSSdpOQCSc44JGK6WmSFFFFAwooooAKKKKACiiigAooooAKKKKACo1/wCPp/8AcX+bVJUa/wDH0/8AuL/NqAJKKKKAMk+JtKGp/YTPJ5vmeV5n2aTyfMzjZ523y92eNu7OeMZpz+JNLj1P7A87ibeIy/kSGJXOMIZduwMcj5S2eRxXFGeL+2G26in2w6tvPhpiOQJtvnhfv5x+93f6vvtz81W9YjZLm70LSddtJ5Lm8SZtNjhD3UDPKsjMzh/ljxluUzjgNnFC2X9dglpe39b/APAO+ooooAKKKKACiiigAooooAKKKKACiiigAooooAji/wBZN/vj/wBBFSVHF/rJv98f+gipKAEJ2qSc4AzwM1h2/jHSbm/t7MJqcM105jh+06TdQK7BS2Nzxhc4Unr2rdrCsz/a3iu5vMk22mKbWH0aZsGVvfA2qD67xR1DoEXjHSZb2C1KapDLcSiKI3GkXcSM5zxveMKOh6mt2sKJv7W8XySZza6Ovlr6NcOoLH/gKEDP/TRh2rdo6B1CiiigAooooAKKKKACiiigAooooAKKKKACo4v9ZN/vj/0EVJUcX+sm/wB8f+gigCSiiigAqNf+Pp/9xf5tUlQlS10+12T5F+7jnlvUUATUVH5T/wDPeT8l/wAKPKf/AJ7yfkv+FAElFR+U/wDz3k/Jf8KPKf8A57yfkv8AhQBJRUflP/z3k/Jf8KPKf/nvJ+S/4UASUVH5T/8APeT8l/wo8p/+e8n5L/hQBJRUflP/AM95PyX/AAo8p/8AnvJ+S/4UASUVH5T/APPeT8l/wo8p/wDnvJ+S/wCFAElFR+U//PeT8l/wo8p/+e8n5L/hQBJUcH+rP++//oRo8p/+e8n5L/hUcMbGM/vnHzt0C/3j7UAWKKj8p/8AnvJ+S/4UeU//AD3k/Jf8KAJKKj8p/wDnvJ+S/wCFHlP/AM95PyX/AAoAkoqPyn/57yfkv+FHlP8A895PyX/CgCSio/Kf/nvJ+S/4UeU//PeT8l/woAkoqPyn/wCe8n5L/hR5T/8APeT8l/woAkoqPyn/AOe8n5L/AIUeU/8Az3k/Jf8ACgCSio/Kf/nvJ+S/4UeU/wDz3k/Jf8KAJKKj8p/+e8n5L/hR5T/895PyX/CgCSo7n/j1l/3D/Kjyn/57yfkv+FR3EbC2lJmc/IeCF54+lAFiio/Kf/nvJ+S/4UeU/wDz3k/Jf8KAJKKj8p/+e8n5L/hR5T/895PyX/CgCSio/Kf/AJ7yfkv+FHlP/wA95PyX/CgCSio/Kf8A57yfkv8AhR5T/wDPeT8l/wAKAJKKj8p/+e8n5L/hR5T/APPeT8l/woAkoqPyn/57yfkv+FHlP/z3k/Jf8KAJKKj8p/8AnvJ+S/4UeU//AD3k/Jf8KAJKKj8p/wDnvJ+S/wCFHlP/AM95PyX/AAoAkoqPyn/57yfkv+FHlP8A895PyX/CgCSo1/4+n/3F/m1HlP8A895PyX/CoxG32lx5z/cXnC+p9qALFFR+U/8Az3k/Jf8ACjyn/wCe8n5L/hQBJRUflP8A895PyX/Cjyn/AOe8n5L/AIUASUVH5T/895PyX/Cjyn/57yfkv+FAElFR+U//AD3k/Jf8KPKf/nvJ+S/4UASUVH5T/wDPeT8l/wAKPKf/AJ7yfkv+FAElFR+U/wDz3k/Jf8KPKf8A57yfkv8AhQBJRUflP/z3k/Jf8KPKf/nvJ+S/4UASUVH5T/8APeT8l/wo8p/+e8n5L/hQBJRUflP/AM95PyX/AAo8p/8AnvJ+S/4UAEX+sm/3x/6CKkqvHG3mS/vnHz+i8/KPapPKf/nvJ+S/4UASUVH5T/8APeT8l/wo8p/+e8n5L/hQBJRUflP/AM95PyX/AAo8p/8AnvJ+S/4UASUVH5T/APPeT8l/wo8p/wDnvJ+S/wCFAElFR+U//PeT8l/wo8p/+e8n5L/hQBJRUflP/wA95PyX/Cjyn/57yfkv+FAElFR+U/8Az3k/Jf8ACjyn/wCe8n5L/hQBJRUflP8A895PyX/Cjyn/AOe8n5L/AIUASUVH5T/895PyX/Cjyn/57yfkv+FAElRxf6yb/fH/AKCKPKf/AJ7yfkv+FJACrTAsWO/qf90UAS0UUUAFRr/x9P8A7i/zapKjX/j6f/cX+bUASUUUUAQWt7Beed9mk3+TK0MnykbXXqOaj1LUodLgiluFdlluIrdQgBIaRwgPJHGSM1xdz5Plyf2ns/sf+3p/7Q83HleX5bbfMzxs37M546Z4qvcw2V1o1xDpO3+wX1mwWz+ztiIjzIt4iI42Z/u8Z3YpU/eUfPl/G3+YpOyl5X/C/wDkej0V5zrtha6XbeM9O0q3jsbP+xYZhBaoI0WRjOGcAcAkKuT7Ctu302y0fx/YxaXaxWiXmnXMlyIkC+e6SQBXf+8w3t8x55NXy62/ra49b2OroooqQCiiigAooooAKKKKACo4P9Wf99//AEI1JUcH+rP++/8A6EaAJKZNNHbwvNO6xxRqWd3OAoHJJPYU+s/X3aPw3qLpafbWFrIRbYJ835T8uByc9MDmk720GtXYZpviHTtWuGgtJJhKq7wlxaywF1zjcvmKu9eR8y5HI55p9hrthqd1JBYPNN5YJ84W0ghbnHyyldjHPZWNcVpv7+e5t9F1xfEUp0qeFbgOrNYSALtjyvADE9HzJ8nLNji/4X1L/TtNsNO1n+0ohbbLyz8qNf7PKoNowqhozn5dkhJ/I1XX+vP/ACJ6f15HbUUUUhhRRRQAUUUUAFFFFABRRRQAUUUUAFR3P/HrL/uH+VSVHc/8esv+4f5UASUUUUAVdR1O10q18+9dlUsEVY42kd2P8KooLMeDwATxSabqlpq1qZ7F2ZVYo6yRtG8bddrIwDKcEHBAPIrG8aOiWVh59x9gh+2AvqWcfYgEY+Zk/KM42ZbK/PyDnBxLO4v20G8i0aCfXYbi/wBsmp2UsSyXMJjUtIGd0Qtx5eUIAxkAY2gXX+uw30/rudpp2qWerQyTadOJ445WhZlBA3qcEDPX6jirdcv4JuJJI9UhOjXWlxQ3hEaTtCRjaBtHlyNjAA9uRjPOOoo6L0X5E9/mFFFFAwooooAKKKKACiiigAooooAKKKKACo1/4+n/ANxf5tUlRr/x9P8A7i/zagCSiiigDLHiPSzqn2ATv53meVv8iTyjJ/c83bs3/wCzuz7VYOr2A1ldJ+0qb4xGbyACSEBAyew6jGevboa4y/iYXn9gaTrlpd/8TOK4ewihD3Ftm4E7mRw5CoBuxlAfujcSa6S6ijj8Zaa0cao0lvcs5VcbjmEZPqcAD8KFsmPrY26KKKBBRRRQAUUUUAFFFFABRRRQAUUUUAFFFFAEcX+sm/3x/wCgipKji/1k3++P/QRUlACE7VJOcAZ4Gaw7fxjpNzf21mE1OGa6cxw/adJuoFdgpbG54wucKT17Vu1hWhOreKrm85Ntpim1h9GmbBlb8BtUH13ijqHQnt/E2lXWoiyhnkMjOUjdreRYpWGcqkpXY5G1uFYng+la1ecaNPEdV0zy9RW4uvtbPN4fLAnTt+7Lhc7125OS+VOflC5Fej0LVXB6OwUUUUAFFFFABRRRQAUUUUAFFFFABRRRQAVHF/rJv98f+gipKji/1k3++P8A0EUASUUUUAFRr/x9P/uL/NqkqNot0hdZGQkAHGO31HvQBJUc8bTW8kcczwM6lRLGFLIfUbgRke4I9qPKf/nvJ+S/4UeU/wDz3k/Jf8KAK2laZHpNkbeOWWdmkaWWaYgvK7HLMcAD8AAB2FXaj8p/+e8n5L/hR5T/APPeT8l/woAkoqPyn/57yfkv+FHlP/z3k/Jf8KAJKKj8p/8AnvJ+S/4UeU//AD3k/Jf8KAJKKj8p/wDnvJ+S/wCFHlP/AM95PyX/AAoAkoqPyn/57yfkv+FHlP8A895PyX/CgCSio/Kf/nvJ+S/4UeU//PeT8l/woAkqOD/Vn/ff/wBCNHlP/wA95PyX/CkWBlGFmkAyT0Xvz6UAS0VH5T/895PyX/Cjyn/57yfkv+FAElFR+U//AD3k/Jf8KPKf/nvJ+S/4UASUVH5T/wDPeT8l/wAKPKf/AJ7yfkv+FAElFR+U/wDz3k/Jf8KPKf8A57yfkv8AhQBJRUflP/z3k/Jf8KPKf/nvJ+S/4UASUVH5T/8APeT8l/wo8p/+e8n5L/hQBJRUflP/AM95PyX/AAo8p/8AnvJ+S/4UASUVH5T/APPeT8l/wo8p/wDnvJ+S/wCFAElR3P8Ax6y/7h/lR5T/APPeT8l/wpGgZ1KtNIQwwRhf8KAJaKj8p/8AnvJ+S/4UeU//AD3k/Jf8KAJKKj8p/wDnvJ+S/wCFHlP/AM95PyX/AAoAkoqPyn/57yfkv+FHlP8A895PyX/CgCSio/Kf/nvJ+S/4UeU//PeT8l/woAkoqPyn/wCe8n5L/hR5T/8APeT8l/woAkoqPyn/AOe8n5L/AIUeU/8Az3k/Jf8ACgCSio/Kf/nvJ+S/4UeU/wDz3k/Jf8KAJKKj8p/+e8n5L/hR5T/895PyX/CgCSio/Kf/AJ7yfkv+FHlP/wA95PyX/CgCSo1/4+n/ANxf5tR5T/8APeT8l/wpPIYMW86TJABOF/w96AJaKj8p/wDnvJ+S/wCFHlP/AM95PyX/AAoAkoqPyn/57yfkv+FHlP8A895PyX/CgCSio/Kf/nvJ+S/4UeU//PeT8l/woAkoqPyn/wCe8n5L/hR5T/8APeT8l/woAkoqPyn/AOe8n5L/AIUeU/8Az3k/Jf8ACgCSio/Kf/nvJ+S/4UeU/wDz3k/Jf8KAJKKj8p/+e8n5L/hR5T/895PyX/CgCSio/Kf/AJ7yfkv+FHlP/wA95PyX/CgCSio/Kf8A57yfkv8AhR5T/wDPeT8l/wAKACL/AFk3++P/AEEVJUQgZSxE0mWOTwv09Pal8p/+e8n5L/hQBJRUflP/AM95PyX/AAo8p/8AnvJ+S/4UASUVH5T/APPeT8l/wo8p/wDnvJ+S/wCFAElFR+U//PeT8l/wo8p/+e8n5L/hQBJRUflP/wA95PyX/Cjyn/57yfkv+FAElFR+U/8Az3k/Jf8ACjyn/wCe8n5L/hQBJRUflP8A895PyX/Cjyn/AOe8n5L/AIUASUVH5T/895PyX/Cjyn/57yfkv+FAElFR+U//AD3k/Jf8KPKf/nvJ+S/4UASVHF/rJv8AfH/oIo8p/wDnvJ+S/wCFLHH5e75mYscknHpjt9KAH0UUUAFFFFABRRRQAUUUUAFFFFABRRRQAUUUUAFFFFABRRRQAUUUUAFFFFABRRRQAUUUUAFFFFABRRRQAUUUUAFFFFABRRRQAUUUUAFFFFABRRRQAUUUUAFFFFABRRRQAUUUUAFFFFABRRRQAUUUUAFFFFABRRRQAUUUUAFFFFABRRRQAUUUUAFFFFABRRRQAUUUUAFFFFABRRRQAUUUUAFFFFABRRRQAUUUUAFFFFABRRRQAUUUUAFFFFABRRRQAUUUUAf/2Q==)"
      ]
    },
    {
      "cell_type": "code",
      "metadata": {
        "colab": {
          "base_uri": "https://localhost:8080/"
        },
        "id": "GPpFI-1euzov",
        "outputId": "eb3f853c-4dc8-437f-c04e-07cafac0c081"
      },
      "source": [
        "\"\"\"\n",
        "Template - Create a dictionary grade_table whose keys are provided\n",
        "student names and values are associated list of grades\n",
        "\"\"\"\n",
        "\n",
        "\n",
        "# Add code here\n",
        "grade_table = {'Joe':[100,98,100,13]\n",
        "               ,'Scott':[75,59,89,77]\n",
        "               ,'John':[86,84,91,78]}\n",
        "\n",
        "\n",
        "# Tests\n",
        "print(grade_table[\"Joe\"])\n",
        "print(grade_table[\"Scott\"])\n",
        "print(grade_table[\"John\"])\n",
        "\n",
        "\n",
        "# Output\n",
        "#[100, 98, 100, 13]\n",
        "#[75, 59, 89, 77]\n",
        "#[86, 84, 91, 78]"
      ],
      "execution_count": null,
      "outputs": [
        {
          "output_type": "stream",
          "text": [
            "[100, 98, 100, 13]\n",
            "[75, 59, 89, 77]\n",
            "[86, 84, 91, 78]\n"
          ],
          "name": "stdout"
        }
      ]
    },
    {
      "cell_type": "markdown",
      "metadata": {
        "id": "Qyo8_DW3u8iZ"
      },
      "source": [
        "10. Challenge: Define a function make_grade_table(name_list, grades_list) that takes a list of names name_list and a list of grade lists 'grades_list'  and returns a dictionary whose keys corresponds to names \n",
        "'name_list' and whose corresponding values are the items 'grades_list'.  As a challenge, use the Python function zip() to simplfy the logic of your loop that creates the output dictionary."
      ]
    },
    {
      "cell_type": "code",
      "metadata": {
        "colab": {
          "base_uri": "https://localhost:8080/"
        },
        "id": "P2EA04VHvLfJ",
        "outputId": "1b68eed8-a3b1-443f-89d7-6e1294352582"
      },
      "source": [
        "\"\"\"\n",
        "Template - Create a function make_grade_table(name_list, grades_list) \n",
        "whose keys are the names in names and whose values are the\n",
        "lists of grades in grades\n",
        "\"\"\"\n",
        "\n",
        "\n",
        "# Add code here\n",
        "\n",
        "def make_grade_table(name_list, grades_list):\n",
        "    \"\"\"\n",
        "    Given a list of name_list (as strings) and a list of grades\n",
        "    for each name, return a dictionary whose keys are\n",
        "    the names and whose associated values are the lists of grades\n",
        "    \"\"\"\n",
        "    \n",
        "    return_dict = {}\n",
        "\n",
        "    for name, grades in zip(name_list, grades_list):\n",
        "        return_dict[name]  = grades\n",
        "    return return_dict\n",
        "        \n",
        "\n",
        "# Tests\n",
        "print(make_grade_table([], []))\n",
        "\n",
        "name_list = [\"Joe\", \"Scott\", \"John\"]\n",
        "grades_list = [100, 98, 100, 13], [75, 59, 89, 77],[86, 84, 91, 78] \n",
        "print(make_grade_table(name_list, grades_list))\n",
        "\n",
        "\n",
        "# Output\n",
        "#{}\n",
        "#{'Scott': [75, 59, 89, 77], 'John': [86, 84, 91, 78], 'Joe': [100, 98, 100, 13]}\n",
        "\n"
      ],
      "execution_count": null,
      "outputs": [
        {
          "output_type": "stream",
          "text": [
            "{}\n",
            "{'Joe': [100, 98, 100, 13], 'Scott': [75, 59, 89, 77], 'John': [86, 84, 91, 78]}\n"
          ],
          "name": "stdout"
        }
      ]
    },
    {
      "cell_type": "code",
      "metadata": {
        "id": "jGPwYw3-gifC"
      },
      "source": [
        ""
      ],
      "execution_count": null,
      "outputs": []
    }
  ]
}