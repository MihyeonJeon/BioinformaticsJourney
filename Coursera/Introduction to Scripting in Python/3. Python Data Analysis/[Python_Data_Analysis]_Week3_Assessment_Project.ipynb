{
  "nbformat": 4,
  "nbformat_minor": 0,
  "metadata": {
    "colab": {
      "name": "[Python Data Analysis] Week3_Assessment Project.ipynb",
      "provenance": []
    },
    "kernelspec": {
      "name": "python3",
      "display_name": "Python 3"
    },
    "language_info": {
      "name": "python"
    }
  },
  "cells": [
    {
      "cell_type": "markdown",
      "metadata": {
        "id": "2BntYhvwxaY1"
      },
      "source": [
        "## [Project : Reading and Writing CSV Files]"
      ]
    },
    {
      "cell_type": "code",
      "metadata": {
        "id": "bl7qoNmJqCrH"
      },
      "source": [
        "\"\"\"\n",
        "Project for Week 3 of \"Python Data Analysis\".\n",
        "Read and write CSV files using a dictionary of dictionaries.\n",
        "\n",
        "Be sure to read the project description page for further information\n",
        "about the expected behavior of the program.\n",
        "\"\"\"\n",
        "\n",
        "import csv\n",
        "\n",
        "def read_csv_fieldnames(filename, separator, quote):\n",
        "    \"\"\"\n",
        "    Inputs:\n",
        "      filename  - name of CSV file\n",
        "      separator - character that separates fields\n",
        "      quote     - character used to optionally quote fields\n",
        "    Ouput:\n",
        "      A list of strings corresponding to the field names in\n",
        "      the given CSV file.\n",
        "    \"\"\"\n",
        "    with open(filename,'rt',newline='') as csv_file:\n",
        "        csv_reader = csv.DictReader(csv_file,\n",
        "                                    delimiter = separator,\n",
        "                                    quotechar = quote\n",
        "                                    )\n",
        "        filedname_list = csv_reader.fieldnames\n",
        "\n",
        "    return filedname_list\n",
        "\n",
        "\n",
        "def read_csv_as_list_dict(filename, separator, quote):\n",
        "    \"\"\"\n",
        "    Inputs:\n",
        "      filename  - name of CSV file\n",
        "      separator - character that separates fields\n",
        "      quote     - character used to optionally quote fields\n",
        "    Output:\n",
        "      Returns a list of dictionaries where each item in the list\n",
        "      corresponds to a row in the CSV file.  The dictionaries in the\n",
        "      list map the field names to the field values for that row.\n",
        "    \"\"\"\n",
        "    with open(filename,'rt',newline='') as csv_file:\n",
        "        csv_reader = csv.DictReader(csv_file,\n",
        "                                    delimiter = separator,\n",
        "                                    quotechar = quote\n",
        "                                    )\n",
        "        csv_list = []\n",
        "        for row in csv_reader:\n",
        "            csv_list.append(row)\n",
        "        \n",
        "    return csv_list\n",
        "\n",
        "\n",
        "def read_csv_as_nested_dict(filename, keyfield, separator, quote):\n",
        "    \"\"\"\n",
        "    Inputs:\n",
        "      filename  - name of CSV file\n",
        "      keyfield  - field to use as key for rows\n",
        "      separator - character that separates fields\n",
        "      quote     - character used to optionally quote fields\n",
        "    Output:\n",
        "      Returns a dictionary of dictionaries where the outer dictionary\n",
        "      maps the value in the key_field to the corresponding row in the\n",
        "      CSV file.  The inner dictionaries map the field names to the\n",
        "      field values for that row.\n",
        "    \"\"\"\n",
        "    csv_dict = {}\n",
        "    with open(filename,'rt',newline='') as csv_file:\n",
        "        csv_reader = csv.DictReader(csv_file,\n",
        "                                    delimiter = separator,\n",
        "                                    quotechar = quote)\n",
        "\n",
        "        for row in csv_reader:\n",
        "            # if list(dict(row).values()) != csv_reader.fieldnames:\n",
        "            csv_dict[row[keyfield]] = row\n",
        "    return csv_dict\n",
        "\n",
        "\n",
        "def write_csv_from_list_dict(filename, table, fieldnames, separator, quote):\n",
        "    \"\"\"\n",
        "    Inputs:\n",
        "      filename   - name of CSV file\n",
        "      table      - list of dictionaries containing the table to write\n",
        "      fieldnames - list of strings corresponding to the field names in order\n",
        "      separator  - character that separates fields\n",
        "      quote      - character used to optionally quote fields\n",
        "    Output:\n",
        "      Writes the table to a CSV file with the name filename, using the\n",
        "      given fieldnames.  The CSV file should use the given separator and\n",
        "      quote characters.  All non-numeric fields will be quoted.\n",
        "    \"\"\"\n",
        "    with open(filename, 'w', newline='') as csv_file:\n",
        "        csv_writer = csv.DictWriter(csv_file,\n",
        "                                delimiter = separator,\n",
        "                                quotechar = quote,\n",
        "                                quoting = csv.QUOTE_NONNUMERIC,\n",
        "                                fieldnames = fieldnames\n",
        "                                )\n",
        "        csv_writer.writeheader()\n",
        "        for row in table:\n",
        "            csv_writer.writerow(row)\n",
        "            "
      ],
      "execution_count": null,
      "outputs": []
    },
    {
      "cell_type": "code",
      "metadata": {
        "id": "d3gXcdmxzzzj"
      },
      "source": [
        "path = '/content/drive/MyDrive/etc/isp_csv_files/'"
      ],
      "execution_count": null,
      "outputs": []
    },
    {
      "cell_type": "code",
      "metadata": {
        "id": "y-z9J8Ed5cUj"
      },
      "source": [
        "fieldname_4 = read_csv_fieldnames(path+'table4.csv', ',', '\"')"
      ],
      "execution_count": null,
      "outputs": []
    },
    {
      "cell_type": "code",
      "metadata": {
        "colab": {
          "base_uri": "https://localhost:8080/"
        },
        "id": "Nt97UP56nQOs",
        "outputId": "8c8bae8f-c98a-425c-d933-657282307474"
      },
      "source": [
        " print(['Field, 1', \"'Field 2'\", 'Field 3', \"'Field\", \" 4'\"])"
      ],
      "execution_count": null,
      "outputs": [
        {
          "output_type": "stream",
          "text": [
            "['Field, 1', \"'Field 2'\", 'Field 3', \"'Field\", \" 4'\"]\n"
          ],
          "name": "stdout"
        }
      ]
    },
    {
      "cell_type": "code",
      "metadata": {
        "colab": {
          "base_uri": "https://localhost:8080/"
        },
        "id": "_S0Kbs5C17_W",
        "outputId": "17249435-accd-4a7f-9d67-e07a51157aa1"
      },
      "source": [
        "print(read_csv_as_nested_dict(path+'table4.csv', fieldname_4[2], ',', '\"'))"
      ],
      "execution_count": null,
      "outputs": [
        {
          "output_type": "stream",
          "text": [
            "{\"'g\": OrderedDict([('Field, 1', \"'abc'\"), (\"'Field 2'\", 'd,ef'), ('Field 3', \"'g\"), (\"'Field\", \"hi'\"), (\"4'\", 'jkl')]), \"'ghi\": OrderedDict([('Field, 1', \"'abc'\"), (\"'Field 2'\", 'def'), ('Field 3', \"'ghi\"), (\"'Field\", \"'\"), (\"4'\", ',jkl')]), ',def': OrderedDict([('Field, 1', \"'a\"), (\"'Field 2'\", \"b;c'\"), ('Field 3', ',def'), (\"'Field\", \"'ghi'\"), (\"4'\", 'jk;l')])}\n"
          ],
          "name": "stdout"
        }
      ]
    }
  ]
}