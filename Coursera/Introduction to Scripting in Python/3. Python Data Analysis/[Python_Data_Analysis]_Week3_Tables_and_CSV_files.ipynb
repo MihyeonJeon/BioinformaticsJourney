{
  "nbformat": 4,
  "nbformat_minor": 0,
  "metadata": {
    "colab": {
      "name": "[Python Data Analysis] Week3_Tables and CSV files.ipynb",
      "provenance": []
    },
    "kernelspec": {
      "name": "python3",
      "display_name": "Python 3"
    },
    "language_info": {
      "name": "python"
    }
  },
  "cells": [
    {
      "cell_type": "markdown",
      "metadata": {
        "id": "4NIj2fA3XA9g"
      },
      "source": [
        "### [Tables and CSV files]\n",
        "\n",
        "* CSV = Commna Separated \n",
        "* Each line in the file means each row and columns are separated by commas or any other field separator. (Separator doesn't have to be commas.)\n",
        "* Whatever it is, the same character has to be used throughout the entire file.\n",
        "* To distinguish the character in value and field separator, you quote the strings inside the file.\n",
        "\n",
        "#### Expectations\n",
        "> 1. Files are separated by a single delimiter character, which is often a comma.\n",
        "> 2. Rows are separated by a newline character.\n",
        "> 3. Fields are interpreted as plain text.\n",
        "> 4. Fields can be quoted by a quote character, which is often a douple quote(\").\n",
        "> 5. Quoted fields can contain the delimeter character and/or newlines within them.\n",
        "> 6. Each row contains the same number of fields in the same order.\n",
        "\n",
        "* CSV files are not required to follow these conventions. While most files will, there are some programs that do not adhere to these rules and follow thier own conventions.\n"
      ]
    },
    {
      "cell_type": "markdown",
      "metadata": {
        "id": "dGtof1z6qaRy"
      },
      "source": [
        "### [Parsing CSV Files]"
      ]
    },
    {
      "cell_type": "code",
      "metadata": {
        "id": "32fFLLURrqJE"
      },
      "source": [
        "path = '/content/drive/MyDrive/etc/'"
      ],
      "execution_count": null,
      "outputs": []
    },
    {
      "cell_type": "code",
      "metadata": {
        "colab": {
          "base_uri": "https://localhost:8080/"
        },
        "id": "IAEG73OXWwUG",
        "outputId": "8886508c-39b9-4f89-b913-6672cb6723e8"
      },
      "source": [
        "\"\"\"\n",
        "Example code to read and parse a CSV file.\n",
        "\"\"\"\n",
        "\n",
        "def parse(csvfilename):\n",
        "    \"\"\"\n",
        "    Reads CSV file named csvfilename, parses\n",
        "    it's content and returns the data within\n",
        "    the file as a list of lists.\n",
        "    \"\"\"\n",
        "    table = []\n",
        "    with open(csvfilename, \"r\") as csvfile:\n",
        "        for line in csvfile:\n",
        "            line = line.rstrip()\n",
        "            columns = line.split(',')\n",
        "            table.append(columns)\n",
        "    return table\n",
        "\n",
        "\n",
        "def print_table(table):\n",
        "    \"\"\"\n",
        "    Print out table, which must be a list\n",
        "    of lists, in a nicely formatted way.\n",
        "    \"\"\"\n",
        "    for row in table:\n",
        "        # Header column left justified\n",
        "        print(\"{:<19}\".format(row[0]), end='')\n",
        "        # Remaining columns right justified\n",
        "        for col in row[1:]:\n",
        "            print(\"{:>4}\".format(col), end='')\n",
        "        print(\"\", end='\\n')\n",
        "\n",
        "table = parse(path+\"hightemp.csv\")\n",
        "print_table(table)\n",
        "\n",
        "print(\"\")\n",
        "print(\"\")\n",
        "\n",
        "table2 = parse(path+\"hightemp2.csv\")\n",
        "print_table(table2)"
      ],
      "execution_count": null,
      "outputs": [
        {
          "output_type": "stream",
          "text": [
            "City                Jan Feb Mar Apr May Jun Jul Aug Sep Oct Nov Dec\n",
            "Houston              62  65  72  78  84  90  92  93  88  81  71  63\n",
            "Baghdad              61  66  75  86  97 108 111 111 104  91  75  64\n",
            "Moscow               21  25  36  50  64  72  73  70  59  46  34  25\n",
            "San Francisco        57  60  62  63  64  66  67  68  70  69  63  57\n",
            "London               43  45  50  55  63  68  72  70  66  57  50  45\n",
            "Chicago              32  36  46  59  70  81  84  82  75  63  48  36\n",
            "Sydney               79  79  77  73  68  64  63  64  68  72  75  79\n",
            "Paris                45  46  54  61  68  73  77  77  70  61  52  46\n",
            "Tokyo                46  48  54  63  70  75  82  84  79  68  59  52\n",
            "Shanghai             46  48  55  66  75  81  90  90  81  72  63  52\n",
            "\n",
            "\n",
            "\"City\"              \"Jan\" \"Feb\" \"Mar\"   \"Apr\" \"May\" \"Jun\" \"Jul\"  \"Aug\" \"Sep\" \"Oct\" \"Nov\" \"Dec\"\n",
            "\"Houston            USA\"  62  65  72  78  84  90  92  93  88  81  71  63\n",
            "\"Baghdad            Iraq\"  61  66  75  86  97 108  111 111 104  91  75  64\n",
            "\"Moscow             Russia\"  21  25  36   50  64  72  73  70  59  46  34  25\n",
            "\"San Francisco      USA\"  57  60  62  63  64  66  67  68  70  69  63  57\n",
            " \"London            England\"  43  45  50  55  63     68  72  70  66  57  50  45\n",
            "\"Chicago            USA\"  32  36  46  59  70  81  84  82  75  63  48  36\n",
            "\"Sydney             Australia\"  79  79  77  73  68  64  63  64  68  72  75  79\n",
            " \"Paris             France\"  45  46  54  61  68  73  77  77  70  61  52  46\n",
            "\"Tokyo              Japan\"  46  48  54  63   70  75  82  84  79  68   59  52\n",
            "\"Shanghai           China\"  46  48  55  66  75  81  90  90  81  72  63  52\n"
          ],
          "name": "stdout"
        }
      ]
    },
    {
      "cell_type": "markdown",
      "metadata": {
        "id": "YkuOaSq5yy-e"
      },
      "source": [
        "### [Python's CSV Module]\n",
        "\n",
        "* Python has a nice CSV module that will help us to read CSV files. It handles messy CSV files gracefully.\n",
        "* csv.reader function takes a variety of options that give you more flexibility for dealing with CSV files that are formatted in different ways."
      ]
    },
    {
      "cell_type": "code",
      "metadata": {
        "colab": {
          "base_uri": "https://localhost:8080/"
        },
        "id": "Kk2snVhYsbjT",
        "outputId": "12c28dad-8fae-4c0b-8147-ebe3be981179"
      },
      "source": [
        "\"\"\"\n",
        "Using the csv module.\n",
        "\"\"\"\n",
        "\n",
        "import csv\n",
        "\n",
        "def parse(csvfilename):\n",
        "    \"\"\"\n",
        "    Reads CSV file named csvfilename, parses\n",
        "    it's content and returns the data within\n",
        "    the file as a list of lists.\n",
        "    \"\"\"\n",
        "    table = []\n",
        "    with open(csvfilename, \"r\") as csvfile:\n",
        "        csvreader = csv.reader(csvfile,\n",
        "                               skipinitialspace=True)\n",
        "        for row in csvreader:\n",
        "            table.append(row)\n",
        "    return table\n",
        "\n",
        "\n",
        "def print_table(table):\n",
        "    \"\"\"\n",
        "    Print out table, which must be a list\n",
        "    of lists, in a nicely formatted way.\n",
        "    \"\"\"\n",
        "    for row in table:\n",
        "        # Header column left justified\n",
        "        print(\"{:<19}\".format(row[0]), end='')\n",
        "        # Remaining columns right justified\n",
        "        for col in row[1:]:\n",
        "            print(\"{:>4}\".format(col), end='')\n",
        "        print(\"\", end='\\n')\n",
        "\n",
        "table = parse(path+\"hightemp.csv\")\n",
        "print_table(table)\n",
        "\n",
        "print(\"\")\n",
        "print(\"\")\n",
        "\n",
        "table2 = parse(path+\"hightemp2.csv\")\n",
        "print_table(table2)"
      ],
      "execution_count": null,
      "outputs": [
        {
          "output_type": "stream",
          "text": [
            "City                Jan Feb Mar Apr May Jun Jul Aug Sep Oct Nov Dec\n",
            "Houston              62  65  72  78  84  90  92  93  88  81  71  63\n",
            "Baghdad              61  66  75  86  97 108 111 111 104  91  75  64\n",
            "Moscow               21  25  36  50  64  72  73  70  59  46  34  25\n",
            "San Francisco        57  60  62  63  64  66  67  68  70  69  63  57\n",
            "London               43  45  50  55  63  68  72  70  66  57  50  45\n",
            "Chicago              32  36  46  59  70  81  84  82  75  63  48  36\n",
            "Sydney               79  79  77  73  68  64  63  64  68  72  75  79\n",
            "Paris                45  46  54  61  68  73  77  77  70  61  52  46\n",
            "Tokyo                46  48  54  63  70  75  82  84  79  68  59  52\n",
            "Shanghai             46  48  55  66  75  81  90  90  81  72  63  52\n",
            "\n",
            "\n",
            "City                Jan Feb Mar Apr May Jun Jul Aug Sep Oct Nov Dec\n",
            "Houston, USA         62  65  72  78  84  90  92  93  88  81  71  63\n",
            "Baghdad, Iraq        61  66  75  86  97 108 111 111 104  91  75  64\n",
            "Moscow, Russia       21  25  36  50  64  72  73  70  59  46  34  25\n",
            "San Francisco, USA   57  60  62  63  64  66  67  68  70  69  63  57\n",
            "London, England      43  45  50  55  63  68  72  70  66  57  50  45\n",
            "Chicago, USA         32  36  46  59  70  81  84  82  75  63  48  36\n",
            "Sydney, Australia    79  79  77  73  68  64  63  64  68  72  75  79\n",
            "Paris, France        45  46  54  61  68  73  77  77  70  61  52  46\n",
            "Tokyo, Japan         46  48  54  63  70  75  82  84  79  68  59  52\n",
            "Shanghai, China      46  48  55  66  75  81  90  90  81  72  63  52\n"
          ],
          "name": "stdout"
        }
      ]
    },
    {
      "cell_type": "markdown",
      "metadata": {
        "id": "q_x4vKjq14m5"
      },
      "source": [
        "### [CSV DictReader]\n",
        "\n",
        "* CSV module handles new lines on its own.\n",
        "* newline='' : We don't kneed Python's file handling utilities to process the new lines because I can have a new line inside the value of a particular column in CSV file.\n",
        "* Python's file handling utilities can't differentiate between ending new lines and the one inside some column value. So newline='' makes the utilities ignore the new lines and leave all the new line handling up to the CSV module."
      ]
    },
    {
      "cell_type": "code",
      "metadata": {
        "colab": {
          "base_uri": "https://localhost:8080/"
        },
        "id": "XpmdmOmM0lfq",
        "outputId": "b28beeff-8ebd-4b5b-bc0c-1d62edd70c9a"
      },
      "source": [
        "\"\"\"\n",
        "Using csv.DictReader.\n",
        "\"\"\"\n",
        "\n",
        "import csv\n",
        "\n",
        "MONTHS = ('Jan', 'Feb', 'Mar', 'Apr',\n",
        "          'May', 'Jun', 'Jul', 'Aug',\n",
        "          'Sep', 'Oct', 'Nov', 'Dec')\n",
        "\n",
        "def dictparse(csvfilename, keyfield):\n",
        "    \"\"\"\n",
        "    Reads CSV file named csvfilename, parses\n",
        "    it's content and returns the data within\n",
        "    the file as a dictionary of dictionaries.\n",
        "    \"\"\"\n",
        "    table = {}\n",
        "    with open(csvfilename, \"rt\", newline='') as csvfile:\n",
        "        csvreader = csv.DictReader(csvfile,\n",
        "                                   skipinitialspace=True)\n",
        "        for row in csvreader:\n",
        "            table[row[keyfield]] = row\n",
        "    return table\n",
        "\n",
        "\n",
        "def print_table(table):\n",
        "    \"\"\"\n",
        "    Print out table, which must be a dictionary\n",
        "    of dictionaries, in a nicely formatted way.\n",
        "    \"\"\"\n",
        "    print(\"City               \", end='')\n",
        "    for month in MONTHS:\n",
        "        print(\"{:>6}\".format(month), end='')\n",
        "    print(\"\")\n",
        "    for name, row in table.items():\n",
        "        # Header column left justified\n",
        "        print(\"{:<19}\".format(name), end='')\n",
        "        # Remaining columns right justified\n",
        "        for month in MONTHS:\n",
        "            print(\"{:>6}\".format(row[month]), end='')\n",
        "        print(\"\", end='\\n')\n",
        "\n",
        "table = dictparse(path+\"hightemp.csv\", 'City')\n",
        "print_table(table)"
      ],
      "execution_count": null,
      "outputs": [
        {
          "output_type": "stream",
          "text": [
            "City                  Jan   Feb   Mar   Apr   May   Jun   Jul   Aug   Sep   Oct   Nov   Dec\n",
            "Houston                62    65    72    78    84    90    92    93    88    81    71    63\n",
            "Baghdad                61    66    75    86    97   108   111   111   104    91    75    64\n",
            "Moscow                 21    25    36    50    64    72    73    70    59    46    34    25\n",
            "San Francisco          57    60    62    63    64    66    67    68    70    69    63    57\n",
            "London                 43    45    50    55    63    68    72    70    66    57    50    45\n",
            "Chicago                32    36    46    59    70    81    84    82    75    63    48    36\n",
            "Sydney                 79    79    77    73    68    64    63    64    68    72    75    79\n",
            "Paris                  45    46    54    61    68    73    77    77    70    61    52    46\n",
            "Tokyo                  46    48    54    63    70    75    82    84    79    68    59    52\n",
            "Shanghai               46    48    55    66    75    81    90    90    81    72    63    52\n"
          ],
          "name": "stdout"
        }
      ]
    },
    {
      "cell_type": "code",
      "metadata": {
        "colab": {
          "base_uri": "https://localhost:8080/"
        },
        "id": "yJwEkWlHXL6S",
        "outputId": "fb858c2c-3cd4-464f-8371-2a541ee79a68"
      },
      "source": [
        "print(table)"
      ],
      "execution_count": null,
      "outputs": [
        {
          "output_type": "stream",
          "text": [
            "{'Houston': OrderedDict([('City', 'Houston'), ('Jan', '62'), ('Feb', '65'), ('Mar', '72'), ('Apr', '78'), ('May', '84'), ('Jun', '90'), ('Jul', '92'), ('Aug', '93'), ('Sep', '88'), ('Oct', '81'), ('Nov', '71'), ('Dec', '63')]), 'Baghdad': OrderedDict([('City', 'Baghdad'), ('Jan', '61'), ('Feb', '66'), ('Mar', '75'), ('Apr', '86'), ('May', '97'), ('Jun', '108'), ('Jul', '111'), ('Aug', '111'), ('Sep', '104'), ('Oct', '91'), ('Nov', '75'), ('Dec', '64')]), 'Moscow': OrderedDict([('City', 'Moscow'), ('Jan', '21'), ('Feb', '25'), ('Mar', '36'), ('Apr', '50'), ('May', '64'), ('Jun', '72'), ('Jul', '73'), ('Aug', '70'), ('Sep', '59'), ('Oct', '46'), ('Nov', '34'), ('Dec', '25')]), 'San Francisco': OrderedDict([('City', 'San Francisco'), ('Jan', '57'), ('Feb', '60'), ('Mar', '62'), ('Apr', '63'), ('May', '64'), ('Jun', '66'), ('Jul', '67'), ('Aug', '68'), ('Sep', '70'), ('Oct', '69'), ('Nov', '63'), ('Dec', '57')]), 'London': OrderedDict([('City', 'London'), ('Jan', '43'), ('Feb', '45'), ('Mar', '50'), ('Apr', '55'), ('May', '63'), ('Jun', '68'), ('Jul', '72'), ('Aug', '70'), ('Sep', '66'), ('Oct', '57'), ('Nov', '50'), ('Dec', '45')]), 'Chicago': OrderedDict([('City', 'Chicago'), ('Jan', '32'), ('Feb', '36'), ('Mar', '46'), ('Apr', '59'), ('May', '70'), ('Jun', '81'), ('Jul', '84'), ('Aug', '82'), ('Sep', '75'), ('Oct', '63'), ('Nov', '48'), ('Dec', '36')]), 'Sydney': OrderedDict([('City', 'Sydney'), ('Jan', '79'), ('Feb', '79'), ('Mar', '77'), ('Apr', '73'), ('May', '68'), ('Jun', '64'), ('Jul', '63'), ('Aug', '64'), ('Sep', '68'), ('Oct', '72'), ('Nov', '75'), ('Dec', '79')]), 'Paris': OrderedDict([('City', 'Paris'), ('Jan', '45'), ('Feb', '46'), ('Mar', '54'), ('Apr', '61'), ('May', '68'), ('Jun', '73'), ('Jul', '77'), ('Aug', '77'), ('Sep', '70'), ('Oct', '61'), ('Nov', '52'), ('Dec', '46')]), 'Tokyo': OrderedDict([('City', 'Tokyo'), ('Jan', '46'), ('Feb', '48'), ('Mar', '54'), ('Apr', '63'), ('May', '70'), ('Jun', '75'), ('Jul', '82'), ('Aug', '84'), ('Sep', '79'), ('Oct', '68'), ('Nov', '59'), ('Dec', '52')]), 'Shanghai': OrderedDict([('City', 'Shanghai'), ('Jan', '46'), ('Feb', '48'), ('Mar', '55'), ('Apr', '66'), ('May', '75'), ('Jun', '81'), ('Jul', '90'), ('Aug', '90'), ('Sep', '81'), ('Oct', '72'), ('Nov', '63'), ('Dec', '52')])}\n"
          ],
          "name": "stdout"
        }
      ]
    },
    {
      "cell_type": "markdown",
      "metadata": {
        "id": "BIlDNjTFZbPx"
      },
      "source": [
        "* You usually know the name of the column that you want and it might be easier to use the name of the column to index into the row.\n",
        "* You don't have to remember the order of the rows, you simply just use the keyfield to index into that dictionary and you will have the row you want. Then you use the column name to index into that."
      ]
    },
    {
      "cell_type": "markdown",
      "metadata": {
        "id": "vsqGC2UcaL5x"
      },
      "source": [
        "### [CSV Reader Options]\n",
        "\n",
        "#### Options in csv.DictReader\n",
        "> * delimiter : a single character as a field separator (default  , )\n",
        "> * quotechar : a single character as a quote character (default \" )\n",
        "\n",
        "\n",
        "* When Dictreader function reads your file, it reads the first row and uses those as the names of all of the columns. So it has that information in order.\n",
        "* It does have a list internally and we can access it as csvreader.fieldnames.\n",
        "\n",
        "#### Quotestrategy options\n",
        "> * QUOTE_MINIMAL : quotes are really only being used when necessary. For instance, they're quoting column values that have special characters in them. The readers assume that all of the columns are strings and everything is parsed as a string.\n",
        "> * QUOTE_NONNUMERIC : Every column that is not a numeric value must be quoted. The readers assume that something is not quoted must be a number. Therefore it parses it as a floating point number."
      ]
    },
    {
      "cell_type": "code",
      "metadata": {
        "colab": {
          "base_uri": "https://localhost:8080/"
        },
        "id": "fzJYRE1RXX8P",
        "outputId": "8bd7d07c-5ffc-45ee-b682-6753ace7f421"
      },
      "source": [
        "\"\"\"\n",
        "CSV reader options.\n",
        "\"\"\"\n",
        "\n",
        "import csv\n",
        "\n",
        "def dictparse(csvfilename, keyfield, separator, quote, quotestrategy):\n",
        "    \"\"\"\n",
        "    Reads CSV file named csvfilename, parses\n",
        "    it's content and returns the data within\n",
        "    the file as a dictionary of dictionaries.\n",
        "    \"\"\"\n",
        "    table = {}\n",
        "    with open(csvfilename, \"rt\", newline='') as csvfile:\n",
        "        csvreader = csv.DictReader(csvfile,\n",
        "                                   skipinitialspace=True,\n",
        "                                   delimiter=separator,\n",
        "                                   quotechar=quote,\n",
        "                                   quoting=quotestrategy)\n",
        "        for row in csvreader:\n",
        "            table[row[keyfield]] = row\n",
        "    return table, csvreader.fieldnames\n",
        "\n",
        "\n",
        "def print_table(table, fieldnames):\n",
        "    \"\"\"\n",
        "    Print out table, which must be a dictionary\n",
        "    of dictionaries, in a nicely formatted way.\n",
        "    \"\"\"\n",
        "    print(\"{:<19}\".format(fieldnames[0]), end='')\n",
        "    for field in fieldnames[1:]:\n",
        "        print(\"{:>6}\".format(field), end='')\n",
        "    print(\"\")\n",
        "    for name, row in table.items():\n",
        "        # Header column left justified\n",
        "        print(\"{:<19}\".format(name), end='')\n",
        "        # Remaining columns right justified\n",
        "        for field in fieldnames[1:]:\n",
        "            print(\"{:>6}\".format(row[field]), end='')\n",
        "        print(\"\", end='\\n')\n",
        "\n",
        "table, fieldnames = dictparse(path+\"hightemp.csv\", 'City', ',', '\"', csv.QUOTE_MINIMAL)\n",
        "print(fieldnames)\n",
        "print_table(table, fieldnames)\n",
        "\n",
        "print(\"\")\n",
        "print(\"\")\n",
        "\n",
        "table2, fieldnames2 = dictparse(path+\"hightemp2.csv\", 'City', ',', '\"', csv.QUOTE_NONNUMERIC)\n",
        "print_table(table2, fieldnames2)\n",
        "\n",
        "print(\"\")\n",
        "print(\"\")\n",
        "\n",
        "table3, fieldnames3 = dictparse(path+\"hightemp3.csv\", 'City', ' ', \"'\", csv.QUOTE_NONNUMERIC)\n",
        "print_table(table3, fieldnames3)"
      ],
      "execution_count": null,
      "outputs": [
        {
          "output_type": "stream",
          "text": [
            "['City', 'Jan', 'Feb', 'Mar', 'Apr', 'May', 'Jun', 'Jul', 'Aug', 'Sep', 'Oct', 'Nov', 'Dec']\n",
            "City                  Jan   Feb   Mar   Apr   May   Jun   Jul   Aug   Sep   Oct   Nov   Dec\n",
            "Houston                62    65    72    78    84    90    92    93    88    81    71    63\n",
            "Baghdad                61    66    75    86    97   108   111   111   104    91    75    64\n",
            "Moscow                 21    25    36    50    64    72    73    70    59    46    34    25\n",
            "San Francisco          57    60    62    63    64    66    67    68    70    69    63    57\n",
            "London                 43    45    50    55    63    68    72    70    66    57    50    45\n",
            "Chicago                32    36    46    59    70    81    84    82    75    63    48    36\n",
            "Sydney                 79    79    77    73    68    64    63    64    68    72    75    79\n",
            "Paris                  45    46    54    61    68    73    77    77    70    61    52    46\n",
            "Tokyo                  46    48    54    63    70    75    82    84    79    68    59    52\n",
            "Shanghai               46    48    55    66    75    81    90    90    81    72    63    52\n",
            "\n",
            "\n",
            "City                  Jan   Feb   Mar   Apr   May   Jun   Jul   Aug   Sep   Oct   Nov   Dec\n",
            "Houston, USA         62.0  65.0  72.0  78.0  84.0  90.0  92.0  93.0  88.0  81.0  71.0  63.0\n",
            "Baghdad, Iraq        61.0  66.0  75.0  86.0  97.0 108.0 111.0 111.0 104.0  91.0  75.0  64.0\n",
            "Moscow, Russia       21.0  25.0  36.0  50.0  64.0  72.0  73.0  70.0  59.0  46.0  34.0  25.0\n",
            "San Francisco, USA   57.0  60.0  62.0  63.0  64.0  66.0  67.0  68.0  70.0  69.0  63.0  57.0\n",
            "London, England      43.0  45.0  50.0  55.0  63.0  68.0  72.0  70.0  66.0  57.0  50.0  45.0\n",
            "Chicago, USA         32.0  36.0  46.0  59.0  70.0  81.0  84.0  82.0  75.0  63.0  48.0  36.0\n",
            "Sydney, Australia    79.0  79.0  77.0  73.0  68.0  64.0  63.0  64.0  68.0  72.0  75.0  79.0\n",
            "Paris, France        45.0  46.0  54.0  61.0  68.0  73.0  77.0  77.0  70.0  61.0  52.0  46.0\n",
            "Tokyo, Japan         46.0  48.0  54.0  63.0  70.0  75.0  82.0  84.0  79.0  68.0  59.0  52.0\n",
            "Shanghai, China      46.0  48.0  55.0  66.0  75.0  81.0  90.0  90.0  81.0  72.0  63.0  52.0\n",
            "\n",
            "\n",
            "City                  Jan   Feb   Mar   Apr   May   Jun   Jul   Aug   Sep   Oct   Nov   Dec\n",
            "Houston, USA         62.0  65.0  72.0  78.0  84.0  90.0  92.0  93.0  88.0  81.0  71.0  63.0\n",
            "Baghdad, Iraq        61.0  66.0  75.0  86.0  97.0 108.0 111.0 111.0 104.0  91.0  75.0  64.0\n",
            "Moscow, Russia       21.0  25.0  36.0  50.0  64.0  72.0  73.0  70.0  59.0  46.0  34.0  25.0\n",
            "San Francisco, USA   57.0  60.0  62.0  63.0  64.0  66.0  67.0  68.0  70.0  69.0  63.0  57.0\n",
            "London, England      43.0  45.0  50.0  55.0  63.0  68.0  72.0  70.0  66.0  57.0  50.0  45.0\n",
            "Chicago, USA         32.0  36.0  46.0  59.0  70.0  81.0  84.0  82.0  75.0  63.0  48.0  36.0\n",
            "Sydney, Australia    79.0  79.0  77.0  73.0  68.0  64.0  63.0  64.0  68.0  72.0  75.0  79.0\n",
            "Paris, France        45.0  46.0  54.0  61.0  68.0  73.0  77.0  77.0  70.0  61.0  52.0  46.0\n",
            "Tokyo, Japan         46.0  48.0  54.0  63.0  70.0  75.0  82.0  84.0  79.0  68.0  59.0  52.0\n",
            "Shanghai, China      46.0  48.0  55.0  66.0  75.0  81.0  90.0  90.0  81.0  72.0  63.0  52.0\n"
          ],
          "name": "stdout"
        }
      ]
    },
    {
      "cell_type": "markdown",
      "metadata": {
        "id": "ewPWknuYgQxE"
      },
      "source": [
        "### [Experimenting with CSV Methods]\n",
        "[CSV File Reading and Writing](https://docs.python.org/3/library/csv.html)\n",
        "\n",
        "* The csv module allows us to say,\"write data in the format preferred by Excel\" or \"read data from this file which was generated by Excel\" without knowing the precise details of the CSV format used by Excel."
      ]
    },
    {
      "cell_type": "code",
      "metadata": {
        "colab": {
          "base_uri": "https://localhost:8080/"
        },
        "id": "Zrn2FgcfdVty",
        "outputId": "7cb995ce-9707-4c5b-dd69-e9272a296fa0"
      },
      "source": [
        "\"\"\"\n",
        "Examples code for experimenting with options to the csv.read() and csv.write() methods\n",
        "\"\"\"\n",
        "\n",
        "# import csv\n",
        "\n",
        "\n",
        "# Function that prints 2D table to console\n",
        "\n",
        "def print_table(table):\n",
        "    \"\"\"\n",
        "    Echo a nested list to the console\n",
        "    \"\"\"\n",
        "    for row in table:\n",
        "        print(row)\n",
        "\n",
        "\n",
        "# Options for reading a CSV file\n",
        "\n",
        "def read_csv_file(file_name, file_delimeter):\n",
        "    \"\"\"\n",
        "    Given a CSV file path and a delimiter as strings,\n",
        "    read the data into a 2D table and return the table\n",
        "    \"\"\"\n",
        "       \n",
        "    with open(file_name, newline='') as csv_file:       # don't need to explicitly close the file now\n",
        "        csv_table = []\n",
        "        csv_reader = csv.reader(csv_file, delimiter=file_delimeter)\n",
        "        for row in csv_reader:\n",
        "            csv_table.append(row)\n",
        "    return csv_table\n",
        "\n",
        "\n",
        "def csv_delimiter_examples():\n",
        "    \"\"\"\n",
        "    Run some example of reading CSV files using different delimiter options\n",
        "    \"\"\"\n",
        "    number_table = read_csv_file(path+\"number_table.csv\", \" \")\n",
        "    print_table(number_table)\n",
        "    print()\n",
        "    name_table = read_csv_file(path+\"name_table.csv\", \",\")\n",
        "    print_table(name_table)\n",
        "\n",
        "\n",
        "\n",
        "csv_delimiter_examples()"
      ],
      "execution_count": null,
      "outputs": [
        {
          "output_type": "stream",
          "text": [
            "['1', '2', '3']\n",
            "['4', '5', '6']\n",
            "['7', '8', '9']\n",
            "['10', '11', '12']\n",
            "\n",
            "['Joe', 'Scott', ' Stephen']\n",
            "[\"Joe'S\", \" Scott's\", \"  Stephen's\"]\n",
            "[\"Joe's\", \"Scott's\", ' \"Stephen\\'s\"']\n"
          ],
          "name": "stdout"
        }
      ]
    },
    {
      "cell_type": "code",
      "metadata": {
        "id": "pgtmy7bbmZ7A"
      },
      "source": [
        "# Options for writing a CSV file\n",
        "\n",
        "def write_csv_file(csv_table, file_name, file_delimiter, quoting_value):\n",
        "    \"\"\"\n",
        "    Given a nested list csv_table, write the data into a\n",
        "    CSV file with the name file_name\n",
        "    \"\"\"\n",
        "    \n",
        "    with open(file_name, 'w', newline='') as csv_file:\n",
        "        csv_writer = csv.writer(csv_file, delimiter=file_delimiter, quoting=quoting_value)\n",
        "        for row in csv_table:\n",
        "            csv_writer.writerow(row)\n",
        "            \n",
        "def csv_quoting_examples():\n",
        "    \"\"\"\n",
        "    Run some example of writing 2D tables as CSV files using various quoting options\n",
        "    \"\"\"\n",
        "    name_table = read_csv_file(path+\"name_table.csv\", \",\")\n",
        "    name_table.append([1, 2, 3])\n",
        "    write_csv_file(name_table, \"name_table_minimal.csv\", \",\", csv.QUOTE_MINIMAL)\n",
        "    write_csv_file(name_table, \"name_table_all.csv\", \",\", csv.QUOTE_ALL)\n",
        "    write_csv_file(name_table, \"name_table_nonnumeric.csv\", \",\", csv.QUOTE_NONNUMERIC)\n",
        "    #write_csv_file(name_table, \"name_table_none.csv\", \",\", csv.QUOTE_NONE)        # no escapechar is set for lots of quotes\n",
        "\n",
        "    \n",
        "\n",
        "csv_quoting_examples()"
      ],
      "execution_count": null,
      "outputs": []
    },
    {
      "cell_type": "markdown",
      "metadata": {
        "id": "PAE8M8kl4QUf"
      },
      "source": [
        "### Be careful when you use quoting options\n",
        "1. We shouldn't use spaces in files for commas and delimiters. - They start to put in these extra double quotes.\n",
        "2. If you've got a mixture of single and double quotes, be careful in understanding how each of these options works in the presence of single and double quotes."
      ]
    },
    {
      "cell_type": "markdown",
      "metadata": {
        "id": "ylURN9mh6fae"
      },
      "source": [
        "\n",
        "\n",
        "---\n",
        "## Practice Project : Loading Cancer-Risk Data\n",
        "\n",
        "The data that we will process in the practice project was generated in 2005 by the Environmental Protection Agency as part of an [effort](https://www.epa.gov/national-air-toxics-assessment/2005-national-air-toxics-assessment) to understand the affect of air toxics on human health.  The specific county-level data on cancer-risk from air toxics is stored in an .xls file located [here](https://www.epa.gov/national-air-toxics-assessment/2005-nata-assessment-results#county).   As part of our initial processing of this data, we have downloaded and manually removed some of the extra text from the data set.  This processed CSV file which will be a critical component of our remaining practice projects is available on Google Storage [here](https://storage.googleapis.com/codeskulptor-isp/course3/cancer_risk05_v4_county.csv).\n",
        "\n",
        "#### The structure of the cancer-risk CSV file\n",
        "> * Column A - State name\n",
        "> * Column B - County name\n",
        "> * Column C - Unique five-digit FIPS county county code \n",
        "> * Column E - Population\n",
        "> * Column L - Lifetime cancer-risk"
      ]
    },
    {
      "cell_type": "code",
      "metadata": {
        "colab": {
          "base_uri": "https://localhost:8080/"
        },
        "id": "Oa4s_-m3t2bK",
        "outputId": "14cf53fc-6a6c-4eba-94e8-3a01ac92a5c8"
      },
      "source": [
        "\"\"\"\n",
        "Week 3 practice project template for Python Data Analysis\n",
        "Reading and writing CSV files using lists\n",
        "\"\"\"\n",
        "\n",
        "\n",
        "import csv\n",
        "\n",
        "\n",
        "\n",
        "#########################################################\n",
        "# Part 1 - Week 3\n",
        "\n",
        "\n",
        "\n",
        "def print_table(table):\n",
        "    \"\"\"\n",
        "    Echo a nested listto the console\n",
        "    \"\"\"\n",
        "    for row in table:\n",
        "        print(row)\n",
        "\n",
        "\n",
        "def read_csv_file(file_name):\n",
        "    \"\"\"\n",
        "    Given a CSV file, read the data into a nested list\n",
        "    Input: String corresponding to comma-separated  CSV file\n",
        "    Output: Lists of lists consisting of the fields in the CSV file\n",
        "    \"\"\"\n",
        "    return_list = []\n",
        "\n",
        "    with open(path+file_name,'r',newline='') as csv_file:\n",
        "        csv_reader = csv.reader(csv_file, delimiter = ',')\n",
        "        for row in csv_reader:\n",
        "            return_list.append(row)\n",
        "    return return_list\n",
        "\n",
        "\n",
        "\n",
        "def write_csv_file(csv_table, file_name):\n",
        "    \"\"\"\n",
        "    Input: Nested list csv_table and a string file_name\n",
        "    Action: Write fields in csv_table into a comma-separated CSV file with the name file_name\n",
        "    \"\"\"\n",
        "    with open(path+file_name,'w',newline='') as csv_file:\n",
        "        csv_writer = csv.writer(csv_file, delimiter = ',', quoting = csv.QUOTE_MINIMAL)\n",
        "        \n",
        "        for row in csv_table:\n",
        "            csv_writer.writerow(row)\n",
        "    \n",
        "\n",
        "        \n",
        "def test_part1_code():\n",
        "    \"\"\"\n",
        "    Run examples that test the functions for part 1\n",
        "    \"\"\"\n",
        "    \n",
        "    # Simple test for reader\n",
        "    test_table = read_csv_file(\"test_case.csv\")  # create a small CSV for this test\n",
        "    print_table(test_table)\n",
        "    print()\n",
        "\n",
        "    # Test the writer\n",
        "    cancer_risk_table = read_csv_file(\"cancer_risk05_v4_county.csv\")\n",
        "    write_csv_file(cancer_risk_table, \"cancer_risk05_v4_county_copy.csv\")\n",
        "    cancer_risk_copy = read_csv_file(\"cancer_risk05_v4_county_copy.csv\")\n",
        "    \n",
        "    # Test whether two tables are the same\n",
        "\n",
        "test_part1_code()"
      ],
      "execution_count": null,
      "outputs": [
        {
          "output_type": "stream",
          "text": [
            "['1', '2', '3', '4']\n",
            "['5', '6', '7', '8']\n",
            "['-2', '-3', '-4', '-5']\n",
            "\n"
          ],
          "name": "stdout"
        }
      ]
    },
    {
      "cell_type": "code",
      "metadata": {
        "id": "lzZ1PHVTBkV5"
      },
      "source": [
        ""
      ],
      "execution_count": null,
      "outputs": []
    }
  ]
}