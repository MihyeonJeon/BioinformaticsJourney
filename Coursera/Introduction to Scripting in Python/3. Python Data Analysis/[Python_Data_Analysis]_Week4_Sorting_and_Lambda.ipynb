{
  "nbformat": 4,
  "nbformat_minor": 0,
  "metadata": {
    "colab": {
      "name": "[Python Data Analysis] Week4_Sorting and Lambda.ipynb",
      "provenance": []
    },
    "kernelspec": {
      "name": "python3",
      "display_name": "Python 3"
    },
    "language_info": {
      "name": "python"
    }
  },
  "cells": [
    {
      "cell_type": "markdown",
      "metadata": {
        "id": "SrgZZ2OSxhvi"
      },
      "source": [
        "### [Sorting]\n",
        "\n",
        "* Sorted will take anything that you can iterate over.\n",
        "* Sorted always returns a list. It will return an list even though you pass a tuple.\n",
        "* When you pass a dictionary , it will return a list sorting keys.\n",
        "> * sort() : If  you have a list and you want to actually mutate the list and sort the data inside of it\n",
        "> * sorted() : You can call this with anything that you could iterate over and it will produce a list with the items in the original input in sorted over."
      ]
    },
    {
      "cell_type": "code",
      "metadata": {
        "colab": {
          "base_uri": "https://localhost:8080/"
        },
        "id": "cFaJMKznwDEv",
        "outputId": "f826141f-f566-461f-ee42-7ae5f5f0486d"
      },
      "source": [
        "\"\"\"\n",
        "Example code to sort sequences.\n",
        "\"\"\"\n",
        "\n",
        "import random\n",
        "\n",
        "# Easily create a list of numbers\n",
        "data = list(range(10))\n",
        "print(\"range data:\", data)\n",
        "\n",
        "# Randomly shuffle those numbers\n",
        "random.shuffle(data)\n",
        "print(\"shuffled data:\", data)\n",
        "\n",
        "# Sort the list of numbers\n",
        "data.sort()\n",
        "print(\"sorted data:\", data)\n",
        "\n",
        "# Shuffle it again\n",
        "random.shuffle(data)\n",
        "print(\"shuffled data:\", data)\n",
        "\n",
        "# Use sorted to sort the list\n",
        "newdata = sorted(data)\n",
        "print(\"data after sorted:\", data)\n",
        "print(\"returned from sorted:\", newdata)\n",
        "\n",
        "# Convert to a tuple\n",
        "datatup = tuple(data)\n",
        "print(\"data tuple:\", datatup)\n",
        "\n",
        "# Sort the tuple of numbers\n",
        "# datatup.sort()\n",
        "print(\"tuple after sort:\", datatup)\n",
        "\n",
        "# Use sorted to sort the tuple\n",
        "newdatatup = sorted(datatup)\n",
        "print(\"returned from sorted:\", newdatatup)\n",
        "\n",
        "# Create a dictionary of squares (dictionary comprehension)\n",
        "datamap = {key: key ** 2 for key in datatup}\n",
        "print(\"data dictionary:\", datamap)\n",
        "\n",
        "# Use sorted to sort the dictionary\n",
        "sortmap = sorted(datamap)\n",
        "print(\"returned from sorted:\", sortmap)"
      ],
      "execution_count": null,
      "outputs": [
        {
          "output_type": "stream",
          "text": [
            "range data: [0, 1, 2, 3, 4, 5, 6, 7, 8, 9]\n",
            "shuffled data: [1, 4, 8, 3, 5, 0, 7, 9, 6, 2]\n",
            "sorted data: [0, 1, 2, 3, 4, 5, 6, 7, 8, 9]\n",
            "shuffled data: [9, 1, 5, 4, 7, 3, 8, 0, 6, 2]\n",
            "data after sorted: [9, 1, 5, 4, 7, 3, 8, 0, 6, 2]\n",
            "returned from sorted: [0, 1, 2, 3, 4, 5, 6, 7, 8, 9]\n",
            "data tuple: (9, 1, 5, 4, 7, 3, 8, 0, 6, 2)\n",
            "tuple after sort: (9, 1, 5, 4, 7, 3, 8, 0, 6, 2)\n",
            "returned from sorted: [0, 1, 2, 3, 4, 5, 6, 7, 8, 9]\n",
            "data dictionary: {9: 81, 1: 1, 5: 25, 4: 16, 7: 49, 3: 9, 8: 64, 0: 0, 6: 36, 2: 4}\n",
            "returned from sorted: [0, 1, 2, 3, 4, 5, 6, 7, 8, 9]\n"
          ],
          "name": "stdout"
        }
      ]
    },
    {
      "cell_type": "markdown",
      "metadata": {
        "id": "_xUoR0141dRo"
      },
      "source": [
        "### [Lambda]\n",
        "\n",
        "* Lambda is an anonumous function. We write it inline in our code and that's the only place it is. You can't refer to it ever again.\n",
        "* map() : It's a function that takes other functions as an argument. It takes at least two arugments and the first argument always need to be a function.\n",
        "* filter() : It takes a function as the first argument and filter the input sequence byt the function. If the function returns true, it adds it to the output list.\n"
      ]
    },
    {
      "cell_type": "code",
      "metadata": {
        "colab": {
          "base_uri": "https://localhost:8080/"
        },
        "id": "tDtJJJwuyLU0",
        "outputId": "86d7acbe-c2c4-470f-bdb5-03ac32e1fde6"
      },
      "source": [
        "\"\"\"\n",
        "Examples of creating and using anonymous functions.\n",
        "\"\"\"\n",
        "\n",
        "# import random\n",
        "\n",
        "# Easily create a list of numbers\n",
        "data = list(range(10))\n",
        "print(\"range data:\", data)\n",
        "\n",
        "def square(val):\n",
        "    return val ** 2\n",
        "\n",
        "# Square all numbers in the list\n",
        "squares = list(map(square, data))\n",
        "print(\"squares:\", squares)\n",
        "\n",
        "# Double all numbers in the list\n",
        "doubles = list(map(lambda num: num * 2, data))\n",
        "print(\"doubles:\", doubles)\n",
        "\n",
        "# Create a list of random numbers (list comprehension)\n",
        "randnums = [random.randrange(2, num+3) for num in range(10)]\n",
        "print(\"random numbers:\", randnums)\n",
        "\n",
        "# Create a list of tuples\n",
        "tups = list(map(lambda num1, num2: (num1, num2), data, randnums))\n",
        "print(\"tuples:\", tups)\n",
        "\n",
        "# Create a list of the min values in the tuples\n",
        "mins = list(map(lambda pair: min(pair[0], pair[1]), tups))\n",
        "print(\"minimums:\", mins)\n",
        "\n",
        "# Create a list only of tuples where the second item is less than the first\n",
        "newtups = list(filter(lambda pair: pair[1] < pair[0], tups))\n",
        "print(\"filtered:\", newtups)"
      ],
      "execution_count": null,
      "outputs": [
        {
          "output_type": "stream",
          "text": [
            "range data: [0, 1, 2, 3, 4, 5, 6, 7, 8, 9]\n",
            "squares: [0, 1, 4, 9, 16, 25, 36, 49, 64, 81]\n",
            "doubles: [0, 2, 4, 6, 8, 10, 12, 14, 16, 18]\n",
            "random numbers: [2, 2, 3, 3, 3, 7, 2, 6, 5, 7]\n",
            "tuples: [(0, 2), (1, 2), (2, 3), (3, 3), (4, 3), (5, 7), (6, 2), (7, 6), (8, 5), (9, 7)]\n",
            "minimums: [0, 1, 2, 3, 3, 5, 2, 6, 5, 7]\n",
            "filtered: [(4, 3), (6, 2), (7, 6), (8, 5), (9, 7)]\n"
          ],
          "name": "stdout"
        }
      ]
    },
    {
      "cell_type": "markdown",
      "metadata": {
        "id": "lP2qJ-ppMlDA"
      },
      "source": [
        "### [Advanced Sorting]"
      ]
    },
    {
      "cell_type": "code",
      "metadata": {
        "id": "VD2023VCGf6d",
        "colab": {
          "base_uri": "https://localhost:8080/"
        },
        "outputId": "05a64219-0718-4fb7-e7da-44eeb0cf206f"
      },
      "source": [
        "\"\"\"\n",
        "More advanced sorting examples.\n",
        "\"\"\"\n",
        "\n",
        "import random\n",
        "\n",
        "# Easily create a shuffled list of numbers\n",
        "data = list(range(10))\n",
        "random.shuffle(data)\n",
        "print(\"shuffled data:\", data)\n",
        "\n",
        "# Sort the list of numbers\n",
        "data.sort()\n",
        "print(\"ascending sort:\", data)\n",
        "data.sort(reverse=True)\n",
        "print(\"descending sort:\", data)\n",
        "\n",
        "# Create a list of tuples\n",
        "datatups = [(item, random.randrange(3, 15)) for item in data]\n",
        "print(\"data tuples:\", datatups)\n",
        "\n",
        "# Sort the list\n",
        "datatups.sort()\n",
        "print(\"sorted data tuples:\", datatups)\n",
        "\n",
        "datatups.sort(key=lambda pair: pair[1])\n",
        "print(\"sorted by second item:\", datatups)\n",
        "\n",
        "datatups.sort(key=lambda pair: pair[0] * pair[1], reverse=True)\n",
        "print(\"sorted by product:\", datatups)\n",
        "\n",
        "# Shuffle it again\n",
        "random.shuffle(datatups)\n",
        "print(\"shuffled tuples:\", datatups)\n",
        "\n",
        "# Use sorted to sort the list\n",
        "newdata = sorted(datatups, key=lambda pair: pair[1], reverse=True)\n",
        "print(\"tuples after sorted:\", datatups)\n",
        "print(\"returned from sorted:\", newdata)\n"
      ],
      "execution_count": null,
      "outputs": [
        {
          "output_type": "stream",
          "text": [
            "shuffled data: [0, 7, 6, 8, 5, 2, 9, 4, 3, 1]\n",
            "ascending sort: [0, 1, 2, 3, 4, 5, 6, 7, 8, 9]\n",
            "descending sort: [9, 8, 7, 6, 5, 4, 3, 2, 1, 0]\n",
            "data tuples: [(9, 8), (8, 6), (7, 9), (6, 5), (5, 11), (4, 7), (3, 10), (2, 5), (1, 10), (0, 3)]\n",
            "sorted data tuples: [(0, 3), (1, 10), (2, 5), (3, 10), (4, 7), (5, 11), (6, 5), (7, 9), (8, 6), (9, 8)]\n",
            "sorted by second item: [(0, 3), (2, 5), (6, 5), (8, 6), (4, 7), (9, 8), (7, 9), (1, 10), (3, 10), (5, 11)]\n",
            "sorted by product: [(9, 8), (7, 9), (5, 11), (8, 6), (6, 5), (3, 10), (4, 7), (2, 5), (1, 10), (0, 3)]\n",
            "shuffled tuples: [(6, 5), (5, 11), (8, 6), (1, 10), (2, 5), (7, 9), (4, 7), (9, 8), (3, 10), (0, 3)]\n",
            "tuples after sorted: [(6, 5), (5, 11), (8, 6), (1, 10), (2, 5), (7, 9), (4, 7), (9, 8), (3, 10), (0, 3)]\n",
            "returned from sorted: [(5, 11), (1, 10), (3, 10), (7, 9), (9, 8), (4, 7), (8, 6), (6, 5), (2, 5), (0, 3)]\n"
          ],
          "name": "stdout"
        }
      ]
    },
    {
      "cell_type": "markdown",
      "metadata": {
        "id": "Gm0VcuSiyLRv"
      },
      "source": [
        "### [Dictionaries vs. Lists for storing data]\n",
        "\n",
        "* List\n",
        "> 1. If data must be ordered.\n",
        "> 2. If there is no unique key that could be used to identify the indivitual data items.\n",
        "> 3. if you potentially would use a lot of different keys to access the data.\n",
        "\n",
        "* Dictionary \n",
        "> 1. If there is a unique key that identifies the individual data items which is used to a ccess those data items.\n",
        "> 2. If that key is frequently used to access the data items, which would result in a lot of searching if you used a list."
      ]
    },
    {
      "cell_type": "code",
      "metadata": {
        "id": "Ts0j5uVNsc-x"
      },
      "source": [
        "# If we want to convert from the list form to the dictionary form, we could write simple code like this\n",
        "\n",
        "def convert_list2dict(gpalist):\n",
        "    \"\"\"\n",
        "    Input: gpalist - list of (student name, gpa) tuples\n",
        "    Output: a dictionary mapping student names to their gpa\n",
        "    \"\"\"\n",
        "    result = {}\n",
        "    for item in gpalist:\n",
        "        result[item[0]] = item[1]\n",
        "    return result"
      ],
      "execution_count": null,
      "outputs": []
    },
    {
      "cell_type": "code",
      "metadata": {
        "colab": {
          "base_uri": "https://localhost:8080/"
        },
        "id": "cNMZjRmG236q",
        "outputId": "7540aaaf-e0b4-4b61-a3fa-b4ec65cfa4ed"
      },
      "source": [
        "gpalist = [(\"Tamika Barker\", 3.9), (\"Elmer Brasher\", 2.8), (\"Raymond Hathaway\", 3.3), (\"Rebekah Bailey\", 3.5)]\n",
        "\n",
        "print(convert_list2dict(gpalist))"
      ],
      "execution_count": null,
      "outputs": [
        {
          "output_type": "stream",
          "text": [
            "{'Tamika Barker': 3.9, 'Elmer Brasher': 2.8, 'Raymond Hathaway': 3.3, 'Rebekah Bailey': 3.5}\n"
          ],
          "name": "stdout"
        }
      ]
    },
    {
      "cell_type": "markdown",
      "metadata": {
        "id": "ualXFslP3Ppe"
      },
      "source": [
        "\n",
        "\n",
        "---\n",
        "### [Refactoring Your Code]\n"
      ]
    },
    {
      "cell_type": "code",
      "metadata": {
        "colab": {
          "base_uri": "https://localhost:8080/"
        },
        "id": "1Lqw8E7J2_iE",
        "outputId": "5b0fe5e5-2901-4c53-9762-537005a6b992"
      },
      "source": [
        "\"\"\"\n",
        "Converting the average daily temperatures for several planets \n",
        "from Kelvin to Farenheit --- Version 0\n",
        "\"\"\"\n",
        "\n",
        "\n",
        "# Initialize emperatures for various planets\n",
        "# http://www.smartconversion.com/otherInfo/Temperature_of_planets_and_the_Sun.aspx\n",
        "mercury = 440\n",
        "venus = 737\n",
        "mars = 210\n",
        "\n",
        "# Compute temperature in Farenheit\n",
        "mercury_result = (mercury - 275.15) * 9 / 5 + 32\n",
        "venus_result = (venus - 275.15) * 9 / 5 + 32\n",
        "mars_result = (mars - 275.15) * 9 / 5 + 32\n",
        "\n",
        "# Print\n",
        "print(\"The daily average temperature on Mercury is\", mercury_result, \"Farenheit\")\n",
        "print(\"The daily average temperature on Venus is\", venus_result, \"Farenheit\")\n",
        "print(\"The daily average temperature on Mars is\", mars_result, \"Farenheit\")\n",
        "\n",
        "# Output\n",
        "##The daily average temperature on Mercury is 328.73 Farenheit\n",
        "##The daily average temperature on Venus is 863.33 Farenheit\n",
        "##The daily average temperature on Mars is -85.27 Farenheit"
      ],
      "execution_count": null,
      "outputs": [
        {
          "output_type": "stream",
          "text": [
            "The daily average temperature on Mercury is 328.73 Farenheit\n",
            "The daily average temperature on Venus is 863.3300000000002 Farenheit\n",
            "The daily average temperature on Mars is -85.26999999999995 Farenheit\n"
          ],
          "name": "stdout"
        }
      ]
    },
    {
      "cell_type": "code",
      "metadata": {
        "colab": {
          "base_uri": "https://localhost:8080/"
        },
        "id": "S9hjwTjY6PN3",
        "outputId": "25dc7ff2-8b86-460b-a821-691cad9453d5"
      },
      "source": [
        "\"\"\"\n",
        "Converting the average daily temperatures for several planets \n",
        "from Kelvin to Farenheit --- Version 1\n",
        "\"\"\"\n",
        "\n",
        "\n",
        "# Initialize temperatures for various planets\n",
        "# http://www.smartconversion.com/otherInfo/Temperature_of_planets_and_the_Sun.aspx\n",
        "mercury = 440\n",
        "venus = 737\n",
        "mars = 210\n",
        "\n",
        "# Compute temperature in Farenheit\n",
        "def compute_temp(temp):\n",
        "    \"\"\"\n",
        "    Given a floating point temperature temp in Kelvin,\n",
        "    return the corresponding temperature in Farenheit\n",
        "    \"\"\"\n",
        "    return (temp - 275.15) * 9 / 5 + 32\n",
        "\n",
        "mercury_result = compute_temp(mercury)\n",
        "venus_result = compute_temp(venus)\n",
        "mars_result = compute_temp(mars)\n",
        "\n",
        "# Print out results\n",
        "print(\"The daily average temperature on Mercury is\", mercury_result, \"Farenheit\")\n",
        "print(\"The daily average temperature on Venus is\", venus_result, \"Farenheit\")\n",
        "print(\"The daily average temperature on Mars is\", mars_result, \"Farenheit\")\n",
        "\n",
        "# Output\n",
        "##The daily average temperature on Mercury is 328.73 Farenheit\n",
        "##The daily average temperature on Venus is 863.33 Farenheit\n",
        "##The daily average temperature on Mars is -85.27 Farenheit"
      ],
      "execution_count": null,
      "outputs": [
        {
          "output_type": "stream",
          "text": [
            "The daily average temperature on Mercury is 328.73 Farenheit\n",
            "The daily average temperature on Venus is 863.3300000000002 Farenheit\n",
            "The daily average temperature on Mars is -85.26999999999995 Farenheit\n"
          ],
          "name": "stdout"
        }
      ]
    },
    {
      "cell_type": "code",
      "metadata": {
        "colab": {
          "base_uri": "https://localhost:8080/"
        },
        "id": "o2ZtErb36zID",
        "outputId": "058cebf3-3500-485c-c070-8ceb77082e3d"
      },
      "source": [
        "\"\"\"\n",
        "Converting the average daily temperatures for several planets \n",
        "from Kelvin to Farenheit --- Version 2\n",
        "\"\"\"\n",
        "\n",
        "\n",
        "# Initialize temperatures for various planets\n",
        "# http://www.smartconversion.com/otherInfo/Temperature_of_planets_and_the_Sun.aspx\n",
        "mercury = 440\n",
        "venus = 737\n",
        "mars = 210\n",
        "\n",
        "# Compute temperature in Farenheit\n",
        "def compute_temp(temp):\n",
        "    \"\"\"\n",
        "    Given a floating point temperature temp in Kelvin,\n",
        "    return the corresponding temperature in Farenheit\n",
        "    \"\"\"\n",
        "    return (temp - 275.15) * 9 / 5 + 32\n",
        "\n",
        "mercury_result = compute_temp(mercury)\n",
        "venus_result = compute_temp(venus)\n",
        "mars_result = compute_temp(mars)\n",
        "\n",
        "# Print out results\n",
        "def print_temp(planet, temp):\n",
        "    \"\"\"\n",
        "    Print out the average daily temps\n",
        "    \"\"\"\n",
        "    print(\"The daily average temperature on\", planet, \"is\", temp, \"Farenheit\")\n",
        "    \n",
        "print_temp(\"Mercury\", mercury_result)\n",
        "print_temp(\"Venus\", venus_result)\n",
        "print_temp(\"Mars\", mars_result)\n",
        "\n",
        "# Output\n",
        "##The daily average temperature on Mercury is 328.73 Farenheit\n",
        "##The daily average temperature on Venus is 863.33 Farenheit\n",
        "##The daily average temperature on Mars is -85.27 Farenheit"
      ],
      "execution_count": null,
      "outputs": [
        {
          "output_type": "stream",
          "text": [
            "The daily average temperature on Mercury is 328.73 Farenheit\n",
            "The daily average temperature on Venus is 863.3300000000002 Farenheit\n",
            "The daily average temperature on Mars is -85.26999999999995 Farenheit\n"
          ],
          "name": "stdout"
        }
      ]
    },
    {
      "cell_type": "code",
      "metadata": {
        "id": "8WKhtlFr7N8a"
      },
      "source": [
        "\"\"\"\n",
        "Converting the average daily temperatures for several planets \n",
        "from Kelvin to Farenheit --- Version 3\n",
        "\"\"\"\n",
        "\n",
        "\n",
        "# Initialize temperatures for various planets\n",
        "# http://www.smartconversion.com/otherInfo/Temperature_of_planets_and_the_Sun.aspx\n",
        "mercury = 440\n",
        "venus = 737\n",
        "mars = 210\n",
        "\n",
        "# Compute temperature in Farenheit\n",
        "def compute_celsius(temp):\n",
        "    \"\"\"\n",
        "    Given a floaring point temperature temp in Kelvin,\n",
        "    return the corresponding temperature in Celsius\n",
        "    \"\"\"\n",
        "    return temp - 275.15\n",
        "\n",
        "def compute_farenheit(temp):\n",
        "    \"\"\"\n",
        "    Given a floating point temperature temp in Kelvin,\n",
        "    return the corresponding temperature in Farenheit\n",
        "    \"\"\"\n",
        "    temp_celsius = compute_celsius(temp)\n",
        "    return temp_celsius * 9 / 5 + 32\n",
        "\n",
        "mercury_result = compute_farenheit(mercury)\n",
        "venus_result = compute_farenheit(venus)\n",
        "mars_result = compute_farenheit(mars)\n",
        "\n",
        "# Print out results\n",
        "def print_temp(planet, temp):\n",
        "    \"\"\"\n",
        "    Print out the average daily temps\n",
        "    \"\"\"\n",
        "    print(\"The daily average temperature on\", planet, \"is\", temp, \"Farenheit\")\n",
        "    \n",
        "print_temp(\"Mercury\", mercury_result)\n",
        "print_temp(\"Venus\", venus_result)\n",
        "print_temp(\"Mars\", mars_result)\n",
        "\n",
        "# Output\n",
        "##The daily average temperature on Mercury is 328.73 Farenheit\n",
        "##The daily average temperature on Venus is 863.33 Farenheit\n",
        "##The daily average temperature on Mars is -85.27 Farenheit"
      ],
      "execution_count": null,
      "outputs": []
    },
    {
      "cell_type": "code",
      "metadata": {
        "colab": {
          "base_uri": "https://localhost:8080/"
        },
        "id": "0CtUrVmZ8uFm",
        "outputId": "0d11a01c-2420-4a23-d777-fbc4c2fda433"
      },
      "source": [
        "\"\"\"\n",
        "Converting the average daily temperatures for several planets \n",
        "from Kelvin to Farenheit --- Version 4\n",
        "\"\"\"\n",
        "\n",
        "\n",
        "# Initialize temperatures for various planets\n",
        "# http://www.smartconversion.com/otherInfo/Temperature_of_planets_and_the_Sun.aspx\n",
        "MERCURY_KELVIN = 440\n",
        "VENUS_KELVIN = 737\n",
        "MARS_KELVIN = 210\n",
        "\n",
        "# Compute temperature in Farenheit\n",
        "def kelvin_to_celsius(temp_kelvin):\n",
        "    \"\"\"\n",
        "    Given a floaring point temperature temp in Kelvin,\n",
        "    return the corresponding temperature in Celsius\n",
        "    \"\"\"\n",
        "    return temp_kelvin - 275.15\n",
        "\n",
        "def kelvin_to_farenheit(temp_kelvin):\n",
        "    \"\"\"\n",
        "    Given a floating point temperature temp in Kelvin,\n",
        "    return the corresponding temperature in Farenheit\n",
        "    \"\"\"\n",
        "    temp_celsius = kelvin_to_celsius(temp_kelvin)\n",
        "    return temp_celsius * 9 / 5 + 32\n",
        "\n",
        "mercury_farenheit = kelvin_to_farenheit(MERCURY_KELVIN)\n",
        "venus_farenheit = kelvin_to_farenheit(VENUS_KELVIN)\n",
        "mars_farenheit = kelvin_to_farenheit(MARS_KELVIN)\n",
        "\n",
        "# Print out results\n",
        "def print_temp_farenheit(planet, temp_farenheit):\n",
        "    \"\"\"\n",
        "    Print out the average daily temps in Farenheit\n",
        "    \"\"\"\n",
        "    print(\"The daily average temperature on\", planet, \"is\", temp_farenheit, \"Farenheit\")\n",
        "    \n",
        "print_temp_farenheit(\"Mercury\", mercury_farenheit)\n",
        "print_temp_farenheit(\"Venus\", venus_farenheit)\n",
        "print_temp_farenheit(\"Mars\", mars_farenheit)\n",
        "\n",
        "# Output\n",
        "##The daily average temperature on Mercury is 328.73 Farenheit\n",
        "##The daily average temperature on Venus is 863.33 Farenheit\n",
        "##The daily average temperature on Mars is -85.27 Farenheit"
      ],
      "execution_count": null,
      "outputs": [
        {
          "output_type": "stream",
          "text": [
            "The daily average temperature on Mercury is 328.73 Farenheit\n",
            "The daily average temperature on Venus is 863.3300000000002 Farenheit\n",
            "The daily average temperature on Mars is -85.26999999999995 Farenheit\n"
          ],
          "name": "stdout"
        }
      ]
    },
    {
      "cell_type": "markdown",
      "metadata": {
        "id": "ex0OGmjj9Bxq"
      },
      "source": [
        "* The  principle in Python is to be self documenting. You should be able to ust read the program, understand what's going on immeidately."
      ]
    },
    {
      "cell_type": "code",
      "metadata": {
        "id": "K8R7n1mS81v9"
      },
      "source": [
        "\"\"\"\n",
        "Converting the average daily temperatures for several planets \n",
        "from Kelvin to Farenheit --- Version 5\n",
        "\"\"\"\n",
        "\n",
        "# Important constants\n",
        "ZERO_KELVIN_IN_CELSIUS = -275.15\n",
        "ZERO_CELSIUS_IN_FARENHEIT = 32\n",
        "CELSIUS_TO_FARENHEIT_SCALING = 9 / 5\n",
        "\n",
        "# Initialize temperatures for various planets\n",
        "# http://www.smartconversion.com/otherInfo/Temperature_of_planets_and_the_Sun.aspx\n",
        "MERCURY_KELVIN = 440\n",
        "VENUS_KELVIN = 737\n",
        "MARS_KELVIN = 210\n",
        "\n",
        "# Compute temperature in Farenheit\n",
        "def kelvin_to_celsius(temp_kelvin):\n",
        "    \"\"\"\n",
        "    Given a floaring point temperature temp in Kelvin,\n",
        "    return the corresponding temperature in Celsius\n",
        "    \"\"\"\n",
        "    return temp_kelvin + ZERO_KELVIN_IN_CELSIUS\n",
        "\n",
        "def kelvin_to_farenheit(temp_kelvin):\n",
        "    \"\"\"\n",
        "    Given a floating point temperature temp in Kelvin,\n",
        "    return the corresponding temperature in Farenheit\n",
        "    \"\"\"\n",
        "    temp_celsius = kelvin_to_celsius(temp_kelvin)\n",
        "    return temp_celsius * CELSIUS_TO_FARENHEIT_SCALING + ZERO_CELSIUS_IN_FARENHEIT\n",
        "\n",
        "mercury_farenheit = kelvin_to_farenheit(MERCURY_KELVIN)\n",
        "venus_farenheit = kelvin_to_farenheit(VENUS_KELVIN)\n",
        "mars_farenheit = kelvin_to_farenheit(MARS_KELVIN)\n",
        "\n",
        "# Print out results\n",
        "def print_temp_farenheit(planet, temp_farenheit):\n",
        "    \"\"\"\n",
        "    Print out the average daily temps in Farenheit\n",
        "    \"\"\"\n",
        "    print(\"The daily average temperature on\", planet, \"is\", temp_farenheit, \"Farenheit\")\n",
        "    \n",
        "print_temp_farenheit(\"Mercury\", mercury_farenheit)\n",
        "print_temp_farenheit(\"Venus\", venus_farenheit)\n",
        "print_temp_farenheit(\"Mars\", mars_farenheit)\n",
        "\n",
        "# Output\n",
        "##The daily average temperature on Mercury is 328.73 Farenheit\n",
        "##The daily average temperature on Venus is 863.33 Farenheit\n",
        "##The daily average temperature on Mars is -85.27 Farenheit"
      ],
      "execution_count": null,
      "outputs": []
    },
    {
      "cell_type": "markdown",
      "metadata": {
        "id": "FBnI7nAW9-dW"
      },
      "source": [
        "* Be careful with global variables. If you 'd like to give your code as a module that others can import, someone may have their own variable and it will clash with the variable in your program.\n",
        "*  So get rid of these local variables and encapsulate all of it inside a function and make it a local variables."
      ]
    },
    {
      "cell_type": "code",
      "metadata": {
        "colab": {
          "base_uri": "https://localhost:8080/"
        },
        "id": "7pJcD1Qu-Ww5",
        "outputId": "ba3061c9-ca7d-46e2-c028-891d861a8591"
      },
      "source": [
        "\"\"\"\n",
        "Converting the average daily temperatures for several planets \n",
        "from Kelvin to Farenheit --- Version 6\n",
        "\"\"\"\n",
        "\n",
        "# Important constants\n",
        "ZERO_KELVIN_IN_CELSIUS = -275.15\n",
        "ZERO_CELSIUS_IN_FARENHEIT = 32\n",
        "CELSIUS_TO_FARENHEIT_SCALING = 9 / 5\n",
        "\n",
        "# Initialize temperatures for various planets\n",
        "# http://www.smartconversion.com/otherInfo/Temperature_of_planets_and_the_Sun.aspx\n",
        "MERCURY_KELVIN = 440\n",
        "VENUS_KELVIN = 737\n",
        "MARS_KELVIN = 210\n",
        "\n",
        "# Compute temperature in Farenheit\n",
        "def kelvin_to_celsius(temp_kelvin):\n",
        "    \"\"\"\n",
        "    Given a floaring point temperature temp in Kelvin,\n",
        "    return the corresponding temperature in Celsius\n",
        "    \"\"\"\n",
        "    return temp_kelvin + ZERO_KELVIN_IN_CELSIUS\n",
        "\n",
        "def kelvin_to_farenheit(temp_kelvin):\n",
        "    \"\"\"\n",
        "    Given a floating point temperature temp in Kelvin,\n",
        "    return the corresponding temperature in Farenheit\n",
        "    \"\"\"\n",
        "    temp_celsius = kelvin_to_celsius(temp_kelvin)\n",
        "    return temp_celsius * CELSIUS_TO_FARENHEIT_SCALING + ZERO_CELSIUS_IN_FARENHEIT\n",
        "\n",
        "\n",
        "# Print out results\n",
        "def print_temp_farenheit(planet, temp_farenheit):\n",
        "    \"\"\"\n",
        "    Print out the average daily temps in Farenheit\n",
        "    \"\"\"\n",
        "    print(\"The daily average temperature on\", planet, \"is\", temp_farenheit, \"Farenheit\")\n",
        "\n",
        "    \n",
        "# Compute and print results\n",
        "def compute_and_print_temperatures():\n",
        "    \"\"\"\n",
        "    Compute the temeperatues for three planets in Farenheit\n",
        "    \"\"\"\n",
        "    mercury_farenheit = kelvin_to_farenheit(MERCURY_KELVIN)\n",
        "    venus_farenheit = kelvin_to_farenheit(VENUS_KELVIN)\n",
        "    mars_farenheit = kelvin_to_farenheit(MARS_KELVIN)\n",
        "\n",
        "    print_temp_farenheit(\"Mercury\", mercury_farenheit)\n",
        "    print_temp_farenheit(\"Venus\", venus_farenheit)\n",
        "    print_temp_farenheit(\"Mars\", mars_farenheit)\n",
        "\n",
        "compute_and_print_temperatures()\n",
        "\n",
        "# Output\n",
        "##The daily average temperature on Mercury is 328.73 Farenheit\n",
        "##The daily average temperature on Venus is 863.33 Farenheit\n",
        "##The daily average temperature on Mars is -85.27 Farenheit"
      ],
      "execution_count": null,
      "outputs": [
        {
          "output_type": "stream",
          "text": [
            "The daily average temperature on Mercury is 328.7300000000001 Farenheit\n",
            "The daily average temperature on Venus is 863.33 Farenheit\n",
            "The daily average temperature on Mars is -85.26999999999997 Farenheit\n"
          ],
          "name": "stdout"
        }
      ]
    },
    {
      "cell_type": "markdown",
      "metadata": {
        "id": "RalrRPQp_e4_"
      },
      "source": [
        "* Refactoring your code really bring it up to the very best status, the sign of a good Python scripter."
      ]
    },
    {
      "cell_type": "markdown",
      "metadata": {
        "id": "UVNxngRzANw_"
      },
      "source": [
        "\n",
        "\n",
        "---\n",
        "\n",
        "## [Practice Project : Processing Cancer-Risk Data]\n",
        "\n",
        "The data that we will process in the practice project was generated in 2005 by the Environmental Protection Agency as part of an [effort](https://www.epa.gov/national-air-toxics-assessment/2005-national-air-toxics-assessment) to understand the affect of air toxics on human health. The specific county-level data on cancer-risk from air toxics is stored in an .xls file located [here](https://www.epa.gov/national-air-toxics-assessment/2005-nata-assessment-results#county). As part of our initial processing of this data, we have downloaded and manually removed some of the extra text from the data set. This processed CSV file which will be a critical component of our remaining practice projects is available on Google Storage [here](https://storage.googleapis.com/codeskulptor-isp/course3/cancer_risk05_v4_county.csv)."
      ]
    },
    {
      "cell_type": "code",
      "metadata": {
        "id": "dL5L0fFpMXlo"
      },
      "source": [
        "path = '/content/drive/MyDrive/etc/'"
      ],
      "execution_count": null,
      "outputs": []
    },
    {
      "cell_type": "code",
      "metadata": {
        "colab": {
          "base_uri": "https://localhost:8080/"
        },
        "id": "J36E74Ir_R_W",
        "outputId": "853d84da-7a9d-4c42-b378-66d0f7e45bdb"
      },
      "source": [
        "  \"\"\"\n",
        "Week 4 practice project solution for Python Data Analysis\n",
        "Processing 2D tables \n",
        "\"\"\"\n",
        "import csv\n",
        "\n",
        "\n",
        "\n",
        "#########################################################\n",
        "# Part 1 - Week 3\n",
        "\n",
        "\n",
        "\n",
        "def print_table(table):\n",
        "    \"\"\"\n",
        "    Echo a nested list table to the console\n",
        "    \"\"\"\n",
        "    for row in table:\n",
        "        print(row)\n",
        "\n",
        "\n",
        "def read_csv_file(file_name):\n",
        "    \"\"\"\n",
        "    Given a CSV file, read the data into a nested list\n",
        "    Input: String corresponding to comma-separated  CSV file\n",
        "    Output: Lists of lists consisting of the fields in the CSV file\n",
        "    \"\"\"\n",
        "       \n",
        "    with open(file_name, newline='') as csv_file:       # don't need to explicitly close the file now\n",
        "        csv_table = []\n",
        "        csv_reader = csv.reader(csv_file, delimiter=',')\n",
        "        for row in csv_reader:\n",
        "            csv_table.append(row)\n",
        "    return csv_table\n",
        "\n",
        "\n",
        "\n",
        "def write_csv_file(csv_table, file_name):\n",
        "    \"\"\"\n",
        "    Input: Nested list csv_table and a string file_name\n",
        "    Action: Write fields in csv_table into a comma-separated CSV file with the name file_name\n",
        "    \"\"\"\n",
        "    \n",
        "    with open(file_name, 'w', newline='') as csv_file:\n",
        "        csv_writer = csv.writer(csv_file, delimiter=',', quoting=csv.QUOTE_MINIMAL)\n",
        "        for row in csv_table:\n",
        "            csv_writer.writerow(row)\n",
        "\n",
        "\n",
        "\n",
        "#########################################################\n",
        "# Part 2 - Week 4\n",
        "\n",
        "\n",
        "def select_columns(my_table, col_indices):\n",
        "    \"\"\"\n",
        "    Input: Nested list my_table and a list of integers col_indices\n",
        "    Output: Nested list corresponding to sub-table formed by\n",
        "    columns in col_indices\n",
        "    \"\"\"\n",
        "    return_table = []\n",
        "    for row in my_table:\n",
        "        col_list = []\n",
        "        for col_idx in col_indices:\n",
        "            col_list.append(row[col_idx])\n",
        "        return_table.append(col_list)\n",
        "\n",
        "    return return_table\n",
        "\n",
        "\n",
        "def sort_by_column(my_table, col_idx):\n",
        "    \"\"\"\n",
        "    Input: Nested list my_table and an integer col_idx\n",
        "    Action: Mutate the order of the rows in my_table such that the entries in\n",
        "    the column col_idx appear in DESCENDING order when interpreted as numbers\n",
        "    \"\"\"\n",
        "    \n",
        "    my_table.sort(key = lambda col : col[col_idx], reverse = True)\n",
        "    \n",
        "    \n",
        "    \n",
        "def test_part2_code():\n",
        "    \"\"\"\n",
        "    Run examples that test the functions for part 2\n",
        "    \"\"\"\n",
        "    \n",
        "    # Load a simple example table\n",
        "    test_table = read_csv_file(path+\"test_case.csv\")  # file is available at ...\n",
        "    print_table(test_table)\n",
        "    print()\n",
        "    \n",
        "    # Simple test for column trimmng function\n",
        "    print_table(select_columns(test_table, [0, 2]))\n",
        "    print()\n",
        "    \n",
        "    # Simple test for column sorting function\n",
        "    sort_by_column(test_table, 3)\n",
        "    print_table(test_table)\n",
        "    print()\n",
        "\n",
        "    # Read cancer-risk data set, select columns A, B, C, E, and L, then sort by column E in descending order\n",
        "    cancer_risk_table = read_csv_file(path+\"cancer_risk05_v4_county.csv\")\n",
        "    col_indices = [0, 1, 2, 4, 11]\n",
        "    trimmed_risk_table = select_columns(cancer_risk_table, col_indices)\n",
        "    sort_by_column(trimmed_risk_table, 4)\n",
        "    write_csv_file(trimmed_risk_table, \"cancer_risk_trimmed.csv\")\n",
        "    \n",
        "    # Load our file \"cancer_risk_trimmed_solution.csv\" and compare with your solution\n",
        "    trimmed_risk_solution = read_csv_file(path+\"cancer_risk_trimmed_solution.csv\")\n",
        "    # for row in range(len(trimmed_risk_table)):\n",
        "    #     for col in range(len(trimmed_risk_table[0])):\n",
        "    #         if trimmed_risk_table[row][col] != trimmed_risk_solution[row][col]:\n",
        "    #             print(\"Difference at\", row, col, trimmed_risk_table[row][col], trimmed_risk_solution[row][col])\n",
        "    \n",
        "\n",
        "\n",
        "test_part2_code()\n",
        "\n",
        "#Output from test_part2_code()\n",
        "##['1', '2', '3', '4']\n",
        "##['5', '6', '7', '8']\n",
        "##['-2', '-3', '-4', '-5']\n",
        "##\n",
        "##['1', '3']\n",
        "##['5', '7']\n",
        "##['-2', '-4']\n",
        "##\n",
        "##['5', '6', '7', '8']\n",
        "##['1', '2', '3', '4']\n",
        "##['-2', '-3', '-4', '-5']\n"
      ],
      "execution_count": null,
      "outputs": [
        {
          "output_type": "stream",
          "text": [
            "['1', '2', '3', '4']\n",
            "['5', '6', '7', '8']\n",
            "['-2', '-3', '-4', '-5']\n",
            "\n",
            "['1', '3']\n",
            "['5', '7']\n",
            "['-2', '-4']\n",
            "\n",
            "['5', '6', '7', '8']\n",
            "['1', '2', '3', '4']\n",
            "['-2', '-3', '-4', '-5']\n",
            "\n"
          ],
          "name": "stdout"
        }
      ]
    },
    {
      "cell_type": "code",
      "metadata": {
        "id": "hmhSYGcoOgFy"
      },
      "source": [
        ""
      ],
      "execution_count": null,
      "outputs": []
    }
  ]
}